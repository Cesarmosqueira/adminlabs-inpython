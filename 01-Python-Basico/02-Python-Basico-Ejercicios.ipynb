{
 "cells": [
  {
   "cell_type": "markdown",
   "metadata": {},
   "source": [
    "___\n",
    "\n",
    "<a href='https://jupyter-notebook.readthedocs.io/en/stable/examples/Notebook/Running%20Code.html'> <img src='https://www.python.org/static/img/python-logo.png' /></a>\n",
    "___\n",
    "# Python Basico - Ejercicios\n",
    "\n"
   ]
  },
  {
   "cell_type": "markdown",
   "metadata": {},
   "source": [
    "## Ejercicios\n",
    "\n",
    "Responda las preguntas o complete las tareas descritas en negrita a continuación, use el método específico descrito si corresponde."
   ]
  },
  {
   "cell_type": "markdown",
   "metadata": {},
   "source": [
    "** ¿Cuánto es 7 elevado a 4?**"
   ]
  },
  {
   "cell_type": "code",
   "execution_count": 2,
   "metadata": {},
   "outputs": [
    {
     "data": {
      "text/plain": [
       "2401"
      ]
     },
     "execution_count": 2,
     "metadata": {},
     "output_type": "execute_result"
    }
   ],
   "source": [
    "7**4"
   ]
  },
  {
   "cell_type": "markdown",
   "metadata": {},
   "source": [
    "** Divida esta cadena:**\n",
    "\n",
    "    s = \"Hola mi estimado!\"\n",
    "    \n",
    "**en una lista. **"
   ]
  },
  {
   "cell_type": "code",
   "execution_count": 3,
   "metadata": {},
   "outputs": [
    {
     "data": {
      "text/plain": [
       "['Hola', 'mi', 'estimado!']"
      ]
     },
     "execution_count": 3,
     "metadata": {},
     "output_type": "execute_result"
    }
   ],
   "source": [
    "\"Hola mi estimado!\".split()"
   ]
  },
  {
   "cell_type": "code",
   "execution_count": 5,
   "metadata": {},
   "outputs": [
    {
     "data": {
      "text/plain": [
       "['Hola', 'mi', 'estimado!']"
      ]
     },
     "execution_count": 5,
     "metadata": {},
     "output_type": "execute_result"
    }
   ],
   "source": []
  },
  {
   "cell_type": "markdown",
   "metadata": {},
   "source": [
    "** Dadas las variables:**\n",
    "\n",
    "    planeta = \"Tierra\"\n",
    "    diametro = 12742\n",
    "\n",
    "** Use .format() para visualizar la siguente frase: **\n",
    "\n",
    "    El diametro de la Tierra es 12742 kilometros."
   ]
  },
  {
   "cell_type": "code",
   "execution_count": 7,
   "metadata": {},
   "outputs": [],
   "source": [
    "planeta = \"Tierra\"\n",
    "diametro = 12742"
   ]
  },
  {
   "cell_type": "code",
   "execution_count": 8,
   "metadata": {},
   "outputs": [
    {
     "data": {
      "text/plain": [
       "'El diametro de la Tierra es 12742 de kilometros'"
      ]
     },
     "execution_count": 8,
     "metadata": {},
     "output_type": "execute_result"
    }
   ],
   "source": [
    "f\"El diametro de la {planeta} es {diametro} de kilometros\""
   ]
  },
  {
   "cell_type": "markdown",
   "metadata": {},
   "source": [
    "** Dada esta lista anidada, use la indexación para obtener la palabra \"hola\"**"
   ]
  },
  {
   "cell_type": "code",
   "execution_count": 10,
   "metadata": {},
   "outputs": [],
   "source": [
    "lst = [1,2,[3,4],[5,[100,200,['hola']],23,11],1,7]"
   ]
  },
  {
   "cell_type": "code",
   "execution_count": 27,
   "metadata": {},
   "outputs": [
    {
     "data": {
      "text/plain": [
       "'hola'"
      ]
     },
     "execution_count": 27,
     "metadata": {},
     "output_type": "execute_result"
    }
   ],
   "source": [
    "lst[3][1][2][0]"
   ]
  },
  {
   "cell_type": "markdown",
   "metadata": {},
   "source": [
    "** Dado este diccionario nido, tome la palabra \"hola\". Esté preparado, esto será molesto / complicado  **"
   ]
  },
  {
   "cell_type": "code",
   "execution_count": 28,
   "metadata": {},
   "outputs": [],
   "source": [
    "d = {'k1':[1,2,3,{'dificil':['oh','man','inicio',{'destino':[1,2,3,'hola']}]}]}"
   ]
  },
  {
   "cell_type": "code",
   "execution_count": 32,
   "metadata": {},
   "outputs": [
    {
     "data": {
      "text/plain": [
       "'hola'"
      ]
     },
     "execution_count": 32,
     "metadata": {},
     "output_type": "execute_result"
    }
   ],
   "source": [
    "d['k1'][3]['dificil'][3]['destino'][-1]"
   ]
  },
  {
   "cell_type": "markdown",
   "metadata": {},
   "source": [
    "** ¿Cuál es la principal diferencia entre una tupla y una lista? **"
   ]
  },
  {
   "cell_type": "markdown",
   "metadata": {},
   "source": [
    "Tupla -> No mutable  <br>\n",
    "Lista -> Mutable"
   ]
  },
  {
   "cell_type": "code",
   "execution_count": 33,
   "metadata": {},
   "outputs": [
    {
     "ename": "TypeError",
     "evalue": "'tuple' object does not support item assignment",
     "output_type": "error",
     "traceback": [
      "\u001b[0;31m---------------------------------------------------------------------------\u001b[0m",
      "\u001b[0;31mTypeError\u001b[0m                                 Traceback (most recent call last)",
      "\u001b[0;32m/tmp/ipykernel_3124/1400233178.py\u001b[0m in \u001b[0;36m<module>\u001b[0;34m\u001b[0m\n\u001b[1;32m      3\u001b[0m \u001b[0;34m\u001b[0m\u001b[0m\n\u001b[1;32m      4\u001b[0m \u001b[0mlis\u001b[0m\u001b[0;34m[\u001b[0m\u001b[0;36m1\u001b[0m\u001b[0;34m]\u001b[0m \u001b[0;34m=\u001b[0m \u001b[0mtup\u001b[0m\u001b[0;34m[\u001b[0m\u001b[0;36m0\u001b[0m\u001b[0;34m]\u001b[0m\u001b[0;34m\u001b[0m\u001b[0;34m\u001b[0m\u001b[0m\n\u001b[0;32m----> 5\u001b[0;31m \u001b[0mtup\u001b[0m\u001b[0;34m[\u001b[0m\u001b[0;36m0\u001b[0m\u001b[0;34m]\u001b[0m \u001b[0;34m=\u001b[0m \u001b[0mlis\u001b[0m\u001b[0;34m[\u001b[0m\u001b[0;36m1\u001b[0m\u001b[0;34m]\u001b[0m\u001b[0;34m\u001b[0m\u001b[0;34m\u001b[0m\u001b[0m\n\u001b[0m",
      "\u001b[0;31mTypeError\u001b[0m: 'tuple' object does not support item assignment"
     ]
    }
   ],
   "source": [
    "tup = (1,2)\n",
    "lis = [1,2]\n",
    "\n",
    "lis[1] = tup[0]\n",
    "tup[0] = lis[1]"
   ]
  },
  {
   "cell_type": "markdown",
   "metadata": {},
   "source": [
    "** Cree una función que tome el dominio del sitio web de correo electrónico a partir de una cadena con el siguiente formato: **\n",
    "\n",
    "    user@dominio.com\n",
    "    \n",
    "**Entonces, por ejemplo, pasando \"user@domain.com\" retornaria: domain.com**"
   ]
  },
  {
   "cell_type": "code",
   "execution_count": 34,
   "metadata": {},
   "outputs": [],
   "source": [
    "def dominioGet(m):\n",
    "    return m[m.index('@'):]"
   ]
  },
  {
   "cell_type": "code",
   "execution_count": 35,
   "metadata": {},
   "outputs": [
    {
     "data": {
      "text/plain": [
       "'@dominio.com'"
      ]
     },
     "execution_count": 35,
     "metadata": {},
     "output_type": "execute_result"
    }
   ],
   "source": [
    "dominioGet('user@dominio.com')"
   ]
  },
  {
   "cell_type": "markdown",
   "metadata": {},
   "source": [
    "** Cree una función básica que devuelva Verdadero si la palabra 'perro' está contenida en la cadena de entrada. No se preocupe por casos extremos como una puntuación que se adjunta a la palabra perro, pero tenga en cuenta las mayúsculas. **"
   ]
  },
  {
   "cell_type": "code",
   "execution_count": 37,
   "metadata": {},
   "outputs": [],
   "source": [
    "def ubicaDog(m):\n",
    "    return \"perro\" in m"
   ]
  },
  {
   "cell_type": "code",
   "execution_count": 38,
   "metadata": {},
   "outputs": [
    {
     "data": {
      "text/plain": [
       "True"
      ]
     },
     "execution_count": 38,
     "metadata": {},
     "output_type": "execute_result"
    }
   ],
   "source": [
    "ubicaDog('Esta el perro aqui?')"
   ]
  },
  {
   "cell_type": "markdown",
   "metadata": {},
   "source": [
    "** Cree una función que cuente el número de veces que aparece la palabra \"perro\" en una cadena. Nuevamente ignore los casos extremos. **"
   ]
  },
  {
   "cell_type": "code",
   "execution_count": 45,
   "metadata": {},
   "outputs": [],
   "source": [
    "def cuentaDog(m):\n",
    "    return m.split().count('perro')"
   ]
  },
  {
   "cell_type": "code",
   "execution_count": 46,
   "metadata": {},
   "outputs": [
    {
     "data": {
      "text/plain": [
       "2"
      ]
     },
     "execution_count": 46,
     "metadata": {},
     "output_type": "execute_result"
    }
   ],
   "source": [
    "cuentaDog('Este perro corre mas rapido que este otro perro no lo dudes!')"
   ]
  },
  {
   "cell_type": "markdown",
   "metadata": {},
   "source": [
    "** Utilice expresiones lambda y la función filter () para filtrar las palabras de una lista que comiencen con la letra 's'. Por ejemplo:**\n",
    "\n",
    "    seq = ['sopa','perro','salida','gato','excelente']\n",
    "\n",
    "**debe filtrarse solo:**\n",
    "\n",
    "    ['sopa','salida']"
   ]
  },
  {
   "cell_type": "code",
   "execution_count": 47,
   "metadata": {},
   "outputs": [],
   "source": [
    "seq = ['sopa','perro','salida','gato','excelente']"
   ]
  },
  {
   "cell_type": "code",
   "execution_count": 50,
   "metadata": {},
   "outputs": [
    {
     "data": {
      "text/plain": [
       "['sopa', 'salida']"
      ]
     },
     "execution_count": 50,
     "metadata": {},
     "output_type": "execute_result"
    }
   ],
   "source": [
    "list(filter(lambda x: x.startswith('s'), seq))"
   ]
  },
  {
   "cell_type": "markdown",
   "metadata": {},
   "source": [
    "### Ejercicio Final\n",
    "**Conduces demasiado rápido y un policía te detiene. Escribe una función para devolver uno de los 3 resultados posibles: \"Sin papeleta\", \"Papeleta NO GRAVE\" o \"Papeleta GRAVE\".\n",
    "   Si tu velocidad es de 60 o menos, el resultado es \"Sin papeleta\". Si la velocidad está entre 61\n",
    "   y 80 inclusive, el resultado es \"Papeleta NO GRAVE\". Si la velocidad es 81 o más, el resultado es \"Papeleta GRAVE\". A menos que sea tu cumpleaños (codificado como un valor booleano en los parámetros de la función), en tu cumpleaños, la velocidad puede ser 5 más alta en total de casos. **"
   ]
  },
  {
   "cell_type": "code",
   "execution_count": 62,
   "metadata": {},
   "outputs": [],
   "source": [
    "def calcula_velocidad(velocidad, es_mi_cumple):\n",
    "    no_ticket       = (-1, 65 if es_mi_cumple else 60)\n",
    "    no_grave_ticket = (no_ticket[1], 85 if es_mi_cumple else 81)\n",
    "    grave_ticket    = (no_grave_ticket[1], float('inf'))\n",
    "    print(grave_ticket)\n",
    "    def in_range(tup, v):\n",
    "        return v < tup[0] or v <= tup[1]\n",
    "    \n",
    "    if in_range(no_ticket, velocidad): return 'Sin papeleta'\n",
    "    if in_range(no_grave_ticket, velocidad): return 'Papeleta NO GRAVE'\n",
    "    if in_range(grave_ticket, velocidad): return 'Papeleta GRAVE'        \n"
   ]
  },
  {
   "cell_type": "code",
   "execution_count": 63,
   "metadata": {},
   "outputs": [
    {
     "name": "stdout",
     "output_type": "stream",
     "text": [
      "(85, inf)\n"
     ]
    },
    {
     "data": {
      "text/plain": [
       "'Papeleta NO GRAVE'"
      ]
     },
     "execution_count": 63,
     "metadata": {},
     "output_type": "execute_result"
    }
   ],
   "source": [
    "calcula_velocidad(81,True)"
   ]
  },
  {
   "cell_type": "code",
   "execution_count": 64,
   "metadata": {},
   "outputs": [
    {
     "name": "stdout",
     "output_type": "stream",
     "text": [
      "(81, inf)\n"
     ]
    },
    {
     "data": {
      "text/plain": [
       "'Papeleta NO GRAVE'"
      ]
     },
     "execution_count": 64,
     "metadata": {},
     "output_type": "execute_result"
    }
   ],
   "source": [
    "calcula_velocidad(81,False)"
   ]
  },
  {
   "cell_type": "markdown",
   "metadata": {},
   "source": [
    "# Buen trabajo!"
   ]
  }
 ],
 "metadata": {
  "kernelspec": {
   "display_name": "Python 3 (ipykernel)",
   "language": "python",
   "name": "python3"
  },
  "language_info": {
   "codemirror_mode": {
    "name": "ipython",
    "version": 3
   },
   "file_extension": ".py",
   "mimetype": "text/x-python",
   "name": "python",
   "nbconvert_exporter": "python",
   "pygments_lexer": "ipython3",
   "version": "3.9.7"
  }
 },
 "nbformat": 4,
 "nbformat_minor": 1
}
