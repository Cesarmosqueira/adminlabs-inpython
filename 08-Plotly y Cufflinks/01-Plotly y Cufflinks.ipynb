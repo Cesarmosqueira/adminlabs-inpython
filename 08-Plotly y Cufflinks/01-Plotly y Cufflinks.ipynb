{
 "cells": [
  {
   "cell_type": "markdown",
   "metadata": {},
   "source": [
    "___\n",
    "\n",
    "<a href='https://plotly.com/python/'> <img src='https://plotly.com/all_static/images/plotly_graphing_libraries_1.png' /></a>\n",
    "___\n",
    "# Plotly y Cufflinks"
   ]
  },
  {
   "cell_type": "markdown",
   "metadata": {},
   "source": [
    "**Plotly** es una libreria que permite crear gráficos interactivos para poder usarse en cuadros de mando o sitios web (se pueden guardar como archivos html o imágenes estáticas).\n",
    "\n",
    "**Cufflinks** es una libreria que conecta un dataframe de Pandas con Plotly, lo que permite a los usuarios crear visualizaciones directamente desde Pandas. Esta libreria une el poder de Plotly con la flexibilidad de Pandas para facilitar la visualización de los datos.\n",
    "\n",
    "## Instalación\n",
    "\n",
    "Para que todo esto funcione, se deberá instalar plotly y cufflinks para llamar a los gráficos directamente desde un dataframe de Pandas. Estas librerias no están disponibles actualmente a través de Conda, pero están disponibles a través de pip . Instalar las librerias en su línea de comando/terminal usando:\n",
    "\n",
    "    pip install plotly\n",
    "    pip install cufflinks\n",
    "\n",
    "## Importaciones y configuración "
   ]
  },
  {
   "cell_type": "code",
   "execution_count": 4,
   "metadata": {},
   "outputs": [],
   "source": [
    "import pandas as pd\n",
    "import numpy as np\n",
    "%matplotlib inline"
   ]
  },
  {
   "cell_type": "code",
   "execution_count": 5,
   "metadata": {},
   "outputs": [
    {
     "name": "stdout",
     "output_type": "stream",
     "text": [
      "5.3.1\n"
     ]
    }
   ],
   "source": [
    "from plotly import __version__\n",
    "from plotly.offline import download_plotlyjs, init_notebook_mode, plot, iplot\n",
    "\n",
    "print(__version__) # requires version >= 1.9.0"
   ]
  },
  {
   "cell_type": "code",
   "execution_count": 6,
   "metadata": {},
   "outputs": [],
   "source": [
    "import cufflinks as cf"
   ]
  },
  {
   "cell_type": "code",
   "execution_count": 7,
   "metadata": {},
   "outputs": [
    {
     "data": {
      "text/html": [
       "        <script type=\"text/javascript\">\n",
       "        window.PlotlyConfig = {MathJaxConfig: 'local'};\n",
       "        if (window.MathJax) {MathJax.Hub.Config({SVG: {font: \"STIX-Web\"}});}\n",
       "        if (typeof require !== 'undefined') {\n",
       "        require.undef(\"plotly\");\n",
       "        requirejs.config({\n",
       "            paths: {\n",
       "                'plotly': ['https://cdn.plot.ly/plotly-2.4.2.min']\n",
       "            }\n",
       "        });\n",
       "        require(['plotly'], function(Plotly) {\n",
       "            window._Plotly = Plotly;\n",
       "        });\n",
       "        }\n",
       "        </script>\n",
       "        "
      ]
     },
     "metadata": {},
     "output_type": "display_data"
    }
   ],
   "source": [
    "# Para Notebooks\n",
    "init_notebook_mode(connected=True)"
   ]
  },
  {
   "cell_type": "code",
   "execution_count": 8,
   "metadata": {},
   "outputs": [
    {
     "data": {
      "text/html": [
       "        <script type=\"text/javascript\">\n",
       "        window.PlotlyConfig = {MathJaxConfig: 'local'};\n",
       "        if (window.MathJax) {MathJax.Hub.Config({SVG: {font: \"STIX-Web\"}});}\n",
       "        if (typeof require !== 'undefined') {\n",
       "        require.undef(\"plotly\");\n",
       "        requirejs.config({\n",
       "            paths: {\n",
       "                'plotly': ['https://cdn.plot.ly/plotly-2.4.2.min']\n",
       "            }\n",
       "        });\n",
       "        require(['plotly'], function(Plotly) {\n",
       "            window._Plotly = Plotly;\n",
       "        });\n",
       "        }\n",
       "        </script>\n",
       "        "
      ]
     },
     "metadata": {},
     "output_type": "display_data"
    }
   ],
   "source": [
    "# Para uso offline colocar\n",
    "cf.go_offline()"
   ]
  },
  {
   "cell_type": "markdown",
   "metadata": {},
   "source": [
    "### Datos de prueba"
   ]
  },
  {
   "cell_type": "code",
   "execution_count": 9,
   "metadata": {},
   "outputs": [],
   "source": [
    "df = pd.DataFrame(np.random.randn(100,4),columns='A B C D'.split())"
   ]
  },
  {
   "cell_type": "code",
   "execution_count": 10,
   "metadata": {},
   "outputs": [
    {
     "data": {
      "text/html": [
       "<div>\n",
       "<style scoped>\n",
       "    .dataframe tbody tr th:only-of-type {\n",
       "        vertical-align: middle;\n",
       "    }\n",
       "\n",
       "    .dataframe tbody tr th {\n",
       "        vertical-align: top;\n",
       "    }\n",
       "\n",
       "    .dataframe thead th {\n",
       "        text-align: right;\n",
       "    }\n",
       "</style>\n",
       "<table border=\"1\" class=\"dataframe\">\n",
       "  <thead>\n",
       "    <tr style=\"text-align: right;\">\n",
       "      <th></th>\n",
       "      <th>A</th>\n",
       "      <th>B</th>\n",
       "      <th>C</th>\n",
       "      <th>D</th>\n",
       "    </tr>\n",
       "  </thead>\n",
       "  <tbody>\n",
       "    <tr>\n",
       "      <th>0</th>\n",
       "      <td>-0.517927</td>\n",
       "      <td>-0.375850</td>\n",
       "      <td>0.758796</td>\n",
       "      <td>0.044909</td>\n",
       "    </tr>\n",
       "    <tr>\n",
       "      <th>1</th>\n",
       "      <td>-0.431176</td>\n",
       "      <td>-0.165354</td>\n",
       "      <td>-1.111423</td>\n",
       "      <td>-0.591658</td>\n",
       "    </tr>\n",
       "    <tr>\n",
       "      <th>2</th>\n",
       "      <td>-0.742543</td>\n",
       "      <td>-0.512874</td>\n",
       "      <td>0.319814</td>\n",
       "      <td>-1.004705</td>\n",
       "    </tr>\n",
       "    <tr>\n",
       "      <th>3</th>\n",
       "      <td>-0.708957</td>\n",
       "      <td>-1.842319</td>\n",
       "      <td>-1.019493</td>\n",
       "      <td>-0.163579</td>\n",
       "    </tr>\n",
       "    <tr>\n",
       "      <th>4</th>\n",
       "      <td>-0.036153</td>\n",
       "      <td>-1.135631</td>\n",
       "      <td>-0.205729</td>\n",
       "      <td>1.284227</td>\n",
       "    </tr>\n",
       "  </tbody>\n",
       "</table>\n",
       "</div>"
      ],
      "text/plain": [
       "          A         B         C         D\n",
       "0 -0.517927 -0.375850  0.758796  0.044909\n",
       "1 -0.431176 -0.165354 -1.111423 -0.591658\n",
       "2 -0.742543 -0.512874  0.319814 -1.004705\n",
       "3 -0.708957 -1.842319 -1.019493 -0.163579\n",
       "4 -0.036153 -1.135631 -0.205729  1.284227"
      ]
     },
     "execution_count": 10,
     "metadata": {},
     "output_type": "execute_result"
    }
   ],
   "source": [
    "df.head()"
   ]
  },
  {
   "cell_type": "code",
   "execution_count": 11,
   "metadata": {},
   "outputs": [],
   "source": [
    "df2 = pd.DataFrame({'Category':['A','B','C'],'Values':[32,43,50]})"
   ]
  },
  {
   "cell_type": "code",
   "execution_count": 12,
   "metadata": {},
   "outputs": [
    {
     "data": {
      "text/html": [
       "<div>\n",
       "<style scoped>\n",
       "    .dataframe tbody tr th:only-of-type {\n",
       "        vertical-align: middle;\n",
       "    }\n",
       "\n",
       "    .dataframe tbody tr th {\n",
       "        vertical-align: top;\n",
       "    }\n",
       "\n",
       "    .dataframe thead th {\n",
       "        text-align: right;\n",
       "    }\n",
       "</style>\n",
       "<table border=\"1\" class=\"dataframe\">\n",
       "  <thead>\n",
       "    <tr style=\"text-align: right;\">\n",
       "      <th></th>\n",
       "      <th>Category</th>\n",
       "      <th>Values</th>\n",
       "    </tr>\n",
       "  </thead>\n",
       "  <tbody>\n",
       "    <tr>\n",
       "      <th>0</th>\n",
       "      <td>A</td>\n",
       "      <td>32</td>\n",
       "    </tr>\n",
       "    <tr>\n",
       "      <th>1</th>\n",
       "      <td>B</td>\n",
       "      <td>43</td>\n",
       "    </tr>\n",
       "    <tr>\n",
       "      <th>2</th>\n",
       "      <td>C</td>\n",
       "      <td>50</td>\n",
       "    </tr>\n",
       "  </tbody>\n",
       "</table>\n",
       "</div>"
      ],
      "text/plain": [
       "  Category  Values\n",
       "0        A      32\n",
       "1        B      43\n",
       "2        C      50"
      ]
     },
     "execution_count": 12,
     "metadata": {},
     "output_type": "execute_result"
    }
   ],
   "source": [
    "df2.head()"
   ]
  },
  {
   "cell_type": "markdown",
   "metadata": {},
   "source": [
    "## Usando Cufflinks e iplot()\n",
    "\n",
    "* Scatter\n",
    "* Bar\n",
    "* Boxplot\n",
    "* 3D surface\n",
    "* Histograma\n",
    "* Burbujas"
   ]
  },
  {
   "cell_type": "markdown",
   "metadata": {},
   "source": [
    "## Scatter"
   ]
  },
  {
   "cell_type": "code",
   "execution_count": 13,
   "metadata": {},
   "outputs": [
    {
     "data": {
      "application/vnd.plotly.v1+json": {
       "config": {
        "linkText": "Export to plot.ly",
        "plotlyServerURL": "https://plot.ly",
        "showLink": true
       },
       "data": [
        {
         "line": {
          "color": "rgba(255, 153, 51, 1.0)",
          "dash": "solid",
          "shape": "linear",
          "width": 1.3
         },
         "marker": {
          "size": 10,
          "symbol": "circle"
         },
         "mode": "markers",
         "name": "B",
         "text": "",
         "type": "scatter",
         "x": [
          -0.5179271967863107,
          -0.43117640845718924,
          -0.7425433984463287,
          -0.7089570997832738,
          -0.0361529193067307,
          0.07522673552826692,
          -1.4131665855296218,
          -0.0031556109683627954,
          -0.5302505856350661,
          -1.4127977371366855,
          0.2087659396050563,
          -1.4131760875032837,
          -0.30928347102426945,
          -0.483488097111868,
          -0.06312965999867666,
          1.9258679259374294,
          1.4587125869684525,
          1.3580817403999588,
          0.6622586311843047,
          -0.240272587802109,
          -1.6140007340343672,
          -0.809880896517053,
          0.17882016129592684,
          -1.918619035060385,
          0.5639175432044878,
          0.7003026318927348,
          1.1871330769452881,
          2.621530460729752,
          -0.05226547135199387,
          -0.8857947444659938,
          0.29778182041096535,
          0.8314995551078086,
          0.8277350723928936,
          0.9807667281146693,
          -0.45636567990437055,
          -0.8287489631818937,
          -0.02409698397342725,
          1.1224562643047222,
          -0.10774074979314044,
          -0.4703262271315255,
          -0.24485739399715936,
          -0.7209811457686358,
          0.543656350365433,
          -1.0910512142922943,
          1.6146687797051722,
          1.272671565444567,
          -1.4969566494241922,
          0.49724268869042015,
          0.5762497665318234,
          0.9173715082787924,
          -0.3156771970691579,
          -1.5465554615957646,
          0.5365559969570894,
          -0.16681688603908454,
          0.5422513086930213,
          0.11702639045880345,
          0.8662033868093464,
          0.7950354856934065,
          -0.3692169523733393,
          2.185699925373505,
          -0.19711391724350172,
          -0.7801751589593686,
          1.5742708527925775,
          -0.3998953876637889,
          -0.12030457591217633,
          -1.363206492841364,
          0.1538230355317382,
          -0.2873090931451748,
          0.1526156484030482,
          -0.76742908384936,
          0.004822975700221074,
          -0.44140319312826604,
          0.7217093953262547,
          0.5286866127120267,
          -1.7027276677246608,
          -0.8067393232956829,
          -1.8513726371721704,
          1.0938465376835904,
          -1.292754654635878,
          -0.7940460298498865,
          -2.0091587452108204,
          1.053284917771941,
          0.5505835572480933,
          -1.270031759248562,
          -0.6446601496996719,
          -0.7047831805932557,
          -0.5097574343620287,
          -1.1067233133199088,
          -0.47331615373991254,
          0.8566597266341112,
          -1.1402325893281335,
          -0.9191188365872801,
          -0.47871460470651567,
          0.3480989521997855,
          -0.02679045217886534,
          -1.1023603518297882,
          0.4308022821887071,
          0.12713866089653922,
          -0.34931893784546914,
          -0.22785308304094232
         ],
         "y": [
          -0.3758500097309625,
          -0.16535367948668075,
          -0.5128744340332714,
          -1.8423189367048123,
          -1.1356305868368282,
          1.2950944141943472,
          -1.6311579305760227,
          0.016688836964509558,
          0.3083634203789976,
          0.05103396975288527,
          0.05679467739581437,
          -1.9093388798897002,
          -0.07160559652996788,
          0.6891009823108263,
          -0.023924354969763355,
          -1.1380916706848383,
          1.3578446352346254,
          1.4038591603561459,
          -0.7963802619073149,
          1.0957560929375854,
          -1.818438255277656,
          0.518952747348584,
          0.15766209751886662,
          -1.194762952135624,
          0.851137584451354,
          0.15136057281811752,
          0.8314766491511106,
          -2.24436491310048,
          -1.32618950252785,
          1.6139261366070685,
          1.2267569037271193,
          -0.4821519323592516,
          -1.0068080096810863,
          -0.6015152385898623,
          -0.4794807614204026,
          0.8255089329806143,
          0.20952100918864586,
          1.3880503023093014,
          0.010232520009308393,
          2.0746829897571417,
          0.9580845016434512,
          -0.8915323496411762,
          0.5521516640401373,
          0.35559597058364756,
          0.7782531942868335,
          -0.9297557978788601,
          -0.08201576362981501,
          0.6199540529598736,
          -0.3168906960775201,
          1.5566902016173185,
          -1.0209462255190862,
          0.5188172873553452,
          -0.6199604386138304,
          -0.4761167778402319,
          2.612138955071329,
          -0.4308806060321718,
          -2.5189769893132805,
          0.36864828172669745,
          -0.5418048550803195,
          0.028049888979844513,
          -0.764192926505916,
          -0.44981714959126307,
          -0.2256182492838925,
          0.6677608872670738,
          0.9063299652491447,
          0.026573091595432478,
          -1.1890327279751083,
          0.495971623179748,
          -0.16708889328830456,
          -0.7957095778014049,
          -1.3663426686289486,
          -0.15925390784293836,
          -0.5275660730874695,
          0.6080931676567122,
          -1.2002907631521316,
          0.11751051846397328,
          0.2785444201863015,
          -1.0325323787581073,
          -2.108815639125478,
          0.39090580510184747,
          0.05348538976803026,
          0.3206261656274645,
          -0.5392187076266731,
          0.008276159035867443,
          1.0717865031077487,
          -0.4973337162739843,
          -0.8976955567005012,
          0.9687550475286898,
          -2.766723911241507,
          -0.2968503585431235,
          -2.532841243413473,
          -0.3855427598007159,
          -0.7023174827043425,
          -0.08809338291835991,
          1.2116323269858478,
          -0.9552803546605079,
          -0.8140868518470041,
          0.008119932279069134,
          -1.6007835806075166,
          -0.9437732992897068
         ]
        }
       ],
       "layout": {
        "legend": {
         "bgcolor": "#F5F6F9",
         "font": {
          "color": "#4D5663"
         }
        },
        "paper_bgcolor": "#F5F6F9",
        "plot_bgcolor": "#F5F6F9",
        "template": {
         "data": {
          "bar": [
           {
            "error_x": {
             "color": "#2a3f5f"
            },
            "error_y": {
             "color": "#2a3f5f"
            },
            "marker": {
             "line": {
              "color": "#E5ECF6",
              "width": 0.5
             },
             "pattern": {
              "fillmode": "overlay",
              "size": 10,
              "solidity": 0.2
             }
            },
            "type": "bar"
           }
          ],
          "barpolar": [
           {
            "marker": {
             "line": {
              "color": "#E5ECF6",
              "width": 0.5
             },
             "pattern": {
              "fillmode": "overlay",
              "size": 10,
              "solidity": 0.2
             }
            },
            "type": "barpolar"
           }
          ],
          "carpet": [
           {
            "aaxis": {
             "endlinecolor": "#2a3f5f",
             "gridcolor": "white",
             "linecolor": "white",
             "minorgridcolor": "white",
             "startlinecolor": "#2a3f5f"
            },
            "baxis": {
             "endlinecolor": "#2a3f5f",
             "gridcolor": "white",
             "linecolor": "white",
             "minorgridcolor": "white",
             "startlinecolor": "#2a3f5f"
            },
            "type": "carpet"
           }
          ],
          "choropleth": [
           {
            "colorbar": {
             "outlinewidth": 0,
             "ticks": ""
            },
            "type": "choropleth"
           }
          ],
          "contour": [
           {
            "colorbar": {
             "outlinewidth": 0,
             "ticks": ""
            },
            "colorscale": [
             [
              0,
              "#0d0887"
             ],
             [
              0.1111111111111111,
              "#46039f"
             ],
             [
              0.2222222222222222,
              "#7201a8"
             ],
             [
              0.3333333333333333,
              "#9c179e"
             ],
             [
              0.4444444444444444,
              "#bd3786"
             ],
             [
              0.5555555555555556,
              "#d8576b"
             ],
             [
              0.6666666666666666,
              "#ed7953"
             ],
             [
              0.7777777777777778,
              "#fb9f3a"
             ],
             [
              0.8888888888888888,
              "#fdca26"
             ],
             [
              1,
              "#f0f921"
             ]
            ],
            "type": "contour"
           }
          ],
          "contourcarpet": [
           {
            "colorbar": {
             "outlinewidth": 0,
             "ticks": ""
            },
            "type": "contourcarpet"
           }
          ],
          "heatmap": [
           {
            "colorbar": {
             "outlinewidth": 0,
             "ticks": ""
            },
            "colorscale": [
             [
              0,
              "#0d0887"
             ],
             [
              0.1111111111111111,
              "#46039f"
             ],
             [
              0.2222222222222222,
              "#7201a8"
             ],
             [
              0.3333333333333333,
              "#9c179e"
             ],
             [
              0.4444444444444444,
              "#bd3786"
             ],
             [
              0.5555555555555556,
              "#d8576b"
             ],
             [
              0.6666666666666666,
              "#ed7953"
             ],
             [
              0.7777777777777778,
              "#fb9f3a"
             ],
             [
              0.8888888888888888,
              "#fdca26"
             ],
             [
              1,
              "#f0f921"
             ]
            ],
            "type": "heatmap"
           }
          ],
          "heatmapgl": [
           {
            "colorbar": {
             "outlinewidth": 0,
             "ticks": ""
            },
            "colorscale": [
             [
              0,
              "#0d0887"
             ],
             [
              0.1111111111111111,
              "#46039f"
             ],
             [
              0.2222222222222222,
              "#7201a8"
             ],
             [
              0.3333333333333333,
              "#9c179e"
             ],
             [
              0.4444444444444444,
              "#bd3786"
             ],
             [
              0.5555555555555556,
              "#d8576b"
             ],
             [
              0.6666666666666666,
              "#ed7953"
             ],
             [
              0.7777777777777778,
              "#fb9f3a"
             ],
             [
              0.8888888888888888,
              "#fdca26"
             ],
             [
              1,
              "#f0f921"
             ]
            ],
            "type": "heatmapgl"
           }
          ],
          "histogram": [
           {
            "marker": {
             "pattern": {
              "fillmode": "overlay",
              "size": 10,
              "solidity": 0.2
             }
            },
            "type": "histogram"
           }
          ],
          "histogram2d": [
           {
            "colorbar": {
             "outlinewidth": 0,
             "ticks": ""
            },
            "colorscale": [
             [
              0,
              "#0d0887"
             ],
             [
              0.1111111111111111,
              "#46039f"
             ],
             [
              0.2222222222222222,
              "#7201a8"
             ],
             [
              0.3333333333333333,
              "#9c179e"
             ],
             [
              0.4444444444444444,
              "#bd3786"
             ],
             [
              0.5555555555555556,
              "#d8576b"
             ],
             [
              0.6666666666666666,
              "#ed7953"
             ],
             [
              0.7777777777777778,
              "#fb9f3a"
             ],
             [
              0.8888888888888888,
              "#fdca26"
             ],
             [
              1,
              "#f0f921"
             ]
            ],
            "type": "histogram2d"
           }
          ],
          "histogram2dcontour": [
           {
            "colorbar": {
             "outlinewidth": 0,
             "ticks": ""
            },
            "colorscale": [
             [
              0,
              "#0d0887"
             ],
             [
              0.1111111111111111,
              "#46039f"
             ],
             [
              0.2222222222222222,
              "#7201a8"
             ],
             [
              0.3333333333333333,
              "#9c179e"
             ],
             [
              0.4444444444444444,
              "#bd3786"
             ],
             [
              0.5555555555555556,
              "#d8576b"
             ],
             [
              0.6666666666666666,
              "#ed7953"
             ],
             [
              0.7777777777777778,
              "#fb9f3a"
             ],
             [
              0.8888888888888888,
              "#fdca26"
             ],
             [
              1,
              "#f0f921"
             ]
            ],
            "type": "histogram2dcontour"
           }
          ],
          "mesh3d": [
           {
            "colorbar": {
             "outlinewidth": 0,
             "ticks": ""
            },
            "type": "mesh3d"
           }
          ],
          "parcoords": [
           {
            "line": {
             "colorbar": {
              "outlinewidth": 0,
              "ticks": ""
             }
            },
            "type": "parcoords"
           }
          ],
          "pie": [
           {
            "automargin": true,
            "type": "pie"
           }
          ],
          "scatter": [
           {
            "marker": {
             "colorbar": {
              "outlinewidth": 0,
              "ticks": ""
             }
            },
            "type": "scatter"
           }
          ],
          "scatter3d": [
           {
            "line": {
             "colorbar": {
              "outlinewidth": 0,
              "ticks": ""
             }
            },
            "marker": {
             "colorbar": {
              "outlinewidth": 0,
              "ticks": ""
             }
            },
            "type": "scatter3d"
           }
          ],
          "scattercarpet": [
           {
            "marker": {
             "colorbar": {
              "outlinewidth": 0,
              "ticks": ""
             }
            },
            "type": "scattercarpet"
           }
          ],
          "scattergeo": [
           {
            "marker": {
             "colorbar": {
              "outlinewidth": 0,
              "ticks": ""
             }
            },
            "type": "scattergeo"
           }
          ],
          "scattergl": [
           {
            "marker": {
             "colorbar": {
              "outlinewidth": 0,
              "ticks": ""
             }
            },
            "type": "scattergl"
           }
          ],
          "scattermapbox": [
           {
            "marker": {
             "colorbar": {
              "outlinewidth": 0,
              "ticks": ""
             }
            },
            "type": "scattermapbox"
           }
          ],
          "scatterpolar": [
           {
            "marker": {
             "colorbar": {
              "outlinewidth": 0,
              "ticks": ""
             }
            },
            "type": "scatterpolar"
           }
          ],
          "scatterpolargl": [
           {
            "marker": {
             "colorbar": {
              "outlinewidth": 0,
              "ticks": ""
             }
            },
            "type": "scatterpolargl"
           }
          ],
          "scatterternary": [
           {
            "marker": {
             "colorbar": {
              "outlinewidth": 0,
              "ticks": ""
             }
            },
            "type": "scatterternary"
           }
          ],
          "surface": [
           {
            "colorbar": {
             "outlinewidth": 0,
             "ticks": ""
            },
            "colorscale": [
             [
              0,
              "#0d0887"
             ],
             [
              0.1111111111111111,
              "#46039f"
             ],
             [
              0.2222222222222222,
              "#7201a8"
             ],
             [
              0.3333333333333333,
              "#9c179e"
             ],
             [
              0.4444444444444444,
              "#bd3786"
             ],
             [
              0.5555555555555556,
              "#d8576b"
             ],
             [
              0.6666666666666666,
              "#ed7953"
             ],
             [
              0.7777777777777778,
              "#fb9f3a"
             ],
             [
              0.8888888888888888,
              "#fdca26"
             ],
             [
              1,
              "#f0f921"
             ]
            ],
            "type": "surface"
           }
          ],
          "table": [
           {
            "cells": {
             "fill": {
              "color": "#EBF0F8"
             },
             "line": {
              "color": "white"
             }
            },
            "header": {
             "fill": {
              "color": "#C8D4E3"
             },
             "line": {
              "color": "white"
             }
            },
            "type": "table"
           }
          ]
         },
         "layout": {
          "annotationdefaults": {
           "arrowcolor": "#2a3f5f",
           "arrowhead": 0,
           "arrowwidth": 1
          },
          "autotypenumbers": "strict",
          "coloraxis": {
           "colorbar": {
            "outlinewidth": 0,
            "ticks": ""
           }
          },
          "colorscale": {
           "diverging": [
            [
             0,
             "#8e0152"
            ],
            [
             0.1,
             "#c51b7d"
            ],
            [
             0.2,
             "#de77ae"
            ],
            [
             0.3,
             "#f1b6da"
            ],
            [
             0.4,
             "#fde0ef"
            ],
            [
             0.5,
             "#f7f7f7"
            ],
            [
             0.6,
             "#e6f5d0"
            ],
            [
             0.7,
             "#b8e186"
            ],
            [
             0.8,
             "#7fbc41"
            ],
            [
             0.9,
             "#4d9221"
            ],
            [
             1,
             "#276419"
            ]
           ],
           "sequential": [
            [
             0,
             "#0d0887"
            ],
            [
             0.1111111111111111,
             "#46039f"
            ],
            [
             0.2222222222222222,
             "#7201a8"
            ],
            [
             0.3333333333333333,
             "#9c179e"
            ],
            [
             0.4444444444444444,
             "#bd3786"
            ],
            [
             0.5555555555555556,
             "#d8576b"
            ],
            [
             0.6666666666666666,
             "#ed7953"
            ],
            [
             0.7777777777777778,
             "#fb9f3a"
            ],
            [
             0.8888888888888888,
             "#fdca26"
            ],
            [
             1,
             "#f0f921"
            ]
           ],
           "sequentialminus": [
            [
             0,
             "#0d0887"
            ],
            [
             0.1111111111111111,
             "#46039f"
            ],
            [
             0.2222222222222222,
             "#7201a8"
            ],
            [
             0.3333333333333333,
             "#9c179e"
            ],
            [
             0.4444444444444444,
             "#bd3786"
            ],
            [
             0.5555555555555556,
             "#d8576b"
            ],
            [
             0.6666666666666666,
             "#ed7953"
            ],
            [
             0.7777777777777778,
             "#fb9f3a"
            ],
            [
             0.8888888888888888,
             "#fdca26"
            ],
            [
             1,
             "#f0f921"
            ]
           ]
          },
          "colorway": [
           "#636efa",
           "#EF553B",
           "#00cc96",
           "#ab63fa",
           "#FFA15A",
           "#19d3f3",
           "#FF6692",
           "#B6E880",
           "#FF97FF",
           "#FECB52"
          ],
          "font": {
           "color": "#2a3f5f"
          },
          "geo": {
           "bgcolor": "white",
           "lakecolor": "white",
           "landcolor": "#E5ECF6",
           "showlakes": true,
           "showland": true,
           "subunitcolor": "white"
          },
          "hoverlabel": {
           "align": "left"
          },
          "hovermode": "closest",
          "mapbox": {
           "style": "light"
          },
          "paper_bgcolor": "white",
          "plot_bgcolor": "#E5ECF6",
          "polar": {
           "angularaxis": {
            "gridcolor": "white",
            "linecolor": "white",
            "ticks": ""
           },
           "bgcolor": "#E5ECF6",
           "radialaxis": {
            "gridcolor": "white",
            "linecolor": "white",
            "ticks": ""
           }
          },
          "scene": {
           "xaxis": {
            "backgroundcolor": "#E5ECF6",
            "gridcolor": "white",
            "gridwidth": 2,
            "linecolor": "white",
            "showbackground": true,
            "ticks": "",
            "zerolinecolor": "white"
           },
           "yaxis": {
            "backgroundcolor": "#E5ECF6",
            "gridcolor": "white",
            "gridwidth": 2,
            "linecolor": "white",
            "showbackground": true,
            "ticks": "",
            "zerolinecolor": "white"
           },
           "zaxis": {
            "backgroundcolor": "#E5ECF6",
            "gridcolor": "white",
            "gridwidth": 2,
            "linecolor": "white",
            "showbackground": true,
            "ticks": "",
            "zerolinecolor": "white"
           }
          },
          "shapedefaults": {
           "line": {
            "color": "#2a3f5f"
           }
          },
          "ternary": {
           "aaxis": {
            "gridcolor": "white",
            "linecolor": "white",
            "ticks": ""
           },
           "baxis": {
            "gridcolor": "white",
            "linecolor": "white",
            "ticks": ""
           },
           "bgcolor": "#E5ECF6",
           "caxis": {
            "gridcolor": "white",
            "linecolor": "white",
            "ticks": ""
           }
          },
          "title": {
           "x": 0.05
          },
          "xaxis": {
           "automargin": true,
           "gridcolor": "white",
           "linecolor": "white",
           "ticks": "",
           "title": {
            "standoff": 15
           },
           "zerolinecolor": "white",
           "zerolinewidth": 2
          },
          "yaxis": {
           "automargin": true,
           "gridcolor": "white",
           "linecolor": "white",
           "ticks": "",
           "title": {
            "standoff": 15
           },
           "zerolinecolor": "white",
           "zerolinewidth": 2
          }
         }
        },
        "title": {
         "font": {
          "color": "#4D5663"
         }
        },
        "xaxis": {
         "gridcolor": "#E1E5ED",
         "showgrid": true,
         "tickfont": {
          "color": "#4D5663"
         },
         "title": {
          "font": {
           "color": "#4D5663"
          },
          "text": ""
         },
         "zerolinecolor": "#E1E5ED"
        },
        "yaxis": {
         "gridcolor": "#E1E5ED",
         "showgrid": true,
         "tickfont": {
          "color": "#4D5663"
         },
         "title": {
          "font": {
           "color": "#4D5663"
          },
          "text": ""
         },
         "zerolinecolor": "#E1E5ED"
        }
       }
      },
      "text/html": [
       "<div>                            <div id=\"348f5219-5418-483d-a644-b1245ea9cf35\" class=\"plotly-graph-div\" style=\"height:525px; width:100%;\"></div>            <script type=\"text/javascript\">                require([\"plotly\"], function(Plotly) {                    window.PLOTLYENV=window.PLOTLYENV || {};\n",
       "                    window.PLOTLYENV.BASE_URL='https://plot.ly';                                    if (document.getElementById(\"348f5219-5418-483d-a644-b1245ea9cf35\")) {                    Plotly.newPlot(                        \"348f5219-5418-483d-a644-b1245ea9cf35\",                        [{\"line\":{\"color\":\"rgba(255, 153, 51, 1.0)\",\"dash\":\"solid\",\"shape\":\"linear\",\"width\":1.3},\"marker\":{\"size\":10,\"symbol\":\"circle\"},\"mode\":\"markers\",\"name\":\"B\",\"text\":\"\",\"type\":\"scatter\",\"x\":[-0.5179271967863107,-0.43117640845718924,-0.7425433984463287,-0.7089570997832738,-0.0361529193067307,0.07522673552826692,-1.4131665855296218,-0.0031556109683627954,-0.5302505856350661,-1.4127977371366855,0.2087659396050563,-1.4131760875032837,-0.30928347102426945,-0.483488097111868,-0.06312965999867666,1.9258679259374294,1.4587125869684525,1.3580817403999588,0.6622586311843047,-0.240272587802109,-1.6140007340343672,-0.809880896517053,0.17882016129592684,-1.918619035060385,0.5639175432044878,0.7003026318927348,1.1871330769452881,2.621530460729752,-0.05226547135199387,-0.8857947444659938,0.29778182041096535,0.8314995551078086,0.8277350723928936,0.9807667281146693,-0.45636567990437055,-0.8287489631818937,-0.02409698397342725,1.1224562643047222,-0.10774074979314044,-0.4703262271315255,-0.24485739399715936,-0.7209811457686358,0.543656350365433,-1.0910512142922943,1.6146687797051722,1.272671565444567,-1.4969566494241922,0.49724268869042015,0.5762497665318234,0.9173715082787924,-0.3156771970691579,-1.5465554615957646,0.5365559969570894,-0.16681688603908454,0.5422513086930213,0.11702639045880345,0.8662033868093464,0.7950354856934065,-0.3692169523733393,2.185699925373505,-0.19711391724350172,-0.7801751589593686,1.5742708527925775,-0.3998953876637889,-0.12030457591217633,-1.363206492841364,0.1538230355317382,-0.2873090931451748,0.1526156484030482,-0.76742908384936,0.004822975700221074,-0.44140319312826604,0.7217093953262547,0.5286866127120267,-1.7027276677246608,-0.8067393232956829,-1.8513726371721704,1.0938465376835904,-1.292754654635878,-0.7940460298498865,-2.0091587452108204,1.053284917771941,0.5505835572480933,-1.270031759248562,-0.6446601496996719,-0.7047831805932557,-0.5097574343620287,-1.1067233133199088,-0.47331615373991254,0.8566597266341112,-1.1402325893281335,-0.9191188365872801,-0.47871460470651567,0.3480989521997855,-0.02679045217886534,-1.1023603518297882,0.4308022821887071,0.12713866089653922,-0.34931893784546914,-0.22785308304094232],\"y\":[-0.3758500097309625,-0.16535367948668075,-0.5128744340332714,-1.8423189367048123,-1.1356305868368282,1.2950944141943472,-1.6311579305760227,0.016688836964509558,0.3083634203789976,0.05103396975288527,0.05679467739581437,-1.9093388798897002,-0.07160559652996788,0.6891009823108263,-0.023924354969763355,-1.1380916706848383,1.3578446352346254,1.4038591603561459,-0.7963802619073149,1.0957560929375854,-1.818438255277656,0.518952747348584,0.15766209751886662,-1.194762952135624,0.851137584451354,0.15136057281811752,0.8314766491511106,-2.24436491310048,-1.32618950252785,1.6139261366070685,1.2267569037271193,-0.4821519323592516,-1.0068080096810863,-0.6015152385898623,-0.4794807614204026,0.8255089329806143,0.20952100918864586,1.3880503023093014,0.010232520009308393,2.0746829897571417,0.9580845016434512,-0.8915323496411762,0.5521516640401373,0.35559597058364756,0.7782531942868335,-0.9297557978788601,-0.08201576362981501,0.6199540529598736,-0.3168906960775201,1.5566902016173185,-1.0209462255190862,0.5188172873553452,-0.6199604386138304,-0.4761167778402319,2.612138955071329,-0.4308806060321718,-2.5189769893132805,0.36864828172669745,-0.5418048550803195,0.028049888979844513,-0.764192926505916,-0.44981714959126307,-0.2256182492838925,0.6677608872670738,0.9063299652491447,0.026573091595432478,-1.1890327279751083,0.495971623179748,-0.16708889328830456,-0.7957095778014049,-1.3663426686289486,-0.15925390784293836,-0.5275660730874695,0.6080931676567122,-1.2002907631521316,0.11751051846397328,0.2785444201863015,-1.0325323787581073,-2.108815639125478,0.39090580510184747,0.05348538976803026,0.3206261656274645,-0.5392187076266731,0.008276159035867443,1.0717865031077487,-0.4973337162739843,-0.8976955567005012,0.9687550475286898,-2.766723911241507,-0.2968503585431235,-2.532841243413473,-0.3855427598007159,-0.7023174827043425,-0.08809338291835991,1.2116323269858478,-0.9552803546605079,-0.8140868518470041,0.008119932279069134,-1.6007835806075166,-0.9437732992897068]}],                        {\"legend\":{\"bgcolor\":\"#F5F6F9\",\"font\":{\"color\":\"#4D5663\"}},\"paper_bgcolor\":\"#F5F6F9\",\"plot_bgcolor\":\"#F5F6F9\",\"template\":{\"data\":{\"bar\":[{\"error_x\":{\"color\":\"#2a3f5f\"},\"error_y\":{\"color\":\"#2a3f5f\"},\"marker\":{\"line\":{\"color\":\"#E5ECF6\",\"width\":0.5},\"pattern\":{\"fillmode\":\"overlay\",\"size\":10,\"solidity\":0.2}},\"type\":\"bar\"}],\"barpolar\":[{\"marker\":{\"line\":{\"color\":\"#E5ECF6\",\"width\":0.5},\"pattern\":{\"fillmode\":\"overlay\",\"size\":10,\"solidity\":0.2}},\"type\":\"barpolar\"}],\"carpet\":[{\"aaxis\":{\"endlinecolor\":\"#2a3f5f\",\"gridcolor\":\"white\",\"linecolor\":\"white\",\"minorgridcolor\":\"white\",\"startlinecolor\":\"#2a3f5f\"},\"baxis\":{\"endlinecolor\":\"#2a3f5f\",\"gridcolor\":\"white\",\"linecolor\":\"white\",\"minorgridcolor\":\"white\",\"startlinecolor\":\"#2a3f5f\"},\"type\":\"carpet\"}],\"choropleth\":[{\"colorbar\":{\"outlinewidth\":0,\"ticks\":\"\"},\"type\":\"choropleth\"}],\"contour\":[{\"colorbar\":{\"outlinewidth\":0,\"ticks\":\"\"},\"colorscale\":[[0.0,\"#0d0887\"],[0.1111111111111111,\"#46039f\"],[0.2222222222222222,\"#7201a8\"],[0.3333333333333333,\"#9c179e\"],[0.4444444444444444,\"#bd3786\"],[0.5555555555555556,\"#d8576b\"],[0.6666666666666666,\"#ed7953\"],[0.7777777777777778,\"#fb9f3a\"],[0.8888888888888888,\"#fdca26\"],[1.0,\"#f0f921\"]],\"type\":\"contour\"}],\"contourcarpet\":[{\"colorbar\":{\"outlinewidth\":0,\"ticks\":\"\"},\"type\":\"contourcarpet\"}],\"heatmap\":[{\"colorbar\":{\"outlinewidth\":0,\"ticks\":\"\"},\"colorscale\":[[0.0,\"#0d0887\"],[0.1111111111111111,\"#46039f\"],[0.2222222222222222,\"#7201a8\"],[0.3333333333333333,\"#9c179e\"],[0.4444444444444444,\"#bd3786\"],[0.5555555555555556,\"#d8576b\"],[0.6666666666666666,\"#ed7953\"],[0.7777777777777778,\"#fb9f3a\"],[0.8888888888888888,\"#fdca26\"],[1.0,\"#f0f921\"]],\"type\":\"heatmap\"}],\"heatmapgl\":[{\"colorbar\":{\"outlinewidth\":0,\"ticks\":\"\"},\"colorscale\":[[0.0,\"#0d0887\"],[0.1111111111111111,\"#46039f\"],[0.2222222222222222,\"#7201a8\"],[0.3333333333333333,\"#9c179e\"],[0.4444444444444444,\"#bd3786\"],[0.5555555555555556,\"#d8576b\"],[0.6666666666666666,\"#ed7953\"],[0.7777777777777778,\"#fb9f3a\"],[0.8888888888888888,\"#fdca26\"],[1.0,\"#f0f921\"]],\"type\":\"heatmapgl\"}],\"histogram\":[{\"marker\":{\"pattern\":{\"fillmode\":\"overlay\",\"size\":10,\"solidity\":0.2}},\"type\":\"histogram\"}],\"histogram2d\":[{\"colorbar\":{\"outlinewidth\":0,\"ticks\":\"\"},\"colorscale\":[[0.0,\"#0d0887\"],[0.1111111111111111,\"#46039f\"],[0.2222222222222222,\"#7201a8\"],[0.3333333333333333,\"#9c179e\"],[0.4444444444444444,\"#bd3786\"],[0.5555555555555556,\"#d8576b\"],[0.6666666666666666,\"#ed7953\"],[0.7777777777777778,\"#fb9f3a\"],[0.8888888888888888,\"#fdca26\"],[1.0,\"#f0f921\"]],\"type\":\"histogram2d\"}],\"histogram2dcontour\":[{\"colorbar\":{\"outlinewidth\":0,\"ticks\":\"\"},\"colorscale\":[[0.0,\"#0d0887\"],[0.1111111111111111,\"#46039f\"],[0.2222222222222222,\"#7201a8\"],[0.3333333333333333,\"#9c179e\"],[0.4444444444444444,\"#bd3786\"],[0.5555555555555556,\"#d8576b\"],[0.6666666666666666,\"#ed7953\"],[0.7777777777777778,\"#fb9f3a\"],[0.8888888888888888,\"#fdca26\"],[1.0,\"#f0f921\"]],\"type\":\"histogram2dcontour\"}],\"mesh3d\":[{\"colorbar\":{\"outlinewidth\":0,\"ticks\":\"\"},\"type\":\"mesh3d\"}],\"parcoords\":[{\"line\":{\"colorbar\":{\"outlinewidth\":0,\"ticks\":\"\"}},\"type\":\"parcoords\"}],\"pie\":[{\"automargin\":true,\"type\":\"pie\"}],\"scatter\":[{\"marker\":{\"colorbar\":{\"outlinewidth\":0,\"ticks\":\"\"}},\"type\":\"scatter\"}],\"scatter3d\":[{\"line\":{\"colorbar\":{\"outlinewidth\":0,\"ticks\":\"\"}},\"marker\":{\"colorbar\":{\"outlinewidth\":0,\"ticks\":\"\"}},\"type\":\"scatter3d\"}],\"scattercarpet\":[{\"marker\":{\"colorbar\":{\"outlinewidth\":0,\"ticks\":\"\"}},\"type\":\"scattercarpet\"}],\"scattergeo\":[{\"marker\":{\"colorbar\":{\"outlinewidth\":0,\"ticks\":\"\"}},\"type\":\"scattergeo\"}],\"scattergl\":[{\"marker\":{\"colorbar\":{\"outlinewidth\":0,\"ticks\":\"\"}},\"type\":\"scattergl\"}],\"scattermapbox\":[{\"marker\":{\"colorbar\":{\"outlinewidth\":0,\"ticks\":\"\"}},\"type\":\"scattermapbox\"}],\"scatterpolar\":[{\"marker\":{\"colorbar\":{\"outlinewidth\":0,\"ticks\":\"\"}},\"type\":\"scatterpolar\"}],\"scatterpolargl\":[{\"marker\":{\"colorbar\":{\"outlinewidth\":0,\"ticks\":\"\"}},\"type\":\"scatterpolargl\"}],\"scatterternary\":[{\"marker\":{\"colorbar\":{\"outlinewidth\":0,\"ticks\":\"\"}},\"type\":\"scatterternary\"}],\"surface\":[{\"colorbar\":{\"outlinewidth\":0,\"ticks\":\"\"},\"colorscale\":[[0.0,\"#0d0887\"],[0.1111111111111111,\"#46039f\"],[0.2222222222222222,\"#7201a8\"],[0.3333333333333333,\"#9c179e\"],[0.4444444444444444,\"#bd3786\"],[0.5555555555555556,\"#d8576b\"],[0.6666666666666666,\"#ed7953\"],[0.7777777777777778,\"#fb9f3a\"],[0.8888888888888888,\"#fdca26\"],[1.0,\"#f0f921\"]],\"type\":\"surface\"}],\"table\":[{\"cells\":{\"fill\":{\"color\":\"#EBF0F8\"},\"line\":{\"color\":\"white\"}},\"header\":{\"fill\":{\"color\":\"#C8D4E3\"},\"line\":{\"color\":\"white\"}},\"type\":\"table\"}]},\"layout\":{\"annotationdefaults\":{\"arrowcolor\":\"#2a3f5f\",\"arrowhead\":0,\"arrowwidth\":1},\"autotypenumbers\":\"strict\",\"coloraxis\":{\"colorbar\":{\"outlinewidth\":0,\"ticks\":\"\"}},\"colorscale\":{\"diverging\":[[0,\"#8e0152\"],[0.1,\"#c51b7d\"],[0.2,\"#de77ae\"],[0.3,\"#f1b6da\"],[0.4,\"#fde0ef\"],[0.5,\"#f7f7f7\"],[0.6,\"#e6f5d0\"],[0.7,\"#b8e186\"],[0.8,\"#7fbc41\"],[0.9,\"#4d9221\"],[1,\"#276419\"]],\"sequential\":[[0.0,\"#0d0887\"],[0.1111111111111111,\"#46039f\"],[0.2222222222222222,\"#7201a8\"],[0.3333333333333333,\"#9c179e\"],[0.4444444444444444,\"#bd3786\"],[0.5555555555555556,\"#d8576b\"],[0.6666666666666666,\"#ed7953\"],[0.7777777777777778,\"#fb9f3a\"],[0.8888888888888888,\"#fdca26\"],[1.0,\"#f0f921\"]],\"sequentialminus\":[[0.0,\"#0d0887\"],[0.1111111111111111,\"#46039f\"],[0.2222222222222222,\"#7201a8\"],[0.3333333333333333,\"#9c179e\"],[0.4444444444444444,\"#bd3786\"],[0.5555555555555556,\"#d8576b\"],[0.6666666666666666,\"#ed7953\"],[0.7777777777777778,\"#fb9f3a\"],[0.8888888888888888,\"#fdca26\"],[1.0,\"#f0f921\"]]},\"colorway\":[\"#636efa\",\"#EF553B\",\"#00cc96\",\"#ab63fa\",\"#FFA15A\",\"#19d3f3\",\"#FF6692\",\"#B6E880\",\"#FF97FF\",\"#FECB52\"],\"font\":{\"color\":\"#2a3f5f\"},\"geo\":{\"bgcolor\":\"white\",\"lakecolor\":\"white\",\"landcolor\":\"#E5ECF6\",\"showlakes\":true,\"showland\":true,\"subunitcolor\":\"white\"},\"hoverlabel\":{\"align\":\"left\"},\"hovermode\":\"closest\",\"mapbox\":{\"style\":\"light\"},\"paper_bgcolor\":\"white\",\"plot_bgcolor\":\"#E5ECF6\",\"polar\":{\"angularaxis\":{\"gridcolor\":\"white\",\"linecolor\":\"white\",\"ticks\":\"\"},\"bgcolor\":\"#E5ECF6\",\"radialaxis\":{\"gridcolor\":\"white\",\"linecolor\":\"white\",\"ticks\":\"\"}},\"scene\":{\"xaxis\":{\"backgroundcolor\":\"#E5ECF6\",\"gridcolor\":\"white\",\"gridwidth\":2,\"linecolor\":\"white\",\"showbackground\":true,\"ticks\":\"\",\"zerolinecolor\":\"white\"},\"yaxis\":{\"backgroundcolor\":\"#E5ECF6\",\"gridcolor\":\"white\",\"gridwidth\":2,\"linecolor\":\"white\",\"showbackground\":true,\"ticks\":\"\",\"zerolinecolor\":\"white\"},\"zaxis\":{\"backgroundcolor\":\"#E5ECF6\",\"gridcolor\":\"white\",\"gridwidth\":2,\"linecolor\":\"white\",\"showbackground\":true,\"ticks\":\"\",\"zerolinecolor\":\"white\"}},\"shapedefaults\":{\"line\":{\"color\":\"#2a3f5f\"}},\"ternary\":{\"aaxis\":{\"gridcolor\":\"white\",\"linecolor\":\"white\",\"ticks\":\"\"},\"baxis\":{\"gridcolor\":\"white\",\"linecolor\":\"white\",\"ticks\":\"\"},\"bgcolor\":\"#E5ECF6\",\"caxis\":{\"gridcolor\":\"white\",\"linecolor\":\"white\",\"ticks\":\"\"}},\"title\":{\"x\":0.05},\"xaxis\":{\"automargin\":true,\"gridcolor\":\"white\",\"linecolor\":\"white\",\"ticks\":\"\",\"title\":{\"standoff\":15},\"zerolinecolor\":\"white\",\"zerolinewidth\":2},\"yaxis\":{\"automargin\":true,\"gridcolor\":\"white\",\"linecolor\":\"white\",\"ticks\":\"\",\"title\":{\"standoff\":15},\"zerolinecolor\":\"white\",\"zerolinewidth\":2}}},\"title\":{\"font\":{\"color\":\"#4D5663\"}},\"xaxis\":{\"gridcolor\":\"#E1E5ED\",\"showgrid\":true,\"tickfont\":{\"color\":\"#4D5663\"},\"title\":{\"font\":{\"color\":\"#4D5663\"},\"text\":\"\"},\"zerolinecolor\":\"#E1E5ED\"},\"yaxis\":{\"gridcolor\":\"#E1E5ED\",\"showgrid\":true,\"tickfont\":{\"color\":\"#4D5663\"},\"title\":{\"font\":{\"color\":\"#4D5663\"},\"text\":\"\"},\"zerolinecolor\":\"#E1E5ED\"}},                        {\"showLink\": true, \"linkText\": \"Export to plot.ly\", \"plotlyServerURL\": \"https://plot.ly\", \"responsive\": true}                    ).then(function(){\n",
       "                            \n",
       "var gd = document.getElementById('348f5219-5418-483d-a644-b1245ea9cf35');\n",
       "var x = new MutationObserver(function (mutations, observer) {{\n",
       "        var display = window.getComputedStyle(gd).display;\n",
       "        if (!display || display === 'none') {{\n",
       "            console.log([gd, 'removed!']);\n",
       "            Plotly.purge(gd);\n",
       "            observer.disconnect();\n",
       "        }}\n",
       "}});\n",
       "\n",
       "// Listen for the removal of the full notebook cells\n",
       "var notebookContainer = gd.closest('#notebook-container');\n",
       "if (notebookContainer) {{\n",
       "    x.observe(notebookContainer, {childList: true});\n",
       "}}\n",
       "\n",
       "// Listen for the clearing of the current output cell\n",
       "var outputEl = gd.closest('.output');\n",
       "if (outputEl) {{\n",
       "    x.observe(outputEl, {childList: true});\n",
       "}}\n",
       "\n",
       "                        })                };                });            </script>        </div>"
      ]
     },
     "metadata": {},
     "output_type": "display_data"
    }
   ],
   "source": [
    "df.iplot(kind='scatter',x='A',y='B',mode='markers',size=10)"
   ]
  },
  {
   "cell_type": "markdown",
   "metadata": {},
   "source": [
    "## Bar Plots"
   ]
  },
  {
   "cell_type": "code",
   "execution_count": 14,
   "metadata": {},
   "outputs": [
    {
     "data": {
      "application/vnd.plotly.v1+json": {
       "config": {
        "linkText": "Export to plot.ly",
        "plotlyServerURL": "https://plot.ly",
        "showLink": true
       },
       "data": [
        {
         "marker": {
          "color": "rgba(255, 153, 51, 0.6)",
          "line": {
           "color": "rgba(255, 153, 51, 1.0)",
           "width": 1
          }
         },
         "name": "Values",
         "orientation": "v",
         "text": "",
         "type": "bar",
         "x": [
          "A",
          "B",
          "C"
         ],
         "y": [
          32,
          43,
          50
         ]
        }
       ],
       "layout": {
        "legend": {
         "bgcolor": "#F5F6F9",
         "font": {
          "color": "#4D5663"
         }
        },
        "paper_bgcolor": "#F5F6F9",
        "plot_bgcolor": "#F5F6F9",
        "template": {
         "data": {
          "bar": [
           {
            "error_x": {
             "color": "#2a3f5f"
            },
            "error_y": {
             "color": "#2a3f5f"
            },
            "marker": {
             "line": {
              "color": "#E5ECF6",
              "width": 0.5
             },
             "pattern": {
              "fillmode": "overlay",
              "size": 10,
              "solidity": 0.2
             }
            },
            "type": "bar"
           }
          ],
          "barpolar": [
           {
            "marker": {
             "line": {
              "color": "#E5ECF6",
              "width": 0.5
             },
             "pattern": {
              "fillmode": "overlay",
              "size": 10,
              "solidity": 0.2
             }
            },
            "type": "barpolar"
           }
          ],
          "carpet": [
           {
            "aaxis": {
             "endlinecolor": "#2a3f5f",
             "gridcolor": "white",
             "linecolor": "white",
             "minorgridcolor": "white",
             "startlinecolor": "#2a3f5f"
            },
            "baxis": {
             "endlinecolor": "#2a3f5f",
             "gridcolor": "white",
             "linecolor": "white",
             "minorgridcolor": "white",
             "startlinecolor": "#2a3f5f"
            },
            "type": "carpet"
           }
          ],
          "choropleth": [
           {
            "colorbar": {
             "outlinewidth": 0,
             "ticks": ""
            },
            "type": "choropleth"
           }
          ],
          "contour": [
           {
            "colorbar": {
             "outlinewidth": 0,
             "ticks": ""
            },
            "colorscale": [
             [
              0,
              "#0d0887"
             ],
             [
              0.1111111111111111,
              "#46039f"
             ],
             [
              0.2222222222222222,
              "#7201a8"
             ],
             [
              0.3333333333333333,
              "#9c179e"
             ],
             [
              0.4444444444444444,
              "#bd3786"
             ],
             [
              0.5555555555555556,
              "#d8576b"
             ],
             [
              0.6666666666666666,
              "#ed7953"
             ],
             [
              0.7777777777777778,
              "#fb9f3a"
             ],
             [
              0.8888888888888888,
              "#fdca26"
             ],
             [
              1,
              "#f0f921"
             ]
            ],
            "type": "contour"
           }
          ],
          "contourcarpet": [
           {
            "colorbar": {
             "outlinewidth": 0,
             "ticks": ""
            },
            "type": "contourcarpet"
           }
          ],
          "heatmap": [
           {
            "colorbar": {
             "outlinewidth": 0,
             "ticks": ""
            },
            "colorscale": [
             [
              0,
              "#0d0887"
             ],
             [
              0.1111111111111111,
              "#46039f"
             ],
             [
              0.2222222222222222,
              "#7201a8"
             ],
             [
              0.3333333333333333,
              "#9c179e"
             ],
             [
              0.4444444444444444,
              "#bd3786"
             ],
             [
              0.5555555555555556,
              "#d8576b"
             ],
             [
              0.6666666666666666,
              "#ed7953"
             ],
             [
              0.7777777777777778,
              "#fb9f3a"
             ],
             [
              0.8888888888888888,
              "#fdca26"
             ],
             [
              1,
              "#f0f921"
             ]
            ],
            "type": "heatmap"
           }
          ],
          "heatmapgl": [
           {
            "colorbar": {
             "outlinewidth": 0,
             "ticks": ""
            },
            "colorscale": [
             [
              0,
              "#0d0887"
             ],
             [
              0.1111111111111111,
              "#46039f"
             ],
             [
              0.2222222222222222,
              "#7201a8"
             ],
             [
              0.3333333333333333,
              "#9c179e"
             ],
             [
              0.4444444444444444,
              "#bd3786"
             ],
             [
              0.5555555555555556,
              "#d8576b"
             ],
             [
              0.6666666666666666,
              "#ed7953"
             ],
             [
              0.7777777777777778,
              "#fb9f3a"
             ],
             [
              0.8888888888888888,
              "#fdca26"
             ],
             [
              1,
              "#f0f921"
             ]
            ],
            "type": "heatmapgl"
           }
          ],
          "histogram": [
           {
            "marker": {
             "pattern": {
              "fillmode": "overlay",
              "size": 10,
              "solidity": 0.2
             }
            },
            "type": "histogram"
           }
          ],
          "histogram2d": [
           {
            "colorbar": {
             "outlinewidth": 0,
             "ticks": ""
            },
            "colorscale": [
             [
              0,
              "#0d0887"
             ],
             [
              0.1111111111111111,
              "#46039f"
             ],
             [
              0.2222222222222222,
              "#7201a8"
             ],
             [
              0.3333333333333333,
              "#9c179e"
             ],
             [
              0.4444444444444444,
              "#bd3786"
             ],
             [
              0.5555555555555556,
              "#d8576b"
             ],
             [
              0.6666666666666666,
              "#ed7953"
             ],
             [
              0.7777777777777778,
              "#fb9f3a"
             ],
             [
              0.8888888888888888,
              "#fdca26"
             ],
             [
              1,
              "#f0f921"
             ]
            ],
            "type": "histogram2d"
           }
          ],
          "histogram2dcontour": [
           {
            "colorbar": {
             "outlinewidth": 0,
             "ticks": ""
            },
            "colorscale": [
             [
              0,
              "#0d0887"
             ],
             [
              0.1111111111111111,
              "#46039f"
             ],
             [
              0.2222222222222222,
              "#7201a8"
             ],
             [
              0.3333333333333333,
              "#9c179e"
             ],
             [
              0.4444444444444444,
              "#bd3786"
             ],
             [
              0.5555555555555556,
              "#d8576b"
             ],
             [
              0.6666666666666666,
              "#ed7953"
             ],
             [
              0.7777777777777778,
              "#fb9f3a"
             ],
             [
              0.8888888888888888,
              "#fdca26"
             ],
             [
              1,
              "#f0f921"
             ]
            ],
            "type": "histogram2dcontour"
           }
          ],
          "mesh3d": [
           {
            "colorbar": {
             "outlinewidth": 0,
             "ticks": ""
            },
            "type": "mesh3d"
           }
          ],
          "parcoords": [
           {
            "line": {
             "colorbar": {
              "outlinewidth": 0,
              "ticks": ""
             }
            },
            "type": "parcoords"
           }
          ],
          "pie": [
           {
            "automargin": true,
            "type": "pie"
           }
          ],
          "scatter": [
           {
            "marker": {
             "colorbar": {
              "outlinewidth": 0,
              "ticks": ""
             }
            },
            "type": "scatter"
           }
          ],
          "scatter3d": [
           {
            "line": {
             "colorbar": {
              "outlinewidth": 0,
              "ticks": ""
             }
            },
            "marker": {
             "colorbar": {
              "outlinewidth": 0,
              "ticks": ""
             }
            },
            "type": "scatter3d"
           }
          ],
          "scattercarpet": [
           {
            "marker": {
             "colorbar": {
              "outlinewidth": 0,
              "ticks": ""
             }
            },
            "type": "scattercarpet"
           }
          ],
          "scattergeo": [
           {
            "marker": {
             "colorbar": {
              "outlinewidth": 0,
              "ticks": ""
             }
            },
            "type": "scattergeo"
           }
          ],
          "scattergl": [
           {
            "marker": {
             "colorbar": {
              "outlinewidth": 0,
              "ticks": ""
             }
            },
            "type": "scattergl"
           }
          ],
          "scattermapbox": [
           {
            "marker": {
             "colorbar": {
              "outlinewidth": 0,
              "ticks": ""
             }
            },
            "type": "scattermapbox"
           }
          ],
          "scatterpolar": [
           {
            "marker": {
             "colorbar": {
              "outlinewidth": 0,
              "ticks": ""
             }
            },
            "type": "scatterpolar"
           }
          ],
          "scatterpolargl": [
           {
            "marker": {
             "colorbar": {
              "outlinewidth": 0,
              "ticks": ""
             }
            },
            "type": "scatterpolargl"
           }
          ],
          "scatterternary": [
           {
            "marker": {
             "colorbar": {
              "outlinewidth": 0,
              "ticks": ""
             }
            },
            "type": "scatterternary"
           }
          ],
          "surface": [
           {
            "colorbar": {
             "outlinewidth": 0,
             "ticks": ""
            },
            "colorscale": [
             [
              0,
              "#0d0887"
             ],
             [
              0.1111111111111111,
              "#46039f"
             ],
             [
              0.2222222222222222,
              "#7201a8"
             ],
             [
              0.3333333333333333,
              "#9c179e"
             ],
             [
              0.4444444444444444,
              "#bd3786"
             ],
             [
              0.5555555555555556,
              "#d8576b"
             ],
             [
              0.6666666666666666,
              "#ed7953"
             ],
             [
              0.7777777777777778,
              "#fb9f3a"
             ],
             [
              0.8888888888888888,
              "#fdca26"
             ],
             [
              1,
              "#f0f921"
             ]
            ],
            "type": "surface"
           }
          ],
          "table": [
           {
            "cells": {
             "fill": {
              "color": "#EBF0F8"
             },
             "line": {
              "color": "white"
             }
            },
            "header": {
             "fill": {
              "color": "#C8D4E3"
             },
             "line": {
              "color": "white"
             }
            },
            "type": "table"
           }
          ]
         },
         "layout": {
          "annotationdefaults": {
           "arrowcolor": "#2a3f5f",
           "arrowhead": 0,
           "arrowwidth": 1
          },
          "autotypenumbers": "strict",
          "coloraxis": {
           "colorbar": {
            "outlinewidth": 0,
            "ticks": ""
           }
          },
          "colorscale": {
           "diverging": [
            [
             0,
             "#8e0152"
            ],
            [
             0.1,
             "#c51b7d"
            ],
            [
             0.2,
             "#de77ae"
            ],
            [
             0.3,
             "#f1b6da"
            ],
            [
             0.4,
             "#fde0ef"
            ],
            [
             0.5,
             "#f7f7f7"
            ],
            [
             0.6,
             "#e6f5d0"
            ],
            [
             0.7,
             "#b8e186"
            ],
            [
             0.8,
             "#7fbc41"
            ],
            [
             0.9,
             "#4d9221"
            ],
            [
             1,
             "#276419"
            ]
           ],
           "sequential": [
            [
             0,
             "#0d0887"
            ],
            [
             0.1111111111111111,
             "#46039f"
            ],
            [
             0.2222222222222222,
             "#7201a8"
            ],
            [
             0.3333333333333333,
             "#9c179e"
            ],
            [
             0.4444444444444444,
             "#bd3786"
            ],
            [
             0.5555555555555556,
             "#d8576b"
            ],
            [
             0.6666666666666666,
             "#ed7953"
            ],
            [
             0.7777777777777778,
             "#fb9f3a"
            ],
            [
             0.8888888888888888,
             "#fdca26"
            ],
            [
             1,
             "#f0f921"
            ]
           ],
           "sequentialminus": [
            [
             0,
             "#0d0887"
            ],
            [
             0.1111111111111111,
             "#46039f"
            ],
            [
             0.2222222222222222,
             "#7201a8"
            ],
            [
             0.3333333333333333,
             "#9c179e"
            ],
            [
             0.4444444444444444,
             "#bd3786"
            ],
            [
             0.5555555555555556,
             "#d8576b"
            ],
            [
             0.6666666666666666,
             "#ed7953"
            ],
            [
             0.7777777777777778,
             "#fb9f3a"
            ],
            [
             0.8888888888888888,
             "#fdca26"
            ],
            [
             1,
             "#f0f921"
            ]
           ]
          },
          "colorway": [
           "#636efa",
           "#EF553B",
           "#00cc96",
           "#ab63fa",
           "#FFA15A",
           "#19d3f3",
           "#FF6692",
           "#B6E880",
           "#FF97FF",
           "#FECB52"
          ],
          "font": {
           "color": "#2a3f5f"
          },
          "geo": {
           "bgcolor": "white",
           "lakecolor": "white",
           "landcolor": "#E5ECF6",
           "showlakes": true,
           "showland": true,
           "subunitcolor": "white"
          },
          "hoverlabel": {
           "align": "left"
          },
          "hovermode": "closest",
          "mapbox": {
           "style": "light"
          },
          "paper_bgcolor": "white",
          "plot_bgcolor": "#E5ECF6",
          "polar": {
           "angularaxis": {
            "gridcolor": "white",
            "linecolor": "white",
            "ticks": ""
           },
           "bgcolor": "#E5ECF6",
           "radialaxis": {
            "gridcolor": "white",
            "linecolor": "white",
            "ticks": ""
           }
          },
          "scene": {
           "xaxis": {
            "backgroundcolor": "#E5ECF6",
            "gridcolor": "white",
            "gridwidth": 2,
            "linecolor": "white",
            "showbackground": true,
            "ticks": "",
            "zerolinecolor": "white"
           },
           "yaxis": {
            "backgroundcolor": "#E5ECF6",
            "gridcolor": "white",
            "gridwidth": 2,
            "linecolor": "white",
            "showbackground": true,
            "ticks": "",
            "zerolinecolor": "white"
           },
           "zaxis": {
            "backgroundcolor": "#E5ECF6",
            "gridcolor": "white",
            "gridwidth": 2,
            "linecolor": "white",
            "showbackground": true,
            "ticks": "",
            "zerolinecolor": "white"
           }
          },
          "shapedefaults": {
           "line": {
            "color": "#2a3f5f"
           }
          },
          "ternary": {
           "aaxis": {
            "gridcolor": "white",
            "linecolor": "white",
            "ticks": ""
           },
           "baxis": {
            "gridcolor": "white",
            "linecolor": "white",
            "ticks": ""
           },
           "bgcolor": "#E5ECF6",
           "caxis": {
            "gridcolor": "white",
            "linecolor": "white",
            "ticks": ""
           }
          },
          "title": {
           "x": 0.05
          },
          "xaxis": {
           "automargin": true,
           "gridcolor": "white",
           "linecolor": "white",
           "ticks": "",
           "title": {
            "standoff": 15
           },
           "zerolinecolor": "white",
           "zerolinewidth": 2
          },
          "yaxis": {
           "automargin": true,
           "gridcolor": "white",
           "linecolor": "white",
           "ticks": "",
           "title": {
            "standoff": 15
           },
           "zerolinecolor": "white",
           "zerolinewidth": 2
          }
         }
        },
        "title": {
         "font": {
          "color": "#4D5663"
         }
        },
        "xaxis": {
         "gridcolor": "#E1E5ED",
         "showgrid": true,
         "tickfont": {
          "color": "#4D5663"
         },
         "title": {
          "font": {
           "color": "#4D5663"
          },
          "text": ""
         },
         "zerolinecolor": "#E1E5ED"
        },
        "yaxis": {
         "gridcolor": "#E1E5ED",
         "showgrid": true,
         "tickfont": {
          "color": "#4D5663"
         },
         "title": {
          "font": {
           "color": "#4D5663"
          },
          "text": ""
         },
         "zerolinecolor": "#E1E5ED"
        }
       }
      },
      "text/html": [
       "<div>                            <div id=\"628820e2-1c37-4489-bf40-194400ffa9d3\" class=\"plotly-graph-div\" style=\"height:525px; width:100%;\"></div>            <script type=\"text/javascript\">                require([\"plotly\"], function(Plotly) {                    window.PLOTLYENV=window.PLOTLYENV || {};\n",
       "                    window.PLOTLYENV.BASE_URL='https://plot.ly';                                    if (document.getElementById(\"628820e2-1c37-4489-bf40-194400ffa9d3\")) {                    Plotly.newPlot(                        \"628820e2-1c37-4489-bf40-194400ffa9d3\",                        [{\"marker\":{\"color\":\"rgba(255, 153, 51, 0.6)\",\"line\":{\"color\":\"rgba(255, 153, 51, 1.0)\",\"width\":1}},\"name\":\"Values\",\"orientation\":\"v\",\"text\":\"\",\"type\":\"bar\",\"x\":[\"A\",\"B\",\"C\"],\"y\":[32,43,50]}],                        {\"legend\":{\"bgcolor\":\"#F5F6F9\",\"font\":{\"color\":\"#4D5663\"}},\"paper_bgcolor\":\"#F5F6F9\",\"plot_bgcolor\":\"#F5F6F9\",\"template\":{\"data\":{\"bar\":[{\"error_x\":{\"color\":\"#2a3f5f\"},\"error_y\":{\"color\":\"#2a3f5f\"},\"marker\":{\"line\":{\"color\":\"#E5ECF6\",\"width\":0.5},\"pattern\":{\"fillmode\":\"overlay\",\"size\":10,\"solidity\":0.2}},\"type\":\"bar\"}],\"barpolar\":[{\"marker\":{\"line\":{\"color\":\"#E5ECF6\",\"width\":0.5},\"pattern\":{\"fillmode\":\"overlay\",\"size\":10,\"solidity\":0.2}},\"type\":\"barpolar\"}],\"carpet\":[{\"aaxis\":{\"endlinecolor\":\"#2a3f5f\",\"gridcolor\":\"white\",\"linecolor\":\"white\",\"minorgridcolor\":\"white\",\"startlinecolor\":\"#2a3f5f\"},\"baxis\":{\"endlinecolor\":\"#2a3f5f\",\"gridcolor\":\"white\",\"linecolor\":\"white\",\"minorgridcolor\":\"white\",\"startlinecolor\":\"#2a3f5f\"},\"type\":\"carpet\"}],\"choropleth\":[{\"colorbar\":{\"outlinewidth\":0,\"ticks\":\"\"},\"type\":\"choropleth\"}],\"contour\":[{\"colorbar\":{\"outlinewidth\":0,\"ticks\":\"\"},\"colorscale\":[[0.0,\"#0d0887\"],[0.1111111111111111,\"#46039f\"],[0.2222222222222222,\"#7201a8\"],[0.3333333333333333,\"#9c179e\"],[0.4444444444444444,\"#bd3786\"],[0.5555555555555556,\"#d8576b\"],[0.6666666666666666,\"#ed7953\"],[0.7777777777777778,\"#fb9f3a\"],[0.8888888888888888,\"#fdca26\"],[1.0,\"#f0f921\"]],\"type\":\"contour\"}],\"contourcarpet\":[{\"colorbar\":{\"outlinewidth\":0,\"ticks\":\"\"},\"type\":\"contourcarpet\"}],\"heatmap\":[{\"colorbar\":{\"outlinewidth\":0,\"ticks\":\"\"},\"colorscale\":[[0.0,\"#0d0887\"],[0.1111111111111111,\"#46039f\"],[0.2222222222222222,\"#7201a8\"],[0.3333333333333333,\"#9c179e\"],[0.4444444444444444,\"#bd3786\"],[0.5555555555555556,\"#d8576b\"],[0.6666666666666666,\"#ed7953\"],[0.7777777777777778,\"#fb9f3a\"],[0.8888888888888888,\"#fdca26\"],[1.0,\"#f0f921\"]],\"type\":\"heatmap\"}],\"heatmapgl\":[{\"colorbar\":{\"outlinewidth\":0,\"ticks\":\"\"},\"colorscale\":[[0.0,\"#0d0887\"],[0.1111111111111111,\"#46039f\"],[0.2222222222222222,\"#7201a8\"],[0.3333333333333333,\"#9c179e\"],[0.4444444444444444,\"#bd3786\"],[0.5555555555555556,\"#d8576b\"],[0.6666666666666666,\"#ed7953\"],[0.7777777777777778,\"#fb9f3a\"],[0.8888888888888888,\"#fdca26\"],[1.0,\"#f0f921\"]],\"type\":\"heatmapgl\"}],\"histogram\":[{\"marker\":{\"pattern\":{\"fillmode\":\"overlay\",\"size\":10,\"solidity\":0.2}},\"type\":\"histogram\"}],\"histogram2d\":[{\"colorbar\":{\"outlinewidth\":0,\"ticks\":\"\"},\"colorscale\":[[0.0,\"#0d0887\"],[0.1111111111111111,\"#46039f\"],[0.2222222222222222,\"#7201a8\"],[0.3333333333333333,\"#9c179e\"],[0.4444444444444444,\"#bd3786\"],[0.5555555555555556,\"#d8576b\"],[0.6666666666666666,\"#ed7953\"],[0.7777777777777778,\"#fb9f3a\"],[0.8888888888888888,\"#fdca26\"],[1.0,\"#f0f921\"]],\"type\":\"histogram2d\"}],\"histogram2dcontour\":[{\"colorbar\":{\"outlinewidth\":0,\"ticks\":\"\"},\"colorscale\":[[0.0,\"#0d0887\"],[0.1111111111111111,\"#46039f\"],[0.2222222222222222,\"#7201a8\"],[0.3333333333333333,\"#9c179e\"],[0.4444444444444444,\"#bd3786\"],[0.5555555555555556,\"#d8576b\"],[0.6666666666666666,\"#ed7953\"],[0.7777777777777778,\"#fb9f3a\"],[0.8888888888888888,\"#fdca26\"],[1.0,\"#f0f921\"]],\"type\":\"histogram2dcontour\"}],\"mesh3d\":[{\"colorbar\":{\"outlinewidth\":0,\"ticks\":\"\"},\"type\":\"mesh3d\"}],\"parcoords\":[{\"line\":{\"colorbar\":{\"outlinewidth\":0,\"ticks\":\"\"}},\"type\":\"parcoords\"}],\"pie\":[{\"automargin\":true,\"type\":\"pie\"}],\"scatter\":[{\"marker\":{\"colorbar\":{\"outlinewidth\":0,\"ticks\":\"\"}},\"type\":\"scatter\"}],\"scatter3d\":[{\"line\":{\"colorbar\":{\"outlinewidth\":0,\"ticks\":\"\"}},\"marker\":{\"colorbar\":{\"outlinewidth\":0,\"ticks\":\"\"}},\"type\":\"scatter3d\"}],\"scattercarpet\":[{\"marker\":{\"colorbar\":{\"outlinewidth\":0,\"ticks\":\"\"}},\"type\":\"scattercarpet\"}],\"scattergeo\":[{\"marker\":{\"colorbar\":{\"outlinewidth\":0,\"ticks\":\"\"}},\"type\":\"scattergeo\"}],\"scattergl\":[{\"marker\":{\"colorbar\":{\"outlinewidth\":0,\"ticks\":\"\"}},\"type\":\"scattergl\"}],\"scattermapbox\":[{\"marker\":{\"colorbar\":{\"outlinewidth\":0,\"ticks\":\"\"}},\"type\":\"scattermapbox\"}],\"scatterpolar\":[{\"marker\":{\"colorbar\":{\"outlinewidth\":0,\"ticks\":\"\"}},\"type\":\"scatterpolar\"}],\"scatterpolargl\":[{\"marker\":{\"colorbar\":{\"outlinewidth\":0,\"ticks\":\"\"}},\"type\":\"scatterpolargl\"}],\"scatterternary\":[{\"marker\":{\"colorbar\":{\"outlinewidth\":0,\"ticks\":\"\"}},\"type\":\"scatterternary\"}],\"surface\":[{\"colorbar\":{\"outlinewidth\":0,\"ticks\":\"\"},\"colorscale\":[[0.0,\"#0d0887\"],[0.1111111111111111,\"#46039f\"],[0.2222222222222222,\"#7201a8\"],[0.3333333333333333,\"#9c179e\"],[0.4444444444444444,\"#bd3786\"],[0.5555555555555556,\"#d8576b\"],[0.6666666666666666,\"#ed7953\"],[0.7777777777777778,\"#fb9f3a\"],[0.8888888888888888,\"#fdca26\"],[1.0,\"#f0f921\"]],\"type\":\"surface\"}],\"table\":[{\"cells\":{\"fill\":{\"color\":\"#EBF0F8\"},\"line\":{\"color\":\"white\"}},\"header\":{\"fill\":{\"color\":\"#C8D4E3\"},\"line\":{\"color\":\"white\"}},\"type\":\"table\"}]},\"layout\":{\"annotationdefaults\":{\"arrowcolor\":\"#2a3f5f\",\"arrowhead\":0,\"arrowwidth\":1},\"autotypenumbers\":\"strict\",\"coloraxis\":{\"colorbar\":{\"outlinewidth\":0,\"ticks\":\"\"}},\"colorscale\":{\"diverging\":[[0,\"#8e0152\"],[0.1,\"#c51b7d\"],[0.2,\"#de77ae\"],[0.3,\"#f1b6da\"],[0.4,\"#fde0ef\"],[0.5,\"#f7f7f7\"],[0.6,\"#e6f5d0\"],[0.7,\"#b8e186\"],[0.8,\"#7fbc41\"],[0.9,\"#4d9221\"],[1,\"#276419\"]],\"sequential\":[[0.0,\"#0d0887\"],[0.1111111111111111,\"#46039f\"],[0.2222222222222222,\"#7201a8\"],[0.3333333333333333,\"#9c179e\"],[0.4444444444444444,\"#bd3786\"],[0.5555555555555556,\"#d8576b\"],[0.6666666666666666,\"#ed7953\"],[0.7777777777777778,\"#fb9f3a\"],[0.8888888888888888,\"#fdca26\"],[1.0,\"#f0f921\"]],\"sequentialminus\":[[0.0,\"#0d0887\"],[0.1111111111111111,\"#46039f\"],[0.2222222222222222,\"#7201a8\"],[0.3333333333333333,\"#9c179e\"],[0.4444444444444444,\"#bd3786\"],[0.5555555555555556,\"#d8576b\"],[0.6666666666666666,\"#ed7953\"],[0.7777777777777778,\"#fb9f3a\"],[0.8888888888888888,\"#fdca26\"],[1.0,\"#f0f921\"]]},\"colorway\":[\"#636efa\",\"#EF553B\",\"#00cc96\",\"#ab63fa\",\"#FFA15A\",\"#19d3f3\",\"#FF6692\",\"#B6E880\",\"#FF97FF\",\"#FECB52\"],\"font\":{\"color\":\"#2a3f5f\"},\"geo\":{\"bgcolor\":\"white\",\"lakecolor\":\"white\",\"landcolor\":\"#E5ECF6\",\"showlakes\":true,\"showland\":true,\"subunitcolor\":\"white\"},\"hoverlabel\":{\"align\":\"left\"},\"hovermode\":\"closest\",\"mapbox\":{\"style\":\"light\"},\"paper_bgcolor\":\"white\",\"plot_bgcolor\":\"#E5ECF6\",\"polar\":{\"angularaxis\":{\"gridcolor\":\"white\",\"linecolor\":\"white\",\"ticks\":\"\"},\"bgcolor\":\"#E5ECF6\",\"radialaxis\":{\"gridcolor\":\"white\",\"linecolor\":\"white\",\"ticks\":\"\"}},\"scene\":{\"xaxis\":{\"backgroundcolor\":\"#E5ECF6\",\"gridcolor\":\"white\",\"gridwidth\":2,\"linecolor\":\"white\",\"showbackground\":true,\"ticks\":\"\",\"zerolinecolor\":\"white\"},\"yaxis\":{\"backgroundcolor\":\"#E5ECF6\",\"gridcolor\":\"white\",\"gridwidth\":2,\"linecolor\":\"white\",\"showbackground\":true,\"ticks\":\"\",\"zerolinecolor\":\"white\"},\"zaxis\":{\"backgroundcolor\":\"#E5ECF6\",\"gridcolor\":\"white\",\"gridwidth\":2,\"linecolor\":\"white\",\"showbackground\":true,\"ticks\":\"\",\"zerolinecolor\":\"white\"}},\"shapedefaults\":{\"line\":{\"color\":\"#2a3f5f\"}},\"ternary\":{\"aaxis\":{\"gridcolor\":\"white\",\"linecolor\":\"white\",\"ticks\":\"\"},\"baxis\":{\"gridcolor\":\"white\",\"linecolor\":\"white\",\"ticks\":\"\"},\"bgcolor\":\"#E5ECF6\",\"caxis\":{\"gridcolor\":\"white\",\"linecolor\":\"white\",\"ticks\":\"\"}},\"title\":{\"x\":0.05},\"xaxis\":{\"automargin\":true,\"gridcolor\":\"white\",\"linecolor\":\"white\",\"ticks\":\"\",\"title\":{\"standoff\":15},\"zerolinecolor\":\"white\",\"zerolinewidth\":2},\"yaxis\":{\"automargin\":true,\"gridcolor\":\"white\",\"linecolor\":\"white\",\"ticks\":\"\",\"title\":{\"standoff\":15},\"zerolinecolor\":\"white\",\"zerolinewidth\":2}}},\"title\":{\"font\":{\"color\":\"#4D5663\"}},\"xaxis\":{\"gridcolor\":\"#E1E5ED\",\"showgrid\":true,\"tickfont\":{\"color\":\"#4D5663\"},\"title\":{\"font\":{\"color\":\"#4D5663\"},\"text\":\"\"},\"zerolinecolor\":\"#E1E5ED\"},\"yaxis\":{\"gridcolor\":\"#E1E5ED\",\"showgrid\":true,\"tickfont\":{\"color\":\"#4D5663\"},\"title\":{\"font\":{\"color\":\"#4D5663\"},\"text\":\"\"},\"zerolinecolor\":\"#E1E5ED\"}},                        {\"showLink\": true, \"linkText\": \"Export to plot.ly\", \"plotlyServerURL\": \"https://plot.ly\", \"responsive\": true}                    ).then(function(){\n",
       "                            \n",
       "var gd = document.getElementById('628820e2-1c37-4489-bf40-194400ffa9d3');\n",
       "var x = new MutationObserver(function (mutations, observer) {{\n",
       "        var display = window.getComputedStyle(gd).display;\n",
       "        if (!display || display === 'none') {{\n",
       "            console.log([gd, 'removed!']);\n",
       "            Plotly.purge(gd);\n",
       "            observer.disconnect();\n",
       "        }}\n",
       "}});\n",
       "\n",
       "// Listen for the removal of the full notebook cells\n",
       "var notebookContainer = gd.closest('#notebook-container');\n",
       "if (notebookContainer) {{\n",
       "    x.observe(notebookContainer, {childList: true});\n",
       "}}\n",
       "\n",
       "// Listen for the clearing of the current output cell\n",
       "var outputEl = gd.closest('.output');\n",
       "if (outputEl) {{\n",
       "    x.observe(outputEl, {childList: true});\n",
       "}}\n",
       "\n",
       "                        })                };                });            </script>        </div>"
      ]
     },
     "metadata": {},
     "output_type": "display_data"
    }
   ],
   "source": [
    "df2.iplot(kind='bar',x='Category',y='Values')"
   ]
  },
  {
   "cell_type": "code",
   "execution_count": 15,
   "metadata": {},
   "outputs": [
    {
     "data": {
      "application/vnd.plotly.v1+json": {
       "config": {
        "linkText": "Export to plot.ly",
        "plotlyServerURL": "https://plot.ly",
        "showLink": true
       },
       "data": [
        {
         "marker": {
          "color": "rgba(255, 153, 51, 0.6)",
          "line": {
           "color": "rgba(255, 153, 51, 1.0)",
           "width": 1
          }
         },
         "name": "None",
         "orientation": "v",
         "text": "",
         "type": "bar",
         "x": [
          "A",
          "B",
          "C",
          "D"
         ],
         "y": [
          100,
          100,
          100,
          100
         ]
        }
       ],
       "layout": {
        "legend": {
         "bgcolor": "#F5F6F9",
         "font": {
          "color": "#4D5663"
         }
        },
        "paper_bgcolor": "#F5F6F9",
        "plot_bgcolor": "#F5F6F9",
        "template": {
         "data": {
          "bar": [
           {
            "error_x": {
             "color": "#2a3f5f"
            },
            "error_y": {
             "color": "#2a3f5f"
            },
            "marker": {
             "line": {
              "color": "#E5ECF6",
              "width": 0.5
             },
             "pattern": {
              "fillmode": "overlay",
              "size": 10,
              "solidity": 0.2
             }
            },
            "type": "bar"
           }
          ],
          "barpolar": [
           {
            "marker": {
             "line": {
              "color": "#E5ECF6",
              "width": 0.5
             },
             "pattern": {
              "fillmode": "overlay",
              "size": 10,
              "solidity": 0.2
             }
            },
            "type": "barpolar"
           }
          ],
          "carpet": [
           {
            "aaxis": {
             "endlinecolor": "#2a3f5f",
             "gridcolor": "white",
             "linecolor": "white",
             "minorgridcolor": "white",
             "startlinecolor": "#2a3f5f"
            },
            "baxis": {
             "endlinecolor": "#2a3f5f",
             "gridcolor": "white",
             "linecolor": "white",
             "minorgridcolor": "white",
             "startlinecolor": "#2a3f5f"
            },
            "type": "carpet"
           }
          ],
          "choropleth": [
           {
            "colorbar": {
             "outlinewidth": 0,
             "ticks": ""
            },
            "type": "choropleth"
           }
          ],
          "contour": [
           {
            "colorbar": {
             "outlinewidth": 0,
             "ticks": ""
            },
            "colorscale": [
             [
              0,
              "#0d0887"
             ],
             [
              0.1111111111111111,
              "#46039f"
             ],
             [
              0.2222222222222222,
              "#7201a8"
             ],
             [
              0.3333333333333333,
              "#9c179e"
             ],
             [
              0.4444444444444444,
              "#bd3786"
             ],
             [
              0.5555555555555556,
              "#d8576b"
             ],
             [
              0.6666666666666666,
              "#ed7953"
             ],
             [
              0.7777777777777778,
              "#fb9f3a"
             ],
             [
              0.8888888888888888,
              "#fdca26"
             ],
             [
              1,
              "#f0f921"
             ]
            ],
            "type": "contour"
           }
          ],
          "contourcarpet": [
           {
            "colorbar": {
             "outlinewidth": 0,
             "ticks": ""
            },
            "type": "contourcarpet"
           }
          ],
          "heatmap": [
           {
            "colorbar": {
             "outlinewidth": 0,
             "ticks": ""
            },
            "colorscale": [
             [
              0,
              "#0d0887"
             ],
             [
              0.1111111111111111,
              "#46039f"
             ],
             [
              0.2222222222222222,
              "#7201a8"
             ],
             [
              0.3333333333333333,
              "#9c179e"
             ],
             [
              0.4444444444444444,
              "#bd3786"
             ],
             [
              0.5555555555555556,
              "#d8576b"
             ],
             [
              0.6666666666666666,
              "#ed7953"
             ],
             [
              0.7777777777777778,
              "#fb9f3a"
             ],
             [
              0.8888888888888888,
              "#fdca26"
             ],
             [
              1,
              "#f0f921"
             ]
            ],
            "type": "heatmap"
           }
          ],
          "heatmapgl": [
           {
            "colorbar": {
             "outlinewidth": 0,
             "ticks": ""
            },
            "colorscale": [
             [
              0,
              "#0d0887"
             ],
             [
              0.1111111111111111,
              "#46039f"
             ],
             [
              0.2222222222222222,
              "#7201a8"
             ],
             [
              0.3333333333333333,
              "#9c179e"
             ],
             [
              0.4444444444444444,
              "#bd3786"
             ],
             [
              0.5555555555555556,
              "#d8576b"
             ],
             [
              0.6666666666666666,
              "#ed7953"
             ],
             [
              0.7777777777777778,
              "#fb9f3a"
             ],
             [
              0.8888888888888888,
              "#fdca26"
             ],
             [
              1,
              "#f0f921"
             ]
            ],
            "type": "heatmapgl"
           }
          ],
          "histogram": [
           {
            "marker": {
             "pattern": {
              "fillmode": "overlay",
              "size": 10,
              "solidity": 0.2
             }
            },
            "type": "histogram"
           }
          ],
          "histogram2d": [
           {
            "colorbar": {
             "outlinewidth": 0,
             "ticks": ""
            },
            "colorscale": [
             [
              0,
              "#0d0887"
             ],
             [
              0.1111111111111111,
              "#46039f"
             ],
             [
              0.2222222222222222,
              "#7201a8"
             ],
             [
              0.3333333333333333,
              "#9c179e"
             ],
             [
              0.4444444444444444,
              "#bd3786"
             ],
             [
              0.5555555555555556,
              "#d8576b"
             ],
             [
              0.6666666666666666,
              "#ed7953"
             ],
             [
              0.7777777777777778,
              "#fb9f3a"
             ],
             [
              0.8888888888888888,
              "#fdca26"
             ],
             [
              1,
              "#f0f921"
             ]
            ],
            "type": "histogram2d"
           }
          ],
          "histogram2dcontour": [
           {
            "colorbar": {
             "outlinewidth": 0,
             "ticks": ""
            },
            "colorscale": [
             [
              0,
              "#0d0887"
             ],
             [
              0.1111111111111111,
              "#46039f"
             ],
             [
              0.2222222222222222,
              "#7201a8"
             ],
             [
              0.3333333333333333,
              "#9c179e"
             ],
             [
              0.4444444444444444,
              "#bd3786"
             ],
             [
              0.5555555555555556,
              "#d8576b"
             ],
             [
              0.6666666666666666,
              "#ed7953"
             ],
             [
              0.7777777777777778,
              "#fb9f3a"
             ],
             [
              0.8888888888888888,
              "#fdca26"
             ],
             [
              1,
              "#f0f921"
             ]
            ],
            "type": "histogram2dcontour"
           }
          ],
          "mesh3d": [
           {
            "colorbar": {
             "outlinewidth": 0,
             "ticks": ""
            },
            "type": "mesh3d"
           }
          ],
          "parcoords": [
           {
            "line": {
             "colorbar": {
              "outlinewidth": 0,
              "ticks": ""
             }
            },
            "type": "parcoords"
           }
          ],
          "pie": [
           {
            "automargin": true,
            "type": "pie"
           }
          ],
          "scatter": [
           {
            "marker": {
             "colorbar": {
              "outlinewidth": 0,
              "ticks": ""
             }
            },
            "type": "scatter"
           }
          ],
          "scatter3d": [
           {
            "line": {
             "colorbar": {
              "outlinewidth": 0,
              "ticks": ""
             }
            },
            "marker": {
             "colorbar": {
              "outlinewidth": 0,
              "ticks": ""
             }
            },
            "type": "scatter3d"
           }
          ],
          "scattercarpet": [
           {
            "marker": {
             "colorbar": {
              "outlinewidth": 0,
              "ticks": ""
             }
            },
            "type": "scattercarpet"
           }
          ],
          "scattergeo": [
           {
            "marker": {
             "colorbar": {
              "outlinewidth": 0,
              "ticks": ""
             }
            },
            "type": "scattergeo"
           }
          ],
          "scattergl": [
           {
            "marker": {
             "colorbar": {
              "outlinewidth": 0,
              "ticks": ""
             }
            },
            "type": "scattergl"
           }
          ],
          "scattermapbox": [
           {
            "marker": {
             "colorbar": {
              "outlinewidth": 0,
              "ticks": ""
             }
            },
            "type": "scattermapbox"
           }
          ],
          "scatterpolar": [
           {
            "marker": {
             "colorbar": {
              "outlinewidth": 0,
              "ticks": ""
             }
            },
            "type": "scatterpolar"
           }
          ],
          "scatterpolargl": [
           {
            "marker": {
             "colorbar": {
              "outlinewidth": 0,
              "ticks": ""
             }
            },
            "type": "scatterpolargl"
           }
          ],
          "scatterternary": [
           {
            "marker": {
             "colorbar": {
              "outlinewidth": 0,
              "ticks": ""
             }
            },
            "type": "scatterternary"
           }
          ],
          "surface": [
           {
            "colorbar": {
             "outlinewidth": 0,
             "ticks": ""
            },
            "colorscale": [
             [
              0,
              "#0d0887"
             ],
             [
              0.1111111111111111,
              "#46039f"
             ],
             [
              0.2222222222222222,
              "#7201a8"
             ],
             [
              0.3333333333333333,
              "#9c179e"
             ],
             [
              0.4444444444444444,
              "#bd3786"
             ],
             [
              0.5555555555555556,
              "#d8576b"
             ],
             [
              0.6666666666666666,
              "#ed7953"
             ],
             [
              0.7777777777777778,
              "#fb9f3a"
             ],
             [
              0.8888888888888888,
              "#fdca26"
             ],
             [
              1,
              "#f0f921"
             ]
            ],
            "type": "surface"
           }
          ],
          "table": [
           {
            "cells": {
             "fill": {
              "color": "#EBF0F8"
             },
             "line": {
              "color": "white"
             }
            },
            "header": {
             "fill": {
              "color": "#C8D4E3"
             },
             "line": {
              "color": "white"
             }
            },
            "type": "table"
           }
          ]
         },
         "layout": {
          "annotationdefaults": {
           "arrowcolor": "#2a3f5f",
           "arrowhead": 0,
           "arrowwidth": 1
          },
          "autotypenumbers": "strict",
          "coloraxis": {
           "colorbar": {
            "outlinewidth": 0,
            "ticks": ""
           }
          },
          "colorscale": {
           "diverging": [
            [
             0,
             "#8e0152"
            ],
            [
             0.1,
             "#c51b7d"
            ],
            [
             0.2,
             "#de77ae"
            ],
            [
             0.3,
             "#f1b6da"
            ],
            [
             0.4,
             "#fde0ef"
            ],
            [
             0.5,
             "#f7f7f7"
            ],
            [
             0.6,
             "#e6f5d0"
            ],
            [
             0.7,
             "#b8e186"
            ],
            [
             0.8,
             "#7fbc41"
            ],
            [
             0.9,
             "#4d9221"
            ],
            [
             1,
             "#276419"
            ]
           ],
           "sequential": [
            [
             0,
             "#0d0887"
            ],
            [
             0.1111111111111111,
             "#46039f"
            ],
            [
             0.2222222222222222,
             "#7201a8"
            ],
            [
             0.3333333333333333,
             "#9c179e"
            ],
            [
             0.4444444444444444,
             "#bd3786"
            ],
            [
             0.5555555555555556,
             "#d8576b"
            ],
            [
             0.6666666666666666,
             "#ed7953"
            ],
            [
             0.7777777777777778,
             "#fb9f3a"
            ],
            [
             0.8888888888888888,
             "#fdca26"
            ],
            [
             1,
             "#f0f921"
            ]
           ],
           "sequentialminus": [
            [
             0,
             "#0d0887"
            ],
            [
             0.1111111111111111,
             "#46039f"
            ],
            [
             0.2222222222222222,
             "#7201a8"
            ],
            [
             0.3333333333333333,
             "#9c179e"
            ],
            [
             0.4444444444444444,
             "#bd3786"
            ],
            [
             0.5555555555555556,
             "#d8576b"
            ],
            [
             0.6666666666666666,
             "#ed7953"
            ],
            [
             0.7777777777777778,
             "#fb9f3a"
            ],
            [
             0.8888888888888888,
             "#fdca26"
            ],
            [
             1,
             "#f0f921"
            ]
           ]
          },
          "colorway": [
           "#636efa",
           "#EF553B",
           "#00cc96",
           "#ab63fa",
           "#FFA15A",
           "#19d3f3",
           "#FF6692",
           "#B6E880",
           "#FF97FF",
           "#FECB52"
          ],
          "font": {
           "color": "#2a3f5f"
          },
          "geo": {
           "bgcolor": "white",
           "lakecolor": "white",
           "landcolor": "#E5ECF6",
           "showlakes": true,
           "showland": true,
           "subunitcolor": "white"
          },
          "hoverlabel": {
           "align": "left"
          },
          "hovermode": "closest",
          "mapbox": {
           "style": "light"
          },
          "paper_bgcolor": "white",
          "plot_bgcolor": "#E5ECF6",
          "polar": {
           "angularaxis": {
            "gridcolor": "white",
            "linecolor": "white",
            "ticks": ""
           },
           "bgcolor": "#E5ECF6",
           "radialaxis": {
            "gridcolor": "white",
            "linecolor": "white",
            "ticks": ""
           }
          },
          "scene": {
           "xaxis": {
            "backgroundcolor": "#E5ECF6",
            "gridcolor": "white",
            "gridwidth": 2,
            "linecolor": "white",
            "showbackground": true,
            "ticks": "",
            "zerolinecolor": "white"
           },
           "yaxis": {
            "backgroundcolor": "#E5ECF6",
            "gridcolor": "white",
            "gridwidth": 2,
            "linecolor": "white",
            "showbackground": true,
            "ticks": "",
            "zerolinecolor": "white"
           },
           "zaxis": {
            "backgroundcolor": "#E5ECF6",
            "gridcolor": "white",
            "gridwidth": 2,
            "linecolor": "white",
            "showbackground": true,
            "ticks": "",
            "zerolinecolor": "white"
           }
          },
          "shapedefaults": {
           "line": {
            "color": "#2a3f5f"
           }
          },
          "ternary": {
           "aaxis": {
            "gridcolor": "white",
            "linecolor": "white",
            "ticks": ""
           },
           "baxis": {
            "gridcolor": "white",
            "linecolor": "white",
            "ticks": ""
           },
           "bgcolor": "#E5ECF6",
           "caxis": {
            "gridcolor": "white",
            "linecolor": "white",
            "ticks": ""
           }
          },
          "title": {
           "x": 0.05
          },
          "xaxis": {
           "automargin": true,
           "gridcolor": "white",
           "linecolor": "white",
           "ticks": "",
           "title": {
            "standoff": 15
           },
           "zerolinecolor": "white",
           "zerolinewidth": 2
          },
          "yaxis": {
           "automargin": true,
           "gridcolor": "white",
           "linecolor": "white",
           "ticks": "",
           "title": {
            "standoff": 15
           },
           "zerolinecolor": "white",
           "zerolinewidth": 2
          }
         }
        },
        "title": {
         "font": {
          "color": "#4D5663"
         }
        },
        "xaxis": {
         "gridcolor": "#E1E5ED",
         "showgrid": true,
         "tickfont": {
          "color": "#4D5663"
         },
         "title": {
          "font": {
           "color": "#4D5663"
          },
          "text": ""
         },
         "zerolinecolor": "#E1E5ED"
        },
        "yaxis": {
         "gridcolor": "#E1E5ED",
         "showgrid": true,
         "tickfont": {
          "color": "#4D5663"
         },
         "title": {
          "font": {
           "color": "#4D5663"
          },
          "text": ""
         },
         "zerolinecolor": "#E1E5ED"
        }
       }
      },
      "text/html": [
       "<div>                            <div id=\"baabf554-7ed6-499a-91f0-1206352dd548\" class=\"plotly-graph-div\" style=\"height:525px; width:100%;\"></div>            <script type=\"text/javascript\">                require([\"plotly\"], function(Plotly) {                    window.PLOTLYENV=window.PLOTLYENV || {};\n",
       "                    window.PLOTLYENV.BASE_URL='https://plot.ly';                                    if (document.getElementById(\"baabf554-7ed6-499a-91f0-1206352dd548\")) {                    Plotly.newPlot(                        \"baabf554-7ed6-499a-91f0-1206352dd548\",                        [{\"marker\":{\"color\":\"rgba(255, 153, 51, 0.6)\",\"line\":{\"color\":\"rgba(255, 153, 51, 1.0)\",\"width\":1}},\"name\":\"None\",\"orientation\":\"v\",\"text\":\"\",\"type\":\"bar\",\"x\":[\"A\",\"B\",\"C\",\"D\"],\"y\":[100,100,100,100]}],                        {\"legend\":{\"bgcolor\":\"#F5F6F9\",\"font\":{\"color\":\"#4D5663\"}},\"paper_bgcolor\":\"#F5F6F9\",\"plot_bgcolor\":\"#F5F6F9\",\"template\":{\"data\":{\"bar\":[{\"error_x\":{\"color\":\"#2a3f5f\"},\"error_y\":{\"color\":\"#2a3f5f\"},\"marker\":{\"line\":{\"color\":\"#E5ECF6\",\"width\":0.5},\"pattern\":{\"fillmode\":\"overlay\",\"size\":10,\"solidity\":0.2}},\"type\":\"bar\"}],\"barpolar\":[{\"marker\":{\"line\":{\"color\":\"#E5ECF6\",\"width\":0.5},\"pattern\":{\"fillmode\":\"overlay\",\"size\":10,\"solidity\":0.2}},\"type\":\"barpolar\"}],\"carpet\":[{\"aaxis\":{\"endlinecolor\":\"#2a3f5f\",\"gridcolor\":\"white\",\"linecolor\":\"white\",\"minorgridcolor\":\"white\",\"startlinecolor\":\"#2a3f5f\"},\"baxis\":{\"endlinecolor\":\"#2a3f5f\",\"gridcolor\":\"white\",\"linecolor\":\"white\",\"minorgridcolor\":\"white\",\"startlinecolor\":\"#2a3f5f\"},\"type\":\"carpet\"}],\"choropleth\":[{\"colorbar\":{\"outlinewidth\":0,\"ticks\":\"\"},\"type\":\"choropleth\"}],\"contour\":[{\"colorbar\":{\"outlinewidth\":0,\"ticks\":\"\"},\"colorscale\":[[0.0,\"#0d0887\"],[0.1111111111111111,\"#46039f\"],[0.2222222222222222,\"#7201a8\"],[0.3333333333333333,\"#9c179e\"],[0.4444444444444444,\"#bd3786\"],[0.5555555555555556,\"#d8576b\"],[0.6666666666666666,\"#ed7953\"],[0.7777777777777778,\"#fb9f3a\"],[0.8888888888888888,\"#fdca26\"],[1.0,\"#f0f921\"]],\"type\":\"contour\"}],\"contourcarpet\":[{\"colorbar\":{\"outlinewidth\":0,\"ticks\":\"\"},\"type\":\"contourcarpet\"}],\"heatmap\":[{\"colorbar\":{\"outlinewidth\":0,\"ticks\":\"\"},\"colorscale\":[[0.0,\"#0d0887\"],[0.1111111111111111,\"#46039f\"],[0.2222222222222222,\"#7201a8\"],[0.3333333333333333,\"#9c179e\"],[0.4444444444444444,\"#bd3786\"],[0.5555555555555556,\"#d8576b\"],[0.6666666666666666,\"#ed7953\"],[0.7777777777777778,\"#fb9f3a\"],[0.8888888888888888,\"#fdca26\"],[1.0,\"#f0f921\"]],\"type\":\"heatmap\"}],\"heatmapgl\":[{\"colorbar\":{\"outlinewidth\":0,\"ticks\":\"\"},\"colorscale\":[[0.0,\"#0d0887\"],[0.1111111111111111,\"#46039f\"],[0.2222222222222222,\"#7201a8\"],[0.3333333333333333,\"#9c179e\"],[0.4444444444444444,\"#bd3786\"],[0.5555555555555556,\"#d8576b\"],[0.6666666666666666,\"#ed7953\"],[0.7777777777777778,\"#fb9f3a\"],[0.8888888888888888,\"#fdca26\"],[1.0,\"#f0f921\"]],\"type\":\"heatmapgl\"}],\"histogram\":[{\"marker\":{\"pattern\":{\"fillmode\":\"overlay\",\"size\":10,\"solidity\":0.2}},\"type\":\"histogram\"}],\"histogram2d\":[{\"colorbar\":{\"outlinewidth\":0,\"ticks\":\"\"},\"colorscale\":[[0.0,\"#0d0887\"],[0.1111111111111111,\"#46039f\"],[0.2222222222222222,\"#7201a8\"],[0.3333333333333333,\"#9c179e\"],[0.4444444444444444,\"#bd3786\"],[0.5555555555555556,\"#d8576b\"],[0.6666666666666666,\"#ed7953\"],[0.7777777777777778,\"#fb9f3a\"],[0.8888888888888888,\"#fdca26\"],[1.0,\"#f0f921\"]],\"type\":\"histogram2d\"}],\"histogram2dcontour\":[{\"colorbar\":{\"outlinewidth\":0,\"ticks\":\"\"},\"colorscale\":[[0.0,\"#0d0887\"],[0.1111111111111111,\"#46039f\"],[0.2222222222222222,\"#7201a8\"],[0.3333333333333333,\"#9c179e\"],[0.4444444444444444,\"#bd3786\"],[0.5555555555555556,\"#d8576b\"],[0.6666666666666666,\"#ed7953\"],[0.7777777777777778,\"#fb9f3a\"],[0.8888888888888888,\"#fdca26\"],[1.0,\"#f0f921\"]],\"type\":\"histogram2dcontour\"}],\"mesh3d\":[{\"colorbar\":{\"outlinewidth\":0,\"ticks\":\"\"},\"type\":\"mesh3d\"}],\"parcoords\":[{\"line\":{\"colorbar\":{\"outlinewidth\":0,\"ticks\":\"\"}},\"type\":\"parcoords\"}],\"pie\":[{\"automargin\":true,\"type\":\"pie\"}],\"scatter\":[{\"marker\":{\"colorbar\":{\"outlinewidth\":0,\"ticks\":\"\"}},\"type\":\"scatter\"}],\"scatter3d\":[{\"line\":{\"colorbar\":{\"outlinewidth\":0,\"ticks\":\"\"}},\"marker\":{\"colorbar\":{\"outlinewidth\":0,\"ticks\":\"\"}},\"type\":\"scatter3d\"}],\"scattercarpet\":[{\"marker\":{\"colorbar\":{\"outlinewidth\":0,\"ticks\":\"\"}},\"type\":\"scattercarpet\"}],\"scattergeo\":[{\"marker\":{\"colorbar\":{\"outlinewidth\":0,\"ticks\":\"\"}},\"type\":\"scattergeo\"}],\"scattergl\":[{\"marker\":{\"colorbar\":{\"outlinewidth\":0,\"ticks\":\"\"}},\"type\":\"scattergl\"}],\"scattermapbox\":[{\"marker\":{\"colorbar\":{\"outlinewidth\":0,\"ticks\":\"\"}},\"type\":\"scattermapbox\"}],\"scatterpolar\":[{\"marker\":{\"colorbar\":{\"outlinewidth\":0,\"ticks\":\"\"}},\"type\":\"scatterpolar\"}],\"scatterpolargl\":[{\"marker\":{\"colorbar\":{\"outlinewidth\":0,\"ticks\":\"\"}},\"type\":\"scatterpolargl\"}],\"scatterternary\":[{\"marker\":{\"colorbar\":{\"outlinewidth\":0,\"ticks\":\"\"}},\"type\":\"scatterternary\"}],\"surface\":[{\"colorbar\":{\"outlinewidth\":0,\"ticks\":\"\"},\"colorscale\":[[0.0,\"#0d0887\"],[0.1111111111111111,\"#46039f\"],[0.2222222222222222,\"#7201a8\"],[0.3333333333333333,\"#9c179e\"],[0.4444444444444444,\"#bd3786\"],[0.5555555555555556,\"#d8576b\"],[0.6666666666666666,\"#ed7953\"],[0.7777777777777778,\"#fb9f3a\"],[0.8888888888888888,\"#fdca26\"],[1.0,\"#f0f921\"]],\"type\":\"surface\"}],\"table\":[{\"cells\":{\"fill\":{\"color\":\"#EBF0F8\"},\"line\":{\"color\":\"white\"}},\"header\":{\"fill\":{\"color\":\"#C8D4E3\"},\"line\":{\"color\":\"white\"}},\"type\":\"table\"}]},\"layout\":{\"annotationdefaults\":{\"arrowcolor\":\"#2a3f5f\",\"arrowhead\":0,\"arrowwidth\":1},\"autotypenumbers\":\"strict\",\"coloraxis\":{\"colorbar\":{\"outlinewidth\":0,\"ticks\":\"\"}},\"colorscale\":{\"diverging\":[[0,\"#8e0152\"],[0.1,\"#c51b7d\"],[0.2,\"#de77ae\"],[0.3,\"#f1b6da\"],[0.4,\"#fde0ef\"],[0.5,\"#f7f7f7\"],[0.6,\"#e6f5d0\"],[0.7,\"#b8e186\"],[0.8,\"#7fbc41\"],[0.9,\"#4d9221\"],[1,\"#276419\"]],\"sequential\":[[0.0,\"#0d0887\"],[0.1111111111111111,\"#46039f\"],[0.2222222222222222,\"#7201a8\"],[0.3333333333333333,\"#9c179e\"],[0.4444444444444444,\"#bd3786\"],[0.5555555555555556,\"#d8576b\"],[0.6666666666666666,\"#ed7953\"],[0.7777777777777778,\"#fb9f3a\"],[0.8888888888888888,\"#fdca26\"],[1.0,\"#f0f921\"]],\"sequentialminus\":[[0.0,\"#0d0887\"],[0.1111111111111111,\"#46039f\"],[0.2222222222222222,\"#7201a8\"],[0.3333333333333333,\"#9c179e\"],[0.4444444444444444,\"#bd3786\"],[0.5555555555555556,\"#d8576b\"],[0.6666666666666666,\"#ed7953\"],[0.7777777777777778,\"#fb9f3a\"],[0.8888888888888888,\"#fdca26\"],[1.0,\"#f0f921\"]]},\"colorway\":[\"#636efa\",\"#EF553B\",\"#00cc96\",\"#ab63fa\",\"#FFA15A\",\"#19d3f3\",\"#FF6692\",\"#B6E880\",\"#FF97FF\",\"#FECB52\"],\"font\":{\"color\":\"#2a3f5f\"},\"geo\":{\"bgcolor\":\"white\",\"lakecolor\":\"white\",\"landcolor\":\"#E5ECF6\",\"showlakes\":true,\"showland\":true,\"subunitcolor\":\"white\"},\"hoverlabel\":{\"align\":\"left\"},\"hovermode\":\"closest\",\"mapbox\":{\"style\":\"light\"},\"paper_bgcolor\":\"white\",\"plot_bgcolor\":\"#E5ECF6\",\"polar\":{\"angularaxis\":{\"gridcolor\":\"white\",\"linecolor\":\"white\",\"ticks\":\"\"},\"bgcolor\":\"#E5ECF6\",\"radialaxis\":{\"gridcolor\":\"white\",\"linecolor\":\"white\",\"ticks\":\"\"}},\"scene\":{\"xaxis\":{\"backgroundcolor\":\"#E5ECF6\",\"gridcolor\":\"white\",\"gridwidth\":2,\"linecolor\":\"white\",\"showbackground\":true,\"ticks\":\"\",\"zerolinecolor\":\"white\"},\"yaxis\":{\"backgroundcolor\":\"#E5ECF6\",\"gridcolor\":\"white\",\"gridwidth\":2,\"linecolor\":\"white\",\"showbackground\":true,\"ticks\":\"\",\"zerolinecolor\":\"white\"},\"zaxis\":{\"backgroundcolor\":\"#E5ECF6\",\"gridcolor\":\"white\",\"gridwidth\":2,\"linecolor\":\"white\",\"showbackground\":true,\"ticks\":\"\",\"zerolinecolor\":\"white\"}},\"shapedefaults\":{\"line\":{\"color\":\"#2a3f5f\"}},\"ternary\":{\"aaxis\":{\"gridcolor\":\"white\",\"linecolor\":\"white\",\"ticks\":\"\"},\"baxis\":{\"gridcolor\":\"white\",\"linecolor\":\"white\",\"ticks\":\"\"},\"bgcolor\":\"#E5ECF6\",\"caxis\":{\"gridcolor\":\"white\",\"linecolor\":\"white\",\"ticks\":\"\"}},\"title\":{\"x\":0.05},\"xaxis\":{\"automargin\":true,\"gridcolor\":\"white\",\"linecolor\":\"white\",\"ticks\":\"\",\"title\":{\"standoff\":15},\"zerolinecolor\":\"white\",\"zerolinewidth\":2},\"yaxis\":{\"automargin\":true,\"gridcolor\":\"white\",\"linecolor\":\"white\",\"ticks\":\"\",\"title\":{\"standoff\":15},\"zerolinecolor\":\"white\",\"zerolinewidth\":2}}},\"title\":{\"font\":{\"color\":\"#4D5663\"}},\"xaxis\":{\"gridcolor\":\"#E1E5ED\",\"showgrid\":true,\"tickfont\":{\"color\":\"#4D5663\"},\"title\":{\"font\":{\"color\":\"#4D5663\"},\"text\":\"\"},\"zerolinecolor\":\"#E1E5ED\"},\"yaxis\":{\"gridcolor\":\"#E1E5ED\",\"showgrid\":true,\"tickfont\":{\"color\":\"#4D5663\"},\"title\":{\"font\":{\"color\":\"#4D5663\"},\"text\":\"\"},\"zerolinecolor\":\"#E1E5ED\"}},                        {\"showLink\": true, \"linkText\": \"Export to plot.ly\", \"plotlyServerURL\": \"https://plot.ly\", \"responsive\": true}                    ).then(function(){\n",
       "                            \n",
       "var gd = document.getElementById('baabf554-7ed6-499a-91f0-1206352dd548');\n",
       "var x = new MutationObserver(function (mutations, observer) {{\n",
       "        var display = window.getComputedStyle(gd).display;\n",
       "        if (!display || display === 'none') {{\n",
       "            console.log([gd, 'removed!']);\n",
       "            Plotly.purge(gd);\n",
       "            observer.disconnect();\n",
       "        }}\n",
       "}});\n",
       "\n",
       "// Listen for the removal of the full notebook cells\n",
       "var notebookContainer = gd.closest('#notebook-container');\n",
       "if (notebookContainer) {{\n",
       "    x.observe(notebookContainer, {childList: true});\n",
       "}}\n",
       "\n",
       "// Listen for the clearing of the current output cell\n",
       "var outputEl = gd.closest('.output');\n",
       "if (outputEl) {{\n",
       "    x.observe(outputEl, {childList: true});\n",
       "}}\n",
       "\n",
       "                        })                };                });            </script>        </div>"
      ]
     },
     "metadata": {},
     "output_type": "display_data"
    }
   ],
   "source": [
    "df.count().iplot(kind='bar')"
   ]
  },
  {
   "cell_type": "markdown",
   "metadata": {},
   "source": [
    "## Boxplots"
   ]
  },
  {
   "cell_type": "code",
   "execution_count": 16,
   "metadata": {},
   "outputs": [
    {
     "data": {
      "application/vnd.plotly.v1+json": {
       "config": {
        "linkText": "Export to plot.ly",
        "plotlyServerURL": "https://plot.ly",
        "showLink": true
       },
       "data": [
        {
         "boxpoints": false,
         "line": {
          "width": 1.3
         },
         "marker": {
          "color": "rgba(255, 153, 51, 1.0)"
         },
         "name": "A",
         "orientation": "v",
         "type": "box",
         "y": [
          -0.5179271967863107,
          -0.43117640845718924,
          -0.7425433984463287,
          -0.7089570997832738,
          -0.0361529193067307,
          0.07522673552826692,
          -1.4131665855296218,
          -0.0031556109683627954,
          -0.5302505856350661,
          -1.4127977371366855,
          0.2087659396050563,
          -1.4131760875032837,
          -0.30928347102426945,
          -0.483488097111868,
          -0.06312965999867666,
          1.9258679259374294,
          1.4587125869684525,
          1.3580817403999588,
          0.6622586311843047,
          -0.240272587802109,
          -1.6140007340343672,
          -0.809880896517053,
          0.17882016129592684,
          -1.918619035060385,
          0.5639175432044878,
          0.7003026318927348,
          1.1871330769452881,
          2.621530460729752,
          -0.05226547135199387,
          -0.8857947444659938,
          0.29778182041096535,
          0.8314995551078086,
          0.8277350723928936,
          0.9807667281146693,
          -0.45636567990437055,
          -0.8287489631818937,
          -0.02409698397342725,
          1.1224562643047222,
          -0.10774074979314044,
          -0.4703262271315255,
          -0.24485739399715936,
          -0.7209811457686358,
          0.543656350365433,
          -1.0910512142922943,
          1.6146687797051722,
          1.272671565444567,
          -1.4969566494241922,
          0.49724268869042015,
          0.5762497665318234,
          0.9173715082787924,
          -0.3156771970691579,
          -1.5465554615957646,
          0.5365559969570894,
          -0.16681688603908454,
          0.5422513086930213,
          0.11702639045880345,
          0.8662033868093464,
          0.7950354856934065,
          -0.3692169523733393,
          2.185699925373505,
          -0.19711391724350172,
          -0.7801751589593686,
          1.5742708527925775,
          -0.3998953876637889,
          -0.12030457591217633,
          -1.363206492841364,
          0.1538230355317382,
          -0.2873090931451748,
          0.1526156484030482,
          -0.76742908384936,
          0.004822975700221074,
          -0.44140319312826604,
          0.7217093953262547,
          0.5286866127120267,
          -1.7027276677246608,
          -0.8067393232956829,
          -1.8513726371721704,
          1.0938465376835904,
          -1.292754654635878,
          -0.7940460298498865,
          -2.0091587452108204,
          1.053284917771941,
          0.5505835572480933,
          -1.270031759248562,
          -0.6446601496996719,
          -0.7047831805932557,
          -0.5097574343620287,
          -1.1067233133199088,
          -0.47331615373991254,
          0.8566597266341112,
          -1.1402325893281335,
          -0.9191188365872801,
          -0.47871460470651567,
          0.3480989521997855,
          -0.02679045217886534,
          -1.1023603518297882,
          0.4308022821887071,
          0.12713866089653922,
          -0.34931893784546914,
          -0.22785308304094232
         ]
        },
        {
         "boxpoints": false,
         "line": {
          "width": 1.3
         },
         "marker": {
          "color": "rgba(55, 128, 191, 1.0)"
         },
         "name": "B",
         "orientation": "v",
         "type": "box",
         "y": [
          -0.3758500097309625,
          -0.16535367948668075,
          -0.5128744340332714,
          -1.8423189367048123,
          -1.1356305868368282,
          1.2950944141943472,
          -1.6311579305760227,
          0.016688836964509558,
          0.3083634203789976,
          0.05103396975288527,
          0.05679467739581437,
          -1.9093388798897002,
          -0.07160559652996788,
          0.6891009823108263,
          -0.023924354969763355,
          -1.1380916706848383,
          1.3578446352346254,
          1.4038591603561459,
          -0.7963802619073149,
          1.0957560929375854,
          -1.818438255277656,
          0.518952747348584,
          0.15766209751886662,
          -1.194762952135624,
          0.851137584451354,
          0.15136057281811752,
          0.8314766491511106,
          -2.24436491310048,
          -1.32618950252785,
          1.6139261366070685,
          1.2267569037271193,
          -0.4821519323592516,
          -1.0068080096810863,
          -0.6015152385898623,
          -0.4794807614204026,
          0.8255089329806143,
          0.20952100918864586,
          1.3880503023093014,
          0.010232520009308393,
          2.0746829897571417,
          0.9580845016434512,
          -0.8915323496411762,
          0.5521516640401373,
          0.35559597058364756,
          0.7782531942868335,
          -0.9297557978788601,
          -0.08201576362981501,
          0.6199540529598736,
          -0.3168906960775201,
          1.5566902016173185,
          -1.0209462255190862,
          0.5188172873553452,
          -0.6199604386138304,
          -0.4761167778402319,
          2.612138955071329,
          -0.4308806060321718,
          -2.5189769893132805,
          0.36864828172669745,
          -0.5418048550803195,
          0.028049888979844513,
          -0.764192926505916,
          -0.44981714959126307,
          -0.2256182492838925,
          0.6677608872670738,
          0.9063299652491447,
          0.026573091595432478,
          -1.1890327279751083,
          0.495971623179748,
          -0.16708889328830456,
          -0.7957095778014049,
          -1.3663426686289486,
          -0.15925390784293836,
          -0.5275660730874695,
          0.6080931676567122,
          -1.2002907631521316,
          0.11751051846397328,
          0.2785444201863015,
          -1.0325323787581073,
          -2.108815639125478,
          0.39090580510184747,
          0.05348538976803026,
          0.3206261656274645,
          -0.5392187076266731,
          0.008276159035867443,
          1.0717865031077487,
          -0.4973337162739843,
          -0.8976955567005012,
          0.9687550475286898,
          -2.766723911241507,
          -0.2968503585431235,
          -2.532841243413473,
          -0.3855427598007159,
          -0.7023174827043425,
          -0.08809338291835991,
          1.2116323269858478,
          -0.9552803546605079,
          -0.8140868518470041,
          0.008119932279069134,
          -1.6007835806075166,
          -0.9437732992897068
         ]
        },
        {
         "boxpoints": false,
         "line": {
          "width": 1.3
         },
         "marker": {
          "color": "rgba(50, 171, 96, 1.0)"
         },
         "name": "C",
         "orientation": "v",
         "type": "box",
         "y": [
          0.7587960141341928,
          -1.11142264721022,
          0.3198141565440644,
          -1.0194934133304043,
          -0.20572850686545635,
          -0.021587026924805366,
          0.07722012980996998,
          -0.5393365520948504,
          -0.48363801076131696,
          0.11967840349890593,
          0.9333096631948404,
          -0.7785714729611988,
          -2.500839343528844,
          0.9826847280006671,
          0.5771999931663933,
          -0.7370946705548319,
          0.7348914374396123,
          -2.2733615010687673,
          0.15868171889712523,
          0.49986313397118975,
          0.4745890512299896,
          -1.9254532255882428,
          0.07631370503179387,
          -0.8403706589906261,
          2.5824350375483784,
          0.49004520024242426,
          -1.1951705217832775,
          -0.8187851530447994,
          -0.8794790016652474,
          -0.6545150225494447,
          -0.7094955242828129,
          0.5864046640564877,
          -1.0991936756656926,
          2.684090001899882,
          0.22664660344801527,
          -0.7470721578512743,
          -0.43234097571716756,
          1.8490458160125023,
          -0.7778738537108288,
          -0.0995557253719997,
          0.41944010969042433,
          -2.1766770115315626,
          -0.1495340371367192,
          -0.7057471704952208,
          1.011974464033998,
          0.39923051144662375,
          0.042797623433699264,
          -1.278506700822136,
          0.23485653214430935,
          -0.6144854244281669,
          -0.6593617391777278,
          -0.16067337078532745,
          2.0258847666389728,
          -0.2762589805424835,
          -0.6622145387342245,
          -1.483238386047786,
          0.7227712700235196,
          -2.082910288506929,
          1.5903052813680039,
          -0.007619787485957267,
          -1.2926863512285347,
          0.45899093026145127,
          -0.786859491776658,
          0.5555496088564695,
          -0.23698133472116614,
          0.3902776227593081,
          -0.3204494249122854,
          -0.3213212898678564,
          0.5212557871580952,
          -0.9956260394916182,
          0.9384020295898582,
          -1.4784904280978117,
          -0.7509114542397107,
          0.3022400632332965,
          0.42594305296444956,
          -1.5980127256548717,
          0.6292030700725103,
          0.46215678871507954,
          -0.8027737017738074,
          2.064496427192837,
          1.0649703615544008,
          1.5821968439624061,
          -0.11039333207468331,
          0.31731911579102595,
          0.5345057004347896,
          -1.138197997460557,
          0.8951994045641871,
          0.28847009760214276,
          -0.9925327955489001,
          0.13940106847776548,
          0.15625781811900608,
          -0.15228766475217875,
          -0.5560857037787544,
          -0.11193076849496958,
          0.3057533974847101,
          -1.753533967666065,
          -0.03662419549914757,
          -0.4663701086370231,
          -0.13437295226808751,
          -1.406094611108991
         ]
        },
        {
         "boxpoints": false,
         "line": {
          "width": 1.3
         },
         "marker": {
          "color": "rgba(128, 0, 128, 1.0)"
         },
         "name": "D",
         "orientation": "v",
         "type": "box",
         "y": [
          0.044908640982309955,
          -0.5916582622986855,
          -1.0047049275451418,
          -0.16357912181462567,
          1.2842272620687578,
          -0.9462707786755773,
          -0.33529641671427474,
          -0.597134506932244,
          1.0912916909862427,
          -0.03830843681264787,
          0.22267489195268658,
          1.6512200440794045,
          0.3707835277666362,
          -1.6857515615095517,
          -1.549645897690307,
          0.9719019286855677,
          0.4702220625123732,
          -1.392245113055805,
          -1.3399777710623844,
          0.8394707128052822,
          -1.4353135791074605,
          0.01865835434033595,
          -0.36464576268046844,
          -1.9521593899102565,
          0.3557294937530207,
          -1.9969504535045903,
          -0.4978315702581766,
          1.950746502614422,
          0.8624946698016425,
          0.40903887306092407,
          0.08425458326245053,
          0.3974307187409831,
          -1.2525247237204382,
          -0.5904715318351246,
          -2.6942391859616994,
          0.4033239760531251,
          -1.8992659794944753,
          -0.568769644733657,
          -0.737463931871556,
          -0.09750352174251808,
          0.2827449529433888,
          0.059338453693639,
          -0.25595038775629275,
          1.6729581371668871,
          -0.657484411599867,
          0.143221261226814,
          0.7527341284476973,
          -1.1740531427173075,
          0.20954754178166232,
          1.4832879561187378,
          0.5666715105139852,
          0.4489163420626359,
          -1.3431974921200744,
          0.2845403585031368,
          0.17388400129743048,
          -0.5665861781068376,
          -0.8120322495789992,
          -0.20994668447555426,
          0.26766037663093106,
          -0.9639729600308952,
          -2.074985249101152,
          1.0597136806641296,
          -0.39736167885800483,
          -0.6208970523634952,
          0.9601397151563306,
          -0.9795691514997086,
          1.2745056873164828,
          -1.2011107020170408,
          1.0004866511137571,
          -0.025036341334355866,
          -0.7047597137469206,
          -1.0708415961563036,
          0.05312333270990024,
          -1.0088103386055773,
          0.407760084955383,
          1.464921732706363,
          -0.16688824903508057,
          -0.3018265012709268,
          -1.1686008046474832,
          -3.348814023786659,
          0.7438810185675033,
          0.18153265371496838,
          0.31740699441409476,
          1.1794731088512522,
          0.012747371844716965,
          -1.1609382594370097,
          2.112283032125828,
          2.0240269821246417,
          0.7223762407394393,
          -0.8280982904757588,
          -0.09425252967400118,
          0.21086676092096698,
          -1.0222276964354864,
          -0.04033528542371997,
          1.9460924400180664,
          -1.1907943807494015,
          0.2925507158576648,
          1.1894722145378136,
          -1.6136127061729408,
          -1.3694625393054467
         ]
        }
       ],
       "layout": {
        "legend": {
         "bgcolor": "#F5F6F9",
         "font": {
          "color": "#4D5663"
         }
        },
        "paper_bgcolor": "#F5F6F9",
        "plot_bgcolor": "#F5F6F9",
        "template": {
         "data": {
          "bar": [
           {
            "error_x": {
             "color": "#2a3f5f"
            },
            "error_y": {
             "color": "#2a3f5f"
            },
            "marker": {
             "line": {
              "color": "#E5ECF6",
              "width": 0.5
             },
             "pattern": {
              "fillmode": "overlay",
              "size": 10,
              "solidity": 0.2
             }
            },
            "type": "bar"
           }
          ],
          "barpolar": [
           {
            "marker": {
             "line": {
              "color": "#E5ECF6",
              "width": 0.5
             },
             "pattern": {
              "fillmode": "overlay",
              "size": 10,
              "solidity": 0.2
             }
            },
            "type": "barpolar"
           }
          ],
          "carpet": [
           {
            "aaxis": {
             "endlinecolor": "#2a3f5f",
             "gridcolor": "white",
             "linecolor": "white",
             "minorgridcolor": "white",
             "startlinecolor": "#2a3f5f"
            },
            "baxis": {
             "endlinecolor": "#2a3f5f",
             "gridcolor": "white",
             "linecolor": "white",
             "minorgridcolor": "white",
             "startlinecolor": "#2a3f5f"
            },
            "type": "carpet"
           }
          ],
          "choropleth": [
           {
            "colorbar": {
             "outlinewidth": 0,
             "ticks": ""
            },
            "type": "choropleth"
           }
          ],
          "contour": [
           {
            "colorbar": {
             "outlinewidth": 0,
             "ticks": ""
            },
            "colorscale": [
             [
              0,
              "#0d0887"
             ],
             [
              0.1111111111111111,
              "#46039f"
             ],
             [
              0.2222222222222222,
              "#7201a8"
             ],
             [
              0.3333333333333333,
              "#9c179e"
             ],
             [
              0.4444444444444444,
              "#bd3786"
             ],
             [
              0.5555555555555556,
              "#d8576b"
             ],
             [
              0.6666666666666666,
              "#ed7953"
             ],
             [
              0.7777777777777778,
              "#fb9f3a"
             ],
             [
              0.8888888888888888,
              "#fdca26"
             ],
             [
              1,
              "#f0f921"
             ]
            ],
            "type": "contour"
           }
          ],
          "contourcarpet": [
           {
            "colorbar": {
             "outlinewidth": 0,
             "ticks": ""
            },
            "type": "contourcarpet"
           }
          ],
          "heatmap": [
           {
            "colorbar": {
             "outlinewidth": 0,
             "ticks": ""
            },
            "colorscale": [
             [
              0,
              "#0d0887"
             ],
             [
              0.1111111111111111,
              "#46039f"
             ],
             [
              0.2222222222222222,
              "#7201a8"
             ],
             [
              0.3333333333333333,
              "#9c179e"
             ],
             [
              0.4444444444444444,
              "#bd3786"
             ],
             [
              0.5555555555555556,
              "#d8576b"
             ],
             [
              0.6666666666666666,
              "#ed7953"
             ],
             [
              0.7777777777777778,
              "#fb9f3a"
             ],
             [
              0.8888888888888888,
              "#fdca26"
             ],
             [
              1,
              "#f0f921"
             ]
            ],
            "type": "heatmap"
           }
          ],
          "heatmapgl": [
           {
            "colorbar": {
             "outlinewidth": 0,
             "ticks": ""
            },
            "colorscale": [
             [
              0,
              "#0d0887"
             ],
             [
              0.1111111111111111,
              "#46039f"
             ],
             [
              0.2222222222222222,
              "#7201a8"
             ],
             [
              0.3333333333333333,
              "#9c179e"
             ],
             [
              0.4444444444444444,
              "#bd3786"
             ],
             [
              0.5555555555555556,
              "#d8576b"
             ],
             [
              0.6666666666666666,
              "#ed7953"
             ],
             [
              0.7777777777777778,
              "#fb9f3a"
             ],
             [
              0.8888888888888888,
              "#fdca26"
             ],
             [
              1,
              "#f0f921"
             ]
            ],
            "type": "heatmapgl"
           }
          ],
          "histogram": [
           {
            "marker": {
             "pattern": {
              "fillmode": "overlay",
              "size": 10,
              "solidity": 0.2
             }
            },
            "type": "histogram"
           }
          ],
          "histogram2d": [
           {
            "colorbar": {
             "outlinewidth": 0,
             "ticks": ""
            },
            "colorscale": [
             [
              0,
              "#0d0887"
             ],
             [
              0.1111111111111111,
              "#46039f"
             ],
             [
              0.2222222222222222,
              "#7201a8"
             ],
             [
              0.3333333333333333,
              "#9c179e"
             ],
             [
              0.4444444444444444,
              "#bd3786"
             ],
             [
              0.5555555555555556,
              "#d8576b"
             ],
             [
              0.6666666666666666,
              "#ed7953"
             ],
             [
              0.7777777777777778,
              "#fb9f3a"
             ],
             [
              0.8888888888888888,
              "#fdca26"
             ],
             [
              1,
              "#f0f921"
             ]
            ],
            "type": "histogram2d"
           }
          ],
          "histogram2dcontour": [
           {
            "colorbar": {
             "outlinewidth": 0,
             "ticks": ""
            },
            "colorscale": [
             [
              0,
              "#0d0887"
             ],
             [
              0.1111111111111111,
              "#46039f"
             ],
             [
              0.2222222222222222,
              "#7201a8"
             ],
             [
              0.3333333333333333,
              "#9c179e"
             ],
             [
              0.4444444444444444,
              "#bd3786"
             ],
             [
              0.5555555555555556,
              "#d8576b"
             ],
             [
              0.6666666666666666,
              "#ed7953"
             ],
             [
              0.7777777777777778,
              "#fb9f3a"
             ],
             [
              0.8888888888888888,
              "#fdca26"
             ],
             [
              1,
              "#f0f921"
             ]
            ],
            "type": "histogram2dcontour"
           }
          ],
          "mesh3d": [
           {
            "colorbar": {
             "outlinewidth": 0,
             "ticks": ""
            },
            "type": "mesh3d"
           }
          ],
          "parcoords": [
           {
            "line": {
             "colorbar": {
              "outlinewidth": 0,
              "ticks": ""
             }
            },
            "type": "parcoords"
           }
          ],
          "pie": [
           {
            "automargin": true,
            "type": "pie"
           }
          ],
          "scatter": [
           {
            "marker": {
             "colorbar": {
              "outlinewidth": 0,
              "ticks": ""
             }
            },
            "type": "scatter"
           }
          ],
          "scatter3d": [
           {
            "line": {
             "colorbar": {
              "outlinewidth": 0,
              "ticks": ""
             }
            },
            "marker": {
             "colorbar": {
              "outlinewidth": 0,
              "ticks": ""
             }
            },
            "type": "scatter3d"
           }
          ],
          "scattercarpet": [
           {
            "marker": {
             "colorbar": {
              "outlinewidth": 0,
              "ticks": ""
             }
            },
            "type": "scattercarpet"
           }
          ],
          "scattergeo": [
           {
            "marker": {
             "colorbar": {
              "outlinewidth": 0,
              "ticks": ""
             }
            },
            "type": "scattergeo"
           }
          ],
          "scattergl": [
           {
            "marker": {
             "colorbar": {
              "outlinewidth": 0,
              "ticks": ""
             }
            },
            "type": "scattergl"
           }
          ],
          "scattermapbox": [
           {
            "marker": {
             "colorbar": {
              "outlinewidth": 0,
              "ticks": ""
             }
            },
            "type": "scattermapbox"
           }
          ],
          "scatterpolar": [
           {
            "marker": {
             "colorbar": {
              "outlinewidth": 0,
              "ticks": ""
             }
            },
            "type": "scatterpolar"
           }
          ],
          "scatterpolargl": [
           {
            "marker": {
             "colorbar": {
              "outlinewidth": 0,
              "ticks": ""
             }
            },
            "type": "scatterpolargl"
           }
          ],
          "scatterternary": [
           {
            "marker": {
             "colorbar": {
              "outlinewidth": 0,
              "ticks": ""
             }
            },
            "type": "scatterternary"
           }
          ],
          "surface": [
           {
            "colorbar": {
             "outlinewidth": 0,
             "ticks": ""
            },
            "colorscale": [
             [
              0,
              "#0d0887"
             ],
             [
              0.1111111111111111,
              "#46039f"
             ],
             [
              0.2222222222222222,
              "#7201a8"
             ],
             [
              0.3333333333333333,
              "#9c179e"
             ],
             [
              0.4444444444444444,
              "#bd3786"
             ],
             [
              0.5555555555555556,
              "#d8576b"
             ],
             [
              0.6666666666666666,
              "#ed7953"
             ],
             [
              0.7777777777777778,
              "#fb9f3a"
             ],
             [
              0.8888888888888888,
              "#fdca26"
             ],
             [
              1,
              "#f0f921"
             ]
            ],
            "type": "surface"
           }
          ],
          "table": [
           {
            "cells": {
             "fill": {
              "color": "#EBF0F8"
             },
             "line": {
              "color": "white"
             }
            },
            "header": {
             "fill": {
              "color": "#C8D4E3"
             },
             "line": {
              "color": "white"
             }
            },
            "type": "table"
           }
          ]
         },
         "layout": {
          "annotationdefaults": {
           "arrowcolor": "#2a3f5f",
           "arrowhead": 0,
           "arrowwidth": 1
          },
          "autotypenumbers": "strict",
          "coloraxis": {
           "colorbar": {
            "outlinewidth": 0,
            "ticks": ""
           }
          },
          "colorscale": {
           "diverging": [
            [
             0,
             "#8e0152"
            ],
            [
             0.1,
             "#c51b7d"
            ],
            [
             0.2,
             "#de77ae"
            ],
            [
             0.3,
             "#f1b6da"
            ],
            [
             0.4,
             "#fde0ef"
            ],
            [
             0.5,
             "#f7f7f7"
            ],
            [
             0.6,
             "#e6f5d0"
            ],
            [
             0.7,
             "#b8e186"
            ],
            [
             0.8,
             "#7fbc41"
            ],
            [
             0.9,
             "#4d9221"
            ],
            [
             1,
             "#276419"
            ]
           ],
           "sequential": [
            [
             0,
             "#0d0887"
            ],
            [
             0.1111111111111111,
             "#46039f"
            ],
            [
             0.2222222222222222,
             "#7201a8"
            ],
            [
             0.3333333333333333,
             "#9c179e"
            ],
            [
             0.4444444444444444,
             "#bd3786"
            ],
            [
             0.5555555555555556,
             "#d8576b"
            ],
            [
             0.6666666666666666,
             "#ed7953"
            ],
            [
             0.7777777777777778,
             "#fb9f3a"
            ],
            [
             0.8888888888888888,
             "#fdca26"
            ],
            [
             1,
             "#f0f921"
            ]
           ],
           "sequentialminus": [
            [
             0,
             "#0d0887"
            ],
            [
             0.1111111111111111,
             "#46039f"
            ],
            [
             0.2222222222222222,
             "#7201a8"
            ],
            [
             0.3333333333333333,
             "#9c179e"
            ],
            [
             0.4444444444444444,
             "#bd3786"
            ],
            [
             0.5555555555555556,
             "#d8576b"
            ],
            [
             0.6666666666666666,
             "#ed7953"
            ],
            [
             0.7777777777777778,
             "#fb9f3a"
            ],
            [
             0.8888888888888888,
             "#fdca26"
            ],
            [
             1,
             "#f0f921"
            ]
           ]
          },
          "colorway": [
           "#636efa",
           "#EF553B",
           "#00cc96",
           "#ab63fa",
           "#FFA15A",
           "#19d3f3",
           "#FF6692",
           "#B6E880",
           "#FF97FF",
           "#FECB52"
          ],
          "font": {
           "color": "#2a3f5f"
          },
          "geo": {
           "bgcolor": "white",
           "lakecolor": "white",
           "landcolor": "#E5ECF6",
           "showlakes": true,
           "showland": true,
           "subunitcolor": "white"
          },
          "hoverlabel": {
           "align": "left"
          },
          "hovermode": "closest",
          "mapbox": {
           "style": "light"
          },
          "paper_bgcolor": "white",
          "plot_bgcolor": "#E5ECF6",
          "polar": {
           "angularaxis": {
            "gridcolor": "white",
            "linecolor": "white",
            "ticks": ""
           },
           "bgcolor": "#E5ECF6",
           "radialaxis": {
            "gridcolor": "white",
            "linecolor": "white",
            "ticks": ""
           }
          },
          "scene": {
           "xaxis": {
            "backgroundcolor": "#E5ECF6",
            "gridcolor": "white",
            "gridwidth": 2,
            "linecolor": "white",
            "showbackground": true,
            "ticks": "",
            "zerolinecolor": "white"
           },
           "yaxis": {
            "backgroundcolor": "#E5ECF6",
            "gridcolor": "white",
            "gridwidth": 2,
            "linecolor": "white",
            "showbackground": true,
            "ticks": "",
            "zerolinecolor": "white"
           },
           "zaxis": {
            "backgroundcolor": "#E5ECF6",
            "gridcolor": "white",
            "gridwidth": 2,
            "linecolor": "white",
            "showbackground": true,
            "ticks": "",
            "zerolinecolor": "white"
           }
          },
          "shapedefaults": {
           "line": {
            "color": "#2a3f5f"
           }
          },
          "ternary": {
           "aaxis": {
            "gridcolor": "white",
            "linecolor": "white",
            "ticks": ""
           },
           "baxis": {
            "gridcolor": "white",
            "linecolor": "white",
            "ticks": ""
           },
           "bgcolor": "#E5ECF6",
           "caxis": {
            "gridcolor": "white",
            "linecolor": "white",
            "ticks": ""
           }
          },
          "title": {
           "x": 0.05
          },
          "xaxis": {
           "automargin": true,
           "gridcolor": "white",
           "linecolor": "white",
           "ticks": "",
           "title": {
            "standoff": 15
           },
           "zerolinecolor": "white",
           "zerolinewidth": 2
          },
          "yaxis": {
           "automargin": true,
           "gridcolor": "white",
           "linecolor": "white",
           "ticks": "",
           "title": {
            "standoff": 15
           },
           "zerolinecolor": "white",
           "zerolinewidth": 2
          }
         }
        },
        "title": {
         "font": {
          "color": "#4D5663"
         }
        },
        "xaxis": {
         "gridcolor": "#E1E5ED",
         "showgrid": true,
         "tickfont": {
          "color": "#4D5663"
         },
         "title": {
          "font": {
           "color": "#4D5663"
          },
          "text": ""
         },
         "zerolinecolor": "#E1E5ED"
        },
        "yaxis": {
         "gridcolor": "#E1E5ED",
         "showgrid": true,
         "tickfont": {
          "color": "#4D5663"
         },
         "title": {
          "font": {
           "color": "#4D5663"
          },
          "text": ""
         },
         "zerolinecolor": "#E1E5ED"
        }
       }
      },
      "text/html": [
       "<div>                            <div id=\"87b9661c-f57e-4303-884e-fe47bf9cf618\" class=\"plotly-graph-div\" style=\"height:525px; width:100%;\"></div>            <script type=\"text/javascript\">                require([\"plotly\"], function(Plotly) {                    window.PLOTLYENV=window.PLOTLYENV || {};\n",
       "                    window.PLOTLYENV.BASE_URL='https://plot.ly';                                    if (document.getElementById(\"87b9661c-f57e-4303-884e-fe47bf9cf618\")) {                    Plotly.newPlot(                        \"87b9661c-f57e-4303-884e-fe47bf9cf618\",                        [{\"boxpoints\":false,\"line\":{\"width\":1.3},\"marker\":{\"color\":\"rgba(255, 153, 51, 1.0)\"},\"name\":\"A\",\"orientation\":\"v\",\"type\":\"box\",\"y\":[-0.5179271967863107,-0.43117640845718924,-0.7425433984463287,-0.7089570997832738,-0.0361529193067307,0.07522673552826692,-1.4131665855296218,-0.0031556109683627954,-0.5302505856350661,-1.4127977371366855,0.2087659396050563,-1.4131760875032837,-0.30928347102426945,-0.483488097111868,-0.06312965999867666,1.9258679259374294,1.4587125869684525,1.3580817403999588,0.6622586311843047,-0.240272587802109,-1.6140007340343672,-0.809880896517053,0.17882016129592684,-1.918619035060385,0.5639175432044878,0.7003026318927348,1.1871330769452881,2.621530460729752,-0.05226547135199387,-0.8857947444659938,0.29778182041096535,0.8314995551078086,0.8277350723928936,0.9807667281146693,-0.45636567990437055,-0.8287489631818937,-0.02409698397342725,1.1224562643047222,-0.10774074979314044,-0.4703262271315255,-0.24485739399715936,-0.7209811457686358,0.543656350365433,-1.0910512142922943,1.6146687797051722,1.272671565444567,-1.4969566494241922,0.49724268869042015,0.5762497665318234,0.9173715082787924,-0.3156771970691579,-1.5465554615957646,0.5365559969570894,-0.16681688603908454,0.5422513086930213,0.11702639045880345,0.8662033868093464,0.7950354856934065,-0.3692169523733393,2.185699925373505,-0.19711391724350172,-0.7801751589593686,1.5742708527925775,-0.3998953876637889,-0.12030457591217633,-1.363206492841364,0.1538230355317382,-0.2873090931451748,0.1526156484030482,-0.76742908384936,0.004822975700221074,-0.44140319312826604,0.7217093953262547,0.5286866127120267,-1.7027276677246608,-0.8067393232956829,-1.8513726371721704,1.0938465376835904,-1.292754654635878,-0.7940460298498865,-2.0091587452108204,1.053284917771941,0.5505835572480933,-1.270031759248562,-0.6446601496996719,-0.7047831805932557,-0.5097574343620287,-1.1067233133199088,-0.47331615373991254,0.8566597266341112,-1.1402325893281335,-0.9191188365872801,-0.47871460470651567,0.3480989521997855,-0.02679045217886534,-1.1023603518297882,0.4308022821887071,0.12713866089653922,-0.34931893784546914,-0.22785308304094232]},{\"boxpoints\":false,\"line\":{\"width\":1.3},\"marker\":{\"color\":\"rgba(55, 128, 191, 1.0)\"},\"name\":\"B\",\"orientation\":\"v\",\"type\":\"box\",\"y\":[-0.3758500097309625,-0.16535367948668075,-0.5128744340332714,-1.8423189367048123,-1.1356305868368282,1.2950944141943472,-1.6311579305760227,0.016688836964509558,0.3083634203789976,0.05103396975288527,0.05679467739581437,-1.9093388798897002,-0.07160559652996788,0.6891009823108263,-0.023924354969763355,-1.1380916706848383,1.3578446352346254,1.4038591603561459,-0.7963802619073149,1.0957560929375854,-1.818438255277656,0.518952747348584,0.15766209751886662,-1.194762952135624,0.851137584451354,0.15136057281811752,0.8314766491511106,-2.24436491310048,-1.32618950252785,1.6139261366070685,1.2267569037271193,-0.4821519323592516,-1.0068080096810863,-0.6015152385898623,-0.4794807614204026,0.8255089329806143,0.20952100918864586,1.3880503023093014,0.010232520009308393,2.0746829897571417,0.9580845016434512,-0.8915323496411762,0.5521516640401373,0.35559597058364756,0.7782531942868335,-0.9297557978788601,-0.08201576362981501,0.6199540529598736,-0.3168906960775201,1.5566902016173185,-1.0209462255190862,0.5188172873553452,-0.6199604386138304,-0.4761167778402319,2.612138955071329,-0.4308806060321718,-2.5189769893132805,0.36864828172669745,-0.5418048550803195,0.028049888979844513,-0.764192926505916,-0.44981714959126307,-0.2256182492838925,0.6677608872670738,0.9063299652491447,0.026573091595432478,-1.1890327279751083,0.495971623179748,-0.16708889328830456,-0.7957095778014049,-1.3663426686289486,-0.15925390784293836,-0.5275660730874695,0.6080931676567122,-1.2002907631521316,0.11751051846397328,0.2785444201863015,-1.0325323787581073,-2.108815639125478,0.39090580510184747,0.05348538976803026,0.3206261656274645,-0.5392187076266731,0.008276159035867443,1.0717865031077487,-0.4973337162739843,-0.8976955567005012,0.9687550475286898,-2.766723911241507,-0.2968503585431235,-2.532841243413473,-0.3855427598007159,-0.7023174827043425,-0.08809338291835991,1.2116323269858478,-0.9552803546605079,-0.8140868518470041,0.008119932279069134,-1.6007835806075166,-0.9437732992897068]},{\"boxpoints\":false,\"line\":{\"width\":1.3},\"marker\":{\"color\":\"rgba(50, 171, 96, 1.0)\"},\"name\":\"C\",\"orientation\":\"v\",\"type\":\"box\",\"y\":[0.7587960141341928,-1.11142264721022,0.3198141565440644,-1.0194934133304043,-0.20572850686545635,-0.021587026924805366,0.07722012980996998,-0.5393365520948504,-0.48363801076131696,0.11967840349890593,0.9333096631948404,-0.7785714729611988,-2.500839343528844,0.9826847280006671,0.5771999931663933,-0.7370946705548319,0.7348914374396123,-2.2733615010687673,0.15868171889712523,0.49986313397118975,0.4745890512299896,-1.9254532255882428,0.07631370503179387,-0.8403706589906261,2.5824350375483784,0.49004520024242426,-1.1951705217832775,-0.8187851530447994,-0.8794790016652474,-0.6545150225494447,-0.7094955242828129,0.5864046640564877,-1.0991936756656926,2.684090001899882,0.22664660344801527,-0.7470721578512743,-0.43234097571716756,1.8490458160125023,-0.7778738537108288,-0.0995557253719997,0.41944010969042433,-2.1766770115315626,-0.1495340371367192,-0.7057471704952208,1.011974464033998,0.39923051144662375,0.042797623433699264,-1.278506700822136,0.23485653214430935,-0.6144854244281669,-0.6593617391777278,-0.16067337078532745,2.0258847666389728,-0.2762589805424835,-0.6622145387342245,-1.483238386047786,0.7227712700235196,-2.082910288506929,1.5903052813680039,-0.007619787485957267,-1.2926863512285347,0.45899093026145127,-0.786859491776658,0.5555496088564695,-0.23698133472116614,0.3902776227593081,-0.3204494249122854,-0.3213212898678564,0.5212557871580952,-0.9956260394916182,0.9384020295898582,-1.4784904280978117,-0.7509114542397107,0.3022400632332965,0.42594305296444956,-1.5980127256548717,0.6292030700725103,0.46215678871507954,-0.8027737017738074,2.064496427192837,1.0649703615544008,1.5821968439624061,-0.11039333207468331,0.31731911579102595,0.5345057004347896,-1.138197997460557,0.8951994045641871,0.28847009760214276,-0.9925327955489001,0.13940106847776548,0.15625781811900608,-0.15228766475217875,-0.5560857037787544,-0.11193076849496958,0.3057533974847101,-1.753533967666065,-0.03662419549914757,-0.4663701086370231,-0.13437295226808751,-1.406094611108991]},{\"boxpoints\":false,\"line\":{\"width\":1.3},\"marker\":{\"color\":\"rgba(128, 0, 128, 1.0)\"},\"name\":\"D\",\"orientation\":\"v\",\"type\":\"box\",\"y\":[0.044908640982309955,-0.5916582622986855,-1.0047049275451418,-0.16357912181462567,1.2842272620687578,-0.9462707786755773,-0.33529641671427474,-0.597134506932244,1.0912916909862427,-0.03830843681264787,0.22267489195268658,1.6512200440794045,0.3707835277666362,-1.6857515615095517,-1.549645897690307,0.9719019286855677,0.4702220625123732,-1.392245113055805,-1.3399777710623844,0.8394707128052822,-1.4353135791074605,0.01865835434033595,-0.36464576268046844,-1.9521593899102565,0.3557294937530207,-1.9969504535045903,-0.4978315702581766,1.950746502614422,0.8624946698016425,0.40903887306092407,0.08425458326245053,0.3974307187409831,-1.2525247237204382,-0.5904715318351246,-2.6942391859616994,0.4033239760531251,-1.8992659794944753,-0.568769644733657,-0.737463931871556,-0.09750352174251808,0.2827449529433888,0.059338453693639,-0.25595038775629275,1.6729581371668871,-0.657484411599867,0.143221261226814,0.7527341284476973,-1.1740531427173075,0.20954754178166232,1.4832879561187378,0.5666715105139852,0.4489163420626359,-1.3431974921200744,0.2845403585031368,0.17388400129743048,-0.5665861781068376,-0.8120322495789992,-0.20994668447555426,0.26766037663093106,-0.9639729600308952,-2.074985249101152,1.0597136806641296,-0.39736167885800483,-0.6208970523634952,0.9601397151563306,-0.9795691514997086,1.2745056873164828,-1.2011107020170408,1.0004866511137571,-0.025036341334355866,-0.7047597137469206,-1.0708415961563036,0.05312333270990024,-1.0088103386055773,0.407760084955383,1.464921732706363,-0.16688824903508057,-0.3018265012709268,-1.1686008046474832,-3.348814023786659,0.7438810185675033,0.18153265371496838,0.31740699441409476,1.1794731088512522,0.012747371844716965,-1.1609382594370097,2.112283032125828,2.0240269821246417,0.7223762407394393,-0.8280982904757588,-0.09425252967400118,0.21086676092096698,-1.0222276964354864,-0.04033528542371997,1.9460924400180664,-1.1907943807494015,0.2925507158576648,1.1894722145378136,-1.6136127061729408,-1.3694625393054467]}],                        {\"legend\":{\"bgcolor\":\"#F5F6F9\",\"font\":{\"color\":\"#4D5663\"}},\"paper_bgcolor\":\"#F5F6F9\",\"plot_bgcolor\":\"#F5F6F9\",\"template\":{\"data\":{\"bar\":[{\"error_x\":{\"color\":\"#2a3f5f\"},\"error_y\":{\"color\":\"#2a3f5f\"},\"marker\":{\"line\":{\"color\":\"#E5ECF6\",\"width\":0.5},\"pattern\":{\"fillmode\":\"overlay\",\"size\":10,\"solidity\":0.2}},\"type\":\"bar\"}],\"barpolar\":[{\"marker\":{\"line\":{\"color\":\"#E5ECF6\",\"width\":0.5},\"pattern\":{\"fillmode\":\"overlay\",\"size\":10,\"solidity\":0.2}},\"type\":\"barpolar\"}],\"carpet\":[{\"aaxis\":{\"endlinecolor\":\"#2a3f5f\",\"gridcolor\":\"white\",\"linecolor\":\"white\",\"minorgridcolor\":\"white\",\"startlinecolor\":\"#2a3f5f\"},\"baxis\":{\"endlinecolor\":\"#2a3f5f\",\"gridcolor\":\"white\",\"linecolor\":\"white\",\"minorgridcolor\":\"white\",\"startlinecolor\":\"#2a3f5f\"},\"type\":\"carpet\"}],\"choropleth\":[{\"colorbar\":{\"outlinewidth\":0,\"ticks\":\"\"},\"type\":\"choropleth\"}],\"contour\":[{\"colorbar\":{\"outlinewidth\":0,\"ticks\":\"\"},\"colorscale\":[[0.0,\"#0d0887\"],[0.1111111111111111,\"#46039f\"],[0.2222222222222222,\"#7201a8\"],[0.3333333333333333,\"#9c179e\"],[0.4444444444444444,\"#bd3786\"],[0.5555555555555556,\"#d8576b\"],[0.6666666666666666,\"#ed7953\"],[0.7777777777777778,\"#fb9f3a\"],[0.8888888888888888,\"#fdca26\"],[1.0,\"#f0f921\"]],\"type\":\"contour\"}],\"contourcarpet\":[{\"colorbar\":{\"outlinewidth\":0,\"ticks\":\"\"},\"type\":\"contourcarpet\"}],\"heatmap\":[{\"colorbar\":{\"outlinewidth\":0,\"ticks\":\"\"},\"colorscale\":[[0.0,\"#0d0887\"],[0.1111111111111111,\"#46039f\"],[0.2222222222222222,\"#7201a8\"],[0.3333333333333333,\"#9c179e\"],[0.4444444444444444,\"#bd3786\"],[0.5555555555555556,\"#d8576b\"],[0.6666666666666666,\"#ed7953\"],[0.7777777777777778,\"#fb9f3a\"],[0.8888888888888888,\"#fdca26\"],[1.0,\"#f0f921\"]],\"type\":\"heatmap\"}],\"heatmapgl\":[{\"colorbar\":{\"outlinewidth\":0,\"ticks\":\"\"},\"colorscale\":[[0.0,\"#0d0887\"],[0.1111111111111111,\"#46039f\"],[0.2222222222222222,\"#7201a8\"],[0.3333333333333333,\"#9c179e\"],[0.4444444444444444,\"#bd3786\"],[0.5555555555555556,\"#d8576b\"],[0.6666666666666666,\"#ed7953\"],[0.7777777777777778,\"#fb9f3a\"],[0.8888888888888888,\"#fdca26\"],[1.0,\"#f0f921\"]],\"type\":\"heatmapgl\"}],\"histogram\":[{\"marker\":{\"pattern\":{\"fillmode\":\"overlay\",\"size\":10,\"solidity\":0.2}},\"type\":\"histogram\"}],\"histogram2d\":[{\"colorbar\":{\"outlinewidth\":0,\"ticks\":\"\"},\"colorscale\":[[0.0,\"#0d0887\"],[0.1111111111111111,\"#46039f\"],[0.2222222222222222,\"#7201a8\"],[0.3333333333333333,\"#9c179e\"],[0.4444444444444444,\"#bd3786\"],[0.5555555555555556,\"#d8576b\"],[0.6666666666666666,\"#ed7953\"],[0.7777777777777778,\"#fb9f3a\"],[0.8888888888888888,\"#fdca26\"],[1.0,\"#f0f921\"]],\"type\":\"histogram2d\"}],\"histogram2dcontour\":[{\"colorbar\":{\"outlinewidth\":0,\"ticks\":\"\"},\"colorscale\":[[0.0,\"#0d0887\"],[0.1111111111111111,\"#46039f\"],[0.2222222222222222,\"#7201a8\"],[0.3333333333333333,\"#9c179e\"],[0.4444444444444444,\"#bd3786\"],[0.5555555555555556,\"#d8576b\"],[0.6666666666666666,\"#ed7953\"],[0.7777777777777778,\"#fb9f3a\"],[0.8888888888888888,\"#fdca26\"],[1.0,\"#f0f921\"]],\"type\":\"histogram2dcontour\"}],\"mesh3d\":[{\"colorbar\":{\"outlinewidth\":0,\"ticks\":\"\"},\"type\":\"mesh3d\"}],\"parcoords\":[{\"line\":{\"colorbar\":{\"outlinewidth\":0,\"ticks\":\"\"}},\"type\":\"parcoords\"}],\"pie\":[{\"automargin\":true,\"type\":\"pie\"}],\"scatter\":[{\"marker\":{\"colorbar\":{\"outlinewidth\":0,\"ticks\":\"\"}},\"type\":\"scatter\"}],\"scatter3d\":[{\"line\":{\"colorbar\":{\"outlinewidth\":0,\"ticks\":\"\"}},\"marker\":{\"colorbar\":{\"outlinewidth\":0,\"ticks\":\"\"}},\"type\":\"scatter3d\"}],\"scattercarpet\":[{\"marker\":{\"colorbar\":{\"outlinewidth\":0,\"ticks\":\"\"}},\"type\":\"scattercarpet\"}],\"scattergeo\":[{\"marker\":{\"colorbar\":{\"outlinewidth\":0,\"ticks\":\"\"}},\"type\":\"scattergeo\"}],\"scattergl\":[{\"marker\":{\"colorbar\":{\"outlinewidth\":0,\"ticks\":\"\"}},\"type\":\"scattergl\"}],\"scattermapbox\":[{\"marker\":{\"colorbar\":{\"outlinewidth\":0,\"ticks\":\"\"}},\"type\":\"scattermapbox\"}],\"scatterpolar\":[{\"marker\":{\"colorbar\":{\"outlinewidth\":0,\"ticks\":\"\"}},\"type\":\"scatterpolar\"}],\"scatterpolargl\":[{\"marker\":{\"colorbar\":{\"outlinewidth\":0,\"ticks\":\"\"}},\"type\":\"scatterpolargl\"}],\"scatterternary\":[{\"marker\":{\"colorbar\":{\"outlinewidth\":0,\"ticks\":\"\"}},\"type\":\"scatterternary\"}],\"surface\":[{\"colorbar\":{\"outlinewidth\":0,\"ticks\":\"\"},\"colorscale\":[[0.0,\"#0d0887\"],[0.1111111111111111,\"#46039f\"],[0.2222222222222222,\"#7201a8\"],[0.3333333333333333,\"#9c179e\"],[0.4444444444444444,\"#bd3786\"],[0.5555555555555556,\"#d8576b\"],[0.6666666666666666,\"#ed7953\"],[0.7777777777777778,\"#fb9f3a\"],[0.8888888888888888,\"#fdca26\"],[1.0,\"#f0f921\"]],\"type\":\"surface\"}],\"table\":[{\"cells\":{\"fill\":{\"color\":\"#EBF0F8\"},\"line\":{\"color\":\"white\"}},\"header\":{\"fill\":{\"color\":\"#C8D4E3\"},\"line\":{\"color\":\"white\"}},\"type\":\"table\"}]},\"layout\":{\"annotationdefaults\":{\"arrowcolor\":\"#2a3f5f\",\"arrowhead\":0,\"arrowwidth\":1},\"autotypenumbers\":\"strict\",\"coloraxis\":{\"colorbar\":{\"outlinewidth\":0,\"ticks\":\"\"}},\"colorscale\":{\"diverging\":[[0,\"#8e0152\"],[0.1,\"#c51b7d\"],[0.2,\"#de77ae\"],[0.3,\"#f1b6da\"],[0.4,\"#fde0ef\"],[0.5,\"#f7f7f7\"],[0.6,\"#e6f5d0\"],[0.7,\"#b8e186\"],[0.8,\"#7fbc41\"],[0.9,\"#4d9221\"],[1,\"#276419\"]],\"sequential\":[[0.0,\"#0d0887\"],[0.1111111111111111,\"#46039f\"],[0.2222222222222222,\"#7201a8\"],[0.3333333333333333,\"#9c179e\"],[0.4444444444444444,\"#bd3786\"],[0.5555555555555556,\"#d8576b\"],[0.6666666666666666,\"#ed7953\"],[0.7777777777777778,\"#fb9f3a\"],[0.8888888888888888,\"#fdca26\"],[1.0,\"#f0f921\"]],\"sequentialminus\":[[0.0,\"#0d0887\"],[0.1111111111111111,\"#46039f\"],[0.2222222222222222,\"#7201a8\"],[0.3333333333333333,\"#9c179e\"],[0.4444444444444444,\"#bd3786\"],[0.5555555555555556,\"#d8576b\"],[0.6666666666666666,\"#ed7953\"],[0.7777777777777778,\"#fb9f3a\"],[0.8888888888888888,\"#fdca26\"],[1.0,\"#f0f921\"]]},\"colorway\":[\"#636efa\",\"#EF553B\",\"#00cc96\",\"#ab63fa\",\"#FFA15A\",\"#19d3f3\",\"#FF6692\",\"#B6E880\",\"#FF97FF\",\"#FECB52\"],\"font\":{\"color\":\"#2a3f5f\"},\"geo\":{\"bgcolor\":\"white\",\"lakecolor\":\"white\",\"landcolor\":\"#E5ECF6\",\"showlakes\":true,\"showland\":true,\"subunitcolor\":\"white\"},\"hoverlabel\":{\"align\":\"left\"},\"hovermode\":\"closest\",\"mapbox\":{\"style\":\"light\"},\"paper_bgcolor\":\"white\",\"plot_bgcolor\":\"#E5ECF6\",\"polar\":{\"angularaxis\":{\"gridcolor\":\"white\",\"linecolor\":\"white\",\"ticks\":\"\"},\"bgcolor\":\"#E5ECF6\",\"radialaxis\":{\"gridcolor\":\"white\",\"linecolor\":\"white\",\"ticks\":\"\"}},\"scene\":{\"xaxis\":{\"backgroundcolor\":\"#E5ECF6\",\"gridcolor\":\"white\",\"gridwidth\":2,\"linecolor\":\"white\",\"showbackground\":true,\"ticks\":\"\",\"zerolinecolor\":\"white\"},\"yaxis\":{\"backgroundcolor\":\"#E5ECF6\",\"gridcolor\":\"white\",\"gridwidth\":2,\"linecolor\":\"white\",\"showbackground\":true,\"ticks\":\"\",\"zerolinecolor\":\"white\"},\"zaxis\":{\"backgroundcolor\":\"#E5ECF6\",\"gridcolor\":\"white\",\"gridwidth\":2,\"linecolor\":\"white\",\"showbackground\":true,\"ticks\":\"\",\"zerolinecolor\":\"white\"}},\"shapedefaults\":{\"line\":{\"color\":\"#2a3f5f\"}},\"ternary\":{\"aaxis\":{\"gridcolor\":\"white\",\"linecolor\":\"white\",\"ticks\":\"\"},\"baxis\":{\"gridcolor\":\"white\",\"linecolor\":\"white\",\"ticks\":\"\"},\"bgcolor\":\"#E5ECF6\",\"caxis\":{\"gridcolor\":\"white\",\"linecolor\":\"white\",\"ticks\":\"\"}},\"title\":{\"x\":0.05},\"xaxis\":{\"automargin\":true,\"gridcolor\":\"white\",\"linecolor\":\"white\",\"ticks\":\"\",\"title\":{\"standoff\":15},\"zerolinecolor\":\"white\",\"zerolinewidth\":2},\"yaxis\":{\"automargin\":true,\"gridcolor\":\"white\",\"linecolor\":\"white\",\"ticks\":\"\",\"title\":{\"standoff\":15},\"zerolinecolor\":\"white\",\"zerolinewidth\":2}}},\"title\":{\"font\":{\"color\":\"#4D5663\"}},\"xaxis\":{\"gridcolor\":\"#E1E5ED\",\"showgrid\":true,\"tickfont\":{\"color\":\"#4D5663\"},\"title\":{\"font\":{\"color\":\"#4D5663\"},\"text\":\"\"},\"zerolinecolor\":\"#E1E5ED\"},\"yaxis\":{\"gridcolor\":\"#E1E5ED\",\"showgrid\":true,\"tickfont\":{\"color\":\"#4D5663\"},\"title\":{\"font\":{\"color\":\"#4D5663\"},\"text\":\"\"},\"zerolinecolor\":\"#E1E5ED\"}},                        {\"showLink\": true, \"linkText\": \"Export to plot.ly\", \"plotlyServerURL\": \"https://plot.ly\", \"responsive\": true}                    ).then(function(){\n",
       "                            \n",
       "var gd = document.getElementById('87b9661c-f57e-4303-884e-fe47bf9cf618');\n",
       "var x = new MutationObserver(function (mutations, observer) {{\n",
       "        var display = window.getComputedStyle(gd).display;\n",
       "        if (!display || display === 'none') {{\n",
       "            console.log([gd, 'removed!']);\n",
       "            Plotly.purge(gd);\n",
       "            observer.disconnect();\n",
       "        }}\n",
       "}});\n",
       "\n",
       "// Listen for the removal of the full notebook cells\n",
       "var notebookContainer = gd.closest('#notebook-container');\n",
       "if (notebookContainer) {{\n",
       "    x.observe(notebookContainer, {childList: true});\n",
       "}}\n",
       "\n",
       "// Listen for the clearing of the current output cell\n",
       "var outputEl = gd.closest('.output');\n",
       "if (outputEl) {{\n",
       "    x.observe(outputEl, {childList: true});\n",
       "}}\n",
       "\n",
       "                        })                };                });            </script>        </div>"
      ]
     },
     "metadata": {},
     "output_type": "display_data"
    }
   ],
   "source": [
    "df.iplot(kind='box')"
   ]
  },
  {
   "cell_type": "markdown",
   "metadata": {},
   "source": [
    "## Superficie 3D"
   ]
  },
  {
   "cell_type": "code",
   "execution_count": 18,
   "metadata": {},
   "outputs": [
    {
     "data": {
      "application/vnd.plotly.v1+json": {
       "config": {
        "linkText": "Export to plot.ly",
        "plotlyServerURL": "https://plot.ly",
        "showLink": true
       },
       "data": [
        {
         "colorscale": [
          [
           0,
           "rgb(165,0,38)"
          ],
          [
           0.1,
           "rgb(215,48,39)"
          ],
          [
           0.2,
           "rgb(244,109,67)"
          ],
          [
           0.3,
           "rgb(253,174,97)"
          ],
          [
           0.4,
           "rgb(254,224,144)"
          ],
          [
           0.5,
           "rgb(255,255,191)"
          ],
          [
           0.6,
           "rgb(224,243,248)"
          ],
          [
           0.7,
           "rgb(171,217,233)"
          ],
          [
           0.8,
           "rgb(116,173,209)"
          ],
          [
           0.9,
           "rgb(69,117,180)"
          ],
          [
           1,
           "rgb(49,54,149)"
          ]
         ],
         "type": "surface",
         "x": [
          0,
          1,
          2,
          3,
          4
         ],
         "y": [
          "x",
          "y",
          "z"
         ],
         "z": [
          [
           1,
           2,
           3,
           4,
           5
          ],
          [
           10,
           20,
           30,
           20,
           10
          ],
          [
           5,
           4,
           3,
           2,
           1
          ]
         ]
        }
       ],
       "layout": {
        "legend": {
         "bgcolor": "#F5F6F9",
         "font": {
          "color": "#4D5663"
         }
        },
        "paper_bgcolor": "#F5F6F9",
        "plot_bgcolor": "#F5F6F9",
        "template": {
         "data": {
          "bar": [
           {
            "error_x": {
             "color": "#2a3f5f"
            },
            "error_y": {
             "color": "#2a3f5f"
            },
            "marker": {
             "line": {
              "color": "#E5ECF6",
              "width": 0.5
             },
             "pattern": {
              "fillmode": "overlay",
              "size": 10,
              "solidity": 0.2
             }
            },
            "type": "bar"
           }
          ],
          "barpolar": [
           {
            "marker": {
             "line": {
              "color": "#E5ECF6",
              "width": 0.5
             },
             "pattern": {
              "fillmode": "overlay",
              "size": 10,
              "solidity": 0.2
             }
            },
            "type": "barpolar"
           }
          ],
          "carpet": [
           {
            "aaxis": {
             "endlinecolor": "#2a3f5f",
             "gridcolor": "white",
             "linecolor": "white",
             "minorgridcolor": "white",
             "startlinecolor": "#2a3f5f"
            },
            "baxis": {
             "endlinecolor": "#2a3f5f",
             "gridcolor": "white",
             "linecolor": "white",
             "minorgridcolor": "white",
             "startlinecolor": "#2a3f5f"
            },
            "type": "carpet"
           }
          ],
          "choropleth": [
           {
            "colorbar": {
             "outlinewidth": 0,
             "ticks": ""
            },
            "type": "choropleth"
           }
          ],
          "contour": [
           {
            "colorbar": {
             "outlinewidth": 0,
             "ticks": ""
            },
            "colorscale": [
             [
              0,
              "#0d0887"
             ],
             [
              0.1111111111111111,
              "#46039f"
             ],
             [
              0.2222222222222222,
              "#7201a8"
             ],
             [
              0.3333333333333333,
              "#9c179e"
             ],
             [
              0.4444444444444444,
              "#bd3786"
             ],
             [
              0.5555555555555556,
              "#d8576b"
             ],
             [
              0.6666666666666666,
              "#ed7953"
             ],
             [
              0.7777777777777778,
              "#fb9f3a"
             ],
             [
              0.8888888888888888,
              "#fdca26"
             ],
             [
              1,
              "#f0f921"
             ]
            ],
            "type": "contour"
           }
          ],
          "contourcarpet": [
           {
            "colorbar": {
             "outlinewidth": 0,
             "ticks": ""
            },
            "type": "contourcarpet"
           }
          ],
          "heatmap": [
           {
            "colorbar": {
             "outlinewidth": 0,
             "ticks": ""
            },
            "colorscale": [
             [
              0,
              "#0d0887"
             ],
             [
              0.1111111111111111,
              "#46039f"
             ],
             [
              0.2222222222222222,
              "#7201a8"
             ],
             [
              0.3333333333333333,
              "#9c179e"
             ],
             [
              0.4444444444444444,
              "#bd3786"
             ],
             [
              0.5555555555555556,
              "#d8576b"
             ],
             [
              0.6666666666666666,
              "#ed7953"
             ],
             [
              0.7777777777777778,
              "#fb9f3a"
             ],
             [
              0.8888888888888888,
              "#fdca26"
             ],
             [
              1,
              "#f0f921"
             ]
            ],
            "type": "heatmap"
           }
          ],
          "heatmapgl": [
           {
            "colorbar": {
             "outlinewidth": 0,
             "ticks": ""
            },
            "colorscale": [
             [
              0,
              "#0d0887"
             ],
             [
              0.1111111111111111,
              "#46039f"
             ],
             [
              0.2222222222222222,
              "#7201a8"
             ],
             [
              0.3333333333333333,
              "#9c179e"
             ],
             [
              0.4444444444444444,
              "#bd3786"
             ],
             [
              0.5555555555555556,
              "#d8576b"
             ],
             [
              0.6666666666666666,
              "#ed7953"
             ],
             [
              0.7777777777777778,
              "#fb9f3a"
             ],
             [
              0.8888888888888888,
              "#fdca26"
             ],
             [
              1,
              "#f0f921"
             ]
            ],
            "type": "heatmapgl"
           }
          ],
          "histogram": [
           {
            "marker": {
             "pattern": {
              "fillmode": "overlay",
              "size": 10,
              "solidity": 0.2
             }
            },
            "type": "histogram"
           }
          ],
          "histogram2d": [
           {
            "colorbar": {
             "outlinewidth": 0,
             "ticks": ""
            },
            "colorscale": [
             [
              0,
              "#0d0887"
             ],
             [
              0.1111111111111111,
              "#46039f"
             ],
             [
              0.2222222222222222,
              "#7201a8"
             ],
             [
              0.3333333333333333,
              "#9c179e"
             ],
             [
              0.4444444444444444,
              "#bd3786"
             ],
             [
              0.5555555555555556,
              "#d8576b"
             ],
             [
              0.6666666666666666,
              "#ed7953"
             ],
             [
              0.7777777777777778,
              "#fb9f3a"
             ],
             [
              0.8888888888888888,
              "#fdca26"
             ],
             [
              1,
              "#f0f921"
             ]
            ],
            "type": "histogram2d"
           }
          ],
          "histogram2dcontour": [
           {
            "colorbar": {
             "outlinewidth": 0,
             "ticks": ""
            },
            "colorscale": [
             [
              0,
              "#0d0887"
             ],
             [
              0.1111111111111111,
              "#46039f"
             ],
             [
              0.2222222222222222,
              "#7201a8"
             ],
             [
              0.3333333333333333,
              "#9c179e"
             ],
             [
              0.4444444444444444,
              "#bd3786"
             ],
             [
              0.5555555555555556,
              "#d8576b"
             ],
             [
              0.6666666666666666,
              "#ed7953"
             ],
             [
              0.7777777777777778,
              "#fb9f3a"
             ],
             [
              0.8888888888888888,
              "#fdca26"
             ],
             [
              1,
              "#f0f921"
             ]
            ],
            "type": "histogram2dcontour"
           }
          ],
          "mesh3d": [
           {
            "colorbar": {
             "outlinewidth": 0,
             "ticks": ""
            },
            "type": "mesh3d"
           }
          ],
          "parcoords": [
           {
            "line": {
             "colorbar": {
              "outlinewidth": 0,
              "ticks": ""
             }
            },
            "type": "parcoords"
           }
          ],
          "pie": [
           {
            "automargin": true,
            "type": "pie"
           }
          ],
          "scatter": [
           {
            "marker": {
             "colorbar": {
              "outlinewidth": 0,
              "ticks": ""
             }
            },
            "type": "scatter"
           }
          ],
          "scatter3d": [
           {
            "line": {
             "colorbar": {
              "outlinewidth": 0,
              "ticks": ""
             }
            },
            "marker": {
             "colorbar": {
              "outlinewidth": 0,
              "ticks": ""
             }
            },
            "type": "scatter3d"
           }
          ],
          "scattercarpet": [
           {
            "marker": {
             "colorbar": {
              "outlinewidth": 0,
              "ticks": ""
             }
            },
            "type": "scattercarpet"
           }
          ],
          "scattergeo": [
           {
            "marker": {
             "colorbar": {
              "outlinewidth": 0,
              "ticks": ""
             }
            },
            "type": "scattergeo"
           }
          ],
          "scattergl": [
           {
            "marker": {
             "colorbar": {
              "outlinewidth": 0,
              "ticks": ""
             }
            },
            "type": "scattergl"
           }
          ],
          "scattermapbox": [
           {
            "marker": {
             "colorbar": {
              "outlinewidth": 0,
              "ticks": ""
             }
            },
            "type": "scattermapbox"
           }
          ],
          "scatterpolar": [
           {
            "marker": {
             "colorbar": {
              "outlinewidth": 0,
              "ticks": ""
             }
            },
            "type": "scatterpolar"
           }
          ],
          "scatterpolargl": [
           {
            "marker": {
             "colorbar": {
              "outlinewidth": 0,
              "ticks": ""
             }
            },
            "type": "scatterpolargl"
           }
          ],
          "scatterternary": [
           {
            "marker": {
             "colorbar": {
              "outlinewidth": 0,
              "ticks": ""
             }
            },
            "type": "scatterternary"
           }
          ],
          "surface": [
           {
            "colorbar": {
             "outlinewidth": 0,
             "ticks": ""
            },
            "colorscale": [
             [
              0,
              "#0d0887"
             ],
             [
              0.1111111111111111,
              "#46039f"
             ],
             [
              0.2222222222222222,
              "#7201a8"
             ],
             [
              0.3333333333333333,
              "#9c179e"
             ],
             [
              0.4444444444444444,
              "#bd3786"
             ],
             [
              0.5555555555555556,
              "#d8576b"
             ],
             [
              0.6666666666666666,
              "#ed7953"
             ],
             [
              0.7777777777777778,
              "#fb9f3a"
             ],
             [
              0.8888888888888888,
              "#fdca26"
             ],
             [
              1,
              "#f0f921"
             ]
            ],
            "type": "surface"
           }
          ],
          "table": [
           {
            "cells": {
             "fill": {
              "color": "#EBF0F8"
             },
             "line": {
              "color": "white"
             }
            },
            "header": {
             "fill": {
              "color": "#C8D4E3"
             },
             "line": {
              "color": "white"
             }
            },
            "type": "table"
           }
          ]
         },
         "layout": {
          "annotationdefaults": {
           "arrowcolor": "#2a3f5f",
           "arrowhead": 0,
           "arrowwidth": 1
          },
          "autotypenumbers": "strict",
          "coloraxis": {
           "colorbar": {
            "outlinewidth": 0,
            "ticks": ""
           }
          },
          "colorscale": {
           "diverging": [
            [
             0,
             "#8e0152"
            ],
            [
             0.1,
             "#c51b7d"
            ],
            [
             0.2,
             "#de77ae"
            ],
            [
             0.3,
             "#f1b6da"
            ],
            [
             0.4,
             "#fde0ef"
            ],
            [
             0.5,
             "#f7f7f7"
            ],
            [
             0.6,
             "#e6f5d0"
            ],
            [
             0.7,
             "#b8e186"
            ],
            [
             0.8,
             "#7fbc41"
            ],
            [
             0.9,
             "#4d9221"
            ],
            [
             1,
             "#276419"
            ]
           ],
           "sequential": [
            [
             0,
             "#0d0887"
            ],
            [
             0.1111111111111111,
             "#46039f"
            ],
            [
             0.2222222222222222,
             "#7201a8"
            ],
            [
             0.3333333333333333,
             "#9c179e"
            ],
            [
             0.4444444444444444,
             "#bd3786"
            ],
            [
             0.5555555555555556,
             "#d8576b"
            ],
            [
             0.6666666666666666,
             "#ed7953"
            ],
            [
             0.7777777777777778,
             "#fb9f3a"
            ],
            [
             0.8888888888888888,
             "#fdca26"
            ],
            [
             1,
             "#f0f921"
            ]
           ],
           "sequentialminus": [
            [
             0,
             "#0d0887"
            ],
            [
             0.1111111111111111,
             "#46039f"
            ],
            [
             0.2222222222222222,
             "#7201a8"
            ],
            [
             0.3333333333333333,
             "#9c179e"
            ],
            [
             0.4444444444444444,
             "#bd3786"
            ],
            [
             0.5555555555555556,
             "#d8576b"
            ],
            [
             0.6666666666666666,
             "#ed7953"
            ],
            [
             0.7777777777777778,
             "#fb9f3a"
            ],
            [
             0.8888888888888888,
             "#fdca26"
            ],
            [
             1,
             "#f0f921"
            ]
           ]
          },
          "colorway": [
           "#636efa",
           "#EF553B",
           "#00cc96",
           "#ab63fa",
           "#FFA15A",
           "#19d3f3",
           "#FF6692",
           "#B6E880",
           "#FF97FF",
           "#FECB52"
          ],
          "font": {
           "color": "#2a3f5f"
          },
          "geo": {
           "bgcolor": "white",
           "lakecolor": "white",
           "landcolor": "#E5ECF6",
           "showlakes": true,
           "showland": true,
           "subunitcolor": "white"
          },
          "hoverlabel": {
           "align": "left"
          },
          "hovermode": "closest",
          "mapbox": {
           "style": "light"
          },
          "paper_bgcolor": "white",
          "plot_bgcolor": "#E5ECF6",
          "polar": {
           "angularaxis": {
            "gridcolor": "white",
            "linecolor": "white",
            "ticks": ""
           },
           "bgcolor": "#E5ECF6",
           "radialaxis": {
            "gridcolor": "white",
            "linecolor": "white",
            "ticks": ""
           }
          },
          "scene": {
           "xaxis": {
            "backgroundcolor": "#E5ECF6",
            "gridcolor": "white",
            "gridwidth": 2,
            "linecolor": "white",
            "showbackground": true,
            "ticks": "",
            "zerolinecolor": "white"
           },
           "yaxis": {
            "backgroundcolor": "#E5ECF6",
            "gridcolor": "white",
            "gridwidth": 2,
            "linecolor": "white",
            "showbackground": true,
            "ticks": "",
            "zerolinecolor": "white"
           },
           "zaxis": {
            "backgroundcolor": "#E5ECF6",
            "gridcolor": "white",
            "gridwidth": 2,
            "linecolor": "white",
            "showbackground": true,
            "ticks": "",
            "zerolinecolor": "white"
           }
          },
          "shapedefaults": {
           "line": {
            "color": "#2a3f5f"
           }
          },
          "ternary": {
           "aaxis": {
            "gridcolor": "white",
            "linecolor": "white",
            "ticks": ""
           },
           "baxis": {
            "gridcolor": "white",
            "linecolor": "white",
            "ticks": ""
           },
           "bgcolor": "#E5ECF6",
           "caxis": {
            "gridcolor": "white",
            "linecolor": "white",
            "ticks": ""
           }
          },
          "title": {
           "x": 0.05
          },
          "xaxis": {
           "automargin": true,
           "gridcolor": "white",
           "linecolor": "white",
           "ticks": "",
           "title": {
            "standoff": 15
           },
           "zerolinecolor": "white",
           "zerolinewidth": 2
          },
          "yaxis": {
           "automargin": true,
           "gridcolor": "white",
           "linecolor": "white",
           "ticks": "",
           "title": {
            "standoff": 15
           },
           "zerolinecolor": "white",
           "zerolinewidth": 2
          }
         }
        },
        "title": {
         "font": {
          "color": "#4D5663"
         }
        },
        "xaxis": {
         "gridcolor": "#E1E5ED",
         "showgrid": true,
         "tickfont": {
          "color": "#4D5663"
         },
         "title": {
          "font": {
           "color": "#4D5663"
          },
          "text": ""
         },
         "zerolinecolor": "#E1E5ED"
        },
        "yaxis": {
         "gridcolor": "#E1E5ED",
         "showgrid": true,
         "tickfont": {
          "color": "#4D5663"
         },
         "title": {
          "font": {
           "color": "#4D5663"
          },
          "text": ""
         },
         "zerolinecolor": "#E1E5ED"
        }
       }
      },
      "text/html": [
       "<div>                            <div id=\"39232326-3bdd-40c2-a7a7-e415a74c8496\" class=\"plotly-graph-div\" style=\"height:525px; width:100%;\"></div>            <script type=\"text/javascript\">                require([\"plotly\"], function(Plotly) {                    window.PLOTLYENV=window.PLOTLYENV || {};\n",
       "                    window.PLOTLYENV.BASE_URL='https://plot.ly';                                    if (document.getElementById(\"39232326-3bdd-40c2-a7a7-e415a74c8496\")) {                    Plotly.newPlot(                        \"39232326-3bdd-40c2-a7a7-e415a74c8496\",                        [{\"colorscale\":[[0.0,\"rgb(165,0,38)\"],[0.1,\"rgb(215,48,39)\"],[0.2,\"rgb(244,109,67)\"],[0.3,\"rgb(253,174,97)\"],[0.4,\"rgb(254,224,144)\"],[0.5,\"rgb(255,255,191)\"],[0.6,\"rgb(224,243,248)\"],[0.7,\"rgb(171,217,233)\"],[0.8,\"rgb(116,173,209)\"],[0.9,\"rgb(69,117,180)\"],[1.0,\"rgb(49,54,149)\"]],\"type\":\"surface\",\"x\":[0,1,2,3,4],\"y\":[\"x\",\"y\",\"z\"],\"z\":[[1,2,3,4,5],[10,20,30,20,10],[5,4,3,2,1]]}],                        {\"legend\":{\"bgcolor\":\"#F5F6F9\",\"font\":{\"color\":\"#4D5663\"}},\"paper_bgcolor\":\"#F5F6F9\",\"plot_bgcolor\":\"#F5F6F9\",\"template\":{\"data\":{\"bar\":[{\"error_x\":{\"color\":\"#2a3f5f\"},\"error_y\":{\"color\":\"#2a3f5f\"},\"marker\":{\"line\":{\"color\":\"#E5ECF6\",\"width\":0.5},\"pattern\":{\"fillmode\":\"overlay\",\"size\":10,\"solidity\":0.2}},\"type\":\"bar\"}],\"barpolar\":[{\"marker\":{\"line\":{\"color\":\"#E5ECF6\",\"width\":0.5},\"pattern\":{\"fillmode\":\"overlay\",\"size\":10,\"solidity\":0.2}},\"type\":\"barpolar\"}],\"carpet\":[{\"aaxis\":{\"endlinecolor\":\"#2a3f5f\",\"gridcolor\":\"white\",\"linecolor\":\"white\",\"minorgridcolor\":\"white\",\"startlinecolor\":\"#2a3f5f\"},\"baxis\":{\"endlinecolor\":\"#2a3f5f\",\"gridcolor\":\"white\",\"linecolor\":\"white\",\"minorgridcolor\":\"white\",\"startlinecolor\":\"#2a3f5f\"},\"type\":\"carpet\"}],\"choropleth\":[{\"colorbar\":{\"outlinewidth\":0,\"ticks\":\"\"},\"type\":\"choropleth\"}],\"contour\":[{\"colorbar\":{\"outlinewidth\":0,\"ticks\":\"\"},\"colorscale\":[[0.0,\"#0d0887\"],[0.1111111111111111,\"#46039f\"],[0.2222222222222222,\"#7201a8\"],[0.3333333333333333,\"#9c179e\"],[0.4444444444444444,\"#bd3786\"],[0.5555555555555556,\"#d8576b\"],[0.6666666666666666,\"#ed7953\"],[0.7777777777777778,\"#fb9f3a\"],[0.8888888888888888,\"#fdca26\"],[1.0,\"#f0f921\"]],\"type\":\"contour\"}],\"contourcarpet\":[{\"colorbar\":{\"outlinewidth\":0,\"ticks\":\"\"},\"type\":\"contourcarpet\"}],\"heatmap\":[{\"colorbar\":{\"outlinewidth\":0,\"ticks\":\"\"},\"colorscale\":[[0.0,\"#0d0887\"],[0.1111111111111111,\"#46039f\"],[0.2222222222222222,\"#7201a8\"],[0.3333333333333333,\"#9c179e\"],[0.4444444444444444,\"#bd3786\"],[0.5555555555555556,\"#d8576b\"],[0.6666666666666666,\"#ed7953\"],[0.7777777777777778,\"#fb9f3a\"],[0.8888888888888888,\"#fdca26\"],[1.0,\"#f0f921\"]],\"type\":\"heatmap\"}],\"heatmapgl\":[{\"colorbar\":{\"outlinewidth\":0,\"ticks\":\"\"},\"colorscale\":[[0.0,\"#0d0887\"],[0.1111111111111111,\"#46039f\"],[0.2222222222222222,\"#7201a8\"],[0.3333333333333333,\"#9c179e\"],[0.4444444444444444,\"#bd3786\"],[0.5555555555555556,\"#d8576b\"],[0.6666666666666666,\"#ed7953\"],[0.7777777777777778,\"#fb9f3a\"],[0.8888888888888888,\"#fdca26\"],[1.0,\"#f0f921\"]],\"type\":\"heatmapgl\"}],\"histogram\":[{\"marker\":{\"pattern\":{\"fillmode\":\"overlay\",\"size\":10,\"solidity\":0.2}},\"type\":\"histogram\"}],\"histogram2d\":[{\"colorbar\":{\"outlinewidth\":0,\"ticks\":\"\"},\"colorscale\":[[0.0,\"#0d0887\"],[0.1111111111111111,\"#46039f\"],[0.2222222222222222,\"#7201a8\"],[0.3333333333333333,\"#9c179e\"],[0.4444444444444444,\"#bd3786\"],[0.5555555555555556,\"#d8576b\"],[0.6666666666666666,\"#ed7953\"],[0.7777777777777778,\"#fb9f3a\"],[0.8888888888888888,\"#fdca26\"],[1.0,\"#f0f921\"]],\"type\":\"histogram2d\"}],\"histogram2dcontour\":[{\"colorbar\":{\"outlinewidth\":0,\"ticks\":\"\"},\"colorscale\":[[0.0,\"#0d0887\"],[0.1111111111111111,\"#46039f\"],[0.2222222222222222,\"#7201a8\"],[0.3333333333333333,\"#9c179e\"],[0.4444444444444444,\"#bd3786\"],[0.5555555555555556,\"#d8576b\"],[0.6666666666666666,\"#ed7953\"],[0.7777777777777778,\"#fb9f3a\"],[0.8888888888888888,\"#fdca26\"],[1.0,\"#f0f921\"]],\"type\":\"histogram2dcontour\"}],\"mesh3d\":[{\"colorbar\":{\"outlinewidth\":0,\"ticks\":\"\"},\"type\":\"mesh3d\"}],\"parcoords\":[{\"line\":{\"colorbar\":{\"outlinewidth\":0,\"ticks\":\"\"}},\"type\":\"parcoords\"}],\"pie\":[{\"automargin\":true,\"type\":\"pie\"}],\"scatter\":[{\"marker\":{\"colorbar\":{\"outlinewidth\":0,\"ticks\":\"\"}},\"type\":\"scatter\"}],\"scatter3d\":[{\"line\":{\"colorbar\":{\"outlinewidth\":0,\"ticks\":\"\"}},\"marker\":{\"colorbar\":{\"outlinewidth\":0,\"ticks\":\"\"}},\"type\":\"scatter3d\"}],\"scattercarpet\":[{\"marker\":{\"colorbar\":{\"outlinewidth\":0,\"ticks\":\"\"}},\"type\":\"scattercarpet\"}],\"scattergeo\":[{\"marker\":{\"colorbar\":{\"outlinewidth\":0,\"ticks\":\"\"}},\"type\":\"scattergeo\"}],\"scattergl\":[{\"marker\":{\"colorbar\":{\"outlinewidth\":0,\"ticks\":\"\"}},\"type\":\"scattergl\"}],\"scattermapbox\":[{\"marker\":{\"colorbar\":{\"outlinewidth\":0,\"ticks\":\"\"}},\"type\":\"scattermapbox\"}],\"scatterpolar\":[{\"marker\":{\"colorbar\":{\"outlinewidth\":0,\"ticks\":\"\"}},\"type\":\"scatterpolar\"}],\"scatterpolargl\":[{\"marker\":{\"colorbar\":{\"outlinewidth\":0,\"ticks\":\"\"}},\"type\":\"scatterpolargl\"}],\"scatterternary\":[{\"marker\":{\"colorbar\":{\"outlinewidth\":0,\"ticks\":\"\"}},\"type\":\"scatterternary\"}],\"surface\":[{\"colorbar\":{\"outlinewidth\":0,\"ticks\":\"\"},\"colorscale\":[[0.0,\"#0d0887\"],[0.1111111111111111,\"#46039f\"],[0.2222222222222222,\"#7201a8\"],[0.3333333333333333,\"#9c179e\"],[0.4444444444444444,\"#bd3786\"],[0.5555555555555556,\"#d8576b\"],[0.6666666666666666,\"#ed7953\"],[0.7777777777777778,\"#fb9f3a\"],[0.8888888888888888,\"#fdca26\"],[1.0,\"#f0f921\"]],\"type\":\"surface\"}],\"table\":[{\"cells\":{\"fill\":{\"color\":\"#EBF0F8\"},\"line\":{\"color\":\"white\"}},\"header\":{\"fill\":{\"color\":\"#C8D4E3\"},\"line\":{\"color\":\"white\"}},\"type\":\"table\"}]},\"layout\":{\"annotationdefaults\":{\"arrowcolor\":\"#2a3f5f\",\"arrowhead\":0,\"arrowwidth\":1},\"autotypenumbers\":\"strict\",\"coloraxis\":{\"colorbar\":{\"outlinewidth\":0,\"ticks\":\"\"}},\"colorscale\":{\"diverging\":[[0,\"#8e0152\"],[0.1,\"#c51b7d\"],[0.2,\"#de77ae\"],[0.3,\"#f1b6da\"],[0.4,\"#fde0ef\"],[0.5,\"#f7f7f7\"],[0.6,\"#e6f5d0\"],[0.7,\"#b8e186\"],[0.8,\"#7fbc41\"],[0.9,\"#4d9221\"],[1,\"#276419\"]],\"sequential\":[[0.0,\"#0d0887\"],[0.1111111111111111,\"#46039f\"],[0.2222222222222222,\"#7201a8\"],[0.3333333333333333,\"#9c179e\"],[0.4444444444444444,\"#bd3786\"],[0.5555555555555556,\"#d8576b\"],[0.6666666666666666,\"#ed7953\"],[0.7777777777777778,\"#fb9f3a\"],[0.8888888888888888,\"#fdca26\"],[1.0,\"#f0f921\"]],\"sequentialminus\":[[0.0,\"#0d0887\"],[0.1111111111111111,\"#46039f\"],[0.2222222222222222,\"#7201a8\"],[0.3333333333333333,\"#9c179e\"],[0.4444444444444444,\"#bd3786\"],[0.5555555555555556,\"#d8576b\"],[0.6666666666666666,\"#ed7953\"],[0.7777777777777778,\"#fb9f3a\"],[0.8888888888888888,\"#fdca26\"],[1.0,\"#f0f921\"]]},\"colorway\":[\"#636efa\",\"#EF553B\",\"#00cc96\",\"#ab63fa\",\"#FFA15A\",\"#19d3f3\",\"#FF6692\",\"#B6E880\",\"#FF97FF\",\"#FECB52\"],\"font\":{\"color\":\"#2a3f5f\"},\"geo\":{\"bgcolor\":\"white\",\"lakecolor\":\"white\",\"landcolor\":\"#E5ECF6\",\"showlakes\":true,\"showland\":true,\"subunitcolor\":\"white\"},\"hoverlabel\":{\"align\":\"left\"},\"hovermode\":\"closest\",\"mapbox\":{\"style\":\"light\"},\"paper_bgcolor\":\"white\",\"plot_bgcolor\":\"#E5ECF6\",\"polar\":{\"angularaxis\":{\"gridcolor\":\"white\",\"linecolor\":\"white\",\"ticks\":\"\"},\"bgcolor\":\"#E5ECF6\",\"radialaxis\":{\"gridcolor\":\"white\",\"linecolor\":\"white\",\"ticks\":\"\"}},\"scene\":{\"xaxis\":{\"backgroundcolor\":\"#E5ECF6\",\"gridcolor\":\"white\",\"gridwidth\":2,\"linecolor\":\"white\",\"showbackground\":true,\"ticks\":\"\",\"zerolinecolor\":\"white\"},\"yaxis\":{\"backgroundcolor\":\"#E5ECF6\",\"gridcolor\":\"white\",\"gridwidth\":2,\"linecolor\":\"white\",\"showbackground\":true,\"ticks\":\"\",\"zerolinecolor\":\"white\"},\"zaxis\":{\"backgroundcolor\":\"#E5ECF6\",\"gridcolor\":\"white\",\"gridwidth\":2,\"linecolor\":\"white\",\"showbackground\":true,\"ticks\":\"\",\"zerolinecolor\":\"white\"}},\"shapedefaults\":{\"line\":{\"color\":\"#2a3f5f\"}},\"ternary\":{\"aaxis\":{\"gridcolor\":\"white\",\"linecolor\":\"white\",\"ticks\":\"\"},\"baxis\":{\"gridcolor\":\"white\",\"linecolor\":\"white\",\"ticks\":\"\"},\"bgcolor\":\"#E5ECF6\",\"caxis\":{\"gridcolor\":\"white\",\"linecolor\":\"white\",\"ticks\":\"\"}},\"title\":{\"x\":0.05},\"xaxis\":{\"automargin\":true,\"gridcolor\":\"white\",\"linecolor\":\"white\",\"ticks\":\"\",\"title\":{\"standoff\":15},\"zerolinecolor\":\"white\",\"zerolinewidth\":2},\"yaxis\":{\"automargin\":true,\"gridcolor\":\"white\",\"linecolor\":\"white\",\"ticks\":\"\",\"title\":{\"standoff\":15},\"zerolinecolor\":\"white\",\"zerolinewidth\":2}}},\"title\":{\"font\":{\"color\":\"#4D5663\"}},\"xaxis\":{\"gridcolor\":\"#E1E5ED\",\"showgrid\":true,\"tickfont\":{\"color\":\"#4D5663\"},\"title\":{\"font\":{\"color\":\"#4D5663\"},\"text\":\"\"},\"zerolinecolor\":\"#E1E5ED\"},\"yaxis\":{\"gridcolor\":\"#E1E5ED\",\"showgrid\":true,\"tickfont\":{\"color\":\"#4D5663\"},\"title\":{\"font\":{\"color\":\"#4D5663\"},\"text\":\"\"},\"zerolinecolor\":\"#E1E5ED\"}},                        {\"showLink\": true, \"linkText\": \"Export to plot.ly\", \"plotlyServerURL\": \"https://plot.ly\", \"responsive\": true}                    ).then(function(){\n",
       "                            \n",
       "var gd = document.getElementById('39232326-3bdd-40c2-a7a7-e415a74c8496');\n",
       "var x = new MutationObserver(function (mutations, observer) {{\n",
       "        var display = window.getComputedStyle(gd).display;\n",
       "        if (!display || display === 'none') {{\n",
       "            console.log([gd, 'removed!']);\n",
       "            Plotly.purge(gd);\n",
       "            observer.disconnect();\n",
       "        }}\n",
       "}});\n",
       "\n",
       "// Listen for the removal of the full notebook cells\n",
       "var notebookContainer = gd.closest('#notebook-container');\n",
       "if (notebookContainer) {{\n",
       "    x.observe(notebookContainer, {childList: true});\n",
       "}}\n",
       "\n",
       "// Listen for the clearing of the current output cell\n",
       "var outputEl = gd.closest('.output');\n",
       "if (outputEl) {{\n",
       "    x.observe(outputEl, {childList: true});\n",
       "}}\n",
       "\n",
       "                        })                };                });            </script>        </div>"
      ]
     },
     "metadata": {},
     "output_type": "display_data"
    }
   ],
   "source": [
    "df3 = pd.DataFrame({'x':[1,2,3,4,5],'y':[10,20,30,20,10],'z':[5,4,3,2,1]})\n",
    "df3.iplot(kind='surface',colorscale='rdylbu')"
   ]
  },
  {
   "cell_type": "markdown",
   "metadata": {},
   "source": [
    "## histogram"
   ]
  },
  {
   "cell_type": "code",
   "execution_count": 19,
   "metadata": {},
   "outputs": [
    {
     "data": {
      "application/vnd.plotly.v1+json": {
       "config": {
        "linkText": "Export to plot.ly",
        "plotlyServerURL": "https://plot.ly",
        "showLink": true
       },
       "data": [
        {
         "histfunc": "count",
         "histnorm": "",
         "marker": {
          "color": "rgba(255, 153, 51, 1.0)",
          "line": {
           "color": "#4D5663",
           "width": 1.3
          }
         },
         "name": "A",
         "nbinsx": 25,
         "opacity": 0.8,
         "orientation": "v",
         "type": "histogram",
         "x": [
          -0.5179271967863107,
          -0.43117640845718924,
          -0.7425433984463287,
          -0.7089570997832738,
          -0.0361529193067307,
          0.07522673552826692,
          -1.4131665855296218,
          -0.0031556109683627954,
          -0.5302505856350661,
          -1.4127977371366855,
          0.2087659396050563,
          -1.4131760875032837,
          -0.30928347102426945,
          -0.483488097111868,
          -0.06312965999867666,
          1.9258679259374294,
          1.4587125869684525,
          1.3580817403999588,
          0.6622586311843047,
          -0.240272587802109,
          -1.6140007340343672,
          -0.809880896517053,
          0.17882016129592684,
          -1.918619035060385,
          0.5639175432044878,
          0.7003026318927348,
          1.1871330769452881,
          2.621530460729752,
          -0.05226547135199387,
          -0.8857947444659938,
          0.29778182041096535,
          0.8314995551078086,
          0.8277350723928936,
          0.9807667281146693,
          -0.45636567990437055,
          -0.8287489631818937,
          -0.02409698397342725,
          1.1224562643047222,
          -0.10774074979314044,
          -0.4703262271315255,
          -0.24485739399715936,
          -0.7209811457686358,
          0.543656350365433,
          -1.0910512142922943,
          1.6146687797051722,
          1.272671565444567,
          -1.4969566494241922,
          0.49724268869042015,
          0.5762497665318234,
          0.9173715082787924,
          -0.3156771970691579,
          -1.5465554615957646,
          0.5365559969570894,
          -0.16681688603908454,
          0.5422513086930213,
          0.11702639045880345,
          0.8662033868093464,
          0.7950354856934065,
          -0.3692169523733393,
          2.185699925373505,
          -0.19711391724350172,
          -0.7801751589593686,
          1.5742708527925775,
          -0.3998953876637889,
          -0.12030457591217633,
          -1.363206492841364,
          0.1538230355317382,
          -0.2873090931451748,
          0.1526156484030482,
          -0.76742908384936,
          0.004822975700221074,
          -0.44140319312826604,
          0.7217093953262547,
          0.5286866127120267,
          -1.7027276677246608,
          -0.8067393232956829,
          -1.8513726371721704,
          1.0938465376835904,
          -1.292754654635878,
          -0.7940460298498865,
          -2.0091587452108204,
          1.053284917771941,
          0.5505835572480933,
          -1.270031759248562,
          -0.6446601496996719,
          -0.7047831805932557,
          -0.5097574343620287,
          -1.1067233133199088,
          -0.47331615373991254,
          0.8566597266341112,
          -1.1402325893281335,
          -0.9191188365872801,
          -0.47871460470651567,
          0.3480989521997855,
          -0.02679045217886534,
          -1.1023603518297882,
          0.4308022821887071,
          0.12713866089653922,
          -0.34931893784546914,
          -0.22785308304094232
         ]
        }
       ],
       "layout": {
        "barmode": "overlay",
        "legend": {
         "bgcolor": "#F5F6F9",
         "font": {
          "color": "#4D5663"
         }
        },
        "paper_bgcolor": "#F5F6F9",
        "plot_bgcolor": "#F5F6F9",
        "template": {
         "data": {
          "bar": [
           {
            "error_x": {
             "color": "#2a3f5f"
            },
            "error_y": {
             "color": "#2a3f5f"
            },
            "marker": {
             "line": {
              "color": "#E5ECF6",
              "width": 0.5
             },
             "pattern": {
              "fillmode": "overlay",
              "size": 10,
              "solidity": 0.2
             }
            },
            "type": "bar"
           }
          ],
          "barpolar": [
           {
            "marker": {
             "line": {
              "color": "#E5ECF6",
              "width": 0.5
             },
             "pattern": {
              "fillmode": "overlay",
              "size": 10,
              "solidity": 0.2
             }
            },
            "type": "barpolar"
           }
          ],
          "carpet": [
           {
            "aaxis": {
             "endlinecolor": "#2a3f5f",
             "gridcolor": "white",
             "linecolor": "white",
             "minorgridcolor": "white",
             "startlinecolor": "#2a3f5f"
            },
            "baxis": {
             "endlinecolor": "#2a3f5f",
             "gridcolor": "white",
             "linecolor": "white",
             "minorgridcolor": "white",
             "startlinecolor": "#2a3f5f"
            },
            "type": "carpet"
           }
          ],
          "choropleth": [
           {
            "colorbar": {
             "outlinewidth": 0,
             "ticks": ""
            },
            "type": "choropleth"
           }
          ],
          "contour": [
           {
            "colorbar": {
             "outlinewidth": 0,
             "ticks": ""
            },
            "colorscale": [
             [
              0,
              "#0d0887"
             ],
             [
              0.1111111111111111,
              "#46039f"
             ],
             [
              0.2222222222222222,
              "#7201a8"
             ],
             [
              0.3333333333333333,
              "#9c179e"
             ],
             [
              0.4444444444444444,
              "#bd3786"
             ],
             [
              0.5555555555555556,
              "#d8576b"
             ],
             [
              0.6666666666666666,
              "#ed7953"
             ],
             [
              0.7777777777777778,
              "#fb9f3a"
             ],
             [
              0.8888888888888888,
              "#fdca26"
             ],
             [
              1,
              "#f0f921"
             ]
            ],
            "type": "contour"
           }
          ],
          "contourcarpet": [
           {
            "colorbar": {
             "outlinewidth": 0,
             "ticks": ""
            },
            "type": "contourcarpet"
           }
          ],
          "heatmap": [
           {
            "colorbar": {
             "outlinewidth": 0,
             "ticks": ""
            },
            "colorscale": [
             [
              0,
              "#0d0887"
             ],
             [
              0.1111111111111111,
              "#46039f"
             ],
             [
              0.2222222222222222,
              "#7201a8"
             ],
             [
              0.3333333333333333,
              "#9c179e"
             ],
             [
              0.4444444444444444,
              "#bd3786"
             ],
             [
              0.5555555555555556,
              "#d8576b"
             ],
             [
              0.6666666666666666,
              "#ed7953"
             ],
             [
              0.7777777777777778,
              "#fb9f3a"
             ],
             [
              0.8888888888888888,
              "#fdca26"
             ],
             [
              1,
              "#f0f921"
             ]
            ],
            "type": "heatmap"
           }
          ],
          "heatmapgl": [
           {
            "colorbar": {
             "outlinewidth": 0,
             "ticks": ""
            },
            "colorscale": [
             [
              0,
              "#0d0887"
             ],
             [
              0.1111111111111111,
              "#46039f"
             ],
             [
              0.2222222222222222,
              "#7201a8"
             ],
             [
              0.3333333333333333,
              "#9c179e"
             ],
             [
              0.4444444444444444,
              "#bd3786"
             ],
             [
              0.5555555555555556,
              "#d8576b"
             ],
             [
              0.6666666666666666,
              "#ed7953"
             ],
             [
              0.7777777777777778,
              "#fb9f3a"
             ],
             [
              0.8888888888888888,
              "#fdca26"
             ],
             [
              1,
              "#f0f921"
             ]
            ],
            "type": "heatmapgl"
           }
          ],
          "histogram": [
           {
            "marker": {
             "pattern": {
              "fillmode": "overlay",
              "size": 10,
              "solidity": 0.2
             }
            },
            "type": "histogram"
           }
          ],
          "histogram2d": [
           {
            "colorbar": {
             "outlinewidth": 0,
             "ticks": ""
            },
            "colorscale": [
             [
              0,
              "#0d0887"
             ],
             [
              0.1111111111111111,
              "#46039f"
             ],
             [
              0.2222222222222222,
              "#7201a8"
             ],
             [
              0.3333333333333333,
              "#9c179e"
             ],
             [
              0.4444444444444444,
              "#bd3786"
             ],
             [
              0.5555555555555556,
              "#d8576b"
             ],
             [
              0.6666666666666666,
              "#ed7953"
             ],
             [
              0.7777777777777778,
              "#fb9f3a"
             ],
             [
              0.8888888888888888,
              "#fdca26"
             ],
             [
              1,
              "#f0f921"
             ]
            ],
            "type": "histogram2d"
           }
          ],
          "histogram2dcontour": [
           {
            "colorbar": {
             "outlinewidth": 0,
             "ticks": ""
            },
            "colorscale": [
             [
              0,
              "#0d0887"
             ],
             [
              0.1111111111111111,
              "#46039f"
             ],
             [
              0.2222222222222222,
              "#7201a8"
             ],
             [
              0.3333333333333333,
              "#9c179e"
             ],
             [
              0.4444444444444444,
              "#bd3786"
             ],
             [
              0.5555555555555556,
              "#d8576b"
             ],
             [
              0.6666666666666666,
              "#ed7953"
             ],
             [
              0.7777777777777778,
              "#fb9f3a"
             ],
             [
              0.8888888888888888,
              "#fdca26"
             ],
             [
              1,
              "#f0f921"
             ]
            ],
            "type": "histogram2dcontour"
           }
          ],
          "mesh3d": [
           {
            "colorbar": {
             "outlinewidth": 0,
             "ticks": ""
            },
            "type": "mesh3d"
           }
          ],
          "parcoords": [
           {
            "line": {
             "colorbar": {
              "outlinewidth": 0,
              "ticks": ""
             }
            },
            "type": "parcoords"
           }
          ],
          "pie": [
           {
            "automargin": true,
            "type": "pie"
           }
          ],
          "scatter": [
           {
            "marker": {
             "colorbar": {
              "outlinewidth": 0,
              "ticks": ""
             }
            },
            "type": "scatter"
           }
          ],
          "scatter3d": [
           {
            "line": {
             "colorbar": {
              "outlinewidth": 0,
              "ticks": ""
             }
            },
            "marker": {
             "colorbar": {
              "outlinewidth": 0,
              "ticks": ""
             }
            },
            "type": "scatter3d"
           }
          ],
          "scattercarpet": [
           {
            "marker": {
             "colorbar": {
              "outlinewidth": 0,
              "ticks": ""
             }
            },
            "type": "scattercarpet"
           }
          ],
          "scattergeo": [
           {
            "marker": {
             "colorbar": {
              "outlinewidth": 0,
              "ticks": ""
             }
            },
            "type": "scattergeo"
           }
          ],
          "scattergl": [
           {
            "marker": {
             "colorbar": {
              "outlinewidth": 0,
              "ticks": ""
             }
            },
            "type": "scattergl"
           }
          ],
          "scattermapbox": [
           {
            "marker": {
             "colorbar": {
              "outlinewidth": 0,
              "ticks": ""
             }
            },
            "type": "scattermapbox"
           }
          ],
          "scatterpolar": [
           {
            "marker": {
             "colorbar": {
              "outlinewidth": 0,
              "ticks": ""
             }
            },
            "type": "scatterpolar"
           }
          ],
          "scatterpolargl": [
           {
            "marker": {
             "colorbar": {
              "outlinewidth": 0,
              "ticks": ""
             }
            },
            "type": "scatterpolargl"
           }
          ],
          "scatterternary": [
           {
            "marker": {
             "colorbar": {
              "outlinewidth": 0,
              "ticks": ""
             }
            },
            "type": "scatterternary"
           }
          ],
          "surface": [
           {
            "colorbar": {
             "outlinewidth": 0,
             "ticks": ""
            },
            "colorscale": [
             [
              0,
              "#0d0887"
             ],
             [
              0.1111111111111111,
              "#46039f"
             ],
             [
              0.2222222222222222,
              "#7201a8"
             ],
             [
              0.3333333333333333,
              "#9c179e"
             ],
             [
              0.4444444444444444,
              "#bd3786"
             ],
             [
              0.5555555555555556,
              "#d8576b"
             ],
             [
              0.6666666666666666,
              "#ed7953"
             ],
             [
              0.7777777777777778,
              "#fb9f3a"
             ],
             [
              0.8888888888888888,
              "#fdca26"
             ],
             [
              1,
              "#f0f921"
             ]
            ],
            "type": "surface"
           }
          ],
          "table": [
           {
            "cells": {
             "fill": {
              "color": "#EBF0F8"
             },
             "line": {
              "color": "white"
             }
            },
            "header": {
             "fill": {
              "color": "#C8D4E3"
             },
             "line": {
              "color": "white"
             }
            },
            "type": "table"
           }
          ]
         },
         "layout": {
          "annotationdefaults": {
           "arrowcolor": "#2a3f5f",
           "arrowhead": 0,
           "arrowwidth": 1
          },
          "autotypenumbers": "strict",
          "coloraxis": {
           "colorbar": {
            "outlinewidth": 0,
            "ticks": ""
           }
          },
          "colorscale": {
           "diverging": [
            [
             0,
             "#8e0152"
            ],
            [
             0.1,
             "#c51b7d"
            ],
            [
             0.2,
             "#de77ae"
            ],
            [
             0.3,
             "#f1b6da"
            ],
            [
             0.4,
             "#fde0ef"
            ],
            [
             0.5,
             "#f7f7f7"
            ],
            [
             0.6,
             "#e6f5d0"
            ],
            [
             0.7,
             "#b8e186"
            ],
            [
             0.8,
             "#7fbc41"
            ],
            [
             0.9,
             "#4d9221"
            ],
            [
             1,
             "#276419"
            ]
           ],
           "sequential": [
            [
             0,
             "#0d0887"
            ],
            [
             0.1111111111111111,
             "#46039f"
            ],
            [
             0.2222222222222222,
             "#7201a8"
            ],
            [
             0.3333333333333333,
             "#9c179e"
            ],
            [
             0.4444444444444444,
             "#bd3786"
            ],
            [
             0.5555555555555556,
             "#d8576b"
            ],
            [
             0.6666666666666666,
             "#ed7953"
            ],
            [
             0.7777777777777778,
             "#fb9f3a"
            ],
            [
             0.8888888888888888,
             "#fdca26"
            ],
            [
             1,
             "#f0f921"
            ]
           ],
           "sequentialminus": [
            [
             0,
             "#0d0887"
            ],
            [
             0.1111111111111111,
             "#46039f"
            ],
            [
             0.2222222222222222,
             "#7201a8"
            ],
            [
             0.3333333333333333,
             "#9c179e"
            ],
            [
             0.4444444444444444,
             "#bd3786"
            ],
            [
             0.5555555555555556,
             "#d8576b"
            ],
            [
             0.6666666666666666,
             "#ed7953"
            ],
            [
             0.7777777777777778,
             "#fb9f3a"
            ],
            [
             0.8888888888888888,
             "#fdca26"
            ],
            [
             1,
             "#f0f921"
            ]
           ]
          },
          "colorway": [
           "#636efa",
           "#EF553B",
           "#00cc96",
           "#ab63fa",
           "#FFA15A",
           "#19d3f3",
           "#FF6692",
           "#B6E880",
           "#FF97FF",
           "#FECB52"
          ],
          "font": {
           "color": "#2a3f5f"
          },
          "geo": {
           "bgcolor": "white",
           "lakecolor": "white",
           "landcolor": "#E5ECF6",
           "showlakes": true,
           "showland": true,
           "subunitcolor": "white"
          },
          "hoverlabel": {
           "align": "left"
          },
          "hovermode": "closest",
          "mapbox": {
           "style": "light"
          },
          "paper_bgcolor": "white",
          "plot_bgcolor": "#E5ECF6",
          "polar": {
           "angularaxis": {
            "gridcolor": "white",
            "linecolor": "white",
            "ticks": ""
           },
           "bgcolor": "#E5ECF6",
           "radialaxis": {
            "gridcolor": "white",
            "linecolor": "white",
            "ticks": ""
           }
          },
          "scene": {
           "xaxis": {
            "backgroundcolor": "#E5ECF6",
            "gridcolor": "white",
            "gridwidth": 2,
            "linecolor": "white",
            "showbackground": true,
            "ticks": "",
            "zerolinecolor": "white"
           },
           "yaxis": {
            "backgroundcolor": "#E5ECF6",
            "gridcolor": "white",
            "gridwidth": 2,
            "linecolor": "white",
            "showbackground": true,
            "ticks": "",
            "zerolinecolor": "white"
           },
           "zaxis": {
            "backgroundcolor": "#E5ECF6",
            "gridcolor": "white",
            "gridwidth": 2,
            "linecolor": "white",
            "showbackground": true,
            "ticks": "",
            "zerolinecolor": "white"
           }
          },
          "shapedefaults": {
           "line": {
            "color": "#2a3f5f"
           }
          },
          "ternary": {
           "aaxis": {
            "gridcolor": "white",
            "linecolor": "white",
            "ticks": ""
           },
           "baxis": {
            "gridcolor": "white",
            "linecolor": "white",
            "ticks": ""
           },
           "bgcolor": "#E5ECF6",
           "caxis": {
            "gridcolor": "white",
            "linecolor": "white",
            "ticks": ""
           }
          },
          "title": {
           "x": 0.05
          },
          "xaxis": {
           "automargin": true,
           "gridcolor": "white",
           "linecolor": "white",
           "ticks": "",
           "title": {
            "standoff": 15
           },
           "zerolinecolor": "white",
           "zerolinewidth": 2
          },
          "yaxis": {
           "automargin": true,
           "gridcolor": "white",
           "linecolor": "white",
           "ticks": "",
           "title": {
            "standoff": 15
           },
           "zerolinecolor": "white",
           "zerolinewidth": 2
          }
         }
        },
        "title": {
         "font": {
          "color": "#4D5663"
         }
        },
        "xaxis": {
         "gridcolor": "#E1E5ED",
         "showgrid": true,
         "tickfont": {
          "color": "#4D5663"
         },
         "title": {
          "font": {
           "color": "#4D5663"
          },
          "text": ""
         },
         "zerolinecolor": "#E1E5ED"
        },
        "yaxis": {
         "gridcolor": "#E1E5ED",
         "showgrid": true,
         "tickfont": {
          "color": "#4D5663"
         },
         "title": {
          "font": {
           "color": "#4D5663"
          },
          "text": ""
         },
         "zerolinecolor": "#E1E5ED"
        }
       }
      },
      "text/html": [
       "<div>                            <div id=\"d802ab5d-6e80-405d-baaf-99a2f23057ad\" class=\"plotly-graph-div\" style=\"height:525px; width:100%;\"></div>            <script type=\"text/javascript\">                require([\"plotly\"], function(Plotly) {                    window.PLOTLYENV=window.PLOTLYENV || {};\n",
       "                    window.PLOTLYENV.BASE_URL='https://plot.ly';                                    if (document.getElementById(\"d802ab5d-6e80-405d-baaf-99a2f23057ad\")) {                    Plotly.newPlot(                        \"d802ab5d-6e80-405d-baaf-99a2f23057ad\",                        [{\"histfunc\":\"count\",\"histnorm\":\"\",\"marker\":{\"color\":\"rgba(255, 153, 51, 1.0)\",\"line\":{\"color\":\"#4D5663\",\"width\":1.3}},\"name\":\"A\",\"nbinsx\":25,\"opacity\":0.8,\"orientation\":\"v\",\"type\":\"histogram\",\"x\":[-0.5179271967863107,-0.43117640845718924,-0.7425433984463287,-0.7089570997832738,-0.0361529193067307,0.07522673552826692,-1.4131665855296218,-0.0031556109683627954,-0.5302505856350661,-1.4127977371366855,0.2087659396050563,-1.4131760875032837,-0.30928347102426945,-0.483488097111868,-0.06312965999867666,1.9258679259374294,1.4587125869684525,1.3580817403999588,0.6622586311843047,-0.240272587802109,-1.6140007340343672,-0.809880896517053,0.17882016129592684,-1.918619035060385,0.5639175432044878,0.7003026318927348,1.1871330769452881,2.621530460729752,-0.05226547135199387,-0.8857947444659938,0.29778182041096535,0.8314995551078086,0.8277350723928936,0.9807667281146693,-0.45636567990437055,-0.8287489631818937,-0.02409698397342725,1.1224562643047222,-0.10774074979314044,-0.4703262271315255,-0.24485739399715936,-0.7209811457686358,0.543656350365433,-1.0910512142922943,1.6146687797051722,1.272671565444567,-1.4969566494241922,0.49724268869042015,0.5762497665318234,0.9173715082787924,-0.3156771970691579,-1.5465554615957646,0.5365559969570894,-0.16681688603908454,0.5422513086930213,0.11702639045880345,0.8662033868093464,0.7950354856934065,-0.3692169523733393,2.185699925373505,-0.19711391724350172,-0.7801751589593686,1.5742708527925775,-0.3998953876637889,-0.12030457591217633,-1.363206492841364,0.1538230355317382,-0.2873090931451748,0.1526156484030482,-0.76742908384936,0.004822975700221074,-0.44140319312826604,0.7217093953262547,0.5286866127120267,-1.7027276677246608,-0.8067393232956829,-1.8513726371721704,1.0938465376835904,-1.292754654635878,-0.7940460298498865,-2.0091587452108204,1.053284917771941,0.5505835572480933,-1.270031759248562,-0.6446601496996719,-0.7047831805932557,-0.5097574343620287,-1.1067233133199088,-0.47331615373991254,0.8566597266341112,-1.1402325893281335,-0.9191188365872801,-0.47871460470651567,0.3480989521997855,-0.02679045217886534,-1.1023603518297882,0.4308022821887071,0.12713866089653922,-0.34931893784546914,-0.22785308304094232]}],                        {\"barmode\":\"overlay\",\"legend\":{\"bgcolor\":\"#F5F6F9\",\"font\":{\"color\":\"#4D5663\"}},\"paper_bgcolor\":\"#F5F6F9\",\"plot_bgcolor\":\"#F5F6F9\",\"template\":{\"data\":{\"bar\":[{\"error_x\":{\"color\":\"#2a3f5f\"},\"error_y\":{\"color\":\"#2a3f5f\"},\"marker\":{\"line\":{\"color\":\"#E5ECF6\",\"width\":0.5},\"pattern\":{\"fillmode\":\"overlay\",\"size\":10,\"solidity\":0.2}},\"type\":\"bar\"}],\"barpolar\":[{\"marker\":{\"line\":{\"color\":\"#E5ECF6\",\"width\":0.5},\"pattern\":{\"fillmode\":\"overlay\",\"size\":10,\"solidity\":0.2}},\"type\":\"barpolar\"}],\"carpet\":[{\"aaxis\":{\"endlinecolor\":\"#2a3f5f\",\"gridcolor\":\"white\",\"linecolor\":\"white\",\"minorgridcolor\":\"white\",\"startlinecolor\":\"#2a3f5f\"},\"baxis\":{\"endlinecolor\":\"#2a3f5f\",\"gridcolor\":\"white\",\"linecolor\":\"white\",\"minorgridcolor\":\"white\",\"startlinecolor\":\"#2a3f5f\"},\"type\":\"carpet\"}],\"choropleth\":[{\"colorbar\":{\"outlinewidth\":0,\"ticks\":\"\"},\"type\":\"choropleth\"}],\"contour\":[{\"colorbar\":{\"outlinewidth\":0,\"ticks\":\"\"},\"colorscale\":[[0.0,\"#0d0887\"],[0.1111111111111111,\"#46039f\"],[0.2222222222222222,\"#7201a8\"],[0.3333333333333333,\"#9c179e\"],[0.4444444444444444,\"#bd3786\"],[0.5555555555555556,\"#d8576b\"],[0.6666666666666666,\"#ed7953\"],[0.7777777777777778,\"#fb9f3a\"],[0.8888888888888888,\"#fdca26\"],[1.0,\"#f0f921\"]],\"type\":\"contour\"}],\"contourcarpet\":[{\"colorbar\":{\"outlinewidth\":0,\"ticks\":\"\"},\"type\":\"contourcarpet\"}],\"heatmap\":[{\"colorbar\":{\"outlinewidth\":0,\"ticks\":\"\"},\"colorscale\":[[0.0,\"#0d0887\"],[0.1111111111111111,\"#46039f\"],[0.2222222222222222,\"#7201a8\"],[0.3333333333333333,\"#9c179e\"],[0.4444444444444444,\"#bd3786\"],[0.5555555555555556,\"#d8576b\"],[0.6666666666666666,\"#ed7953\"],[0.7777777777777778,\"#fb9f3a\"],[0.8888888888888888,\"#fdca26\"],[1.0,\"#f0f921\"]],\"type\":\"heatmap\"}],\"heatmapgl\":[{\"colorbar\":{\"outlinewidth\":0,\"ticks\":\"\"},\"colorscale\":[[0.0,\"#0d0887\"],[0.1111111111111111,\"#46039f\"],[0.2222222222222222,\"#7201a8\"],[0.3333333333333333,\"#9c179e\"],[0.4444444444444444,\"#bd3786\"],[0.5555555555555556,\"#d8576b\"],[0.6666666666666666,\"#ed7953\"],[0.7777777777777778,\"#fb9f3a\"],[0.8888888888888888,\"#fdca26\"],[1.0,\"#f0f921\"]],\"type\":\"heatmapgl\"}],\"histogram\":[{\"marker\":{\"pattern\":{\"fillmode\":\"overlay\",\"size\":10,\"solidity\":0.2}},\"type\":\"histogram\"}],\"histogram2d\":[{\"colorbar\":{\"outlinewidth\":0,\"ticks\":\"\"},\"colorscale\":[[0.0,\"#0d0887\"],[0.1111111111111111,\"#46039f\"],[0.2222222222222222,\"#7201a8\"],[0.3333333333333333,\"#9c179e\"],[0.4444444444444444,\"#bd3786\"],[0.5555555555555556,\"#d8576b\"],[0.6666666666666666,\"#ed7953\"],[0.7777777777777778,\"#fb9f3a\"],[0.8888888888888888,\"#fdca26\"],[1.0,\"#f0f921\"]],\"type\":\"histogram2d\"}],\"histogram2dcontour\":[{\"colorbar\":{\"outlinewidth\":0,\"ticks\":\"\"},\"colorscale\":[[0.0,\"#0d0887\"],[0.1111111111111111,\"#46039f\"],[0.2222222222222222,\"#7201a8\"],[0.3333333333333333,\"#9c179e\"],[0.4444444444444444,\"#bd3786\"],[0.5555555555555556,\"#d8576b\"],[0.6666666666666666,\"#ed7953\"],[0.7777777777777778,\"#fb9f3a\"],[0.8888888888888888,\"#fdca26\"],[1.0,\"#f0f921\"]],\"type\":\"histogram2dcontour\"}],\"mesh3d\":[{\"colorbar\":{\"outlinewidth\":0,\"ticks\":\"\"},\"type\":\"mesh3d\"}],\"parcoords\":[{\"line\":{\"colorbar\":{\"outlinewidth\":0,\"ticks\":\"\"}},\"type\":\"parcoords\"}],\"pie\":[{\"automargin\":true,\"type\":\"pie\"}],\"scatter\":[{\"marker\":{\"colorbar\":{\"outlinewidth\":0,\"ticks\":\"\"}},\"type\":\"scatter\"}],\"scatter3d\":[{\"line\":{\"colorbar\":{\"outlinewidth\":0,\"ticks\":\"\"}},\"marker\":{\"colorbar\":{\"outlinewidth\":0,\"ticks\":\"\"}},\"type\":\"scatter3d\"}],\"scattercarpet\":[{\"marker\":{\"colorbar\":{\"outlinewidth\":0,\"ticks\":\"\"}},\"type\":\"scattercarpet\"}],\"scattergeo\":[{\"marker\":{\"colorbar\":{\"outlinewidth\":0,\"ticks\":\"\"}},\"type\":\"scattergeo\"}],\"scattergl\":[{\"marker\":{\"colorbar\":{\"outlinewidth\":0,\"ticks\":\"\"}},\"type\":\"scattergl\"}],\"scattermapbox\":[{\"marker\":{\"colorbar\":{\"outlinewidth\":0,\"ticks\":\"\"}},\"type\":\"scattermapbox\"}],\"scatterpolar\":[{\"marker\":{\"colorbar\":{\"outlinewidth\":0,\"ticks\":\"\"}},\"type\":\"scatterpolar\"}],\"scatterpolargl\":[{\"marker\":{\"colorbar\":{\"outlinewidth\":0,\"ticks\":\"\"}},\"type\":\"scatterpolargl\"}],\"scatterternary\":[{\"marker\":{\"colorbar\":{\"outlinewidth\":0,\"ticks\":\"\"}},\"type\":\"scatterternary\"}],\"surface\":[{\"colorbar\":{\"outlinewidth\":0,\"ticks\":\"\"},\"colorscale\":[[0.0,\"#0d0887\"],[0.1111111111111111,\"#46039f\"],[0.2222222222222222,\"#7201a8\"],[0.3333333333333333,\"#9c179e\"],[0.4444444444444444,\"#bd3786\"],[0.5555555555555556,\"#d8576b\"],[0.6666666666666666,\"#ed7953\"],[0.7777777777777778,\"#fb9f3a\"],[0.8888888888888888,\"#fdca26\"],[1.0,\"#f0f921\"]],\"type\":\"surface\"}],\"table\":[{\"cells\":{\"fill\":{\"color\":\"#EBF0F8\"},\"line\":{\"color\":\"white\"}},\"header\":{\"fill\":{\"color\":\"#C8D4E3\"},\"line\":{\"color\":\"white\"}},\"type\":\"table\"}]},\"layout\":{\"annotationdefaults\":{\"arrowcolor\":\"#2a3f5f\",\"arrowhead\":0,\"arrowwidth\":1},\"autotypenumbers\":\"strict\",\"coloraxis\":{\"colorbar\":{\"outlinewidth\":0,\"ticks\":\"\"}},\"colorscale\":{\"diverging\":[[0,\"#8e0152\"],[0.1,\"#c51b7d\"],[0.2,\"#de77ae\"],[0.3,\"#f1b6da\"],[0.4,\"#fde0ef\"],[0.5,\"#f7f7f7\"],[0.6,\"#e6f5d0\"],[0.7,\"#b8e186\"],[0.8,\"#7fbc41\"],[0.9,\"#4d9221\"],[1,\"#276419\"]],\"sequential\":[[0.0,\"#0d0887\"],[0.1111111111111111,\"#46039f\"],[0.2222222222222222,\"#7201a8\"],[0.3333333333333333,\"#9c179e\"],[0.4444444444444444,\"#bd3786\"],[0.5555555555555556,\"#d8576b\"],[0.6666666666666666,\"#ed7953\"],[0.7777777777777778,\"#fb9f3a\"],[0.8888888888888888,\"#fdca26\"],[1.0,\"#f0f921\"]],\"sequentialminus\":[[0.0,\"#0d0887\"],[0.1111111111111111,\"#46039f\"],[0.2222222222222222,\"#7201a8\"],[0.3333333333333333,\"#9c179e\"],[0.4444444444444444,\"#bd3786\"],[0.5555555555555556,\"#d8576b\"],[0.6666666666666666,\"#ed7953\"],[0.7777777777777778,\"#fb9f3a\"],[0.8888888888888888,\"#fdca26\"],[1.0,\"#f0f921\"]]},\"colorway\":[\"#636efa\",\"#EF553B\",\"#00cc96\",\"#ab63fa\",\"#FFA15A\",\"#19d3f3\",\"#FF6692\",\"#B6E880\",\"#FF97FF\",\"#FECB52\"],\"font\":{\"color\":\"#2a3f5f\"},\"geo\":{\"bgcolor\":\"white\",\"lakecolor\":\"white\",\"landcolor\":\"#E5ECF6\",\"showlakes\":true,\"showland\":true,\"subunitcolor\":\"white\"},\"hoverlabel\":{\"align\":\"left\"},\"hovermode\":\"closest\",\"mapbox\":{\"style\":\"light\"},\"paper_bgcolor\":\"white\",\"plot_bgcolor\":\"#E5ECF6\",\"polar\":{\"angularaxis\":{\"gridcolor\":\"white\",\"linecolor\":\"white\",\"ticks\":\"\"},\"bgcolor\":\"#E5ECF6\",\"radialaxis\":{\"gridcolor\":\"white\",\"linecolor\":\"white\",\"ticks\":\"\"}},\"scene\":{\"xaxis\":{\"backgroundcolor\":\"#E5ECF6\",\"gridcolor\":\"white\",\"gridwidth\":2,\"linecolor\":\"white\",\"showbackground\":true,\"ticks\":\"\",\"zerolinecolor\":\"white\"},\"yaxis\":{\"backgroundcolor\":\"#E5ECF6\",\"gridcolor\":\"white\",\"gridwidth\":2,\"linecolor\":\"white\",\"showbackground\":true,\"ticks\":\"\",\"zerolinecolor\":\"white\"},\"zaxis\":{\"backgroundcolor\":\"#E5ECF6\",\"gridcolor\":\"white\",\"gridwidth\":2,\"linecolor\":\"white\",\"showbackground\":true,\"ticks\":\"\",\"zerolinecolor\":\"white\"}},\"shapedefaults\":{\"line\":{\"color\":\"#2a3f5f\"}},\"ternary\":{\"aaxis\":{\"gridcolor\":\"white\",\"linecolor\":\"white\",\"ticks\":\"\"},\"baxis\":{\"gridcolor\":\"white\",\"linecolor\":\"white\",\"ticks\":\"\"},\"bgcolor\":\"#E5ECF6\",\"caxis\":{\"gridcolor\":\"white\",\"linecolor\":\"white\",\"ticks\":\"\"}},\"title\":{\"x\":0.05},\"xaxis\":{\"automargin\":true,\"gridcolor\":\"white\",\"linecolor\":\"white\",\"ticks\":\"\",\"title\":{\"standoff\":15},\"zerolinecolor\":\"white\",\"zerolinewidth\":2},\"yaxis\":{\"automargin\":true,\"gridcolor\":\"white\",\"linecolor\":\"white\",\"ticks\":\"\",\"title\":{\"standoff\":15},\"zerolinecolor\":\"white\",\"zerolinewidth\":2}}},\"title\":{\"font\":{\"color\":\"#4D5663\"}},\"xaxis\":{\"gridcolor\":\"#E1E5ED\",\"showgrid\":true,\"tickfont\":{\"color\":\"#4D5663\"},\"title\":{\"font\":{\"color\":\"#4D5663\"},\"text\":\"\"},\"zerolinecolor\":\"#E1E5ED\"},\"yaxis\":{\"gridcolor\":\"#E1E5ED\",\"showgrid\":true,\"tickfont\":{\"color\":\"#4D5663\"},\"title\":{\"font\":{\"color\":\"#4D5663\"},\"text\":\"\"},\"zerolinecolor\":\"#E1E5ED\"}},                        {\"showLink\": true, \"linkText\": \"Export to plot.ly\", \"plotlyServerURL\": \"https://plot.ly\", \"responsive\": true}                    ).then(function(){\n",
       "                            \n",
       "var gd = document.getElementById('d802ab5d-6e80-405d-baaf-99a2f23057ad');\n",
       "var x = new MutationObserver(function (mutations, observer) {{\n",
       "        var display = window.getComputedStyle(gd).display;\n",
       "        if (!display || display === 'none') {{\n",
       "            console.log([gd, 'removed!']);\n",
       "            Plotly.purge(gd);\n",
       "            observer.disconnect();\n",
       "        }}\n",
       "}});\n",
       "\n",
       "// Listen for the removal of the full notebook cells\n",
       "var notebookContainer = gd.closest('#notebook-container');\n",
       "if (notebookContainer) {{\n",
       "    x.observe(notebookContainer, {childList: true});\n",
       "}}\n",
       "\n",
       "// Listen for the clearing of the current output cell\n",
       "var outputEl = gd.closest('.output');\n",
       "if (outputEl) {{\n",
       "    x.observe(outputEl, {childList: true});\n",
       "}}\n",
       "\n",
       "                        })                };                });            </script>        </div>"
      ]
     },
     "metadata": {},
     "output_type": "display_data"
    }
   ],
   "source": [
    "df['A'].iplot(kind='hist',bins=25)"
   ]
  },
  {
   "cell_type": "code",
   "execution_count": 20,
   "metadata": {},
   "outputs": [
    {
     "data": {
      "application/vnd.plotly.v1+json": {
       "config": {
        "linkText": "Export to plot.ly",
        "plotlyServerURL": "https://plot.ly",
        "showLink": true
       },
       "data": [
        {
         "marker": {
          "color": [
           "rgb(255, 153, 51)",
           "rgb(55, 128, 191)",
           "rgb(50, 171, 96)",
           "rgb(128, 0, 128)",
           "rgb(219, 64, 82)",
           "rgb(0, 128, 128)",
           "rgb(255, 255, 51)",
           "rgb(128, 128, 0)",
           "rgb(251, 128, 114)",
           "rgb(128, 177, 211)"
          ],
          "line": {
           "width": 1.3
          },
          "size": [
           74,
           38,
           66,
           40,
           56,
           59,
           61,
           49,
           50,
           62,
           78,
           45,
           12,
           79,
           71,
           46,
           74,
           16,
           63,
           69,
           69,
           23,
           61,
           44,
           110,
           69,
           37,
           44,
           43,
           47,
           46,
           71,
           39,
           112,
           64,
           45,
           51,
           95,
           45,
           58,
           68,
           18,
           57,
           46,
           79,
           67,
           61,
           35,
           64,
           48,
           47,
           57,
           99,
           54,
           47,
           31,
           74,
           20,
           90,
           60,
           35,
           69,
           45,
           70,
           55,
           67,
           54,
           54,
           70,
           41,
           78,
           31,
           45,
           66,
           68,
           29,
           72,
           69,
           44,
           100,
           80,
           90,
           58,
           66,
           70,
           38,
           77,
           65,
           41,
           62,
           63,
           57,
           49,
           58,
           66,
           26,
           59,
           51,
           57,
           33
          ],
          "symbol": "circle"
         },
         "mode": "markers",
         "text": "",
         "type": "scatter",
         "x": [
          -0.5179271967863107,
          -0.43117640845718924,
          -0.7425433984463287,
          -0.7089570997832738,
          -0.0361529193067307,
          0.07522673552826692,
          -1.4131665855296218,
          -0.0031556109683627954,
          -0.5302505856350661,
          -1.4127977371366855,
          0.2087659396050563,
          -1.4131760875032837,
          -0.30928347102426945,
          -0.483488097111868,
          -0.06312965999867666,
          1.9258679259374294,
          1.4587125869684525,
          1.3580817403999588,
          0.6622586311843047,
          -0.240272587802109,
          -1.6140007340343672,
          -0.809880896517053,
          0.17882016129592684,
          -1.918619035060385,
          0.5639175432044878,
          0.7003026318927348,
          1.1871330769452881,
          2.621530460729752,
          -0.05226547135199387,
          -0.8857947444659938,
          0.29778182041096535,
          0.8314995551078086,
          0.8277350723928936,
          0.9807667281146693,
          -0.45636567990437055,
          -0.8287489631818937,
          -0.02409698397342725,
          1.1224562643047222,
          -0.10774074979314044,
          -0.4703262271315255,
          -0.24485739399715936,
          -0.7209811457686358,
          0.543656350365433,
          -1.0910512142922943,
          1.6146687797051722,
          1.272671565444567,
          -1.4969566494241922,
          0.49724268869042015,
          0.5762497665318234,
          0.9173715082787924,
          -0.3156771970691579,
          -1.5465554615957646,
          0.5365559969570894,
          -0.16681688603908454,
          0.5422513086930213,
          0.11702639045880345,
          0.8662033868093464,
          0.7950354856934065,
          -0.3692169523733393,
          2.185699925373505,
          -0.19711391724350172,
          -0.7801751589593686,
          1.5742708527925775,
          -0.3998953876637889,
          -0.12030457591217633,
          -1.363206492841364,
          0.1538230355317382,
          -0.2873090931451748,
          0.1526156484030482,
          -0.76742908384936,
          0.004822975700221074,
          -0.44140319312826604,
          0.7217093953262547,
          0.5286866127120267,
          -1.7027276677246608,
          -0.8067393232956829,
          -1.8513726371721704,
          1.0938465376835904,
          -1.292754654635878,
          -0.7940460298498865,
          -2.0091587452108204,
          1.053284917771941,
          0.5505835572480933,
          -1.270031759248562,
          -0.6446601496996719,
          -0.7047831805932557,
          -0.5097574343620287,
          -1.1067233133199088,
          -0.47331615373991254,
          0.8566597266341112,
          -1.1402325893281335,
          -0.9191188365872801,
          -0.47871460470651567,
          0.3480989521997855,
          -0.02679045217886534,
          -1.1023603518297882,
          0.4308022821887071,
          0.12713866089653922,
          -0.34931893784546914,
          -0.22785308304094232
         ],
         "y": [
          -0.3758500097309625,
          -0.16535367948668075,
          -0.5128744340332714,
          -1.8423189367048123,
          -1.1356305868368282,
          1.2950944141943472,
          -1.6311579305760227,
          0.016688836964509558,
          0.3083634203789976,
          0.05103396975288527,
          0.05679467739581437,
          -1.9093388798897002,
          -0.07160559652996788,
          0.6891009823108263,
          -0.023924354969763355,
          -1.1380916706848383,
          1.3578446352346254,
          1.4038591603561459,
          -0.7963802619073149,
          1.0957560929375854,
          -1.818438255277656,
          0.518952747348584,
          0.15766209751886662,
          -1.194762952135624,
          0.851137584451354,
          0.15136057281811752,
          0.8314766491511106,
          -2.24436491310048,
          -1.32618950252785,
          1.6139261366070685,
          1.2267569037271193,
          -0.4821519323592516,
          -1.0068080096810863,
          -0.6015152385898623,
          -0.4794807614204026,
          0.8255089329806143,
          0.20952100918864586,
          1.3880503023093014,
          0.010232520009308393,
          2.0746829897571417,
          0.9580845016434512,
          -0.8915323496411762,
          0.5521516640401373,
          0.35559597058364756,
          0.7782531942868335,
          -0.9297557978788601,
          -0.08201576362981501,
          0.6199540529598736,
          -0.3168906960775201,
          1.5566902016173185,
          -1.0209462255190862,
          0.5188172873553452,
          -0.6199604386138304,
          -0.4761167778402319,
          2.612138955071329,
          -0.4308806060321718,
          -2.5189769893132805,
          0.36864828172669745,
          -0.5418048550803195,
          0.028049888979844513,
          -0.764192926505916,
          -0.44981714959126307,
          -0.2256182492838925,
          0.6677608872670738,
          0.9063299652491447,
          0.026573091595432478,
          -1.1890327279751083,
          0.495971623179748,
          -0.16708889328830456,
          -0.7957095778014049,
          -1.3663426686289486,
          -0.15925390784293836,
          -0.5275660730874695,
          0.6080931676567122,
          -1.2002907631521316,
          0.11751051846397328,
          0.2785444201863015,
          -1.0325323787581073,
          -2.108815639125478,
          0.39090580510184747,
          0.05348538976803026,
          0.3206261656274645,
          -0.5392187076266731,
          0.008276159035867443,
          1.0717865031077487,
          -0.4973337162739843,
          -0.8976955567005012,
          0.9687550475286898,
          -2.766723911241507,
          -0.2968503585431235,
          -2.532841243413473,
          -0.3855427598007159,
          -0.7023174827043425,
          -0.08809338291835991,
          1.2116323269858478,
          -0.9552803546605079,
          -0.8140868518470041,
          0.008119932279069134,
          -1.6007835806075166,
          -0.9437732992897068
         ]
        }
       ],
       "layout": {
        "legend": {
         "bgcolor": "#F5F6F9",
         "font": {
          "color": "#4D5663"
         }
        },
        "paper_bgcolor": "#F5F6F9",
        "plot_bgcolor": "#F5F6F9",
        "template": {
         "data": {
          "bar": [
           {
            "error_x": {
             "color": "#2a3f5f"
            },
            "error_y": {
             "color": "#2a3f5f"
            },
            "marker": {
             "line": {
              "color": "#E5ECF6",
              "width": 0.5
             },
             "pattern": {
              "fillmode": "overlay",
              "size": 10,
              "solidity": 0.2
             }
            },
            "type": "bar"
           }
          ],
          "barpolar": [
           {
            "marker": {
             "line": {
              "color": "#E5ECF6",
              "width": 0.5
             },
             "pattern": {
              "fillmode": "overlay",
              "size": 10,
              "solidity": 0.2
             }
            },
            "type": "barpolar"
           }
          ],
          "carpet": [
           {
            "aaxis": {
             "endlinecolor": "#2a3f5f",
             "gridcolor": "white",
             "linecolor": "white",
             "minorgridcolor": "white",
             "startlinecolor": "#2a3f5f"
            },
            "baxis": {
             "endlinecolor": "#2a3f5f",
             "gridcolor": "white",
             "linecolor": "white",
             "minorgridcolor": "white",
             "startlinecolor": "#2a3f5f"
            },
            "type": "carpet"
           }
          ],
          "choropleth": [
           {
            "colorbar": {
             "outlinewidth": 0,
             "ticks": ""
            },
            "type": "choropleth"
           }
          ],
          "contour": [
           {
            "colorbar": {
             "outlinewidth": 0,
             "ticks": ""
            },
            "colorscale": [
             [
              0,
              "#0d0887"
             ],
             [
              0.1111111111111111,
              "#46039f"
             ],
             [
              0.2222222222222222,
              "#7201a8"
             ],
             [
              0.3333333333333333,
              "#9c179e"
             ],
             [
              0.4444444444444444,
              "#bd3786"
             ],
             [
              0.5555555555555556,
              "#d8576b"
             ],
             [
              0.6666666666666666,
              "#ed7953"
             ],
             [
              0.7777777777777778,
              "#fb9f3a"
             ],
             [
              0.8888888888888888,
              "#fdca26"
             ],
             [
              1,
              "#f0f921"
             ]
            ],
            "type": "contour"
           }
          ],
          "contourcarpet": [
           {
            "colorbar": {
             "outlinewidth": 0,
             "ticks": ""
            },
            "type": "contourcarpet"
           }
          ],
          "heatmap": [
           {
            "colorbar": {
             "outlinewidth": 0,
             "ticks": ""
            },
            "colorscale": [
             [
              0,
              "#0d0887"
             ],
             [
              0.1111111111111111,
              "#46039f"
             ],
             [
              0.2222222222222222,
              "#7201a8"
             ],
             [
              0.3333333333333333,
              "#9c179e"
             ],
             [
              0.4444444444444444,
              "#bd3786"
             ],
             [
              0.5555555555555556,
              "#d8576b"
             ],
             [
              0.6666666666666666,
              "#ed7953"
             ],
             [
              0.7777777777777778,
              "#fb9f3a"
             ],
             [
              0.8888888888888888,
              "#fdca26"
             ],
             [
              1,
              "#f0f921"
             ]
            ],
            "type": "heatmap"
           }
          ],
          "heatmapgl": [
           {
            "colorbar": {
             "outlinewidth": 0,
             "ticks": ""
            },
            "colorscale": [
             [
              0,
              "#0d0887"
             ],
             [
              0.1111111111111111,
              "#46039f"
             ],
             [
              0.2222222222222222,
              "#7201a8"
             ],
             [
              0.3333333333333333,
              "#9c179e"
             ],
             [
              0.4444444444444444,
              "#bd3786"
             ],
             [
              0.5555555555555556,
              "#d8576b"
             ],
             [
              0.6666666666666666,
              "#ed7953"
             ],
             [
              0.7777777777777778,
              "#fb9f3a"
             ],
             [
              0.8888888888888888,
              "#fdca26"
             ],
             [
              1,
              "#f0f921"
             ]
            ],
            "type": "heatmapgl"
           }
          ],
          "histogram": [
           {
            "marker": {
             "pattern": {
              "fillmode": "overlay",
              "size": 10,
              "solidity": 0.2
             }
            },
            "type": "histogram"
           }
          ],
          "histogram2d": [
           {
            "colorbar": {
             "outlinewidth": 0,
             "ticks": ""
            },
            "colorscale": [
             [
              0,
              "#0d0887"
             ],
             [
              0.1111111111111111,
              "#46039f"
             ],
             [
              0.2222222222222222,
              "#7201a8"
             ],
             [
              0.3333333333333333,
              "#9c179e"
             ],
             [
              0.4444444444444444,
              "#bd3786"
             ],
             [
              0.5555555555555556,
              "#d8576b"
             ],
             [
              0.6666666666666666,
              "#ed7953"
             ],
             [
              0.7777777777777778,
              "#fb9f3a"
             ],
             [
              0.8888888888888888,
              "#fdca26"
             ],
             [
              1,
              "#f0f921"
             ]
            ],
            "type": "histogram2d"
           }
          ],
          "histogram2dcontour": [
           {
            "colorbar": {
             "outlinewidth": 0,
             "ticks": ""
            },
            "colorscale": [
             [
              0,
              "#0d0887"
             ],
             [
              0.1111111111111111,
              "#46039f"
             ],
             [
              0.2222222222222222,
              "#7201a8"
             ],
             [
              0.3333333333333333,
              "#9c179e"
             ],
             [
              0.4444444444444444,
              "#bd3786"
             ],
             [
              0.5555555555555556,
              "#d8576b"
             ],
             [
              0.6666666666666666,
              "#ed7953"
             ],
             [
              0.7777777777777778,
              "#fb9f3a"
             ],
             [
              0.8888888888888888,
              "#fdca26"
             ],
             [
              1,
              "#f0f921"
             ]
            ],
            "type": "histogram2dcontour"
           }
          ],
          "mesh3d": [
           {
            "colorbar": {
             "outlinewidth": 0,
             "ticks": ""
            },
            "type": "mesh3d"
           }
          ],
          "parcoords": [
           {
            "line": {
             "colorbar": {
              "outlinewidth": 0,
              "ticks": ""
             }
            },
            "type": "parcoords"
           }
          ],
          "pie": [
           {
            "automargin": true,
            "type": "pie"
           }
          ],
          "scatter": [
           {
            "marker": {
             "colorbar": {
              "outlinewidth": 0,
              "ticks": ""
             }
            },
            "type": "scatter"
           }
          ],
          "scatter3d": [
           {
            "line": {
             "colorbar": {
              "outlinewidth": 0,
              "ticks": ""
             }
            },
            "marker": {
             "colorbar": {
              "outlinewidth": 0,
              "ticks": ""
             }
            },
            "type": "scatter3d"
           }
          ],
          "scattercarpet": [
           {
            "marker": {
             "colorbar": {
              "outlinewidth": 0,
              "ticks": ""
             }
            },
            "type": "scattercarpet"
           }
          ],
          "scattergeo": [
           {
            "marker": {
             "colorbar": {
              "outlinewidth": 0,
              "ticks": ""
             }
            },
            "type": "scattergeo"
           }
          ],
          "scattergl": [
           {
            "marker": {
             "colorbar": {
              "outlinewidth": 0,
              "ticks": ""
             }
            },
            "type": "scattergl"
           }
          ],
          "scattermapbox": [
           {
            "marker": {
             "colorbar": {
              "outlinewidth": 0,
              "ticks": ""
             }
            },
            "type": "scattermapbox"
           }
          ],
          "scatterpolar": [
           {
            "marker": {
             "colorbar": {
              "outlinewidth": 0,
              "ticks": ""
             }
            },
            "type": "scatterpolar"
           }
          ],
          "scatterpolargl": [
           {
            "marker": {
             "colorbar": {
              "outlinewidth": 0,
              "ticks": ""
             }
            },
            "type": "scatterpolargl"
           }
          ],
          "scatterternary": [
           {
            "marker": {
             "colorbar": {
              "outlinewidth": 0,
              "ticks": ""
             }
            },
            "type": "scatterternary"
           }
          ],
          "surface": [
           {
            "colorbar": {
             "outlinewidth": 0,
             "ticks": ""
            },
            "colorscale": [
             [
              0,
              "#0d0887"
             ],
             [
              0.1111111111111111,
              "#46039f"
             ],
             [
              0.2222222222222222,
              "#7201a8"
             ],
             [
              0.3333333333333333,
              "#9c179e"
             ],
             [
              0.4444444444444444,
              "#bd3786"
             ],
             [
              0.5555555555555556,
              "#d8576b"
             ],
             [
              0.6666666666666666,
              "#ed7953"
             ],
             [
              0.7777777777777778,
              "#fb9f3a"
             ],
             [
              0.8888888888888888,
              "#fdca26"
             ],
             [
              1,
              "#f0f921"
             ]
            ],
            "type": "surface"
           }
          ],
          "table": [
           {
            "cells": {
             "fill": {
              "color": "#EBF0F8"
             },
             "line": {
              "color": "white"
             }
            },
            "header": {
             "fill": {
              "color": "#C8D4E3"
             },
             "line": {
              "color": "white"
             }
            },
            "type": "table"
           }
          ]
         },
         "layout": {
          "annotationdefaults": {
           "arrowcolor": "#2a3f5f",
           "arrowhead": 0,
           "arrowwidth": 1
          },
          "autotypenumbers": "strict",
          "coloraxis": {
           "colorbar": {
            "outlinewidth": 0,
            "ticks": ""
           }
          },
          "colorscale": {
           "diverging": [
            [
             0,
             "#8e0152"
            ],
            [
             0.1,
             "#c51b7d"
            ],
            [
             0.2,
             "#de77ae"
            ],
            [
             0.3,
             "#f1b6da"
            ],
            [
             0.4,
             "#fde0ef"
            ],
            [
             0.5,
             "#f7f7f7"
            ],
            [
             0.6,
             "#e6f5d0"
            ],
            [
             0.7,
             "#b8e186"
            ],
            [
             0.8,
             "#7fbc41"
            ],
            [
             0.9,
             "#4d9221"
            ],
            [
             1,
             "#276419"
            ]
           ],
           "sequential": [
            [
             0,
             "#0d0887"
            ],
            [
             0.1111111111111111,
             "#46039f"
            ],
            [
             0.2222222222222222,
             "#7201a8"
            ],
            [
             0.3333333333333333,
             "#9c179e"
            ],
            [
             0.4444444444444444,
             "#bd3786"
            ],
            [
             0.5555555555555556,
             "#d8576b"
            ],
            [
             0.6666666666666666,
             "#ed7953"
            ],
            [
             0.7777777777777778,
             "#fb9f3a"
            ],
            [
             0.8888888888888888,
             "#fdca26"
            ],
            [
             1,
             "#f0f921"
            ]
           ],
           "sequentialminus": [
            [
             0,
             "#0d0887"
            ],
            [
             0.1111111111111111,
             "#46039f"
            ],
            [
             0.2222222222222222,
             "#7201a8"
            ],
            [
             0.3333333333333333,
             "#9c179e"
            ],
            [
             0.4444444444444444,
             "#bd3786"
            ],
            [
             0.5555555555555556,
             "#d8576b"
            ],
            [
             0.6666666666666666,
             "#ed7953"
            ],
            [
             0.7777777777777778,
             "#fb9f3a"
            ],
            [
             0.8888888888888888,
             "#fdca26"
            ],
            [
             1,
             "#f0f921"
            ]
           ]
          },
          "colorway": [
           "#636efa",
           "#EF553B",
           "#00cc96",
           "#ab63fa",
           "#FFA15A",
           "#19d3f3",
           "#FF6692",
           "#B6E880",
           "#FF97FF",
           "#FECB52"
          ],
          "font": {
           "color": "#2a3f5f"
          },
          "geo": {
           "bgcolor": "white",
           "lakecolor": "white",
           "landcolor": "#E5ECF6",
           "showlakes": true,
           "showland": true,
           "subunitcolor": "white"
          },
          "hoverlabel": {
           "align": "left"
          },
          "hovermode": "closest",
          "mapbox": {
           "style": "light"
          },
          "paper_bgcolor": "white",
          "plot_bgcolor": "#E5ECF6",
          "polar": {
           "angularaxis": {
            "gridcolor": "white",
            "linecolor": "white",
            "ticks": ""
           },
           "bgcolor": "#E5ECF6",
           "radialaxis": {
            "gridcolor": "white",
            "linecolor": "white",
            "ticks": ""
           }
          },
          "scene": {
           "xaxis": {
            "backgroundcolor": "#E5ECF6",
            "gridcolor": "white",
            "gridwidth": 2,
            "linecolor": "white",
            "showbackground": true,
            "ticks": "",
            "zerolinecolor": "white"
           },
           "yaxis": {
            "backgroundcolor": "#E5ECF6",
            "gridcolor": "white",
            "gridwidth": 2,
            "linecolor": "white",
            "showbackground": true,
            "ticks": "",
            "zerolinecolor": "white"
           },
           "zaxis": {
            "backgroundcolor": "#E5ECF6",
            "gridcolor": "white",
            "gridwidth": 2,
            "linecolor": "white",
            "showbackground": true,
            "ticks": "",
            "zerolinecolor": "white"
           }
          },
          "shapedefaults": {
           "line": {
            "color": "#2a3f5f"
           }
          },
          "ternary": {
           "aaxis": {
            "gridcolor": "white",
            "linecolor": "white",
            "ticks": ""
           },
           "baxis": {
            "gridcolor": "white",
            "linecolor": "white",
            "ticks": ""
           },
           "bgcolor": "#E5ECF6",
           "caxis": {
            "gridcolor": "white",
            "linecolor": "white",
            "ticks": ""
           }
          },
          "title": {
           "x": 0.05
          },
          "xaxis": {
           "automargin": true,
           "gridcolor": "white",
           "linecolor": "white",
           "ticks": "",
           "title": {
            "standoff": 15
           },
           "zerolinecolor": "white",
           "zerolinewidth": 2
          },
          "yaxis": {
           "automargin": true,
           "gridcolor": "white",
           "linecolor": "white",
           "ticks": "",
           "title": {
            "standoff": 15
           },
           "zerolinecolor": "white",
           "zerolinewidth": 2
          }
         }
        },
        "title": {
         "font": {
          "color": "#4D5663"
         }
        },
        "xaxis": {
         "gridcolor": "#E1E5ED",
         "showgrid": true,
         "tickfont": {
          "color": "#4D5663"
         },
         "title": {
          "font": {
           "color": "#4D5663"
          },
          "text": ""
         },
         "zerolinecolor": "#E1E5ED"
        },
        "yaxis": {
         "gridcolor": "#E1E5ED",
         "showgrid": true,
         "tickfont": {
          "color": "#4D5663"
         },
         "title": {
          "font": {
           "color": "#4D5663"
          },
          "text": ""
         },
         "zerolinecolor": "#E1E5ED"
        }
       }
      },
      "text/html": [
       "<div>                            <div id=\"4e711aae-7f16-49b5-b4a0-58f027737144\" class=\"plotly-graph-div\" style=\"height:525px; width:100%;\"></div>            <script type=\"text/javascript\">                require([\"plotly\"], function(Plotly) {                    window.PLOTLYENV=window.PLOTLYENV || {};\n",
       "                    window.PLOTLYENV.BASE_URL='https://plot.ly';                                    if (document.getElementById(\"4e711aae-7f16-49b5-b4a0-58f027737144\")) {                    Plotly.newPlot(                        \"4e711aae-7f16-49b5-b4a0-58f027737144\",                        [{\"marker\":{\"color\":[\"rgb(255, 153, 51)\",\"rgb(55, 128, 191)\",\"rgb(50, 171, 96)\",\"rgb(128, 0, 128)\",\"rgb(219, 64, 82)\",\"rgb(0, 128, 128)\",\"rgb(255, 255, 51)\",\"rgb(128, 128, 0)\",\"rgb(251, 128, 114)\",\"rgb(128, 177, 211)\"],\"line\":{\"width\":1.3},\"size\":[74,38,66,40,56,59,61,49,50,62,78,45,12,79,71,46,74,16,63,69,69,23,61,44,110,69,37,44,43,47,46,71,39,112,64,45,51,95,45,58,68,18,57,46,79,67,61,35,64,48,47,57,99,54,47,31,74,20,90,60,35,69,45,70,55,67,54,54,70,41,78,31,45,66,68,29,72,69,44,100,80,90,58,66,70,38,77,65,41,62,63,57,49,58,66,26,59,51,57,33],\"symbol\":\"circle\"},\"mode\":\"markers\",\"text\":\"\",\"type\":\"scatter\",\"x\":[-0.5179271967863107,-0.43117640845718924,-0.7425433984463287,-0.7089570997832738,-0.0361529193067307,0.07522673552826692,-1.4131665855296218,-0.0031556109683627954,-0.5302505856350661,-1.4127977371366855,0.2087659396050563,-1.4131760875032837,-0.30928347102426945,-0.483488097111868,-0.06312965999867666,1.9258679259374294,1.4587125869684525,1.3580817403999588,0.6622586311843047,-0.240272587802109,-1.6140007340343672,-0.809880896517053,0.17882016129592684,-1.918619035060385,0.5639175432044878,0.7003026318927348,1.1871330769452881,2.621530460729752,-0.05226547135199387,-0.8857947444659938,0.29778182041096535,0.8314995551078086,0.8277350723928936,0.9807667281146693,-0.45636567990437055,-0.8287489631818937,-0.02409698397342725,1.1224562643047222,-0.10774074979314044,-0.4703262271315255,-0.24485739399715936,-0.7209811457686358,0.543656350365433,-1.0910512142922943,1.6146687797051722,1.272671565444567,-1.4969566494241922,0.49724268869042015,0.5762497665318234,0.9173715082787924,-0.3156771970691579,-1.5465554615957646,0.5365559969570894,-0.16681688603908454,0.5422513086930213,0.11702639045880345,0.8662033868093464,0.7950354856934065,-0.3692169523733393,2.185699925373505,-0.19711391724350172,-0.7801751589593686,1.5742708527925775,-0.3998953876637889,-0.12030457591217633,-1.363206492841364,0.1538230355317382,-0.2873090931451748,0.1526156484030482,-0.76742908384936,0.004822975700221074,-0.44140319312826604,0.7217093953262547,0.5286866127120267,-1.7027276677246608,-0.8067393232956829,-1.8513726371721704,1.0938465376835904,-1.292754654635878,-0.7940460298498865,-2.0091587452108204,1.053284917771941,0.5505835572480933,-1.270031759248562,-0.6446601496996719,-0.7047831805932557,-0.5097574343620287,-1.1067233133199088,-0.47331615373991254,0.8566597266341112,-1.1402325893281335,-0.9191188365872801,-0.47871460470651567,0.3480989521997855,-0.02679045217886534,-1.1023603518297882,0.4308022821887071,0.12713866089653922,-0.34931893784546914,-0.22785308304094232],\"y\":[-0.3758500097309625,-0.16535367948668075,-0.5128744340332714,-1.8423189367048123,-1.1356305868368282,1.2950944141943472,-1.6311579305760227,0.016688836964509558,0.3083634203789976,0.05103396975288527,0.05679467739581437,-1.9093388798897002,-0.07160559652996788,0.6891009823108263,-0.023924354969763355,-1.1380916706848383,1.3578446352346254,1.4038591603561459,-0.7963802619073149,1.0957560929375854,-1.818438255277656,0.518952747348584,0.15766209751886662,-1.194762952135624,0.851137584451354,0.15136057281811752,0.8314766491511106,-2.24436491310048,-1.32618950252785,1.6139261366070685,1.2267569037271193,-0.4821519323592516,-1.0068080096810863,-0.6015152385898623,-0.4794807614204026,0.8255089329806143,0.20952100918864586,1.3880503023093014,0.010232520009308393,2.0746829897571417,0.9580845016434512,-0.8915323496411762,0.5521516640401373,0.35559597058364756,0.7782531942868335,-0.9297557978788601,-0.08201576362981501,0.6199540529598736,-0.3168906960775201,1.5566902016173185,-1.0209462255190862,0.5188172873553452,-0.6199604386138304,-0.4761167778402319,2.612138955071329,-0.4308806060321718,-2.5189769893132805,0.36864828172669745,-0.5418048550803195,0.028049888979844513,-0.764192926505916,-0.44981714959126307,-0.2256182492838925,0.6677608872670738,0.9063299652491447,0.026573091595432478,-1.1890327279751083,0.495971623179748,-0.16708889328830456,-0.7957095778014049,-1.3663426686289486,-0.15925390784293836,-0.5275660730874695,0.6080931676567122,-1.2002907631521316,0.11751051846397328,0.2785444201863015,-1.0325323787581073,-2.108815639125478,0.39090580510184747,0.05348538976803026,0.3206261656274645,-0.5392187076266731,0.008276159035867443,1.0717865031077487,-0.4973337162739843,-0.8976955567005012,0.9687550475286898,-2.766723911241507,-0.2968503585431235,-2.532841243413473,-0.3855427598007159,-0.7023174827043425,-0.08809338291835991,1.2116323269858478,-0.9552803546605079,-0.8140868518470041,0.008119932279069134,-1.6007835806075166,-0.9437732992897068]}],                        {\"legend\":{\"bgcolor\":\"#F5F6F9\",\"font\":{\"color\":\"#4D5663\"}},\"paper_bgcolor\":\"#F5F6F9\",\"plot_bgcolor\":\"#F5F6F9\",\"template\":{\"data\":{\"bar\":[{\"error_x\":{\"color\":\"#2a3f5f\"},\"error_y\":{\"color\":\"#2a3f5f\"},\"marker\":{\"line\":{\"color\":\"#E5ECF6\",\"width\":0.5},\"pattern\":{\"fillmode\":\"overlay\",\"size\":10,\"solidity\":0.2}},\"type\":\"bar\"}],\"barpolar\":[{\"marker\":{\"line\":{\"color\":\"#E5ECF6\",\"width\":0.5},\"pattern\":{\"fillmode\":\"overlay\",\"size\":10,\"solidity\":0.2}},\"type\":\"barpolar\"}],\"carpet\":[{\"aaxis\":{\"endlinecolor\":\"#2a3f5f\",\"gridcolor\":\"white\",\"linecolor\":\"white\",\"minorgridcolor\":\"white\",\"startlinecolor\":\"#2a3f5f\"},\"baxis\":{\"endlinecolor\":\"#2a3f5f\",\"gridcolor\":\"white\",\"linecolor\":\"white\",\"minorgridcolor\":\"white\",\"startlinecolor\":\"#2a3f5f\"},\"type\":\"carpet\"}],\"choropleth\":[{\"colorbar\":{\"outlinewidth\":0,\"ticks\":\"\"},\"type\":\"choropleth\"}],\"contour\":[{\"colorbar\":{\"outlinewidth\":0,\"ticks\":\"\"},\"colorscale\":[[0.0,\"#0d0887\"],[0.1111111111111111,\"#46039f\"],[0.2222222222222222,\"#7201a8\"],[0.3333333333333333,\"#9c179e\"],[0.4444444444444444,\"#bd3786\"],[0.5555555555555556,\"#d8576b\"],[0.6666666666666666,\"#ed7953\"],[0.7777777777777778,\"#fb9f3a\"],[0.8888888888888888,\"#fdca26\"],[1.0,\"#f0f921\"]],\"type\":\"contour\"}],\"contourcarpet\":[{\"colorbar\":{\"outlinewidth\":0,\"ticks\":\"\"},\"type\":\"contourcarpet\"}],\"heatmap\":[{\"colorbar\":{\"outlinewidth\":0,\"ticks\":\"\"},\"colorscale\":[[0.0,\"#0d0887\"],[0.1111111111111111,\"#46039f\"],[0.2222222222222222,\"#7201a8\"],[0.3333333333333333,\"#9c179e\"],[0.4444444444444444,\"#bd3786\"],[0.5555555555555556,\"#d8576b\"],[0.6666666666666666,\"#ed7953\"],[0.7777777777777778,\"#fb9f3a\"],[0.8888888888888888,\"#fdca26\"],[1.0,\"#f0f921\"]],\"type\":\"heatmap\"}],\"heatmapgl\":[{\"colorbar\":{\"outlinewidth\":0,\"ticks\":\"\"},\"colorscale\":[[0.0,\"#0d0887\"],[0.1111111111111111,\"#46039f\"],[0.2222222222222222,\"#7201a8\"],[0.3333333333333333,\"#9c179e\"],[0.4444444444444444,\"#bd3786\"],[0.5555555555555556,\"#d8576b\"],[0.6666666666666666,\"#ed7953\"],[0.7777777777777778,\"#fb9f3a\"],[0.8888888888888888,\"#fdca26\"],[1.0,\"#f0f921\"]],\"type\":\"heatmapgl\"}],\"histogram\":[{\"marker\":{\"pattern\":{\"fillmode\":\"overlay\",\"size\":10,\"solidity\":0.2}},\"type\":\"histogram\"}],\"histogram2d\":[{\"colorbar\":{\"outlinewidth\":0,\"ticks\":\"\"},\"colorscale\":[[0.0,\"#0d0887\"],[0.1111111111111111,\"#46039f\"],[0.2222222222222222,\"#7201a8\"],[0.3333333333333333,\"#9c179e\"],[0.4444444444444444,\"#bd3786\"],[0.5555555555555556,\"#d8576b\"],[0.6666666666666666,\"#ed7953\"],[0.7777777777777778,\"#fb9f3a\"],[0.8888888888888888,\"#fdca26\"],[1.0,\"#f0f921\"]],\"type\":\"histogram2d\"}],\"histogram2dcontour\":[{\"colorbar\":{\"outlinewidth\":0,\"ticks\":\"\"},\"colorscale\":[[0.0,\"#0d0887\"],[0.1111111111111111,\"#46039f\"],[0.2222222222222222,\"#7201a8\"],[0.3333333333333333,\"#9c179e\"],[0.4444444444444444,\"#bd3786\"],[0.5555555555555556,\"#d8576b\"],[0.6666666666666666,\"#ed7953\"],[0.7777777777777778,\"#fb9f3a\"],[0.8888888888888888,\"#fdca26\"],[1.0,\"#f0f921\"]],\"type\":\"histogram2dcontour\"}],\"mesh3d\":[{\"colorbar\":{\"outlinewidth\":0,\"ticks\":\"\"},\"type\":\"mesh3d\"}],\"parcoords\":[{\"line\":{\"colorbar\":{\"outlinewidth\":0,\"ticks\":\"\"}},\"type\":\"parcoords\"}],\"pie\":[{\"automargin\":true,\"type\":\"pie\"}],\"scatter\":[{\"marker\":{\"colorbar\":{\"outlinewidth\":0,\"ticks\":\"\"}},\"type\":\"scatter\"}],\"scatter3d\":[{\"line\":{\"colorbar\":{\"outlinewidth\":0,\"ticks\":\"\"}},\"marker\":{\"colorbar\":{\"outlinewidth\":0,\"ticks\":\"\"}},\"type\":\"scatter3d\"}],\"scattercarpet\":[{\"marker\":{\"colorbar\":{\"outlinewidth\":0,\"ticks\":\"\"}},\"type\":\"scattercarpet\"}],\"scattergeo\":[{\"marker\":{\"colorbar\":{\"outlinewidth\":0,\"ticks\":\"\"}},\"type\":\"scattergeo\"}],\"scattergl\":[{\"marker\":{\"colorbar\":{\"outlinewidth\":0,\"ticks\":\"\"}},\"type\":\"scattergl\"}],\"scattermapbox\":[{\"marker\":{\"colorbar\":{\"outlinewidth\":0,\"ticks\":\"\"}},\"type\":\"scattermapbox\"}],\"scatterpolar\":[{\"marker\":{\"colorbar\":{\"outlinewidth\":0,\"ticks\":\"\"}},\"type\":\"scatterpolar\"}],\"scatterpolargl\":[{\"marker\":{\"colorbar\":{\"outlinewidth\":0,\"ticks\":\"\"}},\"type\":\"scatterpolargl\"}],\"scatterternary\":[{\"marker\":{\"colorbar\":{\"outlinewidth\":0,\"ticks\":\"\"}},\"type\":\"scatterternary\"}],\"surface\":[{\"colorbar\":{\"outlinewidth\":0,\"ticks\":\"\"},\"colorscale\":[[0.0,\"#0d0887\"],[0.1111111111111111,\"#46039f\"],[0.2222222222222222,\"#7201a8\"],[0.3333333333333333,\"#9c179e\"],[0.4444444444444444,\"#bd3786\"],[0.5555555555555556,\"#d8576b\"],[0.6666666666666666,\"#ed7953\"],[0.7777777777777778,\"#fb9f3a\"],[0.8888888888888888,\"#fdca26\"],[1.0,\"#f0f921\"]],\"type\":\"surface\"}],\"table\":[{\"cells\":{\"fill\":{\"color\":\"#EBF0F8\"},\"line\":{\"color\":\"white\"}},\"header\":{\"fill\":{\"color\":\"#C8D4E3\"},\"line\":{\"color\":\"white\"}},\"type\":\"table\"}]},\"layout\":{\"annotationdefaults\":{\"arrowcolor\":\"#2a3f5f\",\"arrowhead\":0,\"arrowwidth\":1},\"autotypenumbers\":\"strict\",\"coloraxis\":{\"colorbar\":{\"outlinewidth\":0,\"ticks\":\"\"}},\"colorscale\":{\"diverging\":[[0,\"#8e0152\"],[0.1,\"#c51b7d\"],[0.2,\"#de77ae\"],[0.3,\"#f1b6da\"],[0.4,\"#fde0ef\"],[0.5,\"#f7f7f7\"],[0.6,\"#e6f5d0\"],[0.7,\"#b8e186\"],[0.8,\"#7fbc41\"],[0.9,\"#4d9221\"],[1,\"#276419\"]],\"sequential\":[[0.0,\"#0d0887\"],[0.1111111111111111,\"#46039f\"],[0.2222222222222222,\"#7201a8\"],[0.3333333333333333,\"#9c179e\"],[0.4444444444444444,\"#bd3786\"],[0.5555555555555556,\"#d8576b\"],[0.6666666666666666,\"#ed7953\"],[0.7777777777777778,\"#fb9f3a\"],[0.8888888888888888,\"#fdca26\"],[1.0,\"#f0f921\"]],\"sequentialminus\":[[0.0,\"#0d0887\"],[0.1111111111111111,\"#46039f\"],[0.2222222222222222,\"#7201a8\"],[0.3333333333333333,\"#9c179e\"],[0.4444444444444444,\"#bd3786\"],[0.5555555555555556,\"#d8576b\"],[0.6666666666666666,\"#ed7953\"],[0.7777777777777778,\"#fb9f3a\"],[0.8888888888888888,\"#fdca26\"],[1.0,\"#f0f921\"]]},\"colorway\":[\"#636efa\",\"#EF553B\",\"#00cc96\",\"#ab63fa\",\"#FFA15A\",\"#19d3f3\",\"#FF6692\",\"#B6E880\",\"#FF97FF\",\"#FECB52\"],\"font\":{\"color\":\"#2a3f5f\"},\"geo\":{\"bgcolor\":\"white\",\"lakecolor\":\"white\",\"landcolor\":\"#E5ECF6\",\"showlakes\":true,\"showland\":true,\"subunitcolor\":\"white\"},\"hoverlabel\":{\"align\":\"left\"},\"hovermode\":\"closest\",\"mapbox\":{\"style\":\"light\"},\"paper_bgcolor\":\"white\",\"plot_bgcolor\":\"#E5ECF6\",\"polar\":{\"angularaxis\":{\"gridcolor\":\"white\",\"linecolor\":\"white\",\"ticks\":\"\"},\"bgcolor\":\"#E5ECF6\",\"radialaxis\":{\"gridcolor\":\"white\",\"linecolor\":\"white\",\"ticks\":\"\"}},\"scene\":{\"xaxis\":{\"backgroundcolor\":\"#E5ECF6\",\"gridcolor\":\"white\",\"gridwidth\":2,\"linecolor\":\"white\",\"showbackground\":true,\"ticks\":\"\",\"zerolinecolor\":\"white\"},\"yaxis\":{\"backgroundcolor\":\"#E5ECF6\",\"gridcolor\":\"white\",\"gridwidth\":2,\"linecolor\":\"white\",\"showbackground\":true,\"ticks\":\"\",\"zerolinecolor\":\"white\"},\"zaxis\":{\"backgroundcolor\":\"#E5ECF6\",\"gridcolor\":\"white\",\"gridwidth\":2,\"linecolor\":\"white\",\"showbackground\":true,\"ticks\":\"\",\"zerolinecolor\":\"white\"}},\"shapedefaults\":{\"line\":{\"color\":\"#2a3f5f\"}},\"ternary\":{\"aaxis\":{\"gridcolor\":\"white\",\"linecolor\":\"white\",\"ticks\":\"\"},\"baxis\":{\"gridcolor\":\"white\",\"linecolor\":\"white\",\"ticks\":\"\"},\"bgcolor\":\"#E5ECF6\",\"caxis\":{\"gridcolor\":\"white\",\"linecolor\":\"white\",\"ticks\":\"\"}},\"title\":{\"x\":0.05},\"xaxis\":{\"automargin\":true,\"gridcolor\":\"white\",\"linecolor\":\"white\",\"ticks\":\"\",\"title\":{\"standoff\":15},\"zerolinecolor\":\"white\",\"zerolinewidth\":2},\"yaxis\":{\"automargin\":true,\"gridcolor\":\"white\",\"linecolor\":\"white\",\"ticks\":\"\",\"title\":{\"standoff\":15},\"zerolinecolor\":\"white\",\"zerolinewidth\":2}}},\"title\":{\"font\":{\"color\":\"#4D5663\"}},\"xaxis\":{\"gridcolor\":\"#E1E5ED\",\"showgrid\":true,\"tickfont\":{\"color\":\"#4D5663\"},\"title\":{\"font\":{\"color\":\"#4D5663\"},\"text\":\"\"},\"zerolinecolor\":\"#E1E5ED\"},\"yaxis\":{\"gridcolor\":\"#E1E5ED\",\"showgrid\":true,\"tickfont\":{\"color\":\"#4D5663\"},\"title\":{\"font\":{\"color\":\"#4D5663\"},\"text\":\"\"},\"zerolinecolor\":\"#E1E5ED\"}},                        {\"showLink\": true, \"linkText\": \"Export to plot.ly\", \"plotlyServerURL\": \"https://plot.ly\", \"responsive\": true}                    ).then(function(){\n",
       "                            \n",
       "var gd = document.getElementById('4e711aae-7f16-49b5-b4a0-58f027737144');\n",
       "var x = new MutationObserver(function (mutations, observer) {{\n",
       "        var display = window.getComputedStyle(gd).display;\n",
       "        if (!display || display === 'none') {{\n",
       "            console.log([gd, 'removed!']);\n",
       "            Plotly.purge(gd);\n",
       "            observer.disconnect();\n",
       "        }}\n",
       "}});\n",
       "\n",
       "// Listen for the removal of the full notebook cells\n",
       "var notebookContainer = gd.closest('#notebook-container');\n",
       "if (notebookContainer) {{\n",
       "    x.observe(notebookContainer, {childList: true});\n",
       "}}\n",
       "\n",
       "// Listen for the clearing of the current output cell\n",
       "var outputEl = gd.closest('.output');\n",
       "if (outputEl) {{\n",
       "    x.observe(outputEl, {childList: true});\n",
       "}}\n",
       "\n",
       "                        })                };                });            </script>        </div>"
      ]
     },
     "metadata": {},
     "output_type": "display_data"
    }
   ],
   "source": [
    "df.iplot(kind='bubble',x='A',y='B',size='C')"
   ]
  },
  {
   "cell_type": "markdown",
   "metadata": {},
   "source": [
    "## scatter_matrix()\n",
    "\n",
    "Similar a sns.pairplot()"
   ]
  },
  {
   "cell_type": "code",
   "execution_count": 21,
   "metadata": {},
   "outputs": [
    {
     "data": {
      "application/vnd.plotly.v1+json": {
       "config": {
        "linkText": "Export to plot.ly",
        "plotlyServerURL": "https://plot.ly",
        "showLink": true
       },
       "data": [
        {
         "histfunc": "count",
         "histnorm": "",
         "marker": {
          "color": "rgba(255, 153, 51, 1.0)",
          "line": {
           "color": "#4D5663",
           "width": 1.3
          }
         },
         "name": "A",
         "nbinsx": 10,
         "opacity": 0.8,
         "orientation": "v",
         "type": "histogram",
         "x": [
          -0.5179271967863107,
          -0.43117640845718924,
          -0.7425433984463287,
          -0.7089570997832738,
          -0.0361529193067307,
          0.07522673552826692,
          -1.4131665855296218,
          -0.0031556109683627954,
          -0.5302505856350661,
          -1.4127977371366855,
          0.2087659396050563,
          -1.4131760875032837,
          -0.30928347102426945,
          -0.483488097111868,
          -0.06312965999867666,
          1.9258679259374294,
          1.4587125869684525,
          1.3580817403999588,
          0.6622586311843047,
          -0.240272587802109,
          -1.6140007340343672,
          -0.809880896517053,
          0.17882016129592684,
          -1.918619035060385,
          0.5639175432044878,
          0.7003026318927348,
          1.1871330769452881,
          2.621530460729752,
          -0.05226547135199387,
          -0.8857947444659938,
          0.29778182041096535,
          0.8314995551078086,
          0.8277350723928936,
          0.9807667281146693,
          -0.45636567990437055,
          -0.8287489631818937,
          -0.02409698397342725,
          1.1224562643047222,
          -0.10774074979314044,
          -0.4703262271315255,
          -0.24485739399715936,
          -0.7209811457686358,
          0.543656350365433,
          -1.0910512142922943,
          1.6146687797051722,
          1.272671565444567,
          -1.4969566494241922,
          0.49724268869042015,
          0.5762497665318234,
          0.9173715082787924,
          -0.3156771970691579,
          -1.5465554615957646,
          0.5365559969570894,
          -0.16681688603908454,
          0.5422513086930213,
          0.11702639045880345,
          0.8662033868093464,
          0.7950354856934065,
          -0.3692169523733393,
          2.185699925373505,
          -0.19711391724350172,
          -0.7801751589593686,
          1.5742708527925775,
          -0.3998953876637889,
          -0.12030457591217633,
          -1.363206492841364,
          0.1538230355317382,
          -0.2873090931451748,
          0.1526156484030482,
          -0.76742908384936,
          0.004822975700221074,
          -0.44140319312826604,
          0.7217093953262547,
          0.5286866127120267,
          -1.7027276677246608,
          -0.8067393232956829,
          -1.8513726371721704,
          1.0938465376835904,
          -1.292754654635878,
          -0.7940460298498865,
          -2.0091587452108204,
          1.053284917771941,
          0.5505835572480933,
          -1.270031759248562,
          -0.6446601496996719,
          -0.7047831805932557,
          -0.5097574343620287,
          -1.1067233133199088,
          -0.47331615373991254,
          0.8566597266341112,
          -1.1402325893281335,
          -0.9191188365872801,
          -0.47871460470651567,
          0.3480989521997855,
          -0.02679045217886534,
          -1.1023603518297882,
          0.4308022821887071,
          0.12713866089653922,
          -0.34931893784546914,
          -0.22785308304094232
         ],
         "xaxis": "x",
         "yaxis": "y"
        },
        {
         "line": {
          "color": "rgba(128, 128, 128, 1.0)",
          "dash": "solid",
          "shape": "linear",
          "width": 1.3
         },
         "marker": {
          "size": 2,
          "symbol": "circle"
         },
         "mode": "markers",
         "name": "A",
         "text": "",
         "type": "scatter",
         "x": [
          -0.3758500097309625,
          -0.16535367948668075,
          -0.5128744340332714,
          -1.8423189367048123,
          -1.1356305868368282,
          1.2950944141943472,
          -1.6311579305760227,
          0.016688836964509558,
          0.3083634203789976,
          0.05103396975288527,
          0.05679467739581437,
          -1.9093388798897002,
          -0.07160559652996788,
          0.6891009823108263,
          -0.023924354969763355,
          -1.1380916706848383,
          1.3578446352346254,
          1.4038591603561459,
          -0.7963802619073149,
          1.0957560929375854,
          -1.818438255277656,
          0.518952747348584,
          0.15766209751886662,
          -1.194762952135624,
          0.851137584451354,
          0.15136057281811752,
          0.8314766491511106,
          -2.24436491310048,
          -1.32618950252785,
          1.6139261366070685,
          1.2267569037271193,
          -0.4821519323592516,
          -1.0068080096810863,
          -0.6015152385898623,
          -0.4794807614204026,
          0.8255089329806143,
          0.20952100918864586,
          1.3880503023093014,
          0.010232520009308393,
          2.0746829897571417,
          0.9580845016434512,
          -0.8915323496411762,
          0.5521516640401373,
          0.35559597058364756,
          0.7782531942868335,
          -0.9297557978788601,
          -0.08201576362981501,
          0.6199540529598736,
          -0.3168906960775201,
          1.5566902016173185,
          -1.0209462255190862,
          0.5188172873553452,
          -0.6199604386138304,
          -0.4761167778402319,
          2.612138955071329,
          -0.4308806060321718,
          -2.5189769893132805,
          0.36864828172669745,
          -0.5418048550803195,
          0.028049888979844513,
          -0.764192926505916,
          -0.44981714959126307,
          -0.2256182492838925,
          0.6677608872670738,
          0.9063299652491447,
          0.026573091595432478,
          -1.1890327279751083,
          0.495971623179748,
          -0.16708889328830456,
          -0.7957095778014049,
          -1.3663426686289486,
          -0.15925390784293836,
          -0.5275660730874695,
          0.6080931676567122,
          -1.2002907631521316,
          0.11751051846397328,
          0.2785444201863015,
          -1.0325323787581073,
          -2.108815639125478,
          0.39090580510184747,
          0.05348538976803026,
          0.3206261656274645,
          -0.5392187076266731,
          0.008276159035867443,
          1.0717865031077487,
          -0.4973337162739843,
          -0.8976955567005012,
          0.9687550475286898,
          -2.766723911241507,
          -0.2968503585431235,
          -2.532841243413473,
          -0.3855427598007159,
          -0.7023174827043425,
          -0.08809338291835991,
          1.2116323269858478,
          -0.9552803546605079,
          -0.8140868518470041,
          0.008119932279069134,
          -1.6007835806075166,
          -0.9437732992897068
         ],
         "xaxis": "x2",
         "y": [
          -0.5179271967863107,
          -0.43117640845718924,
          -0.7425433984463287,
          -0.7089570997832738,
          -0.0361529193067307,
          0.07522673552826692,
          -1.4131665855296218,
          -0.0031556109683627954,
          -0.5302505856350661,
          -1.4127977371366855,
          0.2087659396050563,
          -1.4131760875032837,
          -0.30928347102426945,
          -0.483488097111868,
          -0.06312965999867666,
          1.9258679259374294,
          1.4587125869684525,
          1.3580817403999588,
          0.6622586311843047,
          -0.240272587802109,
          -1.6140007340343672,
          -0.809880896517053,
          0.17882016129592684,
          -1.918619035060385,
          0.5639175432044878,
          0.7003026318927348,
          1.1871330769452881,
          2.621530460729752,
          -0.05226547135199387,
          -0.8857947444659938,
          0.29778182041096535,
          0.8314995551078086,
          0.8277350723928936,
          0.9807667281146693,
          -0.45636567990437055,
          -0.8287489631818937,
          -0.02409698397342725,
          1.1224562643047222,
          -0.10774074979314044,
          -0.4703262271315255,
          -0.24485739399715936,
          -0.7209811457686358,
          0.543656350365433,
          -1.0910512142922943,
          1.6146687797051722,
          1.272671565444567,
          -1.4969566494241922,
          0.49724268869042015,
          0.5762497665318234,
          0.9173715082787924,
          -0.3156771970691579,
          -1.5465554615957646,
          0.5365559969570894,
          -0.16681688603908454,
          0.5422513086930213,
          0.11702639045880345,
          0.8662033868093464,
          0.7950354856934065,
          -0.3692169523733393,
          2.185699925373505,
          -0.19711391724350172,
          -0.7801751589593686,
          1.5742708527925775,
          -0.3998953876637889,
          -0.12030457591217633,
          -1.363206492841364,
          0.1538230355317382,
          -0.2873090931451748,
          0.1526156484030482,
          -0.76742908384936,
          0.004822975700221074,
          -0.44140319312826604,
          0.7217093953262547,
          0.5286866127120267,
          -1.7027276677246608,
          -0.8067393232956829,
          -1.8513726371721704,
          1.0938465376835904,
          -1.292754654635878,
          -0.7940460298498865,
          -2.0091587452108204,
          1.053284917771941,
          0.5505835572480933,
          -1.270031759248562,
          -0.6446601496996719,
          -0.7047831805932557,
          -0.5097574343620287,
          -1.1067233133199088,
          -0.47331615373991254,
          0.8566597266341112,
          -1.1402325893281335,
          -0.9191188365872801,
          -0.47871460470651567,
          0.3480989521997855,
          -0.02679045217886534,
          -1.1023603518297882,
          0.4308022821887071,
          0.12713866089653922,
          -0.34931893784546914,
          -0.22785308304094232
         ],
         "yaxis": "y2"
        },
        {
         "line": {
          "color": "rgba(128, 128, 128, 1.0)",
          "dash": "solid",
          "shape": "linear",
          "width": 1.3
         },
         "marker": {
          "size": 2,
          "symbol": "circle"
         },
         "mode": "markers",
         "name": "A",
         "text": "",
         "type": "scatter",
         "x": [
          0.7587960141341928,
          -1.11142264721022,
          0.3198141565440644,
          -1.0194934133304043,
          -0.20572850686545635,
          -0.021587026924805366,
          0.07722012980996998,
          -0.5393365520948504,
          -0.48363801076131696,
          0.11967840349890593,
          0.9333096631948404,
          -0.7785714729611988,
          -2.500839343528844,
          0.9826847280006671,
          0.5771999931663933,
          -0.7370946705548319,
          0.7348914374396123,
          -2.2733615010687673,
          0.15868171889712523,
          0.49986313397118975,
          0.4745890512299896,
          -1.9254532255882428,
          0.07631370503179387,
          -0.8403706589906261,
          2.5824350375483784,
          0.49004520024242426,
          -1.1951705217832775,
          -0.8187851530447994,
          -0.8794790016652474,
          -0.6545150225494447,
          -0.7094955242828129,
          0.5864046640564877,
          -1.0991936756656926,
          2.684090001899882,
          0.22664660344801527,
          -0.7470721578512743,
          -0.43234097571716756,
          1.8490458160125023,
          -0.7778738537108288,
          -0.0995557253719997,
          0.41944010969042433,
          -2.1766770115315626,
          -0.1495340371367192,
          -0.7057471704952208,
          1.011974464033998,
          0.39923051144662375,
          0.042797623433699264,
          -1.278506700822136,
          0.23485653214430935,
          -0.6144854244281669,
          -0.6593617391777278,
          -0.16067337078532745,
          2.0258847666389728,
          -0.2762589805424835,
          -0.6622145387342245,
          -1.483238386047786,
          0.7227712700235196,
          -2.082910288506929,
          1.5903052813680039,
          -0.007619787485957267,
          -1.2926863512285347,
          0.45899093026145127,
          -0.786859491776658,
          0.5555496088564695,
          -0.23698133472116614,
          0.3902776227593081,
          -0.3204494249122854,
          -0.3213212898678564,
          0.5212557871580952,
          -0.9956260394916182,
          0.9384020295898582,
          -1.4784904280978117,
          -0.7509114542397107,
          0.3022400632332965,
          0.42594305296444956,
          -1.5980127256548717,
          0.6292030700725103,
          0.46215678871507954,
          -0.8027737017738074,
          2.064496427192837,
          1.0649703615544008,
          1.5821968439624061,
          -0.11039333207468331,
          0.31731911579102595,
          0.5345057004347896,
          -1.138197997460557,
          0.8951994045641871,
          0.28847009760214276,
          -0.9925327955489001,
          0.13940106847776548,
          0.15625781811900608,
          -0.15228766475217875,
          -0.5560857037787544,
          -0.11193076849496958,
          0.3057533974847101,
          -1.753533967666065,
          -0.03662419549914757,
          -0.4663701086370231,
          -0.13437295226808751,
          -1.406094611108991
         ],
         "xaxis": "x3",
         "y": [
          -0.5179271967863107,
          -0.43117640845718924,
          -0.7425433984463287,
          -0.7089570997832738,
          -0.0361529193067307,
          0.07522673552826692,
          -1.4131665855296218,
          -0.0031556109683627954,
          -0.5302505856350661,
          -1.4127977371366855,
          0.2087659396050563,
          -1.4131760875032837,
          -0.30928347102426945,
          -0.483488097111868,
          -0.06312965999867666,
          1.9258679259374294,
          1.4587125869684525,
          1.3580817403999588,
          0.6622586311843047,
          -0.240272587802109,
          -1.6140007340343672,
          -0.809880896517053,
          0.17882016129592684,
          -1.918619035060385,
          0.5639175432044878,
          0.7003026318927348,
          1.1871330769452881,
          2.621530460729752,
          -0.05226547135199387,
          -0.8857947444659938,
          0.29778182041096535,
          0.8314995551078086,
          0.8277350723928936,
          0.9807667281146693,
          -0.45636567990437055,
          -0.8287489631818937,
          -0.02409698397342725,
          1.1224562643047222,
          -0.10774074979314044,
          -0.4703262271315255,
          -0.24485739399715936,
          -0.7209811457686358,
          0.543656350365433,
          -1.0910512142922943,
          1.6146687797051722,
          1.272671565444567,
          -1.4969566494241922,
          0.49724268869042015,
          0.5762497665318234,
          0.9173715082787924,
          -0.3156771970691579,
          -1.5465554615957646,
          0.5365559969570894,
          -0.16681688603908454,
          0.5422513086930213,
          0.11702639045880345,
          0.8662033868093464,
          0.7950354856934065,
          -0.3692169523733393,
          2.185699925373505,
          -0.19711391724350172,
          -0.7801751589593686,
          1.5742708527925775,
          -0.3998953876637889,
          -0.12030457591217633,
          -1.363206492841364,
          0.1538230355317382,
          -0.2873090931451748,
          0.1526156484030482,
          -0.76742908384936,
          0.004822975700221074,
          -0.44140319312826604,
          0.7217093953262547,
          0.5286866127120267,
          -1.7027276677246608,
          -0.8067393232956829,
          -1.8513726371721704,
          1.0938465376835904,
          -1.292754654635878,
          -0.7940460298498865,
          -2.0091587452108204,
          1.053284917771941,
          0.5505835572480933,
          -1.270031759248562,
          -0.6446601496996719,
          -0.7047831805932557,
          -0.5097574343620287,
          -1.1067233133199088,
          -0.47331615373991254,
          0.8566597266341112,
          -1.1402325893281335,
          -0.9191188365872801,
          -0.47871460470651567,
          0.3480989521997855,
          -0.02679045217886534,
          -1.1023603518297882,
          0.4308022821887071,
          0.12713866089653922,
          -0.34931893784546914,
          -0.22785308304094232
         ],
         "yaxis": "y3"
        },
        {
         "line": {
          "color": "rgba(128, 128, 128, 1.0)",
          "dash": "solid",
          "shape": "linear",
          "width": 1.3
         },
         "marker": {
          "size": 2,
          "symbol": "circle"
         },
         "mode": "markers",
         "name": "A",
         "text": "",
         "type": "scatter",
         "x": [
          0.044908640982309955,
          -0.5916582622986855,
          -1.0047049275451418,
          -0.16357912181462567,
          1.2842272620687578,
          -0.9462707786755773,
          -0.33529641671427474,
          -0.597134506932244,
          1.0912916909862427,
          -0.03830843681264787,
          0.22267489195268658,
          1.6512200440794045,
          0.3707835277666362,
          -1.6857515615095517,
          -1.549645897690307,
          0.9719019286855677,
          0.4702220625123732,
          -1.392245113055805,
          -1.3399777710623844,
          0.8394707128052822,
          -1.4353135791074605,
          0.01865835434033595,
          -0.36464576268046844,
          -1.9521593899102565,
          0.3557294937530207,
          -1.9969504535045903,
          -0.4978315702581766,
          1.950746502614422,
          0.8624946698016425,
          0.40903887306092407,
          0.08425458326245053,
          0.3974307187409831,
          -1.2525247237204382,
          -0.5904715318351246,
          -2.6942391859616994,
          0.4033239760531251,
          -1.8992659794944753,
          -0.568769644733657,
          -0.737463931871556,
          -0.09750352174251808,
          0.2827449529433888,
          0.059338453693639,
          -0.25595038775629275,
          1.6729581371668871,
          -0.657484411599867,
          0.143221261226814,
          0.7527341284476973,
          -1.1740531427173075,
          0.20954754178166232,
          1.4832879561187378,
          0.5666715105139852,
          0.4489163420626359,
          -1.3431974921200744,
          0.2845403585031368,
          0.17388400129743048,
          -0.5665861781068376,
          -0.8120322495789992,
          -0.20994668447555426,
          0.26766037663093106,
          -0.9639729600308952,
          -2.074985249101152,
          1.0597136806641296,
          -0.39736167885800483,
          -0.6208970523634952,
          0.9601397151563306,
          -0.9795691514997086,
          1.2745056873164828,
          -1.2011107020170408,
          1.0004866511137571,
          -0.025036341334355866,
          -0.7047597137469206,
          -1.0708415961563036,
          0.05312333270990024,
          -1.0088103386055773,
          0.407760084955383,
          1.464921732706363,
          -0.16688824903508057,
          -0.3018265012709268,
          -1.1686008046474832,
          -3.348814023786659,
          0.7438810185675033,
          0.18153265371496838,
          0.31740699441409476,
          1.1794731088512522,
          0.012747371844716965,
          -1.1609382594370097,
          2.112283032125828,
          2.0240269821246417,
          0.7223762407394393,
          -0.8280982904757588,
          -0.09425252967400118,
          0.21086676092096698,
          -1.0222276964354864,
          -0.04033528542371997,
          1.9460924400180664,
          -1.1907943807494015,
          0.2925507158576648,
          1.1894722145378136,
          -1.6136127061729408,
          -1.3694625393054467
         ],
         "xaxis": "x4",
         "y": [
          -0.5179271967863107,
          -0.43117640845718924,
          -0.7425433984463287,
          -0.7089570997832738,
          -0.0361529193067307,
          0.07522673552826692,
          -1.4131665855296218,
          -0.0031556109683627954,
          -0.5302505856350661,
          -1.4127977371366855,
          0.2087659396050563,
          -1.4131760875032837,
          -0.30928347102426945,
          -0.483488097111868,
          -0.06312965999867666,
          1.9258679259374294,
          1.4587125869684525,
          1.3580817403999588,
          0.6622586311843047,
          -0.240272587802109,
          -1.6140007340343672,
          -0.809880896517053,
          0.17882016129592684,
          -1.918619035060385,
          0.5639175432044878,
          0.7003026318927348,
          1.1871330769452881,
          2.621530460729752,
          -0.05226547135199387,
          -0.8857947444659938,
          0.29778182041096535,
          0.8314995551078086,
          0.8277350723928936,
          0.9807667281146693,
          -0.45636567990437055,
          -0.8287489631818937,
          -0.02409698397342725,
          1.1224562643047222,
          -0.10774074979314044,
          -0.4703262271315255,
          -0.24485739399715936,
          -0.7209811457686358,
          0.543656350365433,
          -1.0910512142922943,
          1.6146687797051722,
          1.272671565444567,
          -1.4969566494241922,
          0.49724268869042015,
          0.5762497665318234,
          0.9173715082787924,
          -0.3156771970691579,
          -1.5465554615957646,
          0.5365559969570894,
          -0.16681688603908454,
          0.5422513086930213,
          0.11702639045880345,
          0.8662033868093464,
          0.7950354856934065,
          -0.3692169523733393,
          2.185699925373505,
          -0.19711391724350172,
          -0.7801751589593686,
          1.5742708527925775,
          -0.3998953876637889,
          -0.12030457591217633,
          -1.363206492841364,
          0.1538230355317382,
          -0.2873090931451748,
          0.1526156484030482,
          -0.76742908384936,
          0.004822975700221074,
          -0.44140319312826604,
          0.7217093953262547,
          0.5286866127120267,
          -1.7027276677246608,
          -0.8067393232956829,
          -1.8513726371721704,
          1.0938465376835904,
          -1.292754654635878,
          -0.7940460298498865,
          -2.0091587452108204,
          1.053284917771941,
          0.5505835572480933,
          -1.270031759248562,
          -0.6446601496996719,
          -0.7047831805932557,
          -0.5097574343620287,
          -1.1067233133199088,
          -0.47331615373991254,
          0.8566597266341112,
          -1.1402325893281335,
          -0.9191188365872801,
          -0.47871460470651567,
          0.3480989521997855,
          -0.02679045217886534,
          -1.1023603518297882,
          0.4308022821887071,
          0.12713866089653922,
          -0.34931893784546914,
          -0.22785308304094232
         ],
         "yaxis": "y4"
        },
        {
         "line": {
          "color": "rgba(128, 128, 128, 1.0)",
          "dash": "solid",
          "shape": "linear",
          "width": 1.3
         },
         "marker": {
          "size": 2,
          "symbol": "circle"
         },
         "mode": "markers",
         "name": "B",
         "text": "",
         "type": "scatter",
         "x": [
          -0.5179271967863107,
          -0.43117640845718924,
          -0.7425433984463287,
          -0.7089570997832738,
          -0.0361529193067307,
          0.07522673552826692,
          -1.4131665855296218,
          -0.0031556109683627954,
          -0.5302505856350661,
          -1.4127977371366855,
          0.2087659396050563,
          -1.4131760875032837,
          -0.30928347102426945,
          -0.483488097111868,
          -0.06312965999867666,
          1.9258679259374294,
          1.4587125869684525,
          1.3580817403999588,
          0.6622586311843047,
          -0.240272587802109,
          -1.6140007340343672,
          -0.809880896517053,
          0.17882016129592684,
          -1.918619035060385,
          0.5639175432044878,
          0.7003026318927348,
          1.1871330769452881,
          2.621530460729752,
          -0.05226547135199387,
          -0.8857947444659938,
          0.29778182041096535,
          0.8314995551078086,
          0.8277350723928936,
          0.9807667281146693,
          -0.45636567990437055,
          -0.8287489631818937,
          -0.02409698397342725,
          1.1224562643047222,
          -0.10774074979314044,
          -0.4703262271315255,
          -0.24485739399715936,
          -0.7209811457686358,
          0.543656350365433,
          -1.0910512142922943,
          1.6146687797051722,
          1.272671565444567,
          -1.4969566494241922,
          0.49724268869042015,
          0.5762497665318234,
          0.9173715082787924,
          -0.3156771970691579,
          -1.5465554615957646,
          0.5365559969570894,
          -0.16681688603908454,
          0.5422513086930213,
          0.11702639045880345,
          0.8662033868093464,
          0.7950354856934065,
          -0.3692169523733393,
          2.185699925373505,
          -0.19711391724350172,
          -0.7801751589593686,
          1.5742708527925775,
          -0.3998953876637889,
          -0.12030457591217633,
          -1.363206492841364,
          0.1538230355317382,
          -0.2873090931451748,
          0.1526156484030482,
          -0.76742908384936,
          0.004822975700221074,
          -0.44140319312826604,
          0.7217093953262547,
          0.5286866127120267,
          -1.7027276677246608,
          -0.8067393232956829,
          -1.8513726371721704,
          1.0938465376835904,
          -1.292754654635878,
          -0.7940460298498865,
          -2.0091587452108204,
          1.053284917771941,
          0.5505835572480933,
          -1.270031759248562,
          -0.6446601496996719,
          -0.7047831805932557,
          -0.5097574343620287,
          -1.1067233133199088,
          -0.47331615373991254,
          0.8566597266341112,
          -1.1402325893281335,
          -0.9191188365872801,
          -0.47871460470651567,
          0.3480989521997855,
          -0.02679045217886534,
          -1.1023603518297882,
          0.4308022821887071,
          0.12713866089653922,
          -0.34931893784546914,
          -0.22785308304094232
         ],
         "xaxis": "x5",
         "y": [
          -0.3758500097309625,
          -0.16535367948668075,
          -0.5128744340332714,
          -1.8423189367048123,
          -1.1356305868368282,
          1.2950944141943472,
          -1.6311579305760227,
          0.016688836964509558,
          0.3083634203789976,
          0.05103396975288527,
          0.05679467739581437,
          -1.9093388798897002,
          -0.07160559652996788,
          0.6891009823108263,
          -0.023924354969763355,
          -1.1380916706848383,
          1.3578446352346254,
          1.4038591603561459,
          -0.7963802619073149,
          1.0957560929375854,
          -1.818438255277656,
          0.518952747348584,
          0.15766209751886662,
          -1.194762952135624,
          0.851137584451354,
          0.15136057281811752,
          0.8314766491511106,
          -2.24436491310048,
          -1.32618950252785,
          1.6139261366070685,
          1.2267569037271193,
          -0.4821519323592516,
          -1.0068080096810863,
          -0.6015152385898623,
          -0.4794807614204026,
          0.8255089329806143,
          0.20952100918864586,
          1.3880503023093014,
          0.010232520009308393,
          2.0746829897571417,
          0.9580845016434512,
          -0.8915323496411762,
          0.5521516640401373,
          0.35559597058364756,
          0.7782531942868335,
          -0.9297557978788601,
          -0.08201576362981501,
          0.6199540529598736,
          -0.3168906960775201,
          1.5566902016173185,
          -1.0209462255190862,
          0.5188172873553452,
          -0.6199604386138304,
          -0.4761167778402319,
          2.612138955071329,
          -0.4308806060321718,
          -2.5189769893132805,
          0.36864828172669745,
          -0.5418048550803195,
          0.028049888979844513,
          -0.764192926505916,
          -0.44981714959126307,
          -0.2256182492838925,
          0.6677608872670738,
          0.9063299652491447,
          0.026573091595432478,
          -1.1890327279751083,
          0.495971623179748,
          -0.16708889328830456,
          -0.7957095778014049,
          -1.3663426686289486,
          -0.15925390784293836,
          -0.5275660730874695,
          0.6080931676567122,
          -1.2002907631521316,
          0.11751051846397328,
          0.2785444201863015,
          -1.0325323787581073,
          -2.108815639125478,
          0.39090580510184747,
          0.05348538976803026,
          0.3206261656274645,
          -0.5392187076266731,
          0.008276159035867443,
          1.0717865031077487,
          -0.4973337162739843,
          -0.8976955567005012,
          0.9687550475286898,
          -2.766723911241507,
          -0.2968503585431235,
          -2.532841243413473,
          -0.3855427598007159,
          -0.7023174827043425,
          -0.08809338291835991,
          1.2116323269858478,
          -0.9552803546605079,
          -0.8140868518470041,
          0.008119932279069134,
          -1.6007835806075166,
          -0.9437732992897068
         ],
         "yaxis": "y5"
        },
        {
         "histfunc": "count",
         "histnorm": "",
         "marker": {
          "color": "rgba(55, 128, 191, 1.0)",
          "line": {
           "color": "#4D5663",
           "width": 1.3
          }
         },
         "name": "B",
         "nbinsx": 10,
         "opacity": 0.8,
         "orientation": "v",
         "type": "histogram",
         "x": [
          -0.3758500097309625,
          -0.16535367948668075,
          -0.5128744340332714,
          -1.8423189367048123,
          -1.1356305868368282,
          1.2950944141943472,
          -1.6311579305760227,
          0.016688836964509558,
          0.3083634203789976,
          0.05103396975288527,
          0.05679467739581437,
          -1.9093388798897002,
          -0.07160559652996788,
          0.6891009823108263,
          -0.023924354969763355,
          -1.1380916706848383,
          1.3578446352346254,
          1.4038591603561459,
          -0.7963802619073149,
          1.0957560929375854,
          -1.818438255277656,
          0.518952747348584,
          0.15766209751886662,
          -1.194762952135624,
          0.851137584451354,
          0.15136057281811752,
          0.8314766491511106,
          -2.24436491310048,
          -1.32618950252785,
          1.6139261366070685,
          1.2267569037271193,
          -0.4821519323592516,
          -1.0068080096810863,
          -0.6015152385898623,
          -0.4794807614204026,
          0.8255089329806143,
          0.20952100918864586,
          1.3880503023093014,
          0.010232520009308393,
          2.0746829897571417,
          0.9580845016434512,
          -0.8915323496411762,
          0.5521516640401373,
          0.35559597058364756,
          0.7782531942868335,
          -0.9297557978788601,
          -0.08201576362981501,
          0.6199540529598736,
          -0.3168906960775201,
          1.5566902016173185,
          -1.0209462255190862,
          0.5188172873553452,
          -0.6199604386138304,
          -0.4761167778402319,
          2.612138955071329,
          -0.4308806060321718,
          -2.5189769893132805,
          0.36864828172669745,
          -0.5418048550803195,
          0.028049888979844513,
          -0.764192926505916,
          -0.44981714959126307,
          -0.2256182492838925,
          0.6677608872670738,
          0.9063299652491447,
          0.026573091595432478,
          -1.1890327279751083,
          0.495971623179748,
          -0.16708889328830456,
          -0.7957095778014049,
          -1.3663426686289486,
          -0.15925390784293836,
          -0.5275660730874695,
          0.6080931676567122,
          -1.2002907631521316,
          0.11751051846397328,
          0.2785444201863015,
          -1.0325323787581073,
          -2.108815639125478,
          0.39090580510184747,
          0.05348538976803026,
          0.3206261656274645,
          -0.5392187076266731,
          0.008276159035867443,
          1.0717865031077487,
          -0.4973337162739843,
          -0.8976955567005012,
          0.9687550475286898,
          -2.766723911241507,
          -0.2968503585431235,
          -2.532841243413473,
          -0.3855427598007159,
          -0.7023174827043425,
          -0.08809338291835991,
          1.2116323269858478,
          -0.9552803546605079,
          -0.8140868518470041,
          0.008119932279069134,
          -1.6007835806075166,
          -0.9437732992897068
         ],
         "xaxis": "x6",
         "yaxis": "y6"
        },
        {
         "line": {
          "color": "rgba(128, 128, 128, 1.0)",
          "dash": "solid",
          "shape": "linear",
          "width": 1.3
         },
         "marker": {
          "size": 2,
          "symbol": "circle"
         },
         "mode": "markers",
         "name": "B",
         "text": "",
         "type": "scatter",
         "x": [
          0.7587960141341928,
          -1.11142264721022,
          0.3198141565440644,
          -1.0194934133304043,
          -0.20572850686545635,
          -0.021587026924805366,
          0.07722012980996998,
          -0.5393365520948504,
          -0.48363801076131696,
          0.11967840349890593,
          0.9333096631948404,
          -0.7785714729611988,
          -2.500839343528844,
          0.9826847280006671,
          0.5771999931663933,
          -0.7370946705548319,
          0.7348914374396123,
          -2.2733615010687673,
          0.15868171889712523,
          0.49986313397118975,
          0.4745890512299896,
          -1.9254532255882428,
          0.07631370503179387,
          -0.8403706589906261,
          2.5824350375483784,
          0.49004520024242426,
          -1.1951705217832775,
          -0.8187851530447994,
          -0.8794790016652474,
          -0.6545150225494447,
          -0.7094955242828129,
          0.5864046640564877,
          -1.0991936756656926,
          2.684090001899882,
          0.22664660344801527,
          -0.7470721578512743,
          -0.43234097571716756,
          1.8490458160125023,
          -0.7778738537108288,
          -0.0995557253719997,
          0.41944010969042433,
          -2.1766770115315626,
          -0.1495340371367192,
          -0.7057471704952208,
          1.011974464033998,
          0.39923051144662375,
          0.042797623433699264,
          -1.278506700822136,
          0.23485653214430935,
          -0.6144854244281669,
          -0.6593617391777278,
          -0.16067337078532745,
          2.0258847666389728,
          -0.2762589805424835,
          -0.6622145387342245,
          -1.483238386047786,
          0.7227712700235196,
          -2.082910288506929,
          1.5903052813680039,
          -0.007619787485957267,
          -1.2926863512285347,
          0.45899093026145127,
          -0.786859491776658,
          0.5555496088564695,
          -0.23698133472116614,
          0.3902776227593081,
          -0.3204494249122854,
          -0.3213212898678564,
          0.5212557871580952,
          -0.9956260394916182,
          0.9384020295898582,
          -1.4784904280978117,
          -0.7509114542397107,
          0.3022400632332965,
          0.42594305296444956,
          -1.5980127256548717,
          0.6292030700725103,
          0.46215678871507954,
          -0.8027737017738074,
          2.064496427192837,
          1.0649703615544008,
          1.5821968439624061,
          -0.11039333207468331,
          0.31731911579102595,
          0.5345057004347896,
          -1.138197997460557,
          0.8951994045641871,
          0.28847009760214276,
          -0.9925327955489001,
          0.13940106847776548,
          0.15625781811900608,
          -0.15228766475217875,
          -0.5560857037787544,
          -0.11193076849496958,
          0.3057533974847101,
          -1.753533967666065,
          -0.03662419549914757,
          -0.4663701086370231,
          -0.13437295226808751,
          -1.406094611108991
         ],
         "xaxis": "x7",
         "y": [
          -0.3758500097309625,
          -0.16535367948668075,
          -0.5128744340332714,
          -1.8423189367048123,
          -1.1356305868368282,
          1.2950944141943472,
          -1.6311579305760227,
          0.016688836964509558,
          0.3083634203789976,
          0.05103396975288527,
          0.05679467739581437,
          -1.9093388798897002,
          -0.07160559652996788,
          0.6891009823108263,
          -0.023924354969763355,
          -1.1380916706848383,
          1.3578446352346254,
          1.4038591603561459,
          -0.7963802619073149,
          1.0957560929375854,
          -1.818438255277656,
          0.518952747348584,
          0.15766209751886662,
          -1.194762952135624,
          0.851137584451354,
          0.15136057281811752,
          0.8314766491511106,
          -2.24436491310048,
          -1.32618950252785,
          1.6139261366070685,
          1.2267569037271193,
          -0.4821519323592516,
          -1.0068080096810863,
          -0.6015152385898623,
          -0.4794807614204026,
          0.8255089329806143,
          0.20952100918864586,
          1.3880503023093014,
          0.010232520009308393,
          2.0746829897571417,
          0.9580845016434512,
          -0.8915323496411762,
          0.5521516640401373,
          0.35559597058364756,
          0.7782531942868335,
          -0.9297557978788601,
          -0.08201576362981501,
          0.6199540529598736,
          -0.3168906960775201,
          1.5566902016173185,
          -1.0209462255190862,
          0.5188172873553452,
          -0.6199604386138304,
          -0.4761167778402319,
          2.612138955071329,
          -0.4308806060321718,
          -2.5189769893132805,
          0.36864828172669745,
          -0.5418048550803195,
          0.028049888979844513,
          -0.764192926505916,
          -0.44981714959126307,
          -0.2256182492838925,
          0.6677608872670738,
          0.9063299652491447,
          0.026573091595432478,
          -1.1890327279751083,
          0.495971623179748,
          -0.16708889328830456,
          -0.7957095778014049,
          -1.3663426686289486,
          -0.15925390784293836,
          -0.5275660730874695,
          0.6080931676567122,
          -1.2002907631521316,
          0.11751051846397328,
          0.2785444201863015,
          -1.0325323787581073,
          -2.108815639125478,
          0.39090580510184747,
          0.05348538976803026,
          0.3206261656274645,
          -0.5392187076266731,
          0.008276159035867443,
          1.0717865031077487,
          -0.4973337162739843,
          -0.8976955567005012,
          0.9687550475286898,
          -2.766723911241507,
          -0.2968503585431235,
          -2.532841243413473,
          -0.3855427598007159,
          -0.7023174827043425,
          -0.08809338291835991,
          1.2116323269858478,
          -0.9552803546605079,
          -0.8140868518470041,
          0.008119932279069134,
          -1.6007835806075166,
          -0.9437732992897068
         ],
         "yaxis": "y7"
        },
        {
         "line": {
          "color": "rgba(128, 128, 128, 1.0)",
          "dash": "solid",
          "shape": "linear",
          "width": 1.3
         },
         "marker": {
          "size": 2,
          "symbol": "circle"
         },
         "mode": "markers",
         "name": "B",
         "text": "",
         "type": "scatter",
         "x": [
          0.044908640982309955,
          -0.5916582622986855,
          -1.0047049275451418,
          -0.16357912181462567,
          1.2842272620687578,
          -0.9462707786755773,
          -0.33529641671427474,
          -0.597134506932244,
          1.0912916909862427,
          -0.03830843681264787,
          0.22267489195268658,
          1.6512200440794045,
          0.3707835277666362,
          -1.6857515615095517,
          -1.549645897690307,
          0.9719019286855677,
          0.4702220625123732,
          -1.392245113055805,
          -1.3399777710623844,
          0.8394707128052822,
          -1.4353135791074605,
          0.01865835434033595,
          -0.36464576268046844,
          -1.9521593899102565,
          0.3557294937530207,
          -1.9969504535045903,
          -0.4978315702581766,
          1.950746502614422,
          0.8624946698016425,
          0.40903887306092407,
          0.08425458326245053,
          0.3974307187409831,
          -1.2525247237204382,
          -0.5904715318351246,
          -2.6942391859616994,
          0.4033239760531251,
          -1.8992659794944753,
          -0.568769644733657,
          -0.737463931871556,
          -0.09750352174251808,
          0.2827449529433888,
          0.059338453693639,
          -0.25595038775629275,
          1.6729581371668871,
          -0.657484411599867,
          0.143221261226814,
          0.7527341284476973,
          -1.1740531427173075,
          0.20954754178166232,
          1.4832879561187378,
          0.5666715105139852,
          0.4489163420626359,
          -1.3431974921200744,
          0.2845403585031368,
          0.17388400129743048,
          -0.5665861781068376,
          -0.8120322495789992,
          -0.20994668447555426,
          0.26766037663093106,
          -0.9639729600308952,
          -2.074985249101152,
          1.0597136806641296,
          -0.39736167885800483,
          -0.6208970523634952,
          0.9601397151563306,
          -0.9795691514997086,
          1.2745056873164828,
          -1.2011107020170408,
          1.0004866511137571,
          -0.025036341334355866,
          -0.7047597137469206,
          -1.0708415961563036,
          0.05312333270990024,
          -1.0088103386055773,
          0.407760084955383,
          1.464921732706363,
          -0.16688824903508057,
          -0.3018265012709268,
          -1.1686008046474832,
          -3.348814023786659,
          0.7438810185675033,
          0.18153265371496838,
          0.31740699441409476,
          1.1794731088512522,
          0.012747371844716965,
          -1.1609382594370097,
          2.112283032125828,
          2.0240269821246417,
          0.7223762407394393,
          -0.8280982904757588,
          -0.09425252967400118,
          0.21086676092096698,
          -1.0222276964354864,
          -0.04033528542371997,
          1.9460924400180664,
          -1.1907943807494015,
          0.2925507158576648,
          1.1894722145378136,
          -1.6136127061729408,
          -1.3694625393054467
         ],
         "xaxis": "x8",
         "y": [
          -0.3758500097309625,
          -0.16535367948668075,
          -0.5128744340332714,
          -1.8423189367048123,
          -1.1356305868368282,
          1.2950944141943472,
          -1.6311579305760227,
          0.016688836964509558,
          0.3083634203789976,
          0.05103396975288527,
          0.05679467739581437,
          -1.9093388798897002,
          -0.07160559652996788,
          0.6891009823108263,
          -0.023924354969763355,
          -1.1380916706848383,
          1.3578446352346254,
          1.4038591603561459,
          -0.7963802619073149,
          1.0957560929375854,
          -1.818438255277656,
          0.518952747348584,
          0.15766209751886662,
          -1.194762952135624,
          0.851137584451354,
          0.15136057281811752,
          0.8314766491511106,
          -2.24436491310048,
          -1.32618950252785,
          1.6139261366070685,
          1.2267569037271193,
          -0.4821519323592516,
          -1.0068080096810863,
          -0.6015152385898623,
          -0.4794807614204026,
          0.8255089329806143,
          0.20952100918864586,
          1.3880503023093014,
          0.010232520009308393,
          2.0746829897571417,
          0.9580845016434512,
          -0.8915323496411762,
          0.5521516640401373,
          0.35559597058364756,
          0.7782531942868335,
          -0.9297557978788601,
          -0.08201576362981501,
          0.6199540529598736,
          -0.3168906960775201,
          1.5566902016173185,
          -1.0209462255190862,
          0.5188172873553452,
          -0.6199604386138304,
          -0.4761167778402319,
          2.612138955071329,
          -0.4308806060321718,
          -2.5189769893132805,
          0.36864828172669745,
          -0.5418048550803195,
          0.028049888979844513,
          -0.764192926505916,
          -0.44981714959126307,
          -0.2256182492838925,
          0.6677608872670738,
          0.9063299652491447,
          0.026573091595432478,
          -1.1890327279751083,
          0.495971623179748,
          -0.16708889328830456,
          -0.7957095778014049,
          -1.3663426686289486,
          -0.15925390784293836,
          -0.5275660730874695,
          0.6080931676567122,
          -1.2002907631521316,
          0.11751051846397328,
          0.2785444201863015,
          -1.0325323787581073,
          -2.108815639125478,
          0.39090580510184747,
          0.05348538976803026,
          0.3206261656274645,
          -0.5392187076266731,
          0.008276159035867443,
          1.0717865031077487,
          -0.4973337162739843,
          -0.8976955567005012,
          0.9687550475286898,
          -2.766723911241507,
          -0.2968503585431235,
          -2.532841243413473,
          -0.3855427598007159,
          -0.7023174827043425,
          -0.08809338291835991,
          1.2116323269858478,
          -0.9552803546605079,
          -0.8140868518470041,
          0.008119932279069134,
          -1.6007835806075166,
          -0.9437732992897068
         ],
         "yaxis": "y8"
        },
        {
         "line": {
          "color": "rgba(128, 128, 128, 1.0)",
          "dash": "solid",
          "shape": "linear",
          "width": 1.3
         },
         "marker": {
          "size": 2,
          "symbol": "circle"
         },
         "mode": "markers",
         "name": "C",
         "text": "",
         "type": "scatter",
         "x": [
          -0.5179271967863107,
          -0.43117640845718924,
          -0.7425433984463287,
          -0.7089570997832738,
          -0.0361529193067307,
          0.07522673552826692,
          -1.4131665855296218,
          -0.0031556109683627954,
          -0.5302505856350661,
          -1.4127977371366855,
          0.2087659396050563,
          -1.4131760875032837,
          -0.30928347102426945,
          -0.483488097111868,
          -0.06312965999867666,
          1.9258679259374294,
          1.4587125869684525,
          1.3580817403999588,
          0.6622586311843047,
          -0.240272587802109,
          -1.6140007340343672,
          -0.809880896517053,
          0.17882016129592684,
          -1.918619035060385,
          0.5639175432044878,
          0.7003026318927348,
          1.1871330769452881,
          2.621530460729752,
          -0.05226547135199387,
          -0.8857947444659938,
          0.29778182041096535,
          0.8314995551078086,
          0.8277350723928936,
          0.9807667281146693,
          -0.45636567990437055,
          -0.8287489631818937,
          -0.02409698397342725,
          1.1224562643047222,
          -0.10774074979314044,
          -0.4703262271315255,
          -0.24485739399715936,
          -0.7209811457686358,
          0.543656350365433,
          -1.0910512142922943,
          1.6146687797051722,
          1.272671565444567,
          -1.4969566494241922,
          0.49724268869042015,
          0.5762497665318234,
          0.9173715082787924,
          -0.3156771970691579,
          -1.5465554615957646,
          0.5365559969570894,
          -0.16681688603908454,
          0.5422513086930213,
          0.11702639045880345,
          0.8662033868093464,
          0.7950354856934065,
          -0.3692169523733393,
          2.185699925373505,
          -0.19711391724350172,
          -0.7801751589593686,
          1.5742708527925775,
          -0.3998953876637889,
          -0.12030457591217633,
          -1.363206492841364,
          0.1538230355317382,
          -0.2873090931451748,
          0.1526156484030482,
          -0.76742908384936,
          0.004822975700221074,
          -0.44140319312826604,
          0.7217093953262547,
          0.5286866127120267,
          -1.7027276677246608,
          -0.8067393232956829,
          -1.8513726371721704,
          1.0938465376835904,
          -1.292754654635878,
          -0.7940460298498865,
          -2.0091587452108204,
          1.053284917771941,
          0.5505835572480933,
          -1.270031759248562,
          -0.6446601496996719,
          -0.7047831805932557,
          -0.5097574343620287,
          -1.1067233133199088,
          -0.47331615373991254,
          0.8566597266341112,
          -1.1402325893281335,
          -0.9191188365872801,
          -0.47871460470651567,
          0.3480989521997855,
          -0.02679045217886534,
          -1.1023603518297882,
          0.4308022821887071,
          0.12713866089653922,
          -0.34931893784546914,
          -0.22785308304094232
         ],
         "xaxis": "x9",
         "y": [
          0.7587960141341928,
          -1.11142264721022,
          0.3198141565440644,
          -1.0194934133304043,
          -0.20572850686545635,
          -0.021587026924805366,
          0.07722012980996998,
          -0.5393365520948504,
          -0.48363801076131696,
          0.11967840349890593,
          0.9333096631948404,
          -0.7785714729611988,
          -2.500839343528844,
          0.9826847280006671,
          0.5771999931663933,
          -0.7370946705548319,
          0.7348914374396123,
          -2.2733615010687673,
          0.15868171889712523,
          0.49986313397118975,
          0.4745890512299896,
          -1.9254532255882428,
          0.07631370503179387,
          -0.8403706589906261,
          2.5824350375483784,
          0.49004520024242426,
          -1.1951705217832775,
          -0.8187851530447994,
          -0.8794790016652474,
          -0.6545150225494447,
          -0.7094955242828129,
          0.5864046640564877,
          -1.0991936756656926,
          2.684090001899882,
          0.22664660344801527,
          -0.7470721578512743,
          -0.43234097571716756,
          1.8490458160125023,
          -0.7778738537108288,
          -0.0995557253719997,
          0.41944010969042433,
          -2.1766770115315626,
          -0.1495340371367192,
          -0.7057471704952208,
          1.011974464033998,
          0.39923051144662375,
          0.042797623433699264,
          -1.278506700822136,
          0.23485653214430935,
          -0.6144854244281669,
          -0.6593617391777278,
          -0.16067337078532745,
          2.0258847666389728,
          -0.2762589805424835,
          -0.6622145387342245,
          -1.483238386047786,
          0.7227712700235196,
          -2.082910288506929,
          1.5903052813680039,
          -0.007619787485957267,
          -1.2926863512285347,
          0.45899093026145127,
          -0.786859491776658,
          0.5555496088564695,
          -0.23698133472116614,
          0.3902776227593081,
          -0.3204494249122854,
          -0.3213212898678564,
          0.5212557871580952,
          -0.9956260394916182,
          0.9384020295898582,
          -1.4784904280978117,
          -0.7509114542397107,
          0.3022400632332965,
          0.42594305296444956,
          -1.5980127256548717,
          0.6292030700725103,
          0.46215678871507954,
          -0.8027737017738074,
          2.064496427192837,
          1.0649703615544008,
          1.5821968439624061,
          -0.11039333207468331,
          0.31731911579102595,
          0.5345057004347896,
          -1.138197997460557,
          0.8951994045641871,
          0.28847009760214276,
          -0.9925327955489001,
          0.13940106847776548,
          0.15625781811900608,
          -0.15228766475217875,
          -0.5560857037787544,
          -0.11193076849496958,
          0.3057533974847101,
          -1.753533967666065,
          -0.03662419549914757,
          -0.4663701086370231,
          -0.13437295226808751,
          -1.406094611108991
         ],
         "yaxis": "y9"
        },
        {
         "line": {
          "color": "rgba(128, 128, 128, 1.0)",
          "dash": "solid",
          "shape": "linear",
          "width": 1.3
         },
         "marker": {
          "size": 2,
          "symbol": "circle"
         },
         "mode": "markers",
         "name": "C",
         "text": "",
         "type": "scatter",
         "x": [
          -0.3758500097309625,
          -0.16535367948668075,
          -0.5128744340332714,
          -1.8423189367048123,
          -1.1356305868368282,
          1.2950944141943472,
          -1.6311579305760227,
          0.016688836964509558,
          0.3083634203789976,
          0.05103396975288527,
          0.05679467739581437,
          -1.9093388798897002,
          -0.07160559652996788,
          0.6891009823108263,
          -0.023924354969763355,
          -1.1380916706848383,
          1.3578446352346254,
          1.4038591603561459,
          -0.7963802619073149,
          1.0957560929375854,
          -1.818438255277656,
          0.518952747348584,
          0.15766209751886662,
          -1.194762952135624,
          0.851137584451354,
          0.15136057281811752,
          0.8314766491511106,
          -2.24436491310048,
          -1.32618950252785,
          1.6139261366070685,
          1.2267569037271193,
          -0.4821519323592516,
          -1.0068080096810863,
          -0.6015152385898623,
          -0.4794807614204026,
          0.8255089329806143,
          0.20952100918864586,
          1.3880503023093014,
          0.010232520009308393,
          2.0746829897571417,
          0.9580845016434512,
          -0.8915323496411762,
          0.5521516640401373,
          0.35559597058364756,
          0.7782531942868335,
          -0.9297557978788601,
          -0.08201576362981501,
          0.6199540529598736,
          -0.3168906960775201,
          1.5566902016173185,
          -1.0209462255190862,
          0.5188172873553452,
          -0.6199604386138304,
          -0.4761167778402319,
          2.612138955071329,
          -0.4308806060321718,
          -2.5189769893132805,
          0.36864828172669745,
          -0.5418048550803195,
          0.028049888979844513,
          -0.764192926505916,
          -0.44981714959126307,
          -0.2256182492838925,
          0.6677608872670738,
          0.9063299652491447,
          0.026573091595432478,
          -1.1890327279751083,
          0.495971623179748,
          -0.16708889328830456,
          -0.7957095778014049,
          -1.3663426686289486,
          -0.15925390784293836,
          -0.5275660730874695,
          0.6080931676567122,
          -1.2002907631521316,
          0.11751051846397328,
          0.2785444201863015,
          -1.0325323787581073,
          -2.108815639125478,
          0.39090580510184747,
          0.05348538976803026,
          0.3206261656274645,
          -0.5392187076266731,
          0.008276159035867443,
          1.0717865031077487,
          -0.4973337162739843,
          -0.8976955567005012,
          0.9687550475286898,
          -2.766723911241507,
          -0.2968503585431235,
          -2.532841243413473,
          -0.3855427598007159,
          -0.7023174827043425,
          -0.08809338291835991,
          1.2116323269858478,
          -0.9552803546605079,
          -0.8140868518470041,
          0.008119932279069134,
          -1.6007835806075166,
          -0.9437732992897068
         ],
         "xaxis": "x10",
         "y": [
          0.7587960141341928,
          -1.11142264721022,
          0.3198141565440644,
          -1.0194934133304043,
          -0.20572850686545635,
          -0.021587026924805366,
          0.07722012980996998,
          -0.5393365520948504,
          -0.48363801076131696,
          0.11967840349890593,
          0.9333096631948404,
          -0.7785714729611988,
          -2.500839343528844,
          0.9826847280006671,
          0.5771999931663933,
          -0.7370946705548319,
          0.7348914374396123,
          -2.2733615010687673,
          0.15868171889712523,
          0.49986313397118975,
          0.4745890512299896,
          -1.9254532255882428,
          0.07631370503179387,
          -0.8403706589906261,
          2.5824350375483784,
          0.49004520024242426,
          -1.1951705217832775,
          -0.8187851530447994,
          -0.8794790016652474,
          -0.6545150225494447,
          -0.7094955242828129,
          0.5864046640564877,
          -1.0991936756656926,
          2.684090001899882,
          0.22664660344801527,
          -0.7470721578512743,
          -0.43234097571716756,
          1.8490458160125023,
          -0.7778738537108288,
          -0.0995557253719997,
          0.41944010969042433,
          -2.1766770115315626,
          -0.1495340371367192,
          -0.7057471704952208,
          1.011974464033998,
          0.39923051144662375,
          0.042797623433699264,
          -1.278506700822136,
          0.23485653214430935,
          -0.6144854244281669,
          -0.6593617391777278,
          -0.16067337078532745,
          2.0258847666389728,
          -0.2762589805424835,
          -0.6622145387342245,
          -1.483238386047786,
          0.7227712700235196,
          -2.082910288506929,
          1.5903052813680039,
          -0.007619787485957267,
          -1.2926863512285347,
          0.45899093026145127,
          -0.786859491776658,
          0.5555496088564695,
          -0.23698133472116614,
          0.3902776227593081,
          -0.3204494249122854,
          -0.3213212898678564,
          0.5212557871580952,
          -0.9956260394916182,
          0.9384020295898582,
          -1.4784904280978117,
          -0.7509114542397107,
          0.3022400632332965,
          0.42594305296444956,
          -1.5980127256548717,
          0.6292030700725103,
          0.46215678871507954,
          -0.8027737017738074,
          2.064496427192837,
          1.0649703615544008,
          1.5821968439624061,
          -0.11039333207468331,
          0.31731911579102595,
          0.5345057004347896,
          -1.138197997460557,
          0.8951994045641871,
          0.28847009760214276,
          -0.9925327955489001,
          0.13940106847776548,
          0.15625781811900608,
          -0.15228766475217875,
          -0.5560857037787544,
          -0.11193076849496958,
          0.3057533974847101,
          -1.753533967666065,
          -0.03662419549914757,
          -0.4663701086370231,
          -0.13437295226808751,
          -1.406094611108991
         ],
         "yaxis": "y10"
        },
        {
         "histfunc": "count",
         "histnorm": "",
         "marker": {
          "color": "rgba(50, 171, 96, 1.0)",
          "line": {
           "color": "#4D5663",
           "width": 1.3
          }
         },
         "name": "C",
         "nbinsx": 10,
         "opacity": 0.8,
         "orientation": "v",
         "type": "histogram",
         "x": [
          0.7587960141341928,
          -1.11142264721022,
          0.3198141565440644,
          -1.0194934133304043,
          -0.20572850686545635,
          -0.021587026924805366,
          0.07722012980996998,
          -0.5393365520948504,
          -0.48363801076131696,
          0.11967840349890593,
          0.9333096631948404,
          -0.7785714729611988,
          -2.500839343528844,
          0.9826847280006671,
          0.5771999931663933,
          -0.7370946705548319,
          0.7348914374396123,
          -2.2733615010687673,
          0.15868171889712523,
          0.49986313397118975,
          0.4745890512299896,
          -1.9254532255882428,
          0.07631370503179387,
          -0.8403706589906261,
          2.5824350375483784,
          0.49004520024242426,
          -1.1951705217832775,
          -0.8187851530447994,
          -0.8794790016652474,
          -0.6545150225494447,
          -0.7094955242828129,
          0.5864046640564877,
          -1.0991936756656926,
          2.684090001899882,
          0.22664660344801527,
          -0.7470721578512743,
          -0.43234097571716756,
          1.8490458160125023,
          -0.7778738537108288,
          -0.0995557253719997,
          0.41944010969042433,
          -2.1766770115315626,
          -0.1495340371367192,
          -0.7057471704952208,
          1.011974464033998,
          0.39923051144662375,
          0.042797623433699264,
          -1.278506700822136,
          0.23485653214430935,
          -0.6144854244281669,
          -0.6593617391777278,
          -0.16067337078532745,
          2.0258847666389728,
          -0.2762589805424835,
          -0.6622145387342245,
          -1.483238386047786,
          0.7227712700235196,
          -2.082910288506929,
          1.5903052813680039,
          -0.007619787485957267,
          -1.2926863512285347,
          0.45899093026145127,
          -0.786859491776658,
          0.5555496088564695,
          -0.23698133472116614,
          0.3902776227593081,
          -0.3204494249122854,
          -0.3213212898678564,
          0.5212557871580952,
          -0.9956260394916182,
          0.9384020295898582,
          -1.4784904280978117,
          -0.7509114542397107,
          0.3022400632332965,
          0.42594305296444956,
          -1.5980127256548717,
          0.6292030700725103,
          0.46215678871507954,
          -0.8027737017738074,
          2.064496427192837,
          1.0649703615544008,
          1.5821968439624061,
          -0.11039333207468331,
          0.31731911579102595,
          0.5345057004347896,
          -1.138197997460557,
          0.8951994045641871,
          0.28847009760214276,
          -0.9925327955489001,
          0.13940106847776548,
          0.15625781811900608,
          -0.15228766475217875,
          -0.5560857037787544,
          -0.11193076849496958,
          0.3057533974847101,
          -1.753533967666065,
          -0.03662419549914757,
          -0.4663701086370231,
          -0.13437295226808751,
          -1.406094611108991
         ],
         "xaxis": "x11",
         "yaxis": "y11"
        },
        {
         "line": {
          "color": "rgba(128, 128, 128, 1.0)",
          "dash": "solid",
          "shape": "linear",
          "width": 1.3
         },
         "marker": {
          "size": 2,
          "symbol": "circle"
         },
         "mode": "markers",
         "name": "C",
         "text": "",
         "type": "scatter",
         "x": [
          0.044908640982309955,
          -0.5916582622986855,
          -1.0047049275451418,
          -0.16357912181462567,
          1.2842272620687578,
          -0.9462707786755773,
          -0.33529641671427474,
          -0.597134506932244,
          1.0912916909862427,
          -0.03830843681264787,
          0.22267489195268658,
          1.6512200440794045,
          0.3707835277666362,
          -1.6857515615095517,
          -1.549645897690307,
          0.9719019286855677,
          0.4702220625123732,
          -1.392245113055805,
          -1.3399777710623844,
          0.8394707128052822,
          -1.4353135791074605,
          0.01865835434033595,
          -0.36464576268046844,
          -1.9521593899102565,
          0.3557294937530207,
          -1.9969504535045903,
          -0.4978315702581766,
          1.950746502614422,
          0.8624946698016425,
          0.40903887306092407,
          0.08425458326245053,
          0.3974307187409831,
          -1.2525247237204382,
          -0.5904715318351246,
          -2.6942391859616994,
          0.4033239760531251,
          -1.8992659794944753,
          -0.568769644733657,
          -0.737463931871556,
          -0.09750352174251808,
          0.2827449529433888,
          0.059338453693639,
          -0.25595038775629275,
          1.6729581371668871,
          -0.657484411599867,
          0.143221261226814,
          0.7527341284476973,
          -1.1740531427173075,
          0.20954754178166232,
          1.4832879561187378,
          0.5666715105139852,
          0.4489163420626359,
          -1.3431974921200744,
          0.2845403585031368,
          0.17388400129743048,
          -0.5665861781068376,
          -0.8120322495789992,
          -0.20994668447555426,
          0.26766037663093106,
          -0.9639729600308952,
          -2.074985249101152,
          1.0597136806641296,
          -0.39736167885800483,
          -0.6208970523634952,
          0.9601397151563306,
          -0.9795691514997086,
          1.2745056873164828,
          -1.2011107020170408,
          1.0004866511137571,
          -0.025036341334355866,
          -0.7047597137469206,
          -1.0708415961563036,
          0.05312333270990024,
          -1.0088103386055773,
          0.407760084955383,
          1.464921732706363,
          -0.16688824903508057,
          -0.3018265012709268,
          -1.1686008046474832,
          -3.348814023786659,
          0.7438810185675033,
          0.18153265371496838,
          0.31740699441409476,
          1.1794731088512522,
          0.012747371844716965,
          -1.1609382594370097,
          2.112283032125828,
          2.0240269821246417,
          0.7223762407394393,
          -0.8280982904757588,
          -0.09425252967400118,
          0.21086676092096698,
          -1.0222276964354864,
          -0.04033528542371997,
          1.9460924400180664,
          -1.1907943807494015,
          0.2925507158576648,
          1.1894722145378136,
          -1.6136127061729408,
          -1.3694625393054467
         ],
         "xaxis": "x12",
         "y": [
          0.7587960141341928,
          -1.11142264721022,
          0.3198141565440644,
          -1.0194934133304043,
          -0.20572850686545635,
          -0.021587026924805366,
          0.07722012980996998,
          -0.5393365520948504,
          -0.48363801076131696,
          0.11967840349890593,
          0.9333096631948404,
          -0.7785714729611988,
          -2.500839343528844,
          0.9826847280006671,
          0.5771999931663933,
          -0.7370946705548319,
          0.7348914374396123,
          -2.2733615010687673,
          0.15868171889712523,
          0.49986313397118975,
          0.4745890512299896,
          -1.9254532255882428,
          0.07631370503179387,
          -0.8403706589906261,
          2.5824350375483784,
          0.49004520024242426,
          -1.1951705217832775,
          -0.8187851530447994,
          -0.8794790016652474,
          -0.6545150225494447,
          -0.7094955242828129,
          0.5864046640564877,
          -1.0991936756656926,
          2.684090001899882,
          0.22664660344801527,
          -0.7470721578512743,
          -0.43234097571716756,
          1.8490458160125023,
          -0.7778738537108288,
          -0.0995557253719997,
          0.41944010969042433,
          -2.1766770115315626,
          -0.1495340371367192,
          -0.7057471704952208,
          1.011974464033998,
          0.39923051144662375,
          0.042797623433699264,
          -1.278506700822136,
          0.23485653214430935,
          -0.6144854244281669,
          -0.6593617391777278,
          -0.16067337078532745,
          2.0258847666389728,
          -0.2762589805424835,
          -0.6622145387342245,
          -1.483238386047786,
          0.7227712700235196,
          -2.082910288506929,
          1.5903052813680039,
          -0.007619787485957267,
          -1.2926863512285347,
          0.45899093026145127,
          -0.786859491776658,
          0.5555496088564695,
          -0.23698133472116614,
          0.3902776227593081,
          -0.3204494249122854,
          -0.3213212898678564,
          0.5212557871580952,
          -0.9956260394916182,
          0.9384020295898582,
          -1.4784904280978117,
          -0.7509114542397107,
          0.3022400632332965,
          0.42594305296444956,
          -1.5980127256548717,
          0.6292030700725103,
          0.46215678871507954,
          -0.8027737017738074,
          2.064496427192837,
          1.0649703615544008,
          1.5821968439624061,
          -0.11039333207468331,
          0.31731911579102595,
          0.5345057004347896,
          -1.138197997460557,
          0.8951994045641871,
          0.28847009760214276,
          -0.9925327955489001,
          0.13940106847776548,
          0.15625781811900608,
          -0.15228766475217875,
          -0.5560857037787544,
          -0.11193076849496958,
          0.3057533974847101,
          -1.753533967666065,
          -0.03662419549914757,
          -0.4663701086370231,
          -0.13437295226808751,
          -1.406094611108991
         ],
         "yaxis": "y12"
        },
        {
         "line": {
          "color": "rgba(128, 128, 128, 1.0)",
          "dash": "solid",
          "shape": "linear",
          "width": 1.3
         },
         "marker": {
          "size": 2,
          "symbol": "circle"
         },
         "mode": "markers",
         "name": "D",
         "text": "",
         "type": "scatter",
         "x": [
          -0.5179271967863107,
          -0.43117640845718924,
          -0.7425433984463287,
          -0.7089570997832738,
          -0.0361529193067307,
          0.07522673552826692,
          -1.4131665855296218,
          -0.0031556109683627954,
          -0.5302505856350661,
          -1.4127977371366855,
          0.2087659396050563,
          -1.4131760875032837,
          -0.30928347102426945,
          -0.483488097111868,
          -0.06312965999867666,
          1.9258679259374294,
          1.4587125869684525,
          1.3580817403999588,
          0.6622586311843047,
          -0.240272587802109,
          -1.6140007340343672,
          -0.809880896517053,
          0.17882016129592684,
          -1.918619035060385,
          0.5639175432044878,
          0.7003026318927348,
          1.1871330769452881,
          2.621530460729752,
          -0.05226547135199387,
          -0.8857947444659938,
          0.29778182041096535,
          0.8314995551078086,
          0.8277350723928936,
          0.9807667281146693,
          -0.45636567990437055,
          -0.8287489631818937,
          -0.02409698397342725,
          1.1224562643047222,
          -0.10774074979314044,
          -0.4703262271315255,
          -0.24485739399715936,
          -0.7209811457686358,
          0.543656350365433,
          -1.0910512142922943,
          1.6146687797051722,
          1.272671565444567,
          -1.4969566494241922,
          0.49724268869042015,
          0.5762497665318234,
          0.9173715082787924,
          -0.3156771970691579,
          -1.5465554615957646,
          0.5365559969570894,
          -0.16681688603908454,
          0.5422513086930213,
          0.11702639045880345,
          0.8662033868093464,
          0.7950354856934065,
          -0.3692169523733393,
          2.185699925373505,
          -0.19711391724350172,
          -0.7801751589593686,
          1.5742708527925775,
          -0.3998953876637889,
          -0.12030457591217633,
          -1.363206492841364,
          0.1538230355317382,
          -0.2873090931451748,
          0.1526156484030482,
          -0.76742908384936,
          0.004822975700221074,
          -0.44140319312826604,
          0.7217093953262547,
          0.5286866127120267,
          -1.7027276677246608,
          -0.8067393232956829,
          -1.8513726371721704,
          1.0938465376835904,
          -1.292754654635878,
          -0.7940460298498865,
          -2.0091587452108204,
          1.053284917771941,
          0.5505835572480933,
          -1.270031759248562,
          -0.6446601496996719,
          -0.7047831805932557,
          -0.5097574343620287,
          -1.1067233133199088,
          -0.47331615373991254,
          0.8566597266341112,
          -1.1402325893281335,
          -0.9191188365872801,
          -0.47871460470651567,
          0.3480989521997855,
          -0.02679045217886534,
          -1.1023603518297882,
          0.4308022821887071,
          0.12713866089653922,
          -0.34931893784546914,
          -0.22785308304094232
         ],
         "xaxis": "x13",
         "y": [
          0.044908640982309955,
          -0.5916582622986855,
          -1.0047049275451418,
          -0.16357912181462567,
          1.2842272620687578,
          -0.9462707786755773,
          -0.33529641671427474,
          -0.597134506932244,
          1.0912916909862427,
          -0.03830843681264787,
          0.22267489195268658,
          1.6512200440794045,
          0.3707835277666362,
          -1.6857515615095517,
          -1.549645897690307,
          0.9719019286855677,
          0.4702220625123732,
          -1.392245113055805,
          -1.3399777710623844,
          0.8394707128052822,
          -1.4353135791074605,
          0.01865835434033595,
          -0.36464576268046844,
          -1.9521593899102565,
          0.3557294937530207,
          -1.9969504535045903,
          -0.4978315702581766,
          1.950746502614422,
          0.8624946698016425,
          0.40903887306092407,
          0.08425458326245053,
          0.3974307187409831,
          -1.2525247237204382,
          -0.5904715318351246,
          -2.6942391859616994,
          0.4033239760531251,
          -1.8992659794944753,
          -0.568769644733657,
          -0.737463931871556,
          -0.09750352174251808,
          0.2827449529433888,
          0.059338453693639,
          -0.25595038775629275,
          1.6729581371668871,
          -0.657484411599867,
          0.143221261226814,
          0.7527341284476973,
          -1.1740531427173075,
          0.20954754178166232,
          1.4832879561187378,
          0.5666715105139852,
          0.4489163420626359,
          -1.3431974921200744,
          0.2845403585031368,
          0.17388400129743048,
          -0.5665861781068376,
          -0.8120322495789992,
          -0.20994668447555426,
          0.26766037663093106,
          -0.9639729600308952,
          -2.074985249101152,
          1.0597136806641296,
          -0.39736167885800483,
          -0.6208970523634952,
          0.9601397151563306,
          -0.9795691514997086,
          1.2745056873164828,
          -1.2011107020170408,
          1.0004866511137571,
          -0.025036341334355866,
          -0.7047597137469206,
          -1.0708415961563036,
          0.05312333270990024,
          -1.0088103386055773,
          0.407760084955383,
          1.464921732706363,
          -0.16688824903508057,
          -0.3018265012709268,
          -1.1686008046474832,
          -3.348814023786659,
          0.7438810185675033,
          0.18153265371496838,
          0.31740699441409476,
          1.1794731088512522,
          0.012747371844716965,
          -1.1609382594370097,
          2.112283032125828,
          2.0240269821246417,
          0.7223762407394393,
          -0.8280982904757588,
          -0.09425252967400118,
          0.21086676092096698,
          -1.0222276964354864,
          -0.04033528542371997,
          1.9460924400180664,
          -1.1907943807494015,
          0.2925507158576648,
          1.1894722145378136,
          -1.6136127061729408,
          -1.3694625393054467
         ],
         "yaxis": "y13"
        },
        {
         "line": {
          "color": "rgba(128, 128, 128, 1.0)",
          "dash": "solid",
          "shape": "linear",
          "width": 1.3
         },
         "marker": {
          "size": 2,
          "symbol": "circle"
         },
         "mode": "markers",
         "name": "D",
         "text": "",
         "type": "scatter",
         "x": [
          -0.3758500097309625,
          -0.16535367948668075,
          -0.5128744340332714,
          -1.8423189367048123,
          -1.1356305868368282,
          1.2950944141943472,
          -1.6311579305760227,
          0.016688836964509558,
          0.3083634203789976,
          0.05103396975288527,
          0.05679467739581437,
          -1.9093388798897002,
          -0.07160559652996788,
          0.6891009823108263,
          -0.023924354969763355,
          -1.1380916706848383,
          1.3578446352346254,
          1.4038591603561459,
          -0.7963802619073149,
          1.0957560929375854,
          -1.818438255277656,
          0.518952747348584,
          0.15766209751886662,
          -1.194762952135624,
          0.851137584451354,
          0.15136057281811752,
          0.8314766491511106,
          -2.24436491310048,
          -1.32618950252785,
          1.6139261366070685,
          1.2267569037271193,
          -0.4821519323592516,
          -1.0068080096810863,
          -0.6015152385898623,
          -0.4794807614204026,
          0.8255089329806143,
          0.20952100918864586,
          1.3880503023093014,
          0.010232520009308393,
          2.0746829897571417,
          0.9580845016434512,
          -0.8915323496411762,
          0.5521516640401373,
          0.35559597058364756,
          0.7782531942868335,
          -0.9297557978788601,
          -0.08201576362981501,
          0.6199540529598736,
          -0.3168906960775201,
          1.5566902016173185,
          -1.0209462255190862,
          0.5188172873553452,
          -0.6199604386138304,
          -0.4761167778402319,
          2.612138955071329,
          -0.4308806060321718,
          -2.5189769893132805,
          0.36864828172669745,
          -0.5418048550803195,
          0.028049888979844513,
          -0.764192926505916,
          -0.44981714959126307,
          -0.2256182492838925,
          0.6677608872670738,
          0.9063299652491447,
          0.026573091595432478,
          -1.1890327279751083,
          0.495971623179748,
          -0.16708889328830456,
          -0.7957095778014049,
          -1.3663426686289486,
          -0.15925390784293836,
          -0.5275660730874695,
          0.6080931676567122,
          -1.2002907631521316,
          0.11751051846397328,
          0.2785444201863015,
          -1.0325323787581073,
          -2.108815639125478,
          0.39090580510184747,
          0.05348538976803026,
          0.3206261656274645,
          -0.5392187076266731,
          0.008276159035867443,
          1.0717865031077487,
          -0.4973337162739843,
          -0.8976955567005012,
          0.9687550475286898,
          -2.766723911241507,
          -0.2968503585431235,
          -2.532841243413473,
          -0.3855427598007159,
          -0.7023174827043425,
          -0.08809338291835991,
          1.2116323269858478,
          -0.9552803546605079,
          -0.8140868518470041,
          0.008119932279069134,
          -1.6007835806075166,
          -0.9437732992897068
         ],
         "xaxis": "x14",
         "y": [
          0.044908640982309955,
          -0.5916582622986855,
          -1.0047049275451418,
          -0.16357912181462567,
          1.2842272620687578,
          -0.9462707786755773,
          -0.33529641671427474,
          -0.597134506932244,
          1.0912916909862427,
          -0.03830843681264787,
          0.22267489195268658,
          1.6512200440794045,
          0.3707835277666362,
          -1.6857515615095517,
          -1.549645897690307,
          0.9719019286855677,
          0.4702220625123732,
          -1.392245113055805,
          -1.3399777710623844,
          0.8394707128052822,
          -1.4353135791074605,
          0.01865835434033595,
          -0.36464576268046844,
          -1.9521593899102565,
          0.3557294937530207,
          -1.9969504535045903,
          -0.4978315702581766,
          1.950746502614422,
          0.8624946698016425,
          0.40903887306092407,
          0.08425458326245053,
          0.3974307187409831,
          -1.2525247237204382,
          -0.5904715318351246,
          -2.6942391859616994,
          0.4033239760531251,
          -1.8992659794944753,
          -0.568769644733657,
          -0.737463931871556,
          -0.09750352174251808,
          0.2827449529433888,
          0.059338453693639,
          -0.25595038775629275,
          1.6729581371668871,
          -0.657484411599867,
          0.143221261226814,
          0.7527341284476973,
          -1.1740531427173075,
          0.20954754178166232,
          1.4832879561187378,
          0.5666715105139852,
          0.4489163420626359,
          -1.3431974921200744,
          0.2845403585031368,
          0.17388400129743048,
          -0.5665861781068376,
          -0.8120322495789992,
          -0.20994668447555426,
          0.26766037663093106,
          -0.9639729600308952,
          -2.074985249101152,
          1.0597136806641296,
          -0.39736167885800483,
          -0.6208970523634952,
          0.9601397151563306,
          -0.9795691514997086,
          1.2745056873164828,
          -1.2011107020170408,
          1.0004866511137571,
          -0.025036341334355866,
          -0.7047597137469206,
          -1.0708415961563036,
          0.05312333270990024,
          -1.0088103386055773,
          0.407760084955383,
          1.464921732706363,
          -0.16688824903508057,
          -0.3018265012709268,
          -1.1686008046474832,
          -3.348814023786659,
          0.7438810185675033,
          0.18153265371496838,
          0.31740699441409476,
          1.1794731088512522,
          0.012747371844716965,
          -1.1609382594370097,
          2.112283032125828,
          2.0240269821246417,
          0.7223762407394393,
          -0.8280982904757588,
          -0.09425252967400118,
          0.21086676092096698,
          -1.0222276964354864,
          -0.04033528542371997,
          1.9460924400180664,
          -1.1907943807494015,
          0.2925507158576648,
          1.1894722145378136,
          -1.6136127061729408,
          -1.3694625393054467
         ],
         "yaxis": "y14"
        },
        {
         "line": {
          "color": "rgba(128, 128, 128, 1.0)",
          "dash": "solid",
          "shape": "linear",
          "width": 1.3
         },
         "marker": {
          "size": 2,
          "symbol": "circle"
         },
         "mode": "markers",
         "name": "D",
         "text": "",
         "type": "scatter",
         "x": [
          0.7587960141341928,
          -1.11142264721022,
          0.3198141565440644,
          -1.0194934133304043,
          -0.20572850686545635,
          -0.021587026924805366,
          0.07722012980996998,
          -0.5393365520948504,
          -0.48363801076131696,
          0.11967840349890593,
          0.9333096631948404,
          -0.7785714729611988,
          -2.500839343528844,
          0.9826847280006671,
          0.5771999931663933,
          -0.7370946705548319,
          0.7348914374396123,
          -2.2733615010687673,
          0.15868171889712523,
          0.49986313397118975,
          0.4745890512299896,
          -1.9254532255882428,
          0.07631370503179387,
          -0.8403706589906261,
          2.5824350375483784,
          0.49004520024242426,
          -1.1951705217832775,
          -0.8187851530447994,
          -0.8794790016652474,
          -0.6545150225494447,
          -0.7094955242828129,
          0.5864046640564877,
          -1.0991936756656926,
          2.684090001899882,
          0.22664660344801527,
          -0.7470721578512743,
          -0.43234097571716756,
          1.8490458160125023,
          -0.7778738537108288,
          -0.0995557253719997,
          0.41944010969042433,
          -2.1766770115315626,
          -0.1495340371367192,
          -0.7057471704952208,
          1.011974464033998,
          0.39923051144662375,
          0.042797623433699264,
          -1.278506700822136,
          0.23485653214430935,
          -0.6144854244281669,
          -0.6593617391777278,
          -0.16067337078532745,
          2.0258847666389728,
          -0.2762589805424835,
          -0.6622145387342245,
          -1.483238386047786,
          0.7227712700235196,
          -2.082910288506929,
          1.5903052813680039,
          -0.007619787485957267,
          -1.2926863512285347,
          0.45899093026145127,
          -0.786859491776658,
          0.5555496088564695,
          -0.23698133472116614,
          0.3902776227593081,
          -0.3204494249122854,
          -0.3213212898678564,
          0.5212557871580952,
          -0.9956260394916182,
          0.9384020295898582,
          -1.4784904280978117,
          -0.7509114542397107,
          0.3022400632332965,
          0.42594305296444956,
          -1.5980127256548717,
          0.6292030700725103,
          0.46215678871507954,
          -0.8027737017738074,
          2.064496427192837,
          1.0649703615544008,
          1.5821968439624061,
          -0.11039333207468331,
          0.31731911579102595,
          0.5345057004347896,
          -1.138197997460557,
          0.8951994045641871,
          0.28847009760214276,
          -0.9925327955489001,
          0.13940106847776548,
          0.15625781811900608,
          -0.15228766475217875,
          -0.5560857037787544,
          -0.11193076849496958,
          0.3057533974847101,
          -1.753533967666065,
          -0.03662419549914757,
          -0.4663701086370231,
          -0.13437295226808751,
          -1.406094611108991
         ],
         "xaxis": "x15",
         "y": [
          0.044908640982309955,
          -0.5916582622986855,
          -1.0047049275451418,
          -0.16357912181462567,
          1.2842272620687578,
          -0.9462707786755773,
          -0.33529641671427474,
          -0.597134506932244,
          1.0912916909862427,
          -0.03830843681264787,
          0.22267489195268658,
          1.6512200440794045,
          0.3707835277666362,
          -1.6857515615095517,
          -1.549645897690307,
          0.9719019286855677,
          0.4702220625123732,
          -1.392245113055805,
          -1.3399777710623844,
          0.8394707128052822,
          -1.4353135791074605,
          0.01865835434033595,
          -0.36464576268046844,
          -1.9521593899102565,
          0.3557294937530207,
          -1.9969504535045903,
          -0.4978315702581766,
          1.950746502614422,
          0.8624946698016425,
          0.40903887306092407,
          0.08425458326245053,
          0.3974307187409831,
          -1.2525247237204382,
          -0.5904715318351246,
          -2.6942391859616994,
          0.4033239760531251,
          -1.8992659794944753,
          -0.568769644733657,
          -0.737463931871556,
          -0.09750352174251808,
          0.2827449529433888,
          0.059338453693639,
          -0.25595038775629275,
          1.6729581371668871,
          -0.657484411599867,
          0.143221261226814,
          0.7527341284476973,
          -1.1740531427173075,
          0.20954754178166232,
          1.4832879561187378,
          0.5666715105139852,
          0.4489163420626359,
          -1.3431974921200744,
          0.2845403585031368,
          0.17388400129743048,
          -0.5665861781068376,
          -0.8120322495789992,
          -0.20994668447555426,
          0.26766037663093106,
          -0.9639729600308952,
          -2.074985249101152,
          1.0597136806641296,
          -0.39736167885800483,
          -0.6208970523634952,
          0.9601397151563306,
          -0.9795691514997086,
          1.2745056873164828,
          -1.2011107020170408,
          1.0004866511137571,
          -0.025036341334355866,
          -0.7047597137469206,
          -1.0708415961563036,
          0.05312333270990024,
          -1.0088103386055773,
          0.407760084955383,
          1.464921732706363,
          -0.16688824903508057,
          -0.3018265012709268,
          -1.1686008046474832,
          -3.348814023786659,
          0.7438810185675033,
          0.18153265371496838,
          0.31740699441409476,
          1.1794731088512522,
          0.012747371844716965,
          -1.1609382594370097,
          2.112283032125828,
          2.0240269821246417,
          0.7223762407394393,
          -0.8280982904757588,
          -0.09425252967400118,
          0.21086676092096698,
          -1.0222276964354864,
          -0.04033528542371997,
          1.9460924400180664,
          -1.1907943807494015,
          0.2925507158576648,
          1.1894722145378136,
          -1.6136127061729408,
          -1.3694625393054467
         ],
         "yaxis": "y15"
        },
        {
         "histfunc": "count",
         "histnorm": "",
         "marker": {
          "color": "rgba(128, 0, 128, 1.0)",
          "line": {
           "color": "#4D5663",
           "width": 1.3
          }
         },
         "name": "D",
         "nbinsx": 10,
         "opacity": 0.8,
         "orientation": "v",
         "type": "histogram",
         "x": [
          0.044908640982309955,
          -0.5916582622986855,
          -1.0047049275451418,
          -0.16357912181462567,
          1.2842272620687578,
          -0.9462707786755773,
          -0.33529641671427474,
          -0.597134506932244,
          1.0912916909862427,
          -0.03830843681264787,
          0.22267489195268658,
          1.6512200440794045,
          0.3707835277666362,
          -1.6857515615095517,
          -1.549645897690307,
          0.9719019286855677,
          0.4702220625123732,
          -1.392245113055805,
          -1.3399777710623844,
          0.8394707128052822,
          -1.4353135791074605,
          0.01865835434033595,
          -0.36464576268046844,
          -1.9521593899102565,
          0.3557294937530207,
          -1.9969504535045903,
          -0.4978315702581766,
          1.950746502614422,
          0.8624946698016425,
          0.40903887306092407,
          0.08425458326245053,
          0.3974307187409831,
          -1.2525247237204382,
          -0.5904715318351246,
          -2.6942391859616994,
          0.4033239760531251,
          -1.8992659794944753,
          -0.568769644733657,
          -0.737463931871556,
          -0.09750352174251808,
          0.2827449529433888,
          0.059338453693639,
          -0.25595038775629275,
          1.6729581371668871,
          -0.657484411599867,
          0.143221261226814,
          0.7527341284476973,
          -1.1740531427173075,
          0.20954754178166232,
          1.4832879561187378,
          0.5666715105139852,
          0.4489163420626359,
          -1.3431974921200744,
          0.2845403585031368,
          0.17388400129743048,
          -0.5665861781068376,
          -0.8120322495789992,
          -0.20994668447555426,
          0.26766037663093106,
          -0.9639729600308952,
          -2.074985249101152,
          1.0597136806641296,
          -0.39736167885800483,
          -0.6208970523634952,
          0.9601397151563306,
          -0.9795691514997086,
          1.2745056873164828,
          -1.2011107020170408,
          1.0004866511137571,
          -0.025036341334355866,
          -0.7047597137469206,
          -1.0708415961563036,
          0.05312333270990024,
          -1.0088103386055773,
          0.407760084955383,
          1.464921732706363,
          -0.16688824903508057,
          -0.3018265012709268,
          -1.1686008046474832,
          -3.348814023786659,
          0.7438810185675033,
          0.18153265371496838,
          0.31740699441409476,
          1.1794731088512522,
          0.012747371844716965,
          -1.1609382594370097,
          2.112283032125828,
          2.0240269821246417,
          0.7223762407394393,
          -0.8280982904757588,
          -0.09425252967400118,
          0.21086676092096698,
          -1.0222276964354864,
          -0.04033528542371997,
          1.9460924400180664,
          -1.1907943807494015,
          0.2925507158576648,
          1.1894722145378136,
          -1.6136127061729408,
          -1.3694625393054467
         ],
         "xaxis": "x16",
         "yaxis": "y16"
        }
       ],
       "layout": {
        "bargap": 0.02,
        "legend": {
         "bgcolor": "#F5F6F9",
         "font": {
          "color": "#4D5663"
         }
        },
        "paper_bgcolor": "#F5F6F9",
        "plot_bgcolor": "#F5F6F9",
        "showlegend": false,
        "template": {
         "data": {
          "bar": [
           {
            "error_x": {
             "color": "#2a3f5f"
            },
            "error_y": {
             "color": "#2a3f5f"
            },
            "marker": {
             "line": {
              "color": "#E5ECF6",
              "width": 0.5
             },
             "pattern": {
              "fillmode": "overlay",
              "size": 10,
              "solidity": 0.2
             }
            },
            "type": "bar"
           }
          ],
          "barpolar": [
           {
            "marker": {
             "line": {
              "color": "#E5ECF6",
              "width": 0.5
             },
             "pattern": {
              "fillmode": "overlay",
              "size": 10,
              "solidity": 0.2
             }
            },
            "type": "barpolar"
           }
          ],
          "carpet": [
           {
            "aaxis": {
             "endlinecolor": "#2a3f5f",
             "gridcolor": "white",
             "linecolor": "white",
             "minorgridcolor": "white",
             "startlinecolor": "#2a3f5f"
            },
            "baxis": {
             "endlinecolor": "#2a3f5f",
             "gridcolor": "white",
             "linecolor": "white",
             "minorgridcolor": "white",
             "startlinecolor": "#2a3f5f"
            },
            "type": "carpet"
           }
          ],
          "choropleth": [
           {
            "colorbar": {
             "outlinewidth": 0,
             "ticks": ""
            },
            "type": "choropleth"
           }
          ],
          "contour": [
           {
            "colorbar": {
             "outlinewidth": 0,
             "ticks": ""
            },
            "colorscale": [
             [
              0,
              "#0d0887"
             ],
             [
              0.1111111111111111,
              "#46039f"
             ],
             [
              0.2222222222222222,
              "#7201a8"
             ],
             [
              0.3333333333333333,
              "#9c179e"
             ],
             [
              0.4444444444444444,
              "#bd3786"
             ],
             [
              0.5555555555555556,
              "#d8576b"
             ],
             [
              0.6666666666666666,
              "#ed7953"
             ],
             [
              0.7777777777777778,
              "#fb9f3a"
             ],
             [
              0.8888888888888888,
              "#fdca26"
             ],
             [
              1,
              "#f0f921"
             ]
            ],
            "type": "contour"
           }
          ],
          "contourcarpet": [
           {
            "colorbar": {
             "outlinewidth": 0,
             "ticks": ""
            },
            "type": "contourcarpet"
           }
          ],
          "heatmap": [
           {
            "colorbar": {
             "outlinewidth": 0,
             "ticks": ""
            },
            "colorscale": [
             [
              0,
              "#0d0887"
             ],
             [
              0.1111111111111111,
              "#46039f"
             ],
             [
              0.2222222222222222,
              "#7201a8"
             ],
             [
              0.3333333333333333,
              "#9c179e"
             ],
             [
              0.4444444444444444,
              "#bd3786"
             ],
             [
              0.5555555555555556,
              "#d8576b"
             ],
             [
              0.6666666666666666,
              "#ed7953"
             ],
             [
              0.7777777777777778,
              "#fb9f3a"
             ],
             [
              0.8888888888888888,
              "#fdca26"
             ],
             [
              1,
              "#f0f921"
             ]
            ],
            "type": "heatmap"
           }
          ],
          "heatmapgl": [
           {
            "colorbar": {
             "outlinewidth": 0,
             "ticks": ""
            },
            "colorscale": [
             [
              0,
              "#0d0887"
             ],
             [
              0.1111111111111111,
              "#46039f"
             ],
             [
              0.2222222222222222,
              "#7201a8"
             ],
             [
              0.3333333333333333,
              "#9c179e"
             ],
             [
              0.4444444444444444,
              "#bd3786"
             ],
             [
              0.5555555555555556,
              "#d8576b"
             ],
             [
              0.6666666666666666,
              "#ed7953"
             ],
             [
              0.7777777777777778,
              "#fb9f3a"
             ],
             [
              0.8888888888888888,
              "#fdca26"
             ],
             [
              1,
              "#f0f921"
             ]
            ],
            "type": "heatmapgl"
           }
          ],
          "histogram": [
           {
            "marker": {
             "pattern": {
              "fillmode": "overlay",
              "size": 10,
              "solidity": 0.2
             }
            },
            "type": "histogram"
           }
          ],
          "histogram2d": [
           {
            "colorbar": {
             "outlinewidth": 0,
             "ticks": ""
            },
            "colorscale": [
             [
              0,
              "#0d0887"
             ],
             [
              0.1111111111111111,
              "#46039f"
             ],
             [
              0.2222222222222222,
              "#7201a8"
             ],
             [
              0.3333333333333333,
              "#9c179e"
             ],
             [
              0.4444444444444444,
              "#bd3786"
             ],
             [
              0.5555555555555556,
              "#d8576b"
             ],
             [
              0.6666666666666666,
              "#ed7953"
             ],
             [
              0.7777777777777778,
              "#fb9f3a"
             ],
             [
              0.8888888888888888,
              "#fdca26"
             ],
             [
              1,
              "#f0f921"
             ]
            ],
            "type": "histogram2d"
           }
          ],
          "histogram2dcontour": [
           {
            "colorbar": {
             "outlinewidth": 0,
             "ticks": ""
            },
            "colorscale": [
             [
              0,
              "#0d0887"
             ],
             [
              0.1111111111111111,
              "#46039f"
             ],
             [
              0.2222222222222222,
              "#7201a8"
             ],
             [
              0.3333333333333333,
              "#9c179e"
             ],
             [
              0.4444444444444444,
              "#bd3786"
             ],
             [
              0.5555555555555556,
              "#d8576b"
             ],
             [
              0.6666666666666666,
              "#ed7953"
             ],
             [
              0.7777777777777778,
              "#fb9f3a"
             ],
             [
              0.8888888888888888,
              "#fdca26"
             ],
             [
              1,
              "#f0f921"
             ]
            ],
            "type": "histogram2dcontour"
           }
          ],
          "mesh3d": [
           {
            "colorbar": {
             "outlinewidth": 0,
             "ticks": ""
            },
            "type": "mesh3d"
           }
          ],
          "parcoords": [
           {
            "line": {
             "colorbar": {
              "outlinewidth": 0,
              "ticks": ""
             }
            },
            "type": "parcoords"
           }
          ],
          "pie": [
           {
            "automargin": true,
            "type": "pie"
           }
          ],
          "scatter": [
           {
            "marker": {
             "colorbar": {
              "outlinewidth": 0,
              "ticks": ""
             }
            },
            "type": "scatter"
           }
          ],
          "scatter3d": [
           {
            "line": {
             "colorbar": {
              "outlinewidth": 0,
              "ticks": ""
             }
            },
            "marker": {
             "colorbar": {
              "outlinewidth": 0,
              "ticks": ""
             }
            },
            "type": "scatter3d"
           }
          ],
          "scattercarpet": [
           {
            "marker": {
             "colorbar": {
              "outlinewidth": 0,
              "ticks": ""
             }
            },
            "type": "scattercarpet"
           }
          ],
          "scattergeo": [
           {
            "marker": {
             "colorbar": {
              "outlinewidth": 0,
              "ticks": ""
             }
            },
            "type": "scattergeo"
           }
          ],
          "scattergl": [
           {
            "marker": {
             "colorbar": {
              "outlinewidth": 0,
              "ticks": ""
             }
            },
            "type": "scattergl"
           }
          ],
          "scattermapbox": [
           {
            "marker": {
             "colorbar": {
              "outlinewidth": 0,
              "ticks": ""
             }
            },
            "type": "scattermapbox"
           }
          ],
          "scatterpolar": [
           {
            "marker": {
             "colorbar": {
              "outlinewidth": 0,
              "ticks": ""
             }
            },
            "type": "scatterpolar"
           }
          ],
          "scatterpolargl": [
           {
            "marker": {
             "colorbar": {
              "outlinewidth": 0,
              "ticks": ""
             }
            },
            "type": "scatterpolargl"
           }
          ],
          "scatterternary": [
           {
            "marker": {
             "colorbar": {
              "outlinewidth": 0,
              "ticks": ""
             }
            },
            "type": "scatterternary"
           }
          ],
          "surface": [
           {
            "colorbar": {
             "outlinewidth": 0,
             "ticks": ""
            },
            "colorscale": [
             [
              0,
              "#0d0887"
             ],
             [
              0.1111111111111111,
              "#46039f"
             ],
             [
              0.2222222222222222,
              "#7201a8"
             ],
             [
              0.3333333333333333,
              "#9c179e"
             ],
             [
              0.4444444444444444,
              "#bd3786"
             ],
             [
              0.5555555555555556,
              "#d8576b"
             ],
             [
              0.6666666666666666,
              "#ed7953"
             ],
             [
              0.7777777777777778,
              "#fb9f3a"
             ],
             [
              0.8888888888888888,
              "#fdca26"
             ],
             [
              1,
              "#f0f921"
             ]
            ],
            "type": "surface"
           }
          ],
          "table": [
           {
            "cells": {
             "fill": {
              "color": "#EBF0F8"
             },
             "line": {
              "color": "white"
             }
            },
            "header": {
             "fill": {
              "color": "#C8D4E3"
             },
             "line": {
              "color": "white"
             }
            },
            "type": "table"
           }
          ]
         },
         "layout": {
          "annotationdefaults": {
           "arrowcolor": "#2a3f5f",
           "arrowhead": 0,
           "arrowwidth": 1
          },
          "autotypenumbers": "strict",
          "coloraxis": {
           "colorbar": {
            "outlinewidth": 0,
            "ticks": ""
           }
          },
          "colorscale": {
           "diverging": [
            [
             0,
             "#8e0152"
            ],
            [
             0.1,
             "#c51b7d"
            ],
            [
             0.2,
             "#de77ae"
            ],
            [
             0.3,
             "#f1b6da"
            ],
            [
             0.4,
             "#fde0ef"
            ],
            [
             0.5,
             "#f7f7f7"
            ],
            [
             0.6,
             "#e6f5d0"
            ],
            [
             0.7,
             "#b8e186"
            ],
            [
             0.8,
             "#7fbc41"
            ],
            [
             0.9,
             "#4d9221"
            ],
            [
             1,
             "#276419"
            ]
           ],
           "sequential": [
            [
             0,
             "#0d0887"
            ],
            [
             0.1111111111111111,
             "#46039f"
            ],
            [
             0.2222222222222222,
             "#7201a8"
            ],
            [
             0.3333333333333333,
             "#9c179e"
            ],
            [
             0.4444444444444444,
             "#bd3786"
            ],
            [
             0.5555555555555556,
             "#d8576b"
            ],
            [
             0.6666666666666666,
             "#ed7953"
            ],
            [
             0.7777777777777778,
             "#fb9f3a"
            ],
            [
             0.8888888888888888,
             "#fdca26"
            ],
            [
             1,
             "#f0f921"
            ]
           ],
           "sequentialminus": [
            [
             0,
             "#0d0887"
            ],
            [
             0.1111111111111111,
             "#46039f"
            ],
            [
             0.2222222222222222,
             "#7201a8"
            ],
            [
             0.3333333333333333,
             "#9c179e"
            ],
            [
             0.4444444444444444,
             "#bd3786"
            ],
            [
             0.5555555555555556,
             "#d8576b"
            ],
            [
             0.6666666666666666,
             "#ed7953"
            ],
            [
             0.7777777777777778,
             "#fb9f3a"
            ],
            [
             0.8888888888888888,
             "#fdca26"
            ],
            [
             1,
             "#f0f921"
            ]
           ]
          },
          "colorway": [
           "#636efa",
           "#EF553B",
           "#00cc96",
           "#ab63fa",
           "#FFA15A",
           "#19d3f3",
           "#FF6692",
           "#B6E880",
           "#FF97FF",
           "#FECB52"
          ],
          "font": {
           "color": "#2a3f5f"
          },
          "geo": {
           "bgcolor": "white",
           "lakecolor": "white",
           "landcolor": "#E5ECF6",
           "showlakes": true,
           "showland": true,
           "subunitcolor": "white"
          },
          "hoverlabel": {
           "align": "left"
          },
          "hovermode": "closest",
          "mapbox": {
           "style": "light"
          },
          "paper_bgcolor": "white",
          "plot_bgcolor": "#E5ECF6",
          "polar": {
           "angularaxis": {
            "gridcolor": "white",
            "linecolor": "white",
            "ticks": ""
           },
           "bgcolor": "#E5ECF6",
           "radialaxis": {
            "gridcolor": "white",
            "linecolor": "white",
            "ticks": ""
           }
          },
          "scene": {
           "xaxis": {
            "backgroundcolor": "#E5ECF6",
            "gridcolor": "white",
            "gridwidth": 2,
            "linecolor": "white",
            "showbackground": true,
            "ticks": "",
            "zerolinecolor": "white"
           },
           "yaxis": {
            "backgroundcolor": "#E5ECF6",
            "gridcolor": "white",
            "gridwidth": 2,
            "linecolor": "white",
            "showbackground": true,
            "ticks": "",
            "zerolinecolor": "white"
           },
           "zaxis": {
            "backgroundcolor": "#E5ECF6",
            "gridcolor": "white",
            "gridwidth": 2,
            "linecolor": "white",
            "showbackground": true,
            "ticks": "",
            "zerolinecolor": "white"
           }
          },
          "shapedefaults": {
           "line": {
            "color": "#2a3f5f"
           }
          },
          "ternary": {
           "aaxis": {
            "gridcolor": "white",
            "linecolor": "white",
            "ticks": ""
           },
           "baxis": {
            "gridcolor": "white",
            "linecolor": "white",
            "ticks": ""
           },
           "bgcolor": "#E5ECF6",
           "caxis": {
            "gridcolor": "white",
            "linecolor": "white",
            "ticks": ""
           }
          },
          "title": {
           "x": 0.05
          },
          "xaxis": {
           "automargin": true,
           "gridcolor": "white",
           "linecolor": "white",
           "ticks": "",
           "title": {
            "standoff": 15
           },
           "zerolinecolor": "white",
           "zerolinewidth": 2
          },
          "yaxis": {
           "automargin": true,
           "gridcolor": "white",
           "linecolor": "white",
           "ticks": "",
           "title": {
            "standoff": 15
           },
           "zerolinecolor": "white",
           "zerolinewidth": 2
          }
         }
        },
        "title": {
         "font": {
          "color": "#4D5663"
         }
        },
        "xaxis": {
         "anchor": "y",
         "domain": [
          0,
          0.2125
         ],
         "gridcolor": "#E1E5ED",
         "showgrid": false,
         "tickfont": {
          "color": "#4D5663"
         },
         "title": {
          "font": {
           "color": "#4D5663"
          },
          "text": ""
         },
         "zerolinecolor": "#E1E5ED"
        },
        "xaxis10": {
         "anchor": "y10",
         "domain": [
          0.2625,
          0.475
         ],
         "gridcolor": "#E1E5ED",
         "showgrid": false,
         "tickfont": {
          "color": "#4D5663"
         },
         "title": {
          "font": {
           "color": "#4D5663"
          },
          "text": ""
         },
         "zerolinecolor": "#E1E5ED"
        },
        "xaxis11": {
         "anchor": "y11",
         "domain": [
          0.525,
          0.7375
         ],
         "gridcolor": "#E1E5ED",
         "showgrid": false,
         "tickfont": {
          "color": "#4D5663"
         },
         "title": {
          "font": {
           "color": "#4D5663"
          },
          "text": ""
         },
         "zerolinecolor": "#E1E5ED"
        },
        "xaxis12": {
         "anchor": "y12",
         "domain": [
          0.7875,
          1
         ],
         "gridcolor": "#E1E5ED",
         "showgrid": false,
         "tickfont": {
          "color": "#4D5663"
         },
         "title": {
          "font": {
           "color": "#4D5663"
          },
          "text": ""
         },
         "zerolinecolor": "#E1E5ED"
        },
        "xaxis13": {
         "anchor": "y13",
         "domain": [
          0,
          0.2125
         ],
         "gridcolor": "#E1E5ED",
         "showgrid": false,
         "tickfont": {
          "color": "#4D5663"
         },
         "title": {
          "font": {
           "color": "#4D5663"
          },
          "text": ""
         },
         "zerolinecolor": "#E1E5ED"
        },
        "xaxis14": {
         "anchor": "y14",
         "domain": [
          0.2625,
          0.475
         ],
         "gridcolor": "#E1E5ED",
         "showgrid": false,
         "tickfont": {
          "color": "#4D5663"
         },
         "title": {
          "font": {
           "color": "#4D5663"
          },
          "text": ""
         },
         "zerolinecolor": "#E1E5ED"
        },
        "xaxis15": {
         "anchor": "y15",
         "domain": [
          0.525,
          0.7375
         ],
         "gridcolor": "#E1E5ED",
         "showgrid": false,
         "tickfont": {
          "color": "#4D5663"
         },
         "title": {
          "font": {
           "color": "#4D5663"
          },
          "text": ""
         },
         "zerolinecolor": "#E1E5ED"
        },
        "xaxis16": {
         "anchor": "y16",
         "domain": [
          0.7875,
          1
         ],
         "gridcolor": "#E1E5ED",
         "showgrid": false,
         "tickfont": {
          "color": "#4D5663"
         },
         "title": {
          "font": {
           "color": "#4D5663"
          },
          "text": ""
         },
         "zerolinecolor": "#E1E5ED"
        },
        "xaxis2": {
         "anchor": "y2",
         "domain": [
          0.2625,
          0.475
         ],
         "gridcolor": "#E1E5ED",
         "showgrid": false,
         "tickfont": {
          "color": "#4D5663"
         },
         "title": {
          "font": {
           "color": "#4D5663"
          },
          "text": ""
         },
         "zerolinecolor": "#E1E5ED"
        },
        "xaxis3": {
         "anchor": "y3",
         "domain": [
          0.525,
          0.7375
         ],
         "gridcolor": "#E1E5ED",
         "showgrid": false,
         "tickfont": {
          "color": "#4D5663"
         },
         "title": {
          "font": {
           "color": "#4D5663"
          },
          "text": ""
         },
         "zerolinecolor": "#E1E5ED"
        },
        "xaxis4": {
         "anchor": "y4",
         "domain": [
          0.7875,
          1
         ],
         "gridcolor": "#E1E5ED",
         "showgrid": false,
         "tickfont": {
          "color": "#4D5663"
         },
         "title": {
          "font": {
           "color": "#4D5663"
          },
          "text": ""
         },
         "zerolinecolor": "#E1E5ED"
        },
        "xaxis5": {
         "anchor": "y5",
         "domain": [
          0,
          0.2125
         ],
         "gridcolor": "#E1E5ED",
         "showgrid": false,
         "tickfont": {
          "color": "#4D5663"
         },
         "title": {
          "font": {
           "color": "#4D5663"
          },
          "text": ""
         },
         "zerolinecolor": "#E1E5ED"
        },
        "xaxis6": {
         "anchor": "y6",
         "domain": [
          0.2625,
          0.475
         ],
         "gridcolor": "#E1E5ED",
         "showgrid": false,
         "tickfont": {
          "color": "#4D5663"
         },
         "title": {
          "font": {
           "color": "#4D5663"
          },
          "text": ""
         },
         "zerolinecolor": "#E1E5ED"
        },
        "xaxis7": {
         "anchor": "y7",
         "domain": [
          0.525,
          0.7375
         ],
         "gridcolor": "#E1E5ED",
         "showgrid": false,
         "tickfont": {
          "color": "#4D5663"
         },
         "title": {
          "font": {
           "color": "#4D5663"
          },
          "text": ""
         },
         "zerolinecolor": "#E1E5ED"
        },
        "xaxis8": {
         "anchor": "y8",
         "domain": [
          0.7875,
          1
         ],
         "gridcolor": "#E1E5ED",
         "showgrid": false,
         "tickfont": {
          "color": "#4D5663"
         },
         "title": {
          "font": {
           "color": "#4D5663"
          },
          "text": ""
         },
         "zerolinecolor": "#E1E5ED"
        },
        "xaxis9": {
         "anchor": "y9",
         "domain": [
          0,
          0.2125
         ],
         "gridcolor": "#E1E5ED",
         "showgrid": false,
         "tickfont": {
          "color": "#4D5663"
         },
         "title": {
          "font": {
           "color": "#4D5663"
          },
          "text": ""
         },
         "zerolinecolor": "#E1E5ED"
        },
        "yaxis": {
         "anchor": "x",
         "domain": [
          0.8025,
          1
         ],
         "gridcolor": "#E1E5ED",
         "showgrid": false,
         "tickfont": {
          "color": "#4D5663"
         },
         "title": {
          "font": {
           "color": "#4D5663"
          },
          "text": ""
         },
         "zerolinecolor": "#E1E5ED"
        },
        "yaxis10": {
         "anchor": "x10",
         "domain": [
          0.2675,
          0.465
         ],
         "gridcolor": "#E1E5ED",
         "showgrid": false,
         "tickfont": {
          "color": "#4D5663"
         },
         "title": {
          "font": {
           "color": "#4D5663"
          },
          "text": ""
         },
         "zerolinecolor": "#E1E5ED"
        },
        "yaxis11": {
         "anchor": "x11",
         "domain": [
          0.2675,
          0.465
         ],
         "gridcolor": "#E1E5ED",
         "showgrid": false,
         "tickfont": {
          "color": "#4D5663"
         },
         "title": {
          "font": {
           "color": "#4D5663"
          },
          "text": ""
         },
         "zerolinecolor": "#E1E5ED"
        },
        "yaxis12": {
         "anchor": "x12",
         "domain": [
          0.2675,
          0.465
         ],
         "gridcolor": "#E1E5ED",
         "showgrid": false,
         "tickfont": {
          "color": "#4D5663"
         },
         "title": {
          "font": {
           "color": "#4D5663"
          },
          "text": ""
         },
         "zerolinecolor": "#E1E5ED"
        },
        "yaxis13": {
         "anchor": "x13",
         "domain": [
          0,
          0.1975
         ],
         "gridcolor": "#E1E5ED",
         "showgrid": false,
         "tickfont": {
          "color": "#4D5663"
         },
         "title": {
          "font": {
           "color": "#4D5663"
          },
          "text": ""
         },
         "zerolinecolor": "#E1E5ED"
        },
        "yaxis14": {
         "anchor": "x14",
         "domain": [
          0,
          0.1975
         ],
         "gridcolor": "#E1E5ED",
         "showgrid": false,
         "tickfont": {
          "color": "#4D5663"
         },
         "title": {
          "font": {
           "color": "#4D5663"
          },
          "text": ""
         },
         "zerolinecolor": "#E1E5ED"
        },
        "yaxis15": {
         "anchor": "x15",
         "domain": [
          0,
          0.1975
         ],
         "gridcolor": "#E1E5ED",
         "showgrid": false,
         "tickfont": {
          "color": "#4D5663"
         },
         "title": {
          "font": {
           "color": "#4D5663"
          },
          "text": ""
         },
         "zerolinecolor": "#E1E5ED"
        },
        "yaxis16": {
         "anchor": "x16",
         "domain": [
          0,
          0.1975
         ],
         "gridcolor": "#E1E5ED",
         "showgrid": false,
         "tickfont": {
          "color": "#4D5663"
         },
         "title": {
          "font": {
           "color": "#4D5663"
          },
          "text": ""
         },
         "zerolinecolor": "#E1E5ED"
        },
        "yaxis2": {
         "anchor": "x2",
         "domain": [
          0.8025,
          1
         ],
         "gridcolor": "#E1E5ED",
         "showgrid": false,
         "tickfont": {
          "color": "#4D5663"
         },
         "title": {
          "font": {
           "color": "#4D5663"
          },
          "text": ""
         },
         "zerolinecolor": "#E1E5ED"
        },
        "yaxis3": {
         "anchor": "x3",
         "domain": [
          0.8025,
          1
         ],
         "gridcolor": "#E1E5ED",
         "showgrid": false,
         "tickfont": {
          "color": "#4D5663"
         },
         "title": {
          "font": {
           "color": "#4D5663"
          },
          "text": ""
         },
         "zerolinecolor": "#E1E5ED"
        },
        "yaxis4": {
         "anchor": "x4",
         "domain": [
          0.8025,
          1
         ],
         "gridcolor": "#E1E5ED",
         "showgrid": false,
         "tickfont": {
          "color": "#4D5663"
         },
         "title": {
          "font": {
           "color": "#4D5663"
          },
          "text": ""
         },
         "zerolinecolor": "#E1E5ED"
        },
        "yaxis5": {
         "anchor": "x5",
         "domain": [
          0.535,
          0.7325
         ],
         "gridcolor": "#E1E5ED",
         "showgrid": false,
         "tickfont": {
          "color": "#4D5663"
         },
         "title": {
          "font": {
           "color": "#4D5663"
          },
          "text": ""
         },
         "zerolinecolor": "#E1E5ED"
        },
        "yaxis6": {
         "anchor": "x6",
         "domain": [
          0.535,
          0.7325
         ],
         "gridcolor": "#E1E5ED",
         "showgrid": false,
         "tickfont": {
          "color": "#4D5663"
         },
         "title": {
          "font": {
           "color": "#4D5663"
          },
          "text": ""
         },
         "zerolinecolor": "#E1E5ED"
        },
        "yaxis7": {
         "anchor": "x7",
         "domain": [
          0.535,
          0.7325
         ],
         "gridcolor": "#E1E5ED",
         "showgrid": false,
         "tickfont": {
          "color": "#4D5663"
         },
         "title": {
          "font": {
           "color": "#4D5663"
          },
          "text": ""
         },
         "zerolinecolor": "#E1E5ED"
        },
        "yaxis8": {
         "anchor": "x8",
         "domain": [
          0.535,
          0.7325
         ],
         "gridcolor": "#E1E5ED",
         "showgrid": false,
         "tickfont": {
          "color": "#4D5663"
         },
         "title": {
          "font": {
           "color": "#4D5663"
          },
          "text": ""
         },
         "zerolinecolor": "#E1E5ED"
        },
        "yaxis9": {
         "anchor": "x9",
         "domain": [
          0.2675,
          0.465
         ],
         "gridcolor": "#E1E5ED",
         "showgrid": false,
         "tickfont": {
          "color": "#4D5663"
         },
         "title": {
          "font": {
           "color": "#4D5663"
          },
          "text": ""
         },
         "zerolinecolor": "#E1E5ED"
        }
       }
      },
      "text/html": [
       "<div>                            <div id=\"7564d354-a1e4-40cc-b4b3-c5162871d88e\" class=\"plotly-graph-div\" style=\"height:525px; width:100%;\"></div>            <script type=\"text/javascript\">                require([\"plotly\"], function(Plotly) {                    window.PLOTLYENV=window.PLOTLYENV || {};\n",
       "                    window.PLOTLYENV.BASE_URL='https://plot.ly';                                    if (document.getElementById(\"7564d354-a1e4-40cc-b4b3-c5162871d88e\")) {                    Plotly.newPlot(                        \"7564d354-a1e4-40cc-b4b3-c5162871d88e\",                        [{\"histfunc\":\"count\",\"histnorm\":\"\",\"marker\":{\"color\":\"rgba(255, 153, 51, 1.0)\",\"line\":{\"color\":\"#4D5663\",\"width\":1.3}},\"name\":\"A\",\"nbinsx\":10,\"opacity\":0.8,\"orientation\":\"v\",\"type\":\"histogram\",\"x\":[-0.5179271967863107,-0.43117640845718924,-0.7425433984463287,-0.7089570997832738,-0.0361529193067307,0.07522673552826692,-1.4131665855296218,-0.0031556109683627954,-0.5302505856350661,-1.4127977371366855,0.2087659396050563,-1.4131760875032837,-0.30928347102426945,-0.483488097111868,-0.06312965999867666,1.9258679259374294,1.4587125869684525,1.3580817403999588,0.6622586311843047,-0.240272587802109,-1.6140007340343672,-0.809880896517053,0.17882016129592684,-1.918619035060385,0.5639175432044878,0.7003026318927348,1.1871330769452881,2.621530460729752,-0.05226547135199387,-0.8857947444659938,0.29778182041096535,0.8314995551078086,0.8277350723928936,0.9807667281146693,-0.45636567990437055,-0.8287489631818937,-0.02409698397342725,1.1224562643047222,-0.10774074979314044,-0.4703262271315255,-0.24485739399715936,-0.7209811457686358,0.543656350365433,-1.0910512142922943,1.6146687797051722,1.272671565444567,-1.4969566494241922,0.49724268869042015,0.5762497665318234,0.9173715082787924,-0.3156771970691579,-1.5465554615957646,0.5365559969570894,-0.16681688603908454,0.5422513086930213,0.11702639045880345,0.8662033868093464,0.7950354856934065,-0.3692169523733393,2.185699925373505,-0.19711391724350172,-0.7801751589593686,1.5742708527925775,-0.3998953876637889,-0.12030457591217633,-1.363206492841364,0.1538230355317382,-0.2873090931451748,0.1526156484030482,-0.76742908384936,0.004822975700221074,-0.44140319312826604,0.7217093953262547,0.5286866127120267,-1.7027276677246608,-0.8067393232956829,-1.8513726371721704,1.0938465376835904,-1.292754654635878,-0.7940460298498865,-2.0091587452108204,1.053284917771941,0.5505835572480933,-1.270031759248562,-0.6446601496996719,-0.7047831805932557,-0.5097574343620287,-1.1067233133199088,-0.47331615373991254,0.8566597266341112,-1.1402325893281335,-0.9191188365872801,-0.47871460470651567,0.3480989521997855,-0.02679045217886534,-1.1023603518297882,0.4308022821887071,0.12713866089653922,-0.34931893784546914,-0.22785308304094232],\"xaxis\":\"x\",\"yaxis\":\"y\"},{\"line\":{\"color\":\"rgba(128, 128, 128, 1.0)\",\"dash\":\"solid\",\"shape\":\"linear\",\"width\":1.3},\"marker\":{\"size\":2,\"symbol\":\"circle\"},\"mode\":\"markers\",\"name\":\"A\",\"text\":\"\",\"type\":\"scatter\",\"x\":[-0.3758500097309625,-0.16535367948668075,-0.5128744340332714,-1.8423189367048123,-1.1356305868368282,1.2950944141943472,-1.6311579305760227,0.016688836964509558,0.3083634203789976,0.05103396975288527,0.05679467739581437,-1.9093388798897002,-0.07160559652996788,0.6891009823108263,-0.023924354969763355,-1.1380916706848383,1.3578446352346254,1.4038591603561459,-0.7963802619073149,1.0957560929375854,-1.818438255277656,0.518952747348584,0.15766209751886662,-1.194762952135624,0.851137584451354,0.15136057281811752,0.8314766491511106,-2.24436491310048,-1.32618950252785,1.6139261366070685,1.2267569037271193,-0.4821519323592516,-1.0068080096810863,-0.6015152385898623,-0.4794807614204026,0.8255089329806143,0.20952100918864586,1.3880503023093014,0.010232520009308393,2.0746829897571417,0.9580845016434512,-0.8915323496411762,0.5521516640401373,0.35559597058364756,0.7782531942868335,-0.9297557978788601,-0.08201576362981501,0.6199540529598736,-0.3168906960775201,1.5566902016173185,-1.0209462255190862,0.5188172873553452,-0.6199604386138304,-0.4761167778402319,2.612138955071329,-0.4308806060321718,-2.5189769893132805,0.36864828172669745,-0.5418048550803195,0.028049888979844513,-0.764192926505916,-0.44981714959126307,-0.2256182492838925,0.6677608872670738,0.9063299652491447,0.026573091595432478,-1.1890327279751083,0.495971623179748,-0.16708889328830456,-0.7957095778014049,-1.3663426686289486,-0.15925390784293836,-0.5275660730874695,0.6080931676567122,-1.2002907631521316,0.11751051846397328,0.2785444201863015,-1.0325323787581073,-2.108815639125478,0.39090580510184747,0.05348538976803026,0.3206261656274645,-0.5392187076266731,0.008276159035867443,1.0717865031077487,-0.4973337162739843,-0.8976955567005012,0.9687550475286898,-2.766723911241507,-0.2968503585431235,-2.532841243413473,-0.3855427598007159,-0.7023174827043425,-0.08809338291835991,1.2116323269858478,-0.9552803546605079,-0.8140868518470041,0.008119932279069134,-1.6007835806075166,-0.9437732992897068],\"xaxis\":\"x2\",\"y\":[-0.5179271967863107,-0.43117640845718924,-0.7425433984463287,-0.7089570997832738,-0.0361529193067307,0.07522673552826692,-1.4131665855296218,-0.0031556109683627954,-0.5302505856350661,-1.4127977371366855,0.2087659396050563,-1.4131760875032837,-0.30928347102426945,-0.483488097111868,-0.06312965999867666,1.9258679259374294,1.4587125869684525,1.3580817403999588,0.6622586311843047,-0.240272587802109,-1.6140007340343672,-0.809880896517053,0.17882016129592684,-1.918619035060385,0.5639175432044878,0.7003026318927348,1.1871330769452881,2.621530460729752,-0.05226547135199387,-0.8857947444659938,0.29778182041096535,0.8314995551078086,0.8277350723928936,0.9807667281146693,-0.45636567990437055,-0.8287489631818937,-0.02409698397342725,1.1224562643047222,-0.10774074979314044,-0.4703262271315255,-0.24485739399715936,-0.7209811457686358,0.543656350365433,-1.0910512142922943,1.6146687797051722,1.272671565444567,-1.4969566494241922,0.49724268869042015,0.5762497665318234,0.9173715082787924,-0.3156771970691579,-1.5465554615957646,0.5365559969570894,-0.16681688603908454,0.5422513086930213,0.11702639045880345,0.8662033868093464,0.7950354856934065,-0.3692169523733393,2.185699925373505,-0.19711391724350172,-0.7801751589593686,1.5742708527925775,-0.3998953876637889,-0.12030457591217633,-1.363206492841364,0.1538230355317382,-0.2873090931451748,0.1526156484030482,-0.76742908384936,0.004822975700221074,-0.44140319312826604,0.7217093953262547,0.5286866127120267,-1.7027276677246608,-0.8067393232956829,-1.8513726371721704,1.0938465376835904,-1.292754654635878,-0.7940460298498865,-2.0091587452108204,1.053284917771941,0.5505835572480933,-1.270031759248562,-0.6446601496996719,-0.7047831805932557,-0.5097574343620287,-1.1067233133199088,-0.47331615373991254,0.8566597266341112,-1.1402325893281335,-0.9191188365872801,-0.47871460470651567,0.3480989521997855,-0.02679045217886534,-1.1023603518297882,0.4308022821887071,0.12713866089653922,-0.34931893784546914,-0.22785308304094232],\"yaxis\":\"y2\"},{\"line\":{\"color\":\"rgba(128, 128, 128, 1.0)\",\"dash\":\"solid\",\"shape\":\"linear\",\"width\":1.3},\"marker\":{\"size\":2,\"symbol\":\"circle\"},\"mode\":\"markers\",\"name\":\"A\",\"text\":\"\",\"type\":\"scatter\",\"x\":[0.7587960141341928,-1.11142264721022,0.3198141565440644,-1.0194934133304043,-0.20572850686545635,-0.021587026924805366,0.07722012980996998,-0.5393365520948504,-0.48363801076131696,0.11967840349890593,0.9333096631948404,-0.7785714729611988,-2.500839343528844,0.9826847280006671,0.5771999931663933,-0.7370946705548319,0.7348914374396123,-2.2733615010687673,0.15868171889712523,0.49986313397118975,0.4745890512299896,-1.9254532255882428,0.07631370503179387,-0.8403706589906261,2.5824350375483784,0.49004520024242426,-1.1951705217832775,-0.8187851530447994,-0.8794790016652474,-0.6545150225494447,-0.7094955242828129,0.5864046640564877,-1.0991936756656926,2.684090001899882,0.22664660344801527,-0.7470721578512743,-0.43234097571716756,1.8490458160125023,-0.7778738537108288,-0.0995557253719997,0.41944010969042433,-2.1766770115315626,-0.1495340371367192,-0.7057471704952208,1.011974464033998,0.39923051144662375,0.042797623433699264,-1.278506700822136,0.23485653214430935,-0.6144854244281669,-0.6593617391777278,-0.16067337078532745,2.0258847666389728,-0.2762589805424835,-0.6622145387342245,-1.483238386047786,0.7227712700235196,-2.082910288506929,1.5903052813680039,-0.007619787485957267,-1.2926863512285347,0.45899093026145127,-0.786859491776658,0.5555496088564695,-0.23698133472116614,0.3902776227593081,-0.3204494249122854,-0.3213212898678564,0.5212557871580952,-0.9956260394916182,0.9384020295898582,-1.4784904280978117,-0.7509114542397107,0.3022400632332965,0.42594305296444956,-1.5980127256548717,0.6292030700725103,0.46215678871507954,-0.8027737017738074,2.064496427192837,1.0649703615544008,1.5821968439624061,-0.11039333207468331,0.31731911579102595,0.5345057004347896,-1.138197997460557,0.8951994045641871,0.28847009760214276,-0.9925327955489001,0.13940106847776548,0.15625781811900608,-0.15228766475217875,-0.5560857037787544,-0.11193076849496958,0.3057533974847101,-1.753533967666065,-0.03662419549914757,-0.4663701086370231,-0.13437295226808751,-1.406094611108991],\"xaxis\":\"x3\",\"y\":[-0.5179271967863107,-0.43117640845718924,-0.7425433984463287,-0.7089570997832738,-0.0361529193067307,0.07522673552826692,-1.4131665855296218,-0.0031556109683627954,-0.5302505856350661,-1.4127977371366855,0.2087659396050563,-1.4131760875032837,-0.30928347102426945,-0.483488097111868,-0.06312965999867666,1.9258679259374294,1.4587125869684525,1.3580817403999588,0.6622586311843047,-0.240272587802109,-1.6140007340343672,-0.809880896517053,0.17882016129592684,-1.918619035060385,0.5639175432044878,0.7003026318927348,1.1871330769452881,2.621530460729752,-0.05226547135199387,-0.8857947444659938,0.29778182041096535,0.8314995551078086,0.8277350723928936,0.9807667281146693,-0.45636567990437055,-0.8287489631818937,-0.02409698397342725,1.1224562643047222,-0.10774074979314044,-0.4703262271315255,-0.24485739399715936,-0.7209811457686358,0.543656350365433,-1.0910512142922943,1.6146687797051722,1.272671565444567,-1.4969566494241922,0.49724268869042015,0.5762497665318234,0.9173715082787924,-0.3156771970691579,-1.5465554615957646,0.5365559969570894,-0.16681688603908454,0.5422513086930213,0.11702639045880345,0.8662033868093464,0.7950354856934065,-0.3692169523733393,2.185699925373505,-0.19711391724350172,-0.7801751589593686,1.5742708527925775,-0.3998953876637889,-0.12030457591217633,-1.363206492841364,0.1538230355317382,-0.2873090931451748,0.1526156484030482,-0.76742908384936,0.004822975700221074,-0.44140319312826604,0.7217093953262547,0.5286866127120267,-1.7027276677246608,-0.8067393232956829,-1.8513726371721704,1.0938465376835904,-1.292754654635878,-0.7940460298498865,-2.0091587452108204,1.053284917771941,0.5505835572480933,-1.270031759248562,-0.6446601496996719,-0.7047831805932557,-0.5097574343620287,-1.1067233133199088,-0.47331615373991254,0.8566597266341112,-1.1402325893281335,-0.9191188365872801,-0.47871460470651567,0.3480989521997855,-0.02679045217886534,-1.1023603518297882,0.4308022821887071,0.12713866089653922,-0.34931893784546914,-0.22785308304094232],\"yaxis\":\"y3\"},{\"line\":{\"color\":\"rgba(128, 128, 128, 1.0)\",\"dash\":\"solid\",\"shape\":\"linear\",\"width\":1.3},\"marker\":{\"size\":2,\"symbol\":\"circle\"},\"mode\":\"markers\",\"name\":\"A\",\"text\":\"\",\"type\":\"scatter\",\"x\":[0.044908640982309955,-0.5916582622986855,-1.0047049275451418,-0.16357912181462567,1.2842272620687578,-0.9462707786755773,-0.33529641671427474,-0.597134506932244,1.0912916909862427,-0.03830843681264787,0.22267489195268658,1.6512200440794045,0.3707835277666362,-1.6857515615095517,-1.549645897690307,0.9719019286855677,0.4702220625123732,-1.392245113055805,-1.3399777710623844,0.8394707128052822,-1.4353135791074605,0.01865835434033595,-0.36464576268046844,-1.9521593899102565,0.3557294937530207,-1.9969504535045903,-0.4978315702581766,1.950746502614422,0.8624946698016425,0.40903887306092407,0.08425458326245053,0.3974307187409831,-1.2525247237204382,-0.5904715318351246,-2.6942391859616994,0.4033239760531251,-1.8992659794944753,-0.568769644733657,-0.737463931871556,-0.09750352174251808,0.2827449529433888,0.059338453693639,-0.25595038775629275,1.6729581371668871,-0.657484411599867,0.143221261226814,0.7527341284476973,-1.1740531427173075,0.20954754178166232,1.4832879561187378,0.5666715105139852,0.4489163420626359,-1.3431974921200744,0.2845403585031368,0.17388400129743048,-0.5665861781068376,-0.8120322495789992,-0.20994668447555426,0.26766037663093106,-0.9639729600308952,-2.074985249101152,1.0597136806641296,-0.39736167885800483,-0.6208970523634952,0.9601397151563306,-0.9795691514997086,1.2745056873164828,-1.2011107020170408,1.0004866511137571,-0.025036341334355866,-0.7047597137469206,-1.0708415961563036,0.05312333270990024,-1.0088103386055773,0.407760084955383,1.464921732706363,-0.16688824903508057,-0.3018265012709268,-1.1686008046474832,-3.348814023786659,0.7438810185675033,0.18153265371496838,0.31740699441409476,1.1794731088512522,0.012747371844716965,-1.1609382594370097,2.112283032125828,2.0240269821246417,0.7223762407394393,-0.8280982904757588,-0.09425252967400118,0.21086676092096698,-1.0222276964354864,-0.04033528542371997,1.9460924400180664,-1.1907943807494015,0.2925507158576648,1.1894722145378136,-1.6136127061729408,-1.3694625393054467],\"xaxis\":\"x4\",\"y\":[-0.5179271967863107,-0.43117640845718924,-0.7425433984463287,-0.7089570997832738,-0.0361529193067307,0.07522673552826692,-1.4131665855296218,-0.0031556109683627954,-0.5302505856350661,-1.4127977371366855,0.2087659396050563,-1.4131760875032837,-0.30928347102426945,-0.483488097111868,-0.06312965999867666,1.9258679259374294,1.4587125869684525,1.3580817403999588,0.6622586311843047,-0.240272587802109,-1.6140007340343672,-0.809880896517053,0.17882016129592684,-1.918619035060385,0.5639175432044878,0.7003026318927348,1.1871330769452881,2.621530460729752,-0.05226547135199387,-0.8857947444659938,0.29778182041096535,0.8314995551078086,0.8277350723928936,0.9807667281146693,-0.45636567990437055,-0.8287489631818937,-0.02409698397342725,1.1224562643047222,-0.10774074979314044,-0.4703262271315255,-0.24485739399715936,-0.7209811457686358,0.543656350365433,-1.0910512142922943,1.6146687797051722,1.272671565444567,-1.4969566494241922,0.49724268869042015,0.5762497665318234,0.9173715082787924,-0.3156771970691579,-1.5465554615957646,0.5365559969570894,-0.16681688603908454,0.5422513086930213,0.11702639045880345,0.8662033868093464,0.7950354856934065,-0.3692169523733393,2.185699925373505,-0.19711391724350172,-0.7801751589593686,1.5742708527925775,-0.3998953876637889,-0.12030457591217633,-1.363206492841364,0.1538230355317382,-0.2873090931451748,0.1526156484030482,-0.76742908384936,0.004822975700221074,-0.44140319312826604,0.7217093953262547,0.5286866127120267,-1.7027276677246608,-0.8067393232956829,-1.8513726371721704,1.0938465376835904,-1.292754654635878,-0.7940460298498865,-2.0091587452108204,1.053284917771941,0.5505835572480933,-1.270031759248562,-0.6446601496996719,-0.7047831805932557,-0.5097574343620287,-1.1067233133199088,-0.47331615373991254,0.8566597266341112,-1.1402325893281335,-0.9191188365872801,-0.47871460470651567,0.3480989521997855,-0.02679045217886534,-1.1023603518297882,0.4308022821887071,0.12713866089653922,-0.34931893784546914,-0.22785308304094232],\"yaxis\":\"y4\"},{\"line\":{\"color\":\"rgba(128, 128, 128, 1.0)\",\"dash\":\"solid\",\"shape\":\"linear\",\"width\":1.3},\"marker\":{\"size\":2,\"symbol\":\"circle\"},\"mode\":\"markers\",\"name\":\"B\",\"text\":\"\",\"type\":\"scatter\",\"x\":[-0.5179271967863107,-0.43117640845718924,-0.7425433984463287,-0.7089570997832738,-0.0361529193067307,0.07522673552826692,-1.4131665855296218,-0.0031556109683627954,-0.5302505856350661,-1.4127977371366855,0.2087659396050563,-1.4131760875032837,-0.30928347102426945,-0.483488097111868,-0.06312965999867666,1.9258679259374294,1.4587125869684525,1.3580817403999588,0.6622586311843047,-0.240272587802109,-1.6140007340343672,-0.809880896517053,0.17882016129592684,-1.918619035060385,0.5639175432044878,0.7003026318927348,1.1871330769452881,2.621530460729752,-0.05226547135199387,-0.8857947444659938,0.29778182041096535,0.8314995551078086,0.8277350723928936,0.9807667281146693,-0.45636567990437055,-0.8287489631818937,-0.02409698397342725,1.1224562643047222,-0.10774074979314044,-0.4703262271315255,-0.24485739399715936,-0.7209811457686358,0.543656350365433,-1.0910512142922943,1.6146687797051722,1.272671565444567,-1.4969566494241922,0.49724268869042015,0.5762497665318234,0.9173715082787924,-0.3156771970691579,-1.5465554615957646,0.5365559969570894,-0.16681688603908454,0.5422513086930213,0.11702639045880345,0.8662033868093464,0.7950354856934065,-0.3692169523733393,2.185699925373505,-0.19711391724350172,-0.7801751589593686,1.5742708527925775,-0.3998953876637889,-0.12030457591217633,-1.363206492841364,0.1538230355317382,-0.2873090931451748,0.1526156484030482,-0.76742908384936,0.004822975700221074,-0.44140319312826604,0.7217093953262547,0.5286866127120267,-1.7027276677246608,-0.8067393232956829,-1.8513726371721704,1.0938465376835904,-1.292754654635878,-0.7940460298498865,-2.0091587452108204,1.053284917771941,0.5505835572480933,-1.270031759248562,-0.6446601496996719,-0.7047831805932557,-0.5097574343620287,-1.1067233133199088,-0.47331615373991254,0.8566597266341112,-1.1402325893281335,-0.9191188365872801,-0.47871460470651567,0.3480989521997855,-0.02679045217886534,-1.1023603518297882,0.4308022821887071,0.12713866089653922,-0.34931893784546914,-0.22785308304094232],\"xaxis\":\"x5\",\"y\":[-0.3758500097309625,-0.16535367948668075,-0.5128744340332714,-1.8423189367048123,-1.1356305868368282,1.2950944141943472,-1.6311579305760227,0.016688836964509558,0.3083634203789976,0.05103396975288527,0.05679467739581437,-1.9093388798897002,-0.07160559652996788,0.6891009823108263,-0.023924354969763355,-1.1380916706848383,1.3578446352346254,1.4038591603561459,-0.7963802619073149,1.0957560929375854,-1.818438255277656,0.518952747348584,0.15766209751886662,-1.194762952135624,0.851137584451354,0.15136057281811752,0.8314766491511106,-2.24436491310048,-1.32618950252785,1.6139261366070685,1.2267569037271193,-0.4821519323592516,-1.0068080096810863,-0.6015152385898623,-0.4794807614204026,0.8255089329806143,0.20952100918864586,1.3880503023093014,0.010232520009308393,2.0746829897571417,0.9580845016434512,-0.8915323496411762,0.5521516640401373,0.35559597058364756,0.7782531942868335,-0.9297557978788601,-0.08201576362981501,0.6199540529598736,-0.3168906960775201,1.5566902016173185,-1.0209462255190862,0.5188172873553452,-0.6199604386138304,-0.4761167778402319,2.612138955071329,-0.4308806060321718,-2.5189769893132805,0.36864828172669745,-0.5418048550803195,0.028049888979844513,-0.764192926505916,-0.44981714959126307,-0.2256182492838925,0.6677608872670738,0.9063299652491447,0.026573091595432478,-1.1890327279751083,0.495971623179748,-0.16708889328830456,-0.7957095778014049,-1.3663426686289486,-0.15925390784293836,-0.5275660730874695,0.6080931676567122,-1.2002907631521316,0.11751051846397328,0.2785444201863015,-1.0325323787581073,-2.108815639125478,0.39090580510184747,0.05348538976803026,0.3206261656274645,-0.5392187076266731,0.008276159035867443,1.0717865031077487,-0.4973337162739843,-0.8976955567005012,0.9687550475286898,-2.766723911241507,-0.2968503585431235,-2.532841243413473,-0.3855427598007159,-0.7023174827043425,-0.08809338291835991,1.2116323269858478,-0.9552803546605079,-0.8140868518470041,0.008119932279069134,-1.6007835806075166,-0.9437732992897068],\"yaxis\":\"y5\"},{\"histfunc\":\"count\",\"histnorm\":\"\",\"marker\":{\"color\":\"rgba(55, 128, 191, 1.0)\",\"line\":{\"color\":\"#4D5663\",\"width\":1.3}},\"name\":\"B\",\"nbinsx\":10,\"opacity\":0.8,\"orientation\":\"v\",\"type\":\"histogram\",\"x\":[-0.3758500097309625,-0.16535367948668075,-0.5128744340332714,-1.8423189367048123,-1.1356305868368282,1.2950944141943472,-1.6311579305760227,0.016688836964509558,0.3083634203789976,0.05103396975288527,0.05679467739581437,-1.9093388798897002,-0.07160559652996788,0.6891009823108263,-0.023924354969763355,-1.1380916706848383,1.3578446352346254,1.4038591603561459,-0.7963802619073149,1.0957560929375854,-1.818438255277656,0.518952747348584,0.15766209751886662,-1.194762952135624,0.851137584451354,0.15136057281811752,0.8314766491511106,-2.24436491310048,-1.32618950252785,1.6139261366070685,1.2267569037271193,-0.4821519323592516,-1.0068080096810863,-0.6015152385898623,-0.4794807614204026,0.8255089329806143,0.20952100918864586,1.3880503023093014,0.010232520009308393,2.0746829897571417,0.9580845016434512,-0.8915323496411762,0.5521516640401373,0.35559597058364756,0.7782531942868335,-0.9297557978788601,-0.08201576362981501,0.6199540529598736,-0.3168906960775201,1.5566902016173185,-1.0209462255190862,0.5188172873553452,-0.6199604386138304,-0.4761167778402319,2.612138955071329,-0.4308806060321718,-2.5189769893132805,0.36864828172669745,-0.5418048550803195,0.028049888979844513,-0.764192926505916,-0.44981714959126307,-0.2256182492838925,0.6677608872670738,0.9063299652491447,0.026573091595432478,-1.1890327279751083,0.495971623179748,-0.16708889328830456,-0.7957095778014049,-1.3663426686289486,-0.15925390784293836,-0.5275660730874695,0.6080931676567122,-1.2002907631521316,0.11751051846397328,0.2785444201863015,-1.0325323787581073,-2.108815639125478,0.39090580510184747,0.05348538976803026,0.3206261656274645,-0.5392187076266731,0.008276159035867443,1.0717865031077487,-0.4973337162739843,-0.8976955567005012,0.9687550475286898,-2.766723911241507,-0.2968503585431235,-2.532841243413473,-0.3855427598007159,-0.7023174827043425,-0.08809338291835991,1.2116323269858478,-0.9552803546605079,-0.8140868518470041,0.008119932279069134,-1.6007835806075166,-0.9437732992897068],\"xaxis\":\"x6\",\"yaxis\":\"y6\"},{\"line\":{\"color\":\"rgba(128, 128, 128, 1.0)\",\"dash\":\"solid\",\"shape\":\"linear\",\"width\":1.3},\"marker\":{\"size\":2,\"symbol\":\"circle\"},\"mode\":\"markers\",\"name\":\"B\",\"text\":\"\",\"type\":\"scatter\",\"x\":[0.7587960141341928,-1.11142264721022,0.3198141565440644,-1.0194934133304043,-0.20572850686545635,-0.021587026924805366,0.07722012980996998,-0.5393365520948504,-0.48363801076131696,0.11967840349890593,0.9333096631948404,-0.7785714729611988,-2.500839343528844,0.9826847280006671,0.5771999931663933,-0.7370946705548319,0.7348914374396123,-2.2733615010687673,0.15868171889712523,0.49986313397118975,0.4745890512299896,-1.9254532255882428,0.07631370503179387,-0.8403706589906261,2.5824350375483784,0.49004520024242426,-1.1951705217832775,-0.8187851530447994,-0.8794790016652474,-0.6545150225494447,-0.7094955242828129,0.5864046640564877,-1.0991936756656926,2.684090001899882,0.22664660344801527,-0.7470721578512743,-0.43234097571716756,1.8490458160125023,-0.7778738537108288,-0.0995557253719997,0.41944010969042433,-2.1766770115315626,-0.1495340371367192,-0.7057471704952208,1.011974464033998,0.39923051144662375,0.042797623433699264,-1.278506700822136,0.23485653214430935,-0.6144854244281669,-0.6593617391777278,-0.16067337078532745,2.0258847666389728,-0.2762589805424835,-0.6622145387342245,-1.483238386047786,0.7227712700235196,-2.082910288506929,1.5903052813680039,-0.007619787485957267,-1.2926863512285347,0.45899093026145127,-0.786859491776658,0.5555496088564695,-0.23698133472116614,0.3902776227593081,-0.3204494249122854,-0.3213212898678564,0.5212557871580952,-0.9956260394916182,0.9384020295898582,-1.4784904280978117,-0.7509114542397107,0.3022400632332965,0.42594305296444956,-1.5980127256548717,0.6292030700725103,0.46215678871507954,-0.8027737017738074,2.064496427192837,1.0649703615544008,1.5821968439624061,-0.11039333207468331,0.31731911579102595,0.5345057004347896,-1.138197997460557,0.8951994045641871,0.28847009760214276,-0.9925327955489001,0.13940106847776548,0.15625781811900608,-0.15228766475217875,-0.5560857037787544,-0.11193076849496958,0.3057533974847101,-1.753533967666065,-0.03662419549914757,-0.4663701086370231,-0.13437295226808751,-1.406094611108991],\"xaxis\":\"x7\",\"y\":[-0.3758500097309625,-0.16535367948668075,-0.5128744340332714,-1.8423189367048123,-1.1356305868368282,1.2950944141943472,-1.6311579305760227,0.016688836964509558,0.3083634203789976,0.05103396975288527,0.05679467739581437,-1.9093388798897002,-0.07160559652996788,0.6891009823108263,-0.023924354969763355,-1.1380916706848383,1.3578446352346254,1.4038591603561459,-0.7963802619073149,1.0957560929375854,-1.818438255277656,0.518952747348584,0.15766209751886662,-1.194762952135624,0.851137584451354,0.15136057281811752,0.8314766491511106,-2.24436491310048,-1.32618950252785,1.6139261366070685,1.2267569037271193,-0.4821519323592516,-1.0068080096810863,-0.6015152385898623,-0.4794807614204026,0.8255089329806143,0.20952100918864586,1.3880503023093014,0.010232520009308393,2.0746829897571417,0.9580845016434512,-0.8915323496411762,0.5521516640401373,0.35559597058364756,0.7782531942868335,-0.9297557978788601,-0.08201576362981501,0.6199540529598736,-0.3168906960775201,1.5566902016173185,-1.0209462255190862,0.5188172873553452,-0.6199604386138304,-0.4761167778402319,2.612138955071329,-0.4308806060321718,-2.5189769893132805,0.36864828172669745,-0.5418048550803195,0.028049888979844513,-0.764192926505916,-0.44981714959126307,-0.2256182492838925,0.6677608872670738,0.9063299652491447,0.026573091595432478,-1.1890327279751083,0.495971623179748,-0.16708889328830456,-0.7957095778014049,-1.3663426686289486,-0.15925390784293836,-0.5275660730874695,0.6080931676567122,-1.2002907631521316,0.11751051846397328,0.2785444201863015,-1.0325323787581073,-2.108815639125478,0.39090580510184747,0.05348538976803026,0.3206261656274645,-0.5392187076266731,0.008276159035867443,1.0717865031077487,-0.4973337162739843,-0.8976955567005012,0.9687550475286898,-2.766723911241507,-0.2968503585431235,-2.532841243413473,-0.3855427598007159,-0.7023174827043425,-0.08809338291835991,1.2116323269858478,-0.9552803546605079,-0.8140868518470041,0.008119932279069134,-1.6007835806075166,-0.9437732992897068],\"yaxis\":\"y7\"},{\"line\":{\"color\":\"rgba(128, 128, 128, 1.0)\",\"dash\":\"solid\",\"shape\":\"linear\",\"width\":1.3},\"marker\":{\"size\":2,\"symbol\":\"circle\"},\"mode\":\"markers\",\"name\":\"B\",\"text\":\"\",\"type\":\"scatter\",\"x\":[0.044908640982309955,-0.5916582622986855,-1.0047049275451418,-0.16357912181462567,1.2842272620687578,-0.9462707786755773,-0.33529641671427474,-0.597134506932244,1.0912916909862427,-0.03830843681264787,0.22267489195268658,1.6512200440794045,0.3707835277666362,-1.6857515615095517,-1.549645897690307,0.9719019286855677,0.4702220625123732,-1.392245113055805,-1.3399777710623844,0.8394707128052822,-1.4353135791074605,0.01865835434033595,-0.36464576268046844,-1.9521593899102565,0.3557294937530207,-1.9969504535045903,-0.4978315702581766,1.950746502614422,0.8624946698016425,0.40903887306092407,0.08425458326245053,0.3974307187409831,-1.2525247237204382,-0.5904715318351246,-2.6942391859616994,0.4033239760531251,-1.8992659794944753,-0.568769644733657,-0.737463931871556,-0.09750352174251808,0.2827449529433888,0.059338453693639,-0.25595038775629275,1.6729581371668871,-0.657484411599867,0.143221261226814,0.7527341284476973,-1.1740531427173075,0.20954754178166232,1.4832879561187378,0.5666715105139852,0.4489163420626359,-1.3431974921200744,0.2845403585031368,0.17388400129743048,-0.5665861781068376,-0.8120322495789992,-0.20994668447555426,0.26766037663093106,-0.9639729600308952,-2.074985249101152,1.0597136806641296,-0.39736167885800483,-0.6208970523634952,0.9601397151563306,-0.9795691514997086,1.2745056873164828,-1.2011107020170408,1.0004866511137571,-0.025036341334355866,-0.7047597137469206,-1.0708415961563036,0.05312333270990024,-1.0088103386055773,0.407760084955383,1.464921732706363,-0.16688824903508057,-0.3018265012709268,-1.1686008046474832,-3.348814023786659,0.7438810185675033,0.18153265371496838,0.31740699441409476,1.1794731088512522,0.012747371844716965,-1.1609382594370097,2.112283032125828,2.0240269821246417,0.7223762407394393,-0.8280982904757588,-0.09425252967400118,0.21086676092096698,-1.0222276964354864,-0.04033528542371997,1.9460924400180664,-1.1907943807494015,0.2925507158576648,1.1894722145378136,-1.6136127061729408,-1.3694625393054467],\"xaxis\":\"x8\",\"y\":[-0.3758500097309625,-0.16535367948668075,-0.5128744340332714,-1.8423189367048123,-1.1356305868368282,1.2950944141943472,-1.6311579305760227,0.016688836964509558,0.3083634203789976,0.05103396975288527,0.05679467739581437,-1.9093388798897002,-0.07160559652996788,0.6891009823108263,-0.023924354969763355,-1.1380916706848383,1.3578446352346254,1.4038591603561459,-0.7963802619073149,1.0957560929375854,-1.818438255277656,0.518952747348584,0.15766209751886662,-1.194762952135624,0.851137584451354,0.15136057281811752,0.8314766491511106,-2.24436491310048,-1.32618950252785,1.6139261366070685,1.2267569037271193,-0.4821519323592516,-1.0068080096810863,-0.6015152385898623,-0.4794807614204026,0.8255089329806143,0.20952100918864586,1.3880503023093014,0.010232520009308393,2.0746829897571417,0.9580845016434512,-0.8915323496411762,0.5521516640401373,0.35559597058364756,0.7782531942868335,-0.9297557978788601,-0.08201576362981501,0.6199540529598736,-0.3168906960775201,1.5566902016173185,-1.0209462255190862,0.5188172873553452,-0.6199604386138304,-0.4761167778402319,2.612138955071329,-0.4308806060321718,-2.5189769893132805,0.36864828172669745,-0.5418048550803195,0.028049888979844513,-0.764192926505916,-0.44981714959126307,-0.2256182492838925,0.6677608872670738,0.9063299652491447,0.026573091595432478,-1.1890327279751083,0.495971623179748,-0.16708889328830456,-0.7957095778014049,-1.3663426686289486,-0.15925390784293836,-0.5275660730874695,0.6080931676567122,-1.2002907631521316,0.11751051846397328,0.2785444201863015,-1.0325323787581073,-2.108815639125478,0.39090580510184747,0.05348538976803026,0.3206261656274645,-0.5392187076266731,0.008276159035867443,1.0717865031077487,-0.4973337162739843,-0.8976955567005012,0.9687550475286898,-2.766723911241507,-0.2968503585431235,-2.532841243413473,-0.3855427598007159,-0.7023174827043425,-0.08809338291835991,1.2116323269858478,-0.9552803546605079,-0.8140868518470041,0.008119932279069134,-1.6007835806075166,-0.9437732992897068],\"yaxis\":\"y8\"},{\"line\":{\"color\":\"rgba(128, 128, 128, 1.0)\",\"dash\":\"solid\",\"shape\":\"linear\",\"width\":1.3},\"marker\":{\"size\":2,\"symbol\":\"circle\"},\"mode\":\"markers\",\"name\":\"C\",\"text\":\"\",\"type\":\"scatter\",\"x\":[-0.5179271967863107,-0.43117640845718924,-0.7425433984463287,-0.7089570997832738,-0.0361529193067307,0.07522673552826692,-1.4131665855296218,-0.0031556109683627954,-0.5302505856350661,-1.4127977371366855,0.2087659396050563,-1.4131760875032837,-0.30928347102426945,-0.483488097111868,-0.06312965999867666,1.9258679259374294,1.4587125869684525,1.3580817403999588,0.6622586311843047,-0.240272587802109,-1.6140007340343672,-0.809880896517053,0.17882016129592684,-1.918619035060385,0.5639175432044878,0.7003026318927348,1.1871330769452881,2.621530460729752,-0.05226547135199387,-0.8857947444659938,0.29778182041096535,0.8314995551078086,0.8277350723928936,0.9807667281146693,-0.45636567990437055,-0.8287489631818937,-0.02409698397342725,1.1224562643047222,-0.10774074979314044,-0.4703262271315255,-0.24485739399715936,-0.7209811457686358,0.543656350365433,-1.0910512142922943,1.6146687797051722,1.272671565444567,-1.4969566494241922,0.49724268869042015,0.5762497665318234,0.9173715082787924,-0.3156771970691579,-1.5465554615957646,0.5365559969570894,-0.16681688603908454,0.5422513086930213,0.11702639045880345,0.8662033868093464,0.7950354856934065,-0.3692169523733393,2.185699925373505,-0.19711391724350172,-0.7801751589593686,1.5742708527925775,-0.3998953876637889,-0.12030457591217633,-1.363206492841364,0.1538230355317382,-0.2873090931451748,0.1526156484030482,-0.76742908384936,0.004822975700221074,-0.44140319312826604,0.7217093953262547,0.5286866127120267,-1.7027276677246608,-0.8067393232956829,-1.8513726371721704,1.0938465376835904,-1.292754654635878,-0.7940460298498865,-2.0091587452108204,1.053284917771941,0.5505835572480933,-1.270031759248562,-0.6446601496996719,-0.7047831805932557,-0.5097574343620287,-1.1067233133199088,-0.47331615373991254,0.8566597266341112,-1.1402325893281335,-0.9191188365872801,-0.47871460470651567,0.3480989521997855,-0.02679045217886534,-1.1023603518297882,0.4308022821887071,0.12713866089653922,-0.34931893784546914,-0.22785308304094232],\"xaxis\":\"x9\",\"y\":[0.7587960141341928,-1.11142264721022,0.3198141565440644,-1.0194934133304043,-0.20572850686545635,-0.021587026924805366,0.07722012980996998,-0.5393365520948504,-0.48363801076131696,0.11967840349890593,0.9333096631948404,-0.7785714729611988,-2.500839343528844,0.9826847280006671,0.5771999931663933,-0.7370946705548319,0.7348914374396123,-2.2733615010687673,0.15868171889712523,0.49986313397118975,0.4745890512299896,-1.9254532255882428,0.07631370503179387,-0.8403706589906261,2.5824350375483784,0.49004520024242426,-1.1951705217832775,-0.8187851530447994,-0.8794790016652474,-0.6545150225494447,-0.7094955242828129,0.5864046640564877,-1.0991936756656926,2.684090001899882,0.22664660344801527,-0.7470721578512743,-0.43234097571716756,1.8490458160125023,-0.7778738537108288,-0.0995557253719997,0.41944010969042433,-2.1766770115315626,-0.1495340371367192,-0.7057471704952208,1.011974464033998,0.39923051144662375,0.042797623433699264,-1.278506700822136,0.23485653214430935,-0.6144854244281669,-0.6593617391777278,-0.16067337078532745,2.0258847666389728,-0.2762589805424835,-0.6622145387342245,-1.483238386047786,0.7227712700235196,-2.082910288506929,1.5903052813680039,-0.007619787485957267,-1.2926863512285347,0.45899093026145127,-0.786859491776658,0.5555496088564695,-0.23698133472116614,0.3902776227593081,-0.3204494249122854,-0.3213212898678564,0.5212557871580952,-0.9956260394916182,0.9384020295898582,-1.4784904280978117,-0.7509114542397107,0.3022400632332965,0.42594305296444956,-1.5980127256548717,0.6292030700725103,0.46215678871507954,-0.8027737017738074,2.064496427192837,1.0649703615544008,1.5821968439624061,-0.11039333207468331,0.31731911579102595,0.5345057004347896,-1.138197997460557,0.8951994045641871,0.28847009760214276,-0.9925327955489001,0.13940106847776548,0.15625781811900608,-0.15228766475217875,-0.5560857037787544,-0.11193076849496958,0.3057533974847101,-1.753533967666065,-0.03662419549914757,-0.4663701086370231,-0.13437295226808751,-1.406094611108991],\"yaxis\":\"y9\"},{\"line\":{\"color\":\"rgba(128, 128, 128, 1.0)\",\"dash\":\"solid\",\"shape\":\"linear\",\"width\":1.3},\"marker\":{\"size\":2,\"symbol\":\"circle\"},\"mode\":\"markers\",\"name\":\"C\",\"text\":\"\",\"type\":\"scatter\",\"x\":[-0.3758500097309625,-0.16535367948668075,-0.5128744340332714,-1.8423189367048123,-1.1356305868368282,1.2950944141943472,-1.6311579305760227,0.016688836964509558,0.3083634203789976,0.05103396975288527,0.05679467739581437,-1.9093388798897002,-0.07160559652996788,0.6891009823108263,-0.023924354969763355,-1.1380916706848383,1.3578446352346254,1.4038591603561459,-0.7963802619073149,1.0957560929375854,-1.818438255277656,0.518952747348584,0.15766209751886662,-1.194762952135624,0.851137584451354,0.15136057281811752,0.8314766491511106,-2.24436491310048,-1.32618950252785,1.6139261366070685,1.2267569037271193,-0.4821519323592516,-1.0068080096810863,-0.6015152385898623,-0.4794807614204026,0.8255089329806143,0.20952100918864586,1.3880503023093014,0.010232520009308393,2.0746829897571417,0.9580845016434512,-0.8915323496411762,0.5521516640401373,0.35559597058364756,0.7782531942868335,-0.9297557978788601,-0.08201576362981501,0.6199540529598736,-0.3168906960775201,1.5566902016173185,-1.0209462255190862,0.5188172873553452,-0.6199604386138304,-0.4761167778402319,2.612138955071329,-0.4308806060321718,-2.5189769893132805,0.36864828172669745,-0.5418048550803195,0.028049888979844513,-0.764192926505916,-0.44981714959126307,-0.2256182492838925,0.6677608872670738,0.9063299652491447,0.026573091595432478,-1.1890327279751083,0.495971623179748,-0.16708889328830456,-0.7957095778014049,-1.3663426686289486,-0.15925390784293836,-0.5275660730874695,0.6080931676567122,-1.2002907631521316,0.11751051846397328,0.2785444201863015,-1.0325323787581073,-2.108815639125478,0.39090580510184747,0.05348538976803026,0.3206261656274645,-0.5392187076266731,0.008276159035867443,1.0717865031077487,-0.4973337162739843,-0.8976955567005012,0.9687550475286898,-2.766723911241507,-0.2968503585431235,-2.532841243413473,-0.3855427598007159,-0.7023174827043425,-0.08809338291835991,1.2116323269858478,-0.9552803546605079,-0.8140868518470041,0.008119932279069134,-1.6007835806075166,-0.9437732992897068],\"xaxis\":\"x10\",\"y\":[0.7587960141341928,-1.11142264721022,0.3198141565440644,-1.0194934133304043,-0.20572850686545635,-0.021587026924805366,0.07722012980996998,-0.5393365520948504,-0.48363801076131696,0.11967840349890593,0.9333096631948404,-0.7785714729611988,-2.500839343528844,0.9826847280006671,0.5771999931663933,-0.7370946705548319,0.7348914374396123,-2.2733615010687673,0.15868171889712523,0.49986313397118975,0.4745890512299896,-1.9254532255882428,0.07631370503179387,-0.8403706589906261,2.5824350375483784,0.49004520024242426,-1.1951705217832775,-0.8187851530447994,-0.8794790016652474,-0.6545150225494447,-0.7094955242828129,0.5864046640564877,-1.0991936756656926,2.684090001899882,0.22664660344801527,-0.7470721578512743,-0.43234097571716756,1.8490458160125023,-0.7778738537108288,-0.0995557253719997,0.41944010969042433,-2.1766770115315626,-0.1495340371367192,-0.7057471704952208,1.011974464033998,0.39923051144662375,0.042797623433699264,-1.278506700822136,0.23485653214430935,-0.6144854244281669,-0.6593617391777278,-0.16067337078532745,2.0258847666389728,-0.2762589805424835,-0.6622145387342245,-1.483238386047786,0.7227712700235196,-2.082910288506929,1.5903052813680039,-0.007619787485957267,-1.2926863512285347,0.45899093026145127,-0.786859491776658,0.5555496088564695,-0.23698133472116614,0.3902776227593081,-0.3204494249122854,-0.3213212898678564,0.5212557871580952,-0.9956260394916182,0.9384020295898582,-1.4784904280978117,-0.7509114542397107,0.3022400632332965,0.42594305296444956,-1.5980127256548717,0.6292030700725103,0.46215678871507954,-0.8027737017738074,2.064496427192837,1.0649703615544008,1.5821968439624061,-0.11039333207468331,0.31731911579102595,0.5345057004347896,-1.138197997460557,0.8951994045641871,0.28847009760214276,-0.9925327955489001,0.13940106847776548,0.15625781811900608,-0.15228766475217875,-0.5560857037787544,-0.11193076849496958,0.3057533974847101,-1.753533967666065,-0.03662419549914757,-0.4663701086370231,-0.13437295226808751,-1.406094611108991],\"yaxis\":\"y10\"},{\"histfunc\":\"count\",\"histnorm\":\"\",\"marker\":{\"color\":\"rgba(50, 171, 96, 1.0)\",\"line\":{\"color\":\"#4D5663\",\"width\":1.3}},\"name\":\"C\",\"nbinsx\":10,\"opacity\":0.8,\"orientation\":\"v\",\"type\":\"histogram\",\"x\":[0.7587960141341928,-1.11142264721022,0.3198141565440644,-1.0194934133304043,-0.20572850686545635,-0.021587026924805366,0.07722012980996998,-0.5393365520948504,-0.48363801076131696,0.11967840349890593,0.9333096631948404,-0.7785714729611988,-2.500839343528844,0.9826847280006671,0.5771999931663933,-0.7370946705548319,0.7348914374396123,-2.2733615010687673,0.15868171889712523,0.49986313397118975,0.4745890512299896,-1.9254532255882428,0.07631370503179387,-0.8403706589906261,2.5824350375483784,0.49004520024242426,-1.1951705217832775,-0.8187851530447994,-0.8794790016652474,-0.6545150225494447,-0.7094955242828129,0.5864046640564877,-1.0991936756656926,2.684090001899882,0.22664660344801527,-0.7470721578512743,-0.43234097571716756,1.8490458160125023,-0.7778738537108288,-0.0995557253719997,0.41944010969042433,-2.1766770115315626,-0.1495340371367192,-0.7057471704952208,1.011974464033998,0.39923051144662375,0.042797623433699264,-1.278506700822136,0.23485653214430935,-0.6144854244281669,-0.6593617391777278,-0.16067337078532745,2.0258847666389728,-0.2762589805424835,-0.6622145387342245,-1.483238386047786,0.7227712700235196,-2.082910288506929,1.5903052813680039,-0.007619787485957267,-1.2926863512285347,0.45899093026145127,-0.786859491776658,0.5555496088564695,-0.23698133472116614,0.3902776227593081,-0.3204494249122854,-0.3213212898678564,0.5212557871580952,-0.9956260394916182,0.9384020295898582,-1.4784904280978117,-0.7509114542397107,0.3022400632332965,0.42594305296444956,-1.5980127256548717,0.6292030700725103,0.46215678871507954,-0.8027737017738074,2.064496427192837,1.0649703615544008,1.5821968439624061,-0.11039333207468331,0.31731911579102595,0.5345057004347896,-1.138197997460557,0.8951994045641871,0.28847009760214276,-0.9925327955489001,0.13940106847776548,0.15625781811900608,-0.15228766475217875,-0.5560857037787544,-0.11193076849496958,0.3057533974847101,-1.753533967666065,-0.03662419549914757,-0.4663701086370231,-0.13437295226808751,-1.406094611108991],\"xaxis\":\"x11\",\"yaxis\":\"y11\"},{\"line\":{\"color\":\"rgba(128, 128, 128, 1.0)\",\"dash\":\"solid\",\"shape\":\"linear\",\"width\":1.3},\"marker\":{\"size\":2,\"symbol\":\"circle\"},\"mode\":\"markers\",\"name\":\"C\",\"text\":\"\",\"type\":\"scatter\",\"x\":[0.044908640982309955,-0.5916582622986855,-1.0047049275451418,-0.16357912181462567,1.2842272620687578,-0.9462707786755773,-0.33529641671427474,-0.597134506932244,1.0912916909862427,-0.03830843681264787,0.22267489195268658,1.6512200440794045,0.3707835277666362,-1.6857515615095517,-1.549645897690307,0.9719019286855677,0.4702220625123732,-1.392245113055805,-1.3399777710623844,0.8394707128052822,-1.4353135791074605,0.01865835434033595,-0.36464576268046844,-1.9521593899102565,0.3557294937530207,-1.9969504535045903,-0.4978315702581766,1.950746502614422,0.8624946698016425,0.40903887306092407,0.08425458326245053,0.3974307187409831,-1.2525247237204382,-0.5904715318351246,-2.6942391859616994,0.4033239760531251,-1.8992659794944753,-0.568769644733657,-0.737463931871556,-0.09750352174251808,0.2827449529433888,0.059338453693639,-0.25595038775629275,1.6729581371668871,-0.657484411599867,0.143221261226814,0.7527341284476973,-1.1740531427173075,0.20954754178166232,1.4832879561187378,0.5666715105139852,0.4489163420626359,-1.3431974921200744,0.2845403585031368,0.17388400129743048,-0.5665861781068376,-0.8120322495789992,-0.20994668447555426,0.26766037663093106,-0.9639729600308952,-2.074985249101152,1.0597136806641296,-0.39736167885800483,-0.6208970523634952,0.9601397151563306,-0.9795691514997086,1.2745056873164828,-1.2011107020170408,1.0004866511137571,-0.025036341334355866,-0.7047597137469206,-1.0708415961563036,0.05312333270990024,-1.0088103386055773,0.407760084955383,1.464921732706363,-0.16688824903508057,-0.3018265012709268,-1.1686008046474832,-3.348814023786659,0.7438810185675033,0.18153265371496838,0.31740699441409476,1.1794731088512522,0.012747371844716965,-1.1609382594370097,2.112283032125828,2.0240269821246417,0.7223762407394393,-0.8280982904757588,-0.09425252967400118,0.21086676092096698,-1.0222276964354864,-0.04033528542371997,1.9460924400180664,-1.1907943807494015,0.2925507158576648,1.1894722145378136,-1.6136127061729408,-1.3694625393054467],\"xaxis\":\"x12\",\"y\":[0.7587960141341928,-1.11142264721022,0.3198141565440644,-1.0194934133304043,-0.20572850686545635,-0.021587026924805366,0.07722012980996998,-0.5393365520948504,-0.48363801076131696,0.11967840349890593,0.9333096631948404,-0.7785714729611988,-2.500839343528844,0.9826847280006671,0.5771999931663933,-0.7370946705548319,0.7348914374396123,-2.2733615010687673,0.15868171889712523,0.49986313397118975,0.4745890512299896,-1.9254532255882428,0.07631370503179387,-0.8403706589906261,2.5824350375483784,0.49004520024242426,-1.1951705217832775,-0.8187851530447994,-0.8794790016652474,-0.6545150225494447,-0.7094955242828129,0.5864046640564877,-1.0991936756656926,2.684090001899882,0.22664660344801527,-0.7470721578512743,-0.43234097571716756,1.8490458160125023,-0.7778738537108288,-0.0995557253719997,0.41944010969042433,-2.1766770115315626,-0.1495340371367192,-0.7057471704952208,1.011974464033998,0.39923051144662375,0.042797623433699264,-1.278506700822136,0.23485653214430935,-0.6144854244281669,-0.6593617391777278,-0.16067337078532745,2.0258847666389728,-0.2762589805424835,-0.6622145387342245,-1.483238386047786,0.7227712700235196,-2.082910288506929,1.5903052813680039,-0.007619787485957267,-1.2926863512285347,0.45899093026145127,-0.786859491776658,0.5555496088564695,-0.23698133472116614,0.3902776227593081,-0.3204494249122854,-0.3213212898678564,0.5212557871580952,-0.9956260394916182,0.9384020295898582,-1.4784904280978117,-0.7509114542397107,0.3022400632332965,0.42594305296444956,-1.5980127256548717,0.6292030700725103,0.46215678871507954,-0.8027737017738074,2.064496427192837,1.0649703615544008,1.5821968439624061,-0.11039333207468331,0.31731911579102595,0.5345057004347896,-1.138197997460557,0.8951994045641871,0.28847009760214276,-0.9925327955489001,0.13940106847776548,0.15625781811900608,-0.15228766475217875,-0.5560857037787544,-0.11193076849496958,0.3057533974847101,-1.753533967666065,-0.03662419549914757,-0.4663701086370231,-0.13437295226808751,-1.406094611108991],\"yaxis\":\"y12\"},{\"line\":{\"color\":\"rgba(128, 128, 128, 1.0)\",\"dash\":\"solid\",\"shape\":\"linear\",\"width\":1.3},\"marker\":{\"size\":2,\"symbol\":\"circle\"},\"mode\":\"markers\",\"name\":\"D\",\"text\":\"\",\"type\":\"scatter\",\"x\":[-0.5179271967863107,-0.43117640845718924,-0.7425433984463287,-0.7089570997832738,-0.0361529193067307,0.07522673552826692,-1.4131665855296218,-0.0031556109683627954,-0.5302505856350661,-1.4127977371366855,0.2087659396050563,-1.4131760875032837,-0.30928347102426945,-0.483488097111868,-0.06312965999867666,1.9258679259374294,1.4587125869684525,1.3580817403999588,0.6622586311843047,-0.240272587802109,-1.6140007340343672,-0.809880896517053,0.17882016129592684,-1.918619035060385,0.5639175432044878,0.7003026318927348,1.1871330769452881,2.621530460729752,-0.05226547135199387,-0.8857947444659938,0.29778182041096535,0.8314995551078086,0.8277350723928936,0.9807667281146693,-0.45636567990437055,-0.8287489631818937,-0.02409698397342725,1.1224562643047222,-0.10774074979314044,-0.4703262271315255,-0.24485739399715936,-0.7209811457686358,0.543656350365433,-1.0910512142922943,1.6146687797051722,1.272671565444567,-1.4969566494241922,0.49724268869042015,0.5762497665318234,0.9173715082787924,-0.3156771970691579,-1.5465554615957646,0.5365559969570894,-0.16681688603908454,0.5422513086930213,0.11702639045880345,0.8662033868093464,0.7950354856934065,-0.3692169523733393,2.185699925373505,-0.19711391724350172,-0.7801751589593686,1.5742708527925775,-0.3998953876637889,-0.12030457591217633,-1.363206492841364,0.1538230355317382,-0.2873090931451748,0.1526156484030482,-0.76742908384936,0.004822975700221074,-0.44140319312826604,0.7217093953262547,0.5286866127120267,-1.7027276677246608,-0.8067393232956829,-1.8513726371721704,1.0938465376835904,-1.292754654635878,-0.7940460298498865,-2.0091587452108204,1.053284917771941,0.5505835572480933,-1.270031759248562,-0.6446601496996719,-0.7047831805932557,-0.5097574343620287,-1.1067233133199088,-0.47331615373991254,0.8566597266341112,-1.1402325893281335,-0.9191188365872801,-0.47871460470651567,0.3480989521997855,-0.02679045217886534,-1.1023603518297882,0.4308022821887071,0.12713866089653922,-0.34931893784546914,-0.22785308304094232],\"xaxis\":\"x13\",\"y\":[0.044908640982309955,-0.5916582622986855,-1.0047049275451418,-0.16357912181462567,1.2842272620687578,-0.9462707786755773,-0.33529641671427474,-0.597134506932244,1.0912916909862427,-0.03830843681264787,0.22267489195268658,1.6512200440794045,0.3707835277666362,-1.6857515615095517,-1.549645897690307,0.9719019286855677,0.4702220625123732,-1.392245113055805,-1.3399777710623844,0.8394707128052822,-1.4353135791074605,0.01865835434033595,-0.36464576268046844,-1.9521593899102565,0.3557294937530207,-1.9969504535045903,-0.4978315702581766,1.950746502614422,0.8624946698016425,0.40903887306092407,0.08425458326245053,0.3974307187409831,-1.2525247237204382,-0.5904715318351246,-2.6942391859616994,0.4033239760531251,-1.8992659794944753,-0.568769644733657,-0.737463931871556,-0.09750352174251808,0.2827449529433888,0.059338453693639,-0.25595038775629275,1.6729581371668871,-0.657484411599867,0.143221261226814,0.7527341284476973,-1.1740531427173075,0.20954754178166232,1.4832879561187378,0.5666715105139852,0.4489163420626359,-1.3431974921200744,0.2845403585031368,0.17388400129743048,-0.5665861781068376,-0.8120322495789992,-0.20994668447555426,0.26766037663093106,-0.9639729600308952,-2.074985249101152,1.0597136806641296,-0.39736167885800483,-0.6208970523634952,0.9601397151563306,-0.9795691514997086,1.2745056873164828,-1.2011107020170408,1.0004866511137571,-0.025036341334355866,-0.7047597137469206,-1.0708415961563036,0.05312333270990024,-1.0088103386055773,0.407760084955383,1.464921732706363,-0.16688824903508057,-0.3018265012709268,-1.1686008046474832,-3.348814023786659,0.7438810185675033,0.18153265371496838,0.31740699441409476,1.1794731088512522,0.012747371844716965,-1.1609382594370097,2.112283032125828,2.0240269821246417,0.7223762407394393,-0.8280982904757588,-0.09425252967400118,0.21086676092096698,-1.0222276964354864,-0.04033528542371997,1.9460924400180664,-1.1907943807494015,0.2925507158576648,1.1894722145378136,-1.6136127061729408,-1.3694625393054467],\"yaxis\":\"y13\"},{\"line\":{\"color\":\"rgba(128, 128, 128, 1.0)\",\"dash\":\"solid\",\"shape\":\"linear\",\"width\":1.3},\"marker\":{\"size\":2,\"symbol\":\"circle\"},\"mode\":\"markers\",\"name\":\"D\",\"text\":\"\",\"type\":\"scatter\",\"x\":[-0.3758500097309625,-0.16535367948668075,-0.5128744340332714,-1.8423189367048123,-1.1356305868368282,1.2950944141943472,-1.6311579305760227,0.016688836964509558,0.3083634203789976,0.05103396975288527,0.05679467739581437,-1.9093388798897002,-0.07160559652996788,0.6891009823108263,-0.023924354969763355,-1.1380916706848383,1.3578446352346254,1.4038591603561459,-0.7963802619073149,1.0957560929375854,-1.818438255277656,0.518952747348584,0.15766209751886662,-1.194762952135624,0.851137584451354,0.15136057281811752,0.8314766491511106,-2.24436491310048,-1.32618950252785,1.6139261366070685,1.2267569037271193,-0.4821519323592516,-1.0068080096810863,-0.6015152385898623,-0.4794807614204026,0.8255089329806143,0.20952100918864586,1.3880503023093014,0.010232520009308393,2.0746829897571417,0.9580845016434512,-0.8915323496411762,0.5521516640401373,0.35559597058364756,0.7782531942868335,-0.9297557978788601,-0.08201576362981501,0.6199540529598736,-0.3168906960775201,1.5566902016173185,-1.0209462255190862,0.5188172873553452,-0.6199604386138304,-0.4761167778402319,2.612138955071329,-0.4308806060321718,-2.5189769893132805,0.36864828172669745,-0.5418048550803195,0.028049888979844513,-0.764192926505916,-0.44981714959126307,-0.2256182492838925,0.6677608872670738,0.9063299652491447,0.026573091595432478,-1.1890327279751083,0.495971623179748,-0.16708889328830456,-0.7957095778014049,-1.3663426686289486,-0.15925390784293836,-0.5275660730874695,0.6080931676567122,-1.2002907631521316,0.11751051846397328,0.2785444201863015,-1.0325323787581073,-2.108815639125478,0.39090580510184747,0.05348538976803026,0.3206261656274645,-0.5392187076266731,0.008276159035867443,1.0717865031077487,-0.4973337162739843,-0.8976955567005012,0.9687550475286898,-2.766723911241507,-0.2968503585431235,-2.532841243413473,-0.3855427598007159,-0.7023174827043425,-0.08809338291835991,1.2116323269858478,-0.9552803546605079,-0.8140868518470041,0.008119932279069134,-1.6007835806075166,-0.9437732992897068],\"xaxis\":\"x14\",\"y\":[0.044908640982309955,-0.5916582622986855,-1.0047049275451418,-0.16357912181462567,1.2842272620687578,-0.9462707786755773,-0.33529641671427474,-0.597134506932244,1.0912916909862427,-0.03830843681264787,0.22267489195268658,1.6512200440794045,0.3707835277666362,-1.6857515615095517,-1.549645897690307,0.9719019286855677,0.4702220625123732,-1.392245113055805,-1.3399777710623844,0.8394707128052822,-1.4353135791074605,0.01865835434033595,-0.36464576268046844,-1.9521593899102565,0.3557294937530207,-1.9969504535045903,-0.4978315702581766,1.950746502614422,0.8624946698016425,0.40903887306092407,0.08425458326245053,0.3974307187409831,-1.2525247237204382,-0.5904715318351246,-2.6942391859616994,0.4033239760531251,-1.8992659794944753,-0.568769644733657,-0.737463931871556,-0.09750352174251808,0.2827449529433888,0.059338453693639,-0.25595038775629275,1.6729581371668871,-0.657484411599867,0.143221261226814,0.7527341284476973,-1.1740531427173075,0.20954754178166232,1.4832879561187378,0.5666715105139852,0.4489163420626359,-1.3431974921200744,0.2845403585031368,0.17388400129743048,-0.5665861781068376,-0.8120322495789992,-0.20994668447555426,0.26766037663093106,-0.9639729600308952,-2.074985249101152,1.0597136806641296,-0.39736167885800483,-0.6208970523634952,0.9601397151563306,-0.9795691514997086,1.2745056873164828,-1.2011107020170408,1.0004866511137571,-0.025036341334355866,-0.7047597137469206,-1.0708415961563036,0.05312333270990024,-1.0088103386055773,0.407760084955383,1.464921732706363,-0.16688824903508057,-0.3018265012709268,-1.1686008046474832,-3.348814023786659,0.7438810185675033,0.18153265371496838,0.31740699441409476,1.1794731088512522,0.012747371844716965,-1.1609382594370097,2.112283032125828,2.0240269821246417,0.7223762407394393,-0.8280982904757588,-0.09425252967400118,0.21086676092096698,-1.0222276964354864,-0.04033528542371997,1.9460924400180664,-1.1907943807494015,0.2925507158576648,1.1894722145378136,-1.6136127061729408,-1.3694625393054467],\"yaxis\":\"y14\"},{\"line\":{\"color\":\"rgba(128, 128, 128, 1.0)\",\"dash\":\"solid\",\"shape\":\"linear\",\"width\":1.3},\"marker\":{\"size\":2,\"symbol\":\"circle\"},\"mode\":\"markers\",\"name\":\"D\",\"text\":\"\",\"type\":\"scatter\",\"x\":[0.7587960141341928,-1.11142264721022,0.3198141565440644,-1.0194934133304043,-0.20572850686545635,-0.021587026924805366,0.07722012980996998,-0.5393365520948504,-0.48363801076131696,0.11967840349890593,0.9333096631948404,-0.7785714729611988,-2.500839343528844,0.9826847280006671,0.5771999931663933,-0.7370946705548319,0.7348914374396123,-2.2733615010687673,0.15868171889712523,0.49986313397118975,0.4745890512299896,-1.9254532255882428,0.07631370503179387,-0.8403706589906261,2.5824350375483784,0.49004520024242426,-1.1951705217832775,-0.8187851530447994,-0.8794790016652474,-0.6545150225494447,-0.7094955242828129,0.5864046640564877,-1.0991936756656926,2.684090001899882,0.22664660344801527,-0.7470721578512743,-0.43234097571716756,1.8490458160125023,-0.7778738537108288,-0.0995557253719997,0.41944010969042433,-2.1766770115315626,-0.1495340371367192,-0.7057471704952208,1.011974464033998,0.39923051144662375,0.042797623433699264,-1.278506700822136,0.23485653214430935,-0.6144854244281669,-0.6593617391777278,-0.16067337078532745,2.0258847666389728,-0.2762589805424835,-0.6622145387342245,-1.483238386047786,0.7227712700235196,-2.082910288506929,1.5903052813680039,-0.007619787485957267,-1.2926863512285347,0.45899093026145127,-0.786859491776658,0.5555496088564695,-0.23698133472116614,0.3902776227593081,-0.3204494249122854,-0.3213212898678564,0.5212557871580952,-0.9956260394916182,0.9384020295898582,-1.4784904280978117,-0.7509114542397107,0.3022400632332965,0.42594305296444956,-1.5980127256548717,0.6292030700725103,0.46215678871507954,-0.8027737017738074,2.064496427192837,1.0649703615544008,1.5821968439624061,-0.11039333207468331,0.31731911579102595,0.5345057004347896,-1.138197997460557,0.8951994045641871,0.28847009760214276,-0.9925327955489001,0.13940106847776548,0.15625781811900608,-0.15228766475217875,-0.5560857037787544,-0.11193076849496958,0.3057533974847101,-1.753533967666065,-0.03662419549914757,-0.4663701086370231,-0.13437295226808751,-1.406094611108991],\"xaxis\":\"x15\",\"y\":[0.044908640982309955,-0.5916582622986855,-1.0047049275451418,-0.16357912181462567,1.2842272620687578,-0.9462707786755773,-0.33529641671427474,-0.597134506932244,1.0912916909862427,-0.03830843681264787,0.22267489195268658,1.6512200440794045,0.3707835277666362,-1.6857515615095517,-1.549645897690307,0.9719019286855677,0.4702220625123732,-1.392245113055805,-1.3399777710623844,0.8394707128052822,-1.4353135791074605,0.01865835434033595,-0.36464576268046844,-1.9521593899102565,0.3557294937530207,-1.9969504535045903,-0.4978315702581766,1.950746502614422,0.8624946698016425,0.40903887306092407,0.08425458326245053,0.3974307187409831,-1.2525247237204382,-0.5904715318351246,-2.6942391859616994,0.4033239760531251,-1.8992659794944753,-0.568769644733657,-0.737463931871556,-0.09750352174251808,0.2827449529433888,0.059338453693639,-0.25595038775629275,1.6729581371668871,-0.657484411599867,0.143221261226814,0.7527341284476973,-1.1740531427173075,0.20954754178166232,1.4832879561187378,0.5666715105139852,0.4489163420626359,-1.3431974921200744,0.2845403585031368,0.17388400129743048,-0.5665861781068376,-0.8120322495789992,-0.20994668447555426,0.26766037663093106,-0.9639729600308952,-2.074985249101152,1.0597136806641296,-0.39736167885800483,-0.6208970523634952,0.9601397151563306,-0.9795691514997086,1.2745056873164828,-1.2011107020170408,1.0004866511137571,-0.025036341334355866,-0.7047597137469206,-1.0708415961563036,0.05312333270990024,-1.0088103386055773,0.407760084955383,1.464921732706363,-0.16688824903508057,-0.3018265012709268,-1.1686008046474832,-3.348814023786659,0.7438810185675033,0.18153265371496838,0.31740699441409476,1.1794731088512522,0.012747371844716965,-1.1609382594370097,2.112283032125828,2.0240269821246417,0.7223762407394393,-0.8280982904757588,-0.09425252967400118,0.21086676092096698,-1.0222276964354864,-0.04033528542371997,1.9460924400180664,-1.1907943807494015,0.2925507158576648,1.1894722145378136,-1.6136127061729408,-1.3694625393054467],\"yaxis\":\"y15\"},{\"histfunc\":\"count\",\"histnorm\":\"\",\"marker\":{\"color\":\"rgba(128, 0, 128, 1.0)\",\"line\":{\"color\":\"#4D5663\",\"width\":1.3}},\"name\":\"D\",\"nbinsx\":10,\"opacity\":0.8,\"orientation\":\"v\",\"type\":\"histogram\",\"x\":[0.044908640982309955,-0.5916582622986855,-1.0047049275451418,-0.16357912181462567,1.2842272620687578,-0.9462707786755773,-0.33529641671427474,-0.597134506932244,1.0912916909862427,-0.03830843681264787,0.22267489195268658,1.6512200440794045,0.3707835277666362,-1.6857515615095517,-1.549645897690307,0.9719019286855677,0.4702220625123732,-1.392245113055805,-1.3399777710623844,0.8394707128052822,-1.4353135791074605,0.01865835434033595,-0.36464576268046844,-1.9521593899102565,0.3557294937530207,-1.9969504535045903,-0.4978315702581766,1.950746502614422,0.8624946698016425,0.40903887306092407,0.08425458326245053,0.3974307187409831,-1.2525247237204382,-0.5904715318351246,-2.6942391859616994,0.4033239760531251,-1.8992659794944753,-0.568769644733657,-0.737463931871556,-0.09750352174251808,0.2827449529433888,0.059338453693639,-0.25595038775629275,1.6729581371668871,-0.657484411599867,0.143221261226814,0.7527341284476973,-1.1740531427173075,0.20954754178166232,1.4832879561187378,0.5666715105139852,0.4489163420626359,-1.3431974921200744,0.2845403585031368,0.17388400129743048,-0.5665861781068376,-0.8120322495789992,-0.20994668447555426,0.26766037663093106,-0.9639729600308952,-2.074985249101152,1.0597136806641296,-0.39736167885800483,-0.6208970523634952,0.9601397151563306,-0.9795691514997086,1.2745056873164828,-1.2011107020170408,1.0004866511137571,-0.025036341334355866,-0.7047597137469206,-1.0708415961563036,0.05312333270990024,-1.0088103386055773,0.407760084955383,1.464921732706363,-0.16688824903508057,-0.3018265012709268,-1.1686008046474832,-3.348814023786659,0.7438810185675033,0.18153265371496838,0.31740699441409476,1.1794731088512522,0.012747371844716965,-1.1609382594370097,2.112283032125828,2.0240269821246417,0.7223762407394393,-0.8280982904757588,-0.09425252967400118,0.21086676092096698,-1.0222276964354864,-0.04033528542371997,1.9460924400180664,-1.1907943807494015,0.2925507158576648,1.1894722145378136,-1.6136127061729408,-1.3694625393054467],\"xaxis\":\"x16\",\"yaxis\":\"y16\"}],                        {\"bargap\":0.02,\"legend\":{\"bgcolor\":\"#F5F6F9\",\"font\":{\"color\":\"#4D5663\"}},\"paper_bgcolor\":\"#F5F6F9\",\"plot_bgcolor\":\"#F5F6F9\",\"showlegend\":false,\"template\":{\"data\":{\"bar\":[{\"error_x\":{\"color\":\"#2a3f5f\"},\"error_y\":{\"color\":\"#2a3f5f\"},\"marker\":{\"line\":{\"color\":\"#E5ECF6\",\"width\":0.5},\"pattern\":{\"fillmode\":\"overlay\",\"size\":10,\"solidity\":0.2}},\"type\":\"bar\"}],\"barpolar\":[{\"marker\":{\"line\":{\"color\":\"#E5ECF6\",\"width\":0.5},\"pattern\":{\"fillmode\":\"overlay\",\"size\":10,\"solidity\":0.2}},\"type\":\"barpolar\"}],\"carpet\":[{\"aaxis\":{\"endlinecolor\":\"#2a3f5f\",\"gridcolor\":\"white\",\"linecolor\":\"white\",\"minorgridcolor\":\"white\",\"startlinecolor\":\"#2a3f5f\"},\"baxis\":{\"endlinecolor\":\"#2a3f5f\",\"gridcolor\":\"white\",\"linecolor\":\"white\",\"minorgridcolor\":\"white\",\"startlinecolor\":\"#2a3f5f\"},\"type\":\"carpet\"}],\"choropleth\":[{\"colorbar\":{\"outlinewidth\":0,\"ticks\":\"\"},\"type\":\"choropleth\"}],\"contour\":[{\"colorbar\":{\"outlinewidth\":0,\"ticks\":\"\"},\"colorscale\":[[0.0,\"#0d0887\"],[0.1111111111111111,\"#46039f\"],[0.2222222222222222,\"#7201a8\"],[0.3333333333333333,\"#9c179e\"],[0.4444444444444444,\"#bd3786\"],[0.5555555555555556,\"#d8576b\"],[0.6666666666666666,\"#ed7953\"],[0.7777777777777778,\"#fb9f3a\"],[0.8888888888888888,\"#fdca26\"],[1.0,\"#f0f921\"]],\"type\":\"contour\"}],\"contourcarpet\":[{\"colorbar\":{\"outlinewidth\":0,\"ticks\":\"\"},\"type\":\"contourcarpet\"}],\"heatmap\":[{\"colorbar\":{\"outlinewidth\":0,\"ticks\":\"\"},\"colorscale\":[[0.0,\"#0d0887\"],[0.1111111111111111,\"#46039f\"],[0.2222222222222222,\"#7201a8\"],[0.3333333333333333,\"#9c179e\"],[0.4444444444444444,\"#bd3786\"],[0.5555555555555556,\"#d8576b\"],[0.6666666666666666,\"#ed7953\"],[0.7777777777777778,\"#fb9f3a\"],[0.8888888888888888,\"#fdca26\"],[1.0,\"#f0f921\"]],\"type\":\"heatmap\"}],\"heatmapgl\":[{\"colorbar\":{\"outlinewidth\":0,\"ticks\":\"\"},\"colorscale\":[[0.0,\"#0d0887\"],[0.1111111111111111,\"#46039f\"],[0.2222222222222222,\"#7201a8\"],[0.3333333333333333,\"#9c179e\"],[0.4444444444444444,\"#bd3786\"],[0.5555555555555556,\"#d8576b\"],[0.6666666666666666,\"#ed7953\"],[0.7777777777777778,\"#fb9f3a\"],[0.8888888888888888,\"#fdca26\"],[1.0,\"#f0f921\"]],\"type\":\"heatmapgl\"}],\"histogram\":[{\"marker\":{\"pattern\":{\"fillmode\":\"overlay\",\"size\":10,\"solidity\":0.2}},\"type\":\"histogram\"}],\"histogram2d\":[{\"colorbar\":{\"outlinewidth\":0,\"ticks\":\"\"},\"colorscale\":[[0.0,\"#0d0887\"],[0.1111111111111111,\"#46039f\"],[0.2222222222222222,\"#7201a8\"],[0.3333333333333333,\"#9c179e\"],[0.4444444444444444,\"#bd3786\"],[0.5555555555555556,\"#d8576b\"],[0.6666666666666666,\"#ed7953\"],[0.7777777777777778,\"#fb9f3a\"],[0.8888888888888888,\"#fdca26\"],[1.0,\"#f0f921\"]],\"type\":\"histogram2d\"}],\"histogram2dcontour\":[{\"colorbar\":{\"outlinewidth\":0,\"ticks\":\"\"},\"colorscale\":[[0.0,\"#0d0887\"],[0.1111111111111111,\"#46039f\"],[0.2222222222222222,\"#7201a8\"],[0.3333333333333333,\"#9c179e\"],[0.4444444444444444,\"#bd3786\"],[0.5555555555555556,\"#d8576b\"],[0.6666666666666666,\"#ed7953\"],[0.7777777777777778,\"#fb9f3a\"],[0.8888888888888888,\"#fdca26\"],[1.0,\"#f0f921\"]],\"type\":\"histogram2dcontour\"}],\"mesh3d\":[{\"colorbar\":{\"outlinewidth\":0,\"ticks\":\"\"},\"type\":\"mesh3d\"}],\"parcoords\":[{\"line\":{\"colorbar\":{\"outlinewidth\":0,\"ticks\":\"\"}},\"type\":\"parcoords\"}],\"pie\":[{\"automargin\":true,\"type\":\"pie\"}],\"scatter\":[{\"marker\":{\"colorbar\":{\"outlinewidth\":0,\"ticks\":\"\"}},\"type\":\"scatter\"}],\"scatter3d\":[{\"line\":{\"colorbar\":{\"outlinewidth\":0,\"ticks\":\"\"}},\"marker\":{\"colorbar\":{\"outlinewidth\":0,\"ticks\":\"\"}},\"type\":\"scatter3d\"}],\"scattercarpet\":[{\"marker\":{\"colorbar\":{\"outlinewidth\":0,\"ticks\":\"\"}},\"type\":\"scattercarpet\"}],\"scattergeo\":[{\"marker\":{\"colorbar\":{\"outlinewidth\":0,\"ticks\":\"\"}},\"type\":\"scattergeo\"}],\"scattergl\":[{\"marker\":{\"colorbar\":{\"outlinewidth\":0,\"ticks\":\"\"}},\"type\":\"scattergl\"}],\"scattermapbox\":[{\"marker\":{\"colorbar\":{\"outlinewidth\":0,\"ticks\":\"\"}},\"type\":\"scattermapbox\"}],\"scatterpolar\":[{\"marker\":{\"colorbar\":{\"outlinewidth\":0,\"ticks\":\"\"}},\"type\":\"scatterpolar\"}],\"scatterpolargl\":[{\"marker\":{\"colorbar\":{\"outlinewidth\":0,\"ticks\":\"\"}},\"type\":\"scatterpolargl\"}],\"scatterternary\":[{\"marker\":{\"colorbar\":{\"outlinewidth\":0,\"ticks\":\"\"}},\"type\":\"scatterternary\"}],\"surface\":[{\"colorbar\":{\"outlinewidth\":0,\"ticks\":\"\"},\"colorscale\":[[0.0,\"#0d0887\"],[0.1111111111111111,\"#46039f\"],[0.2222222222222222,\"#7201a8\"],[0.3333333333333333,\"#9c179e\"],[0.4444444444444444,\"#bd3786\"],[0.5555555555555556,\"#d8576b\"],[0.6666666666666666,\"#ed7953\"],[0.7777777777777778,\"#fb9f3a\"],[0.8888888888888888,\"#fdca26\"],[1.0,\"#f0f921\"]],\"type\":\"surface\"}],\"table\":[{\"cells\":{\"fill\":{\"color\":\"#EBF0F8\"},\"line\":{\"color\":\"white\"}},\"header\":{\"fill\":{\"color\":\"#C8D4E3\"},\"line\":{\"color\":\"white\"}},\"type\":\"table\"}]},\"layout\":{\"annotationdefaults\":{\"arrowcolor\":\"#2a3f5f\",\"arrowhead\":0,\"arrowwidth\":1},\"autotypenumbers\":\"strict\",\"coloraxis\":{\"colorbar\":{\"outlinewidth\":0,\"ticks\":\"\"}},\"colorscale\":{\"diverging\":[[0,\"#8e0152\"],[0.1,\"#c51b7d\"],[0.2,\"#de77ae\"],[0.3,\"#f1b6da\"],[0.4,\"#fde0ef\"],[0.5,\"#f7f7f7\"],[0.6,\"#e6f5d0\"],[0.7,\"#b8e186\"],[0.8,\"#7fbc41\"],[0.9,\"#4d9221\"],[1,\"#276419\"]],\"sequential\":[[0.0,\"#0d0887\"],[0.1111111111111111,\"#46039f\"],[0.2222222222222222,\"#7201a8\"],[0.3333333333333333,\"#9c179e\"],[0.4444444444444444,\"#bd3786\"],[0.5555555555555556,\"#d8576b\"],[0.6666666666666666,\"#ed7953\"],[0.7777777777777778,\"#fb9f3a\"],[0.8888888888888888,\"#fdca26\"],[1.0,\"#f0f921\"]],\"sequentialminus\":[[0.0,\"#0d0887\"],[0.1111111111111111,\"#46039f\"],[0.2222222222222222,\"#7201a8\"],[0.3333333333333333,\"#9c179e\"],[0.4444444444444444,\"#bd3786\"],[0.5555555555555556,\"#d8576b\"],[0.6666666666666666,\"#ed7953\"],[0.7777777777777778,\"#fb9f3a\"],[0.8888888888888888,\"#fdca26\"],[1.0,\"#f0f921\"]]},\"colorway\":[\"#636efa\",\"#EF553B\",\"#00cc96\",\"#ab63fa\",\"#FFA15A\",\"#19d3f3\",\"#FF6692\",\"#B6E880\",\"#FF97FF\",\"#FECB52\"],\"font\":{\"color\":\"#2a3f5f\"},\"geo\":{\"bgcolor\":\"white\",\"lakecolor\":\"white\",\"landcolor\":\"#E5ECF6\",\"showlakes\":true,\"showland\":true,\"subunitcolor\":\"white\"},\"hoverlabel\":{\"align\":\"left\"},\"hovermode\":\"closest\",\"mapbox\":{\"style\":\"light\"},\"paper_bgcolor\":\"white\",\"plot_bgcolor\":\"#E5ECF6\",\"polar\":{\"angularaxis\":{\"gridcolor\":\"white\",\"linecolor\":\"white\",\"ticks\":\"\"},\"bgcolor\":\"#E5ECF6\",\"radialaxis\":{\"gridcolor\":\"white\",\"linecolor\":\"white\",\"ticks\":\"\"}},\"scene\":{\"xaxis\":{\"backgroundcolor\":\"#E5ECF6\",\"gridcolor\":\"white\",\"gridwidth\":2,\"linecolor\":\"white\",\"showbackground\":true,\"ticks\":\"\",\"zerolinecolor\":\"white\"},\"yaxis\":{\"backgroundcolor\":\"#E5ECF6\",\"gridcolor\":\"white\",\"gridwidth\":2,\"linecolor\":\"white\",\"showbackground\":true,\"ticks\":\"\",\"zerolinecolor\":\"white\"},\"zaxis\":{\"backgroundcolor\":\"#E5ECF6\",\"gridcolor\":\"white\",\"gridwidth\":2,\"linecolor\":\"white\",\"showbackground\":true,\"ticks\":\"\",\"zerolinecolor\":\"white\"}},\"shapedefaults\":{\"line\":{\"color\":\"#2a3f5f\"}},\"ternary\":{\"aaxis\":{\"gridcolor\":\"white\",\"linecolor\":\"white\",\"ticks\":\"\"},\"baxis\":{\"gridcolor\":\"white\",\"linecolor\":\"white\",\"ticks\":\"\"},\"bgcolor\":\"#E5ECF6\",\"caxis\":{\"gridcolor\":\"white\",\"linecolor\":\"white\",\"ticks\":\"\"}},\"title\":{\"x\":0.05},\"xaxis\":{\"automargin\":true,\"gridcolor\":\"white\",\"linecolor\":\"white\",\"ticks\":\"\",\"title\":{\"standoff\":15},\"zerolinecolor\":\"white\",\"zerolinewidth\":2},\"yaxis\":{\"automargin\":true,\"gridcolor\":\"white\",\"linecolor\":\"white\",\"ticks\":\"\",\"title\":{\"standoff\":15},\"zerolinecolor\":\"white\",\"zerolinewidth\":2}}},\"title\":{\"font\":{\"color\":\"#4D5663\"}},\"xaxis\":{\"anchor\":\"y\",\"domain\":[0.0,0.2125],\"gridcolor\":\"#E1E5ED\",\"showgrid\":false,\"tickfont\":{\"color\":\"#4D5663\"},\"title\":{\"font\":{\"color\":\"#4D5663\"},\"text\":\"\"},\"zerolinecolor\":\"#E1E5ED\"},\"xaxis10\":{\"anchor\":\"y10\",\"domain\":[0.2625,0.475],\"gridcolor\":\"#E1E5ED\",\"showgrid\":false,\"tickfont\":{\"color\":\"#4D5663\"},\"title\":{\"font\":{\"color\":\"#4D5663\"},\"text\":\"\"},\"zerolinecolor\":\"#E1E5ED\"},\"xaxis11\":{\"anchor\":\"y11\",\"domain\":[0.525,0.7375],\"gridcolor\":\"#E1E5ED\",\"showgrid\":false,\"tickfont\":{\"color\":\"#4D5663\"},\"title\":{\"font\":{\"color\":\"#4D5663\"},\"text\":\"\"},\"zerolinecolor\":\"#E1E5ED\"},\"xaxis12\":{\"anchor\":\"y12\",\"domain\":[0.7875,1.0],\"gridcolor\":\"#E1E5ED\",\"showgrid\":false,\"tickfont\":{\"color\":\"#4D5663\"},\"title\":{\"font\":{\"color\":\"#4D5663\"},\"text\":\"\"},\"zerolinecolor\":\"#E1E5ED\"},\"xaxis13\":{\"anchor\":\"y13\",\"domain\":[0.0,0.2125],\"gridcolor\":\"#E1E5ED\",\"showgrid\":false,\"tickfont\":{\"color\":\"#4D5663\"},\"title\":{\"font\":{\"color\":\"#4D5663\"},\"text\":\"\"},\"zerolinecolor\":\"#E1E5ED\"},\"xaxis14\":{\"anchor\":\"y14\",\"domain\":[0.2625,0.475],\"gridcolor\":\"#E1E5ED\",\"showgrid\":false,\"tickfont\":{\"color\":\"#4D5663\"},\"title\":{\"font\":{\"color\":\"#4D5663\"},\"text\":\"\"},\"zerolinecolor\":\"#E1E5ED\"},\"xaxis15\":{\"anchor\":\"y15\",\"domain\":[0.525,0.7375],\"gridcolor\":\"#E1E5ED\",\"showgrid\":false,\"tickfont\":{\"color\":\"#4D5663\"},\"title\":{\"font\":{\"color\":\"#4D5663\"},\"text\":\"\"},\"zerolinecolor\":\"#E1E5ED\"},\"xaxis16\":{\"anchor\":\"y16\",\"domain\":[0.7875,1.0],\"gridcolor\":\"#E1E5ED\",\"showgrid\":false,\"tickfont\":{\"color\":\"#4D5663\"},\"title\":{\"font\":{\"color\":\"#4D5663\"},\"text\":\"\"},\"zerolinecolor\":\"#E1E5ED\"},\"xaxis2\":{\"anchor\":\"y2\",\"domain\":[0.2625,0.475],\"gridcolor\":\"#E1E5ED\",\"showgrid\":false,\"tickfont\":{\"color\":\"#4D5663\"},\"title\":{\"font\":{\"color\":\"#4D5663\"},\"text\":\"\"},\"zerolinecolor\":\"#E1E5ED\"},\"xaxis3\":{\"anchor\":\"y3\",\"domain\":[0.525,0.7375],\"gridcolor\":\"#E1E5ED\",\"showgrid\":false,\"tickfont\":{\"color\":\"#4D5663\"},\"title\":{\"font\":{\"color\":\"#4D5663\"},\"text\":\"\"},\"zerolinecolor\":\"#E1E5ED\"},\"xaxis4\":{\"anchor\":\"y4\",\"domain\":[0.7875,1.0],\"gridcolor\":\"#E1E5ED\",\"showgrid\":false,\"tickfont\":{\"color\":\"#4D5663\"},\"title\":{\"font\":{\"color\":\"#4D5663\"},\"text\":\"\"},\"zerolinecolor\":\"#E1E5ED\"},\"xaxis5\":{\"anchor\":\"y5\",\"domain\":[0.0,0.2125],\"gridcolor\":\"#E1E5ED\",\"showgrid\":false,\"tickfont\":{\"color\":\"#4D5663\"},\"title\":{\"font\":{\"color\":\"#4D5663\"},\"text\":\"\"},\"zerolinecolor\":\"#E1E5ED\"},\"xaxis6\":{\"anchor\":\"y6\",\"domain\":[0.2625,0.475],\"gridcolor\":\"#E1E5ED\",\"showgrid\":false,\"tickfont\":{\"color\":\"#4D5663\"},\"title\":{\"font\":{\"color\":\"#4D5663\"},\"text\":\"\"},\"zerolinecolor\":\"#E1E5ED\"},\"xaxis7\":{\"anchor\":\"y7\",\"domain\":[0.525,0.7375],\"gridcolor\":\"#E1E5ED\",\"showgrid\":false,\"tickfont\":{\"color\":\"#4D5663\"},\"title\":{\"font\":{\"color\":\"#4D5663\"},\"text\":\"\"},\"zerolinecolor\":\"#E1E5ED\"},\"xaxis8\":{\"anchor\":\"y8\",\"domain\":[0.7875,1.0],\"gridcolor\":\"#E1E5ED\",\"showgrid\":false,\"tickfont\":{\"color\":\"#4D5663\"},\"title\":{\"font\":{\"color\":\"#4D5663\"},\"text\":\"\"},\"zerolinecolor\":\"#E1E5ED\"},\"xaxis9\":{\"anchor\":\"y9\",\"domain\":[0.0,0.2125],\"gridcolor\":\"#E1E5ED\",\"showgrid\":false,\"tickfont\":{\"color\":\"#4D5663\"},\"title\":{\"font\":{\"color\":\"#4D5663\"},\"text\":\"\"},\"zerolinecolor\":\"#E1E5ED\"},\"yaxis\":{\"anchor\":\"x\",\"domain\":[0.8025,1.0],\"gridcolor\":\"#E1E5ED\",\"showgrid\":false,\"tickfont\":{\"color\":\"#4D5663\"},\"title\":{\"font\":{\"color\":\"#4D5663\"},\"text\":\"\"},\"zerolinecolor\":\"#E1E5ED\"},\"yaxis10\":{\"anchor\":\"x10\",\"domain\":[0.2675,0.465],\"gridcolor\":\"#E1E5ED\",\"showgrid\":false,\"tickfont\":{\"color\":\"#4D5663\"},\"title\":{\"font\":{\"color\":\"#4D5663\"},\"text\":\"\"},\"zerolinecolor\":\"#E1E5ED\"},\"yaxis11\":{\"anchor\":\"x11\",\"domain\":[0.2675,0.465],\"gridcolor\":\"#E1E5ED\",\"showgrid\":false,\"tickfont\":{\"color\":\"#4D5663\"},\"title\":{\"font\":{\"color\":\"#4D5663\"},\"text\":\"\"},\"zerolinecolor\":\"#E1E5ED\"},\"yaxis12\":{\"anchor\":\"x12\",\"domain\":[0.2675,0.465],\"gridcolor\":\"#E1E5ED\",\"showgrid\":false,\"tickfont\":{\"color\":\"#4D5663\"},\"title\":{\"font\":{\"color\":\"#4D5663\"},\"text\":\"\"},\"zerolinecolor\":\"#E1E5ED\"},\"yaxis13\":{\"anchor\":\"x13\",\"domain\":[0.0,0.1975],\"gridcolor\":\"#E1E5ED\",\"showgrid\":false,\"tickfont\":{\"color\":\"#4D5663\"},\"title\":{\"font\":{\"color\":\"#4D5663\"},\"text\":\"\"},\"zerolinecolor\":\"#E1E5ED\"},\"yaxis14\":{\"anchor\":\"x14\",\"domain\":[0.0,0.1975],\"gridcolor\":\"#E1E5ED\",\"showgrid\":false,\"tickfont\":{\"color\":\"#4D5663\"},\"title\":{\"font\":{\"color\":\"#4D5663\"},\"text\":\"\"},\"zerolinecolor\":\"#E1E5ED\"},\"yaxis15\":{\"anchor\":\"x15\",\"domain\":[0.0,0.1975],\"gridcolor\":\"#E1E5ED\",\"showgrid\":false,\"tickfont\":{\"color\":\"#4D5663\"},\"title\":{\"font\":{\"color\":\"#4D5663\"},\"text\":\"\"},\"zerolinecolor\":\"#E1E5ED\"},\"yaxis16\":{\"anchor\":\"x16\",\"domain\":[0.0,0.1975],\"gridcolor\":\"#E1E5ED\",\"showgrid\":false,\"tickfont\":{\"color\":\"#4D5663\"},\"title\":{\"font\":{\"color\":\"#4D5663\"},\"text\":\"\"},\"zerolinecolor\":\"#E1E5ED\"},\"yaxis2\":{\"anchor\":\"x2\",\"domain\":[0.8025,1.0],\"gridcolor\":\"#E1E5ED\",\"showgrid\":false,\"tickfont\":{\"color\":\"#4D5663\"},\"title\":{\"font\":{\"color\":\"#4D5663\"},\"text\":\"\"},\"zerolinecolor\":\"#E1E5ED\"},\"yaxis3\":{\"anchor\":\"x3\",\"domain\":[0.8025,1.0],\"gridcolor\":\"#E1E5ED\",\"showgrid\":false,\"tickfont\":{\"color\":\"#4D5663\"},\"title\":{\"font\":{\"color\":\"#4D5663\"},\"text\":\"\"},\"zerolinecolor\":\"#E1E5ED\"},\"yaxis4\":{\"anchor\":\"x4\",\"domain\":[0.8025,1.0],\"gridcolor\":\"#E1E5ED\",\"showgrid\":false,\"tickfont\":{\"color\":\"#4D5663\"},\"title\":{\"font\":{\"color\":\"#4D5663\"},\"text\":\"\"},\"zerolinecolor\":\"#E1E5ED\"},\"yaxis5\":{\"anchor\":\"x5\",\"domain\":[0.535,0.7325],\"gridcolor\":\"#E1E5ED\",\"showgrid\":false,\"tickfont\":{\"color\":\"#4D5663\"},\"title\":{\"font\":{\"color\":\"#4D5663\"},\"text\":\"\"},\"zerolinecolor\":\"#E1E5ED\"},\"yaxis6\":{\"anchor\":\"x6\",\"domain\":[0.535,0.7325],\"gridcolor\":\"#E1E5ED\",\"showgrid\":false,\"tickfont\":{\"color\":\"#4D5663\"},\"title\":{\"font\":{\"color\":\"#4D5663\"},\"text\":\"\"},\"zerolinecolor\":\"#E1E5ED\"},\"yaxis7\":{\"anchor\":\"x7\",\"domain\":[0.535,0.7325],\"gridcolor\":\"#E1E5ED\",\"showgrid\":false,\"tickfont\":{\"color\":\"#4D5663\"},\"title\":{\"font\":{\"color\":\"#4D5663\"},\"text\":\"\"},\"zerolinecolor\":\"#E1E5ED\"},\"yaxis8\":{\"anchor\":\"x8\",\"domain\":[0.535,0.7325],\"gridcolor\":\"#E1E5ED\",\"showgrid\":false,\"tickfont\":{\"color\":\"#4D5663\"},\"title\":{\"font\":{\"color\":\"#4D5663\"},\"text\":\"\"},\"zerolinecolor\":\"#E1E5ED\"},\"yaxis9\":{\"anchor\":\"x9\",\"domain\":[0.2675,0.465],\"gridcolor\":\"#E1E5ED\",\"showgrid\":false,\"tickfont\":{\"color\":\"#4D5663\"},\"title\":{\"font\":{\"color\":\"#4D5663\"},\"text\":\"\"},\"zerolinecolor\":\"#E1E5ED\"}},                        {\"showLink\": true, \"linkText\": \"Export to plot.ly\", \"plotlyServerURL\": \"https://plot.ly\", \"responsive\": true}                    ).then(function(){\n",
       "                            \n",
       "var gd = document.getElementById('7564d354-a1e4-40cc-b4b3-c5162871d88e');\n",
       "var x = new MutationObserver(function (mutations, observer) {{\n",
       "        var display = window.getComputedStyle(gd).display;\n",
       "        if (!display || display === 'none') {{\n",
       "            console.log([gd, 'removed!']);\n",
       "            Plotly.purge(gd);\n",
       "            observer.disconnect();\n",
       "        }}\n",
       "}});\n",
       "\n",
       "// Listen for the removal of the full notebook cells\n",
       "var notebookContainer = gd.closest('#notebook-container');\n",
       "if (notebookContainer) {{\n",
       "    x.observe(notebookContainer, {childList: true});\n",
       "}}\n",
       "\n",
       "// Listen for the clearing of the current output cell\n",
       "var outputEl = gd.closest('.output');\n",
       "if (outputEl) {{\n",
       "    x.observe(outputEl, {childList: true});\n",
       "}}\n",
       "\n",
       "                        })                };                });            </script>        </div>"
      ]
     },
     "metadata": {},
     "output_type": "display_data"
    }
   ],
   "source": [
    "df.scatter_matrix()"
   ]
  },
  {
   "cell_type": "markdown",
   "metadata": {
    "collapsed": true
   },
   "source": [
    "# Buen trabajo!"
   ]
  }
 ],
 "metadata": {
  "kernelspec": {
   "display_name": "Python 3 (ipykernel)",
   "language": "python",
   "name": "python3"
  },
  "language_info": {
   "codemirror_mode": {
    "name": "ipython",
    "version": 3
   },
   "file_extension": ".py",
   "mimetype": "text/x-python",
   "name": "python",
   "nbconvert_exporter": "python",
   "pygments_lexer": "ipython3",
   "version": "3.9.7"
  }
 },
 "nbformat": 4,
 "nbformat_minor": 1
}
